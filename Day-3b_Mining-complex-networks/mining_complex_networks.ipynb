{
 "cells": [
  {
   "cell_type": "markdown",
   "id": "09fb0e21",
   "metadata": {},
   "source": [
    "# Mining complex networks\n",
    "\n",
    "## Bogumił Kamiński"
   ]
  },
  {
   "cell_type": "markdown",
   "id": "5352889e",
   "metadata": {},
   "source": [
    "The objective of this workshop is to give an introduction to:\n",
    "* Working with graph data in Julia?\n",
    "* Doing simple analysis of graph properties.\n",
    "* Building a prediction model for node classification task."
   ]
  },
  {
   "cell_type": "markdown",
   "id": "5f7c71b1",
   "metadata": {},
   "source": [
    "We will work with GitHub social network.\n",
    "\n",
    "It is a social network of GitHub developers which was collected from the public API in June 2019. Nodes are developers who have starred at least 10 repositories and edges are mutual follower relationships between them.\n",
    "\n",
    "The task related to the graph is binary node classification - one has to predict whether the GitHub user is a web or a machine learning developer.\n",
    "\n",
    "See [here](http://snap.stanford.edu/data/github-social.html) for more details."
   ]
  },
  {
   "cell_type": "markdown",
   "id": "6ba35618",
   "metadata": {},
   "source": [
    "### Loading the required packages"
   ]
  },
  {
   "cell_type": "code",
   "execution_count": 1,
   "id": "6e15fc1b",
   "metadata": {},
   "outputs": [],
   "source": [
    "using CategoricalArrays"
   ]
  },
  {
   "cell_type": "code",
   "execution_count": 2,
   "id": "387d0d85",
   "metadata": {},
   "outputs": [],
   "source": [
    "using CSV"
   ]
  },
  {
   "cell_type": "code",
   "execution_count": 3,
   "id": "bb7e18ea",
   "metadata": {},
   "outputs": [],
   "source": [
    "using DataFramesMeta"
   ]
  },
  {
   "cell_type": "code",
   "execution_count": 4,
   "id": "5e2d784f",
   "metadata": {},
   "outputs": [],
   "source": [
    "using GLM"
   ]
  },
  {
   "cell_type": "code",
   "execution_count": 5,
   "id": "1ab1150b",
   "metadata": {},
   "outputs": [],
   "source": [
    "using Graphs"
   ]
  },
  {
   "cell_type": "code",
   "execution_count": 6,
   "id": "27376283",
   "metadata": {},
   "outputs": [],
   "source": [
    "using Plots"
   ]
  },
  {
   "cell_type": "code",
   "execution_count": 7,
   "id": "6a8b736c",
   "metadata": {},
   "outputs": [],
   "source": [
    "using StatsBase"
   ]
  },
  {
   "cell_type": "code",
   "execution_count": 8,
   "id": "638805b3",
   "metadata": {},
   "outputs": [],
   "source": [
    "using Statistics"
   ]
  },
  {
   "cell_type": "markdown",
   "id": "e287beb6",
   "metadata": {},
   "source": [
    "### Reading in the data to a data frame"
   ]
  },
  {
   "cell_type": "code",
   "execution_count": 9,
   "id": "00938759",
   "metadata": {},
   "outputs": [
    {
     "data": {
      "text/html": [
       "<div><div style = \"float: left;\"><span>289003×2 DataFrame</span></div><div style = \"float: right;\"><span style = \"font-style: italic;\">288978 rows omitted</span></div><div style = \"clear: both;\"></div></div><div class = \"data-frame\" style = \"overflow-x: scroll;\"><table class = \"data-frame\" style = \"margin-bottom: 6px;\"><thead><tr class = \"header\"><th class = \"rowNumber\" style = \"font-weight: bold; text-align: right;\">Row</th><th style = \"text-align: left;\">id_1</th><th style = \"text-align: left;\">id_2</th></tr><tr class = \"subheader headerLastRow\"><th class = \"rowNumber\" style = \"font-weight: bold; text-align: right;\"></th><th title = \"Int64\" style = \"text-align: left;\">Int64</th><th title = \"Int64\" style = \"text-align: left;\">Int64</th></tr></thead><tbody><tr><td class = \"rowNumber\" style = \"font-weight: bold; text-align: right;\">1</td><td style = \"text-align: right;\">0</td><td style = \"text-align: right;\">23977</td></tr><tr><td class = \"rowNumber\" style = \"font-weight: bold; text-align: right;\">2</td><td style = \"text-align: right;\">1</td><td style = \"text-align: right;\">34526</td></tr><tr><td class = \"rowNumber\" style = \"font-weight: bold; text-align: right;\">3</td><td style = \"text-align: right;\">1</td><td style = \"text-align: right;\">2370</td></tr><tr><td class = \"rowNumber\" style = \"font-weight: bold; text-align: right;\">4</td><td style = \"text-align: right;\">1</td><td style = \"text-align: right;\">14683</td></tr><tr><td class = \"rowNumber\" style = \"font-weight: bold; text-align: right;\">5</td><td style = \"text-align: right;\">1</td><td style = \"text-align: right;\">29982</td></tr><tr><td class = \"rowNumber\" style = \"font-weight: bold; text-align: right;\">6</td><td style = \"text-align: right;\">1</td><td style = \"text-align: right;\">21142</td></tr><tr><td class = \"rowNumber\" style = \"font-weight: bold; text-align: right;\">7</td><td style = \"text-align: right;\">1</td><td style = \"text-align: right;\">20363</td></tr><tr><td class = \"rowNumber\" style = \"font-weight: bold; text-align: right;\">8</td><td style = \"text-align: right;\">1</td><td style = \"text-align: right;\">23830</td></tr><tr><td class = \"rowNumber\" style = \"font-weight: bold; text-align: right;\">9</td><td style = \"text-align: right;\">1</td><td style = \"text-align: right;\">34035</td></tr><tr><td class = \"rowNumber\" style = \"font-weight: bold; text-align: right;\">10</td><td style = \"text-align: right;\">6067</td><td style = \"text-align: right;\">19720</td></tr><tr><td class = \"rowNumber\" style = \"font-weight: bold; text-align: right;\">11</td><td style = \"text-align: right;\">6067</td><td style = \"text-align: right;\">20183</td></tr><tr><td class = \"rowNumber\" style = \"font-weight: bold; text-align: right;\">12</td><td style = \"text-align: right;\">3</td><td style = \"text-align: right;\">4950</td></tr><tr><td class = \"rowNumber\" style = \"font-weight: bold; text-align: right;\">13</td><td style = \"text-align: right;\">3</td><td style = \"text-align: right;\">18029</td></tr><tr><td style = \"text-align: right;\">&vellip;</td><td style = \"text-align: right;\">&vellip;</td><td style = \"text-align: right;\">&vellip;</td></tr><tr><td class = \"rowNumber\" style = \"font-weight: bold; text-align: right;\">288992</td><td style = \"text-align: right;\">37471</td><td style = \"text-align: right;\">37697</td></tr><tr><td class = \"rowNumber\" style = \"font-weight: bold; text-align: right;\">288993</td><td style = \"text-align: right;\">37488</td><td style = \"text-align: right;\">6908</td></tr><tr><td class = \"rowNumber\" style = \"font-weight: bold; text-align: right;\">288994</td><td style = \"text-align: right;\">37494</td><td style = \"text-align: right;\">37577</td></tr><tr><td class = \"rowNumber\" style = \"font-weight: bold; text-align: right;\">288995</td><td style = \"text-align: right;\">37495</td><td style = \"text-align: right;\">18377</td></tr><tr><td class = \"rowNumber\" style = \"font-weight: bold; text-align: right;\">288996</td><td style = \"text-align: right;\">31255</td><td style = \"text-align: right;\">37602</td></tr><tr><td class = \"rowNumber\" style = \"font-weight: bold; text-align: right;\">288997</td><td style = \"text-align: right;\">37519</td><td style = \"text-align: right;\">37678</td></tr><tr><td class = \"rowNumber\" style = \"font-weight: bold; text-align: right;\">288998</td><td style = \"text-align: right;\">19093</td><td style = \"text-align: right;\">2347</td></tr><tr><td class = \"rowNumber\" style = \"font-weight: bold; text-align: right;\">288999</td><td style = \"text-align: right;\">37527</td><td style = \"text-align: right;\">37596</td></tr><tr><td class = \"rowNumber\" style = \"font-weight: bold; text-align: right;\">289000</td><td style = \"text-align: right;\">37529</td><td style = \"text-align: right;\">37601</td></tr><tr><td class = \"rowNumber\" style = \"font-weight: bold; text-align: right;\">289001</td><td style = \"text-align: right;\">37644</td><td style = \"text-align: right;\">2347</td></tr><tr><td class = \"rowNumber\" style = \"font-weight: bold; text-align: right;\">289002</td><td style = \"text-align: right;\">25879</td><td style = \"text-align: right;\">2347</td></tr><tr><td class = \"rowNumber\" style = \"font-weight: bold; text-align: right;\">289003</td><td style = \"text-align: right;\">25616</td><td style = \"text-align: right;\">2347</td></tr></tbody></table></div>"
      ],
      "text/latex": [
       "\\begin{tabular}{r|cc}\n",
       "\t& id\\_1 & id\\_2\\\\\n",
       "\t\\hline\n",
       "\t& Int64 & Int64\\\\\n",
       "\t\\hline\n",
       "\t1 & 0 & 23977 \\\\\n",
       "\t2 & 1 & 34526 \\\\\n",
       "\t3 & 1 & 2370 \\\\\n",
       "\t4 & 1 & 14683 \\\\\n",
       "\t5 & 1 & 29982 \\\\\n",
       "\t6 & 1 & 21142 \\\\\n",
       "\t7 & 1 & 20363 \\\\\n",
       "\t8 & 1 & 23830 \\\\\n",
       "\t9 & 1 & 34035 \\\\\n",
       "\t10 & 6067 & 19720 \\\\\n",
       "\t11 & 6067 & 20183 \\\\\n",
       "\t12 & 3 & 4950 \\\\\n",
       "\t13 & 3 & 18029 \\\\\n",
       "\t14 & 3 & 3358 \\\\\n",
       "\t15 & 3 & 34935 \\\\\n",
       "\t16 & 3 & 5916 \\\\\n",
       "\t17 & 4 & 2865 \\\\\n",
       "\t18 & 4 & 9342 \\\\\n",
       "\t19 & 5 & 27803 \\\\\n",
       "\t20 & 6 & 27803 \\\\\n",
       "\t21 & 6 & 18612 \\\\\n",
       "\t22 & 6 & 18876 \\\\\n",
       "\t23 & 6 & 31890 \\\\\n",
       "\t24 & 6 & 17647 \\\\\n",
       "\t25 & 6 & 18562 \\\\\n",
       "\t26 & 7 & 37493 \\\\\n",
       "\t27 & 7 & 33643 \\\\\n",
       "\t28 & 7 & 30199 \\\\\n",
       "\t29 & 7 & 35773 \\\\\n",
       "\t30 & 7 & 11273 \\\\\n",
       "\t$\\dots$ & $\\dots$ & $\\dots$ \\\\\n",
       "\\end{tabular}\n"
      ],
      "text/plain": [
       "\u001b[1m289003×2 DataFrame\u001b[0m\n",
       "\u001b[1m    Row \u001b[0m│\u001b[1m id_1  \u001b[0m\u001b[1m id_2  \u001b[0m\n",
       "        │\u001b[90m Int64 \u001b[0m\u001b[90m Int64 \u001b[0m\n",
       "────────┼──────────────\n",
       "      1 │     0  23977\n",
       "      2 │     1  34526\n",
       "      3 │     1   2370\n",
       "      4 │     1  14683\n",
       "      5 │     1  29982\n",
       "      6 │     1  21142\n",
       "      7 │     1  20363\n",
       "      8 │     1  23830\n",
       "      9 │     1  34035\n",
       "     10 │  6067  19720\n",
       "     11 │  6067  20183\n",
       "   ⋮    │   ⋮      ⋮\n",
       " 288994 │ 37494  37577\n",
       " 288995 │ 37495  18377\n",
       " 288996 │ 31255  37602\n",
       " 288997 │ 37519  37678\n",
       " 288998 │ 19093   2347\n",
       " 288999 │ 37527  37596\n",
       " 289000 │ 37529  37601\n",
       " 289001 │ 37644   2347\n",
       " 289002 │ 25879   2347\n",
       " 289003 │ 25616   2347\n",
       "\u001b[36m    288982 rows omitted\u001b[0m"
      ]
     },
     "execution_count": 9,
     "metadata": {},
     "output_type": "execute_result"
    }
   ],
   "source": [
    "edges_df = CSV.read(\"musae_git_edges.csv\", DataFrame)"
   ]
  },
  {
   "cell_type": "code",
   "execution_count": 10,
   "id": "5f4a3066",
   "metadata": {},
   "outputs": [
    {
     "data": {
      "text/html": [
       "<div><div style = \"float: left;\"><span>37700×3 DataFrame</span></div><div style = \"float: right;\"><span style = \"font-style: italic;\">37675 rows omitted</span></div><div style = \"clear: both;\"></div></div><div class = \"data-frame\" style = \"overflow-x: scroll;\"><table class = \"data-frame\" style = \"margin-bottom: 6px;\"><thead><tr class = \"header\"><th class = \"rowNumber\" style = \"font-weight: bold; text-align: right;\">Row</th><th style = \"text-align: left;\">id</th><th style = \"text-align: left;\">name</th><th style = \"text-align: left;\">ml_target</th></tr><tr class = \"subheader headerLastRow\"><th class = \"rowNumber\" style = \"font-weight: bold; text-align: right;\"></th><th title = \"Int64\" style = \"text-align: left;\">Int64</th><th title = \"String31\" style = \"text-align: left;\">String31</th><th title = \"Int64\" style = \"text-align: left;\">Int64</th></tr></thead><tbody><tr><td class = \"rowNumber\" style = \"font-weight: bold; text-align: right;\">1</td><td style = \"text-align: right;\">0</td><td style = \"text-align: left;\">Eiryyy</td><td style = \"text-align: right;\">0</td></tr><tr><td class = \"rowNumber\" style = \"font-weight: bold; text-align: right;\">2</td><td style = \"text-align: right;\">1</td><td style = \"text-align: left;\">shawflying</td><td style = \"text-align: right;\">0</td></tr><tr><td class = \"rowNumber\" style = \"font-weight: bold; text-align: right;\">3</td><td style = \"text-align: right;\">2</td><td style = \"text-align: left;\">JpMCarrilho</td><td style = \"text-align: right;\">1</td></tr><tr><td class = \"rowNumber\" style = \"font-weight: bold; text-align: right;\">4</td><td style = \"text-align: right;\">3</td><td style = \"text-align: left;\">SuhwanCha</td><td style = \"text-align: right;\">0</td></tr><tr><td class = \"rowNumber\" style = \"font-weight: bold; text-align: right;\">5</td><td style = \"text-align: right;\">4</td><td style = \"text-align: left;\">sunilangadi2</td><td style = \"text-align: right;\">1</td></tr><tr><td class = \"rowNumber\" style = \"font-weight: bold; text-align: right;\">6</td><td style = \"text-align: right;\">5</td><td style = \"text-align: left;\">j6montoya</td><td style = \"text-align: right;\">0</td></tr><tr><td class = \"rowNumber\" style = \"font-weight: bold; text-align: right;\">7</td><td style = \"text-align: right;\">6</td><td style = \"text-align: left;\">sfate</td><td style = \"text-align: right;\">0</td></tr><tr><td class = \"rowNumber\" style = \"font-weight: bold; text-align: right;\">8</td><td style = \"text-align: right;\">7</td><td style = \"text-align: left;\">amituuush</td><td style = \"text-align: right;\">0</td></tr><tr><td class = \"rowNumber\" style = \"font-weight: bold; text-align: right;\">9</td><td style = \"text-align: right;\">8</td><td style = \"text-align: left;\">mauroherlein</td><td style = \"text-align: right;\">0</td></tr><tr><td class = \"rowNumber\" style = \"font-weight: bold; text-align: right;\">10</td><td style = \"text-align: right;\">9</td><td style = \"text-align: left;\">ParadoxZero</td><td style = \"text-align: right;\">0</td></tr><tr><td class = \"rowNumber\" style = \"font-weight: bold; text-align: right;\">11</td><td style = \"text-align: right;\">10</td><td style = \"text-align: left;\">llazzaro</td><td style = \"text-align: right;\">0</td></tr><tr><td class = \"rowNumber\" style = \"font-weight: bold; text-align: right;\">12</td><td style = \"text-align: right;\">11</td><td style = \"text-align: left;\">beeva-manueldepaz</td><td style = \"text-align: right;\">0</td></tr><tr><td class = \"rowNumber\" style = \"font-weight: bold; text-align: right;\">13</td><td style = \"text-align: right;\">12</td><td style = \"text-align: left;\">damianmuti</td><td style = \"text-align: right;\">0</td></tr><tr><td style = \"text-align: right;\">&vellip;</td><td style = \"text-align: right;\">&vellip;</td><td style = \"text-align: right;\">&vellip;</td><td style = \"text-align: right;\">&vellip;</td></tr><tr><td class = \"rowNumber\" style = \"font-weight: bold; text-align: right;\">37689</td><td style = \"text-align: right;\">37688</td><td style = \"text-align: left;\">Demfier</td><td style = \"text-align: right;\">1</td></tr><tr><td class = \"rowNumber\" style = \"font-weight: bold; text-align: right;\">37690</td><td style = \"text-align: right;\">37689</td><td style = \"text-align: left;\">cs09g</td><td style = \"text-align: right;\">0</td></tr><tr><td class = \"rowNumber\" style = \"font-weight: bold; text-align: right;\">37691</td><td style = \"text-align: right;\">37690</td><td style = \"text-align: left;\">tbranyen</td><td style = \"text-align: right;\">0</td></tr><tr><td class = \"rowNumber\" style = \"font-weight: bold; text-align: right;\">37692</td><td style = \"text-align: right;\">37691</td><td style = \"text-align: left;\">bblu</td><td style = \"text-align: right;\">0</td></tr><tr><td class = \"rowNumber\" style = \"font-weight: bold; text-align: right;\">37693</td><td style = \"text-align: right;\">37692</td><td style = \"text-align: left;\">mubaris</td><td style = \"text-align: right;\">0</td></tr><tr><td class = \"rowNumber\" style = \"font-weight: bold; text-align: right;\">37694</td><td style = \"text-align: right;\">37693</td><td style = \"text-align: left;\">chengzhongkai</td><td style = \"text-align: right;\">1</td></tr><tr><td class = \"rowNumber\" style = \"font-weight: bold; text-align: right;\">37695</td><td style = \"text-align: right;\">37694</td><td style = \"text-align: left;\">alFReD-NSH</td><td style = \"text-align: right;\">0</td></tr><tr><td class = \"rowNumber\" style = \"font-weight: bold; text-align: right;\">37696</td><td style = \"text-align: right;\">37695</td><td style = \"text-align: left;\">shawnwanderson</td><td style = \"text-align: right;\">1</td></tr><tr><td class = \"rowNumber\" style = \"font-weight: bold; text-align: right;\">37697</td><td style = \"text-align: right;\">37696</td><td style = \"text-align: left;\">kris-ipeh</td><td style = \"text-align: right;\">0</td></tr><tr><td class = \"rowNumber\" style = \"font-weight: bold; text-align: right;\">37698</td><td style = \"text-align: right;\">37697</td><td style = \"text-align: left;\">qpautrat</td><td style = \"text-align: right;\">0</td></tr><tr><td class = \"rowNumber\" style = \"font-weight: bold; text-align: right;\">37699</td><td style = \"text-align: right;\">37698</td><td style = \"text-align: left;\">Injabie3</td><td style = \"text-align: right;\">1</td></tr><tr><td class = \"rowNumber\" style = \"font-weight: bold; text-align: right;\">37700</td><td style = \"text-align: right;\">37699</td><td style = \"text-align: left;\">caseycavanagh</td><td style = \"text-align: right;\">0</td></tr></tbody></table></div>"
      ],
      "text/latex": [
       "\\begin{tabular}{r|ccc}\n",
       "\t& id & name & ml\\_target\\\\\n",
       "\t\\hline\n",
       "\t& Int64 & String31 & Int64\\\\\n",
       "\t\\hline\n",
       "\t1 & 0 & Eiryyy & 0 \\\\\n",
       "\t2 & 1 & shawflying & 0 \\\\\n",
       "\t3 & 2 & JpMCarrilho & 1 \\\\\n",
       "\t4 & 3 & SuhwanCha & 0 \\\\\n",
       "\t5 & 4 & sunilangadi2 & 1 \\\\\n",
       "\t6 & 5 & j6montoya & 0 \\\\\n",
       "\t7 & 6 & sfate & 0 \\\\\n",
       "\t8 & 7 & amituuush & 0 \\\\\n",
       "\t9 & 8 & mauroherlein & 0 \\\\\n",
       "\t10 & 9 & ParadoxZero & 0 \\\\\n",
       "\t11 & 10 & llazzaro & 0 \\\\\n",
       "\t12 & 11 & beeva-manueldepaz & 0 \\\\\n",
       "\t13 & 12 & damianmuti & 0 \\\\\n",
       "\t14 & 13 & apobbati & 0 \\\\\n",
       "\t15 & 14 & hwlv & 0 \\\\\n",
       "\t16 & 15 & haroldoramirez & 0 \\\\\n",
       "\t17 & 16 & jasonblanchard & 0 \\\\\n",
       "\t18 & 17 & BahiHussein & 0 \\\\\n",
       "\t19 & 18 & itsmevanessi & 0 \\\\\n",
       "\t20 & 19 & nwjsmith & 0 \\\\\n",
       "\t21 & 20 & chengzhipeng & 0 \\\\\n",
       "\t22 & 21 & tiensonqin & 0 \\\\\n",
       "\t23 & 22 & pdokas & 0 \\\\\n",
       "\t24 & 23 & maxfierke & 0 \\\\\n",
       "\t25 & 24 & davidthewatson & 0 \\\\\n",
       "\t26 & 25 & kidbai & 0 \\\\\n",
       "\t27 & 26 & Micanss & 0 \\\\\n",
       "\t28 & 27 & hepin1989 & 0 \\\\\n",
       "\t29 & 28 & ashphy & 0 \\\\\n",
       "\t30 & 29 & soberanes & 0 \\\\\n",
       "\t$\\dots$ & $\\dots$ & $\\dots$ & $\\dots$ \\\\\n",
       "\\end{tabular}\n"
      ],
      "text/plain": [
       "\u001b[1m37700×3 DataFrame\u001b[0m\n",
       "\u001b[1m   Row \u001b[0m│\u001b[1m id    \u001b[0m\u001b[1m name              \u001b[0m\u001b[1m ml_target \u001b[0m\n",
       "       │\u001b[90m Int64 \u001b[0m\u001b[90m String31          \u001b[0m\u001b[90m Int64     \u001b[0m\n",
       "───────┼─────────────────────────────────────\n",
       "     1 │     0  Eiryyy                     0\n",
       "     2 │     1  shawflying                 0\n",
       "     3 │     2  JpMCarrilho                1\n",
       "     4 │     3  SuhwanCha                  0\n",
       "     5 │     4  sunilangadi2               1\n",
       "     6 │     5  j6montoya                  0\n",
       "     7 │     6  sfate                      0\n",
       "     8 │     7  amituuush                  0\n",
       "     9 │     8  mauroherlein               0\n",
       "    10 │     9  ParadoxZero                0\n",
       "    11 │    10  llazzaro                   0\n",
       "   ⋮   │   ⋮            ⋮              ⋮\n",
       " 37691 │ 37690  tbranyen                   0\n",
       " 37692 │ 37691  bblu                       0\n",
       " 37693 │ 37692  mubaris                    0\n",
       " 37694 │ 37693  chengzhongkai              1\n",
       " 37695 │ 37694  alFReD-NSH                 0\n",
       " 37696 │ 37695  shawnwanderson             1\n",
       " 37697 │ 37696  kris-ipeh                  0\n",
       " 37698 │ 37697  qpautrat                   0\n",
       " 37699 │ 37698  Injabie3                   1\n",
       " 37700 │ 37699  caseycavanagh              0\n",
       "\u001b[36m                           37679 rows omitted\u001b[0m"
      ]
     },
     "execution_count": 10,
     "metadata": {},
     "output_type": "execute_result"
    }
   ],
   "source": [
    "classes_df = CSV.read(\"musae_git_target.csv\", DataFrame)"
   ]
  },
  {
   "cell_type": "code",
   "execution_count": 11,
   "id": "c31ce9e4",
   "metadata": {},
   "outputs": [
    {
     "data": {
      "text/html": [
       "<div><div style = \"float: left;\"><span>2×6 DataFrame</span></div><div style = \"clear: both;\"></div></div><div class = \"data-frame\" style = \"overflow-x: scroll;\"><table class = \"data-frame\" style = \"margin-bottom: 6px;\"><thead><tr class = \"header\"><th class = \"rowNumber\" style = \"font-weight: bold; text-align: right;\">Row</th><th style = \"text-align: left;\">variable</th><th style = \"text-align: left;\">min</th><th style = \"text-align: left;\">max</th><th style = \"text-align: left;\">mean</th><th style = \"text-align: left;\">nmissing</th><th style = \"text-align: left;\">eltype</th></tr><tr class = \"subheader headerLastRow\"><th class = \"rowNumber\" style = \"font-weight: bold; text-align: right;\"></th><th title = \"Symbol\" style = \"text-align: left;\">Symbol</th><th title = \"Int64\" style = \"text-align: left;\">Int64</th><th title = \"Int64\" style = \"text-align: left;\">Int64</th><th title = \"Float64\" style = \"text-align: left;\">Float64</th><th title = \"Int64\" style = \"text-align: left;\">Int64</th><th title = \"DataType\" style = \"text-align: left;\">DataType</th></tr></thead><tbody><tr><td class = \"rowNumber\" style = \"font-weight: bold; text-align: right;\">1</td><td style = \"text-align: left;\">id_1</td><td style = \"text-align: right;\">0</td><td style = \"text-align: right;\">37694</td><td style = \"text-align: right;\">14812.6</td><td style = \"text-align: right;\">0</td><td style = \"text-align: left;\">Int64</td></tr><tr><td class = \"rowNumber\" style = \"font-weight: bold; text-align: right;\">2</td><td style = \"text-align: left;\">id_2</td><td style = \"text-align: right;\">16</td><td style = \"text-align: right;\">37699</td><td style = \"text-align: right;\">23778.8</td><td style = \"text-align: right;\">0</td><td style = \"text-align: left;\">Int64</td></tr></tbody></table></div>"
      ],
      "text/latex": [
       "\\begin{tabular}{r|cccccc}\n",
       "\t& variable & min & max & mean & nmissing & eltype\\\\\n",
       "\t\\hline\n",
       "\t& Symbol & Int64 & Int64 & Float64 & Int64 & DataType\\\\\n",
       "\t\\hline\n",
       "\t1 & id\\_1 & 0 & 37694 & 14812.6 & 0 & Int64 \\\\\n",
       "\t2 & id\\_2 & 16 & 37699 & 23778.8 & 0 & Int64 \\\\\n",
       "\\end{tabular}\n"
      ],
      "text/plain": [
       "\u001b[1m2×6 DataFrame\u001b[0m\n",
       "\u001b[1m Row \u001b[0m│\u001b[1m variable \u001b[0m\u001b[1m min   \u001b[0m\u001b[1m max   \u001b[0m\u001b[1m mean    \u001b[0m\u001b[1m nmissing \u001b[0m\u001b[1m eltype   \u001b[0m\n",
       "     │\u001b[90m Symbol   \u001b[0m\u001b[90m Int64 \u001b[0m\u001b[90m Int64 \u001b[0m\u001b[90m Float64 \u001b[0m\u001b[90m Int64    \u001b[0m\u001b[90m DataType \u001b[0m\n",
       "─────┼─────────────────────────────────────────────────────\n",
       "   1 │ id_1          0  37694  14812.6         0  Int64\n",
       "   2 │ id_2         16  37699  23778.8         0  Int64"
      ]
     },
     "execution_count": 11,
     "metadata": {},
     "output_type": "execute_result"
    }
   ],
   "source": [
    "describe(edges_df, :min, :max, :mean, :nmissing, :eltype)"
   ]
  },
  {
   "cell_type": "code",
   "execution_count": 12,
   "id": "4e1fdf8e",
   "metadata": {},
   "outputs": [
    {
     "data": {
      "text/html": [
       "<div><div style = \"float: left;\"><span>3×6 DataFrame</span></div><div style = \"clear: both;\"></div></div><div class = \"data-frame\" style = \"overflow-x: scroll;\"><table class = \"data-frame\" style = \"margin-bottom: 6px;\"><thead><tr class = \"header\"><th class = \"rowNumber\" style = \"font-weight: bold; text-align: right;\">Row</th><th style = \"text-align: left;\">variable</th><th style = \"text-align: left;\">min</th><th style = \"text-align: left;\">max</th><th style = \"text-align: left;\">mean</th><th style = \"text-align: left;\">nmissing</th><th style = \"text-align: left;\">eltype</th></tr><tr class = \"subheader headerLastRow\"><th class = \"rowNumber\" style = \"font-weight: bold; text-align: right;\"></th><th title = \"Symbol\" style = \"text-align: left;\">Symbol</th><th title = \"Any\" style = \"text-align: left;\">Any</th><th title = \"Any\" style = \"text-align: left;\">Any</th><th title = \"Union{Nothing, Float64}\" style = \"text-align: left;\">Union…</th><th title = \"Int64\" style = \"text-align: left;\">Int64</th><th title = \"DataType\" style = \"text-align: left;\">DataType</th></tr></thead><tbody><tr><td class = \"rowNumber\" style = \"font-weight: bold; text-align: right;\">1</td><td style = \"text-align: left;\">id</td><td style = \"text-align: left;\">0</td><td style = \"text-align: left;\">37699</td><td style = \"text-align: left;\">18849.5</td><td style = \"text-align: right;\">0</td><td style = \"text-align: left;\">Int64</td></tr><tr><td class = \"rowNumber\" style = \"font-weight: bold; text-align: right;\">2</td><td style = \"text-align: left;\">name</td><td style = \"text-align: left;\">007arunwilson</td><td style = \"text-align: left;\">timqian</td><td style = \"font-style: italic; text-align: left;\"></td><td style = \"text-align: right;\">0</td><td style = \"text-align: left;\">String31</td></tr><tr><td class = \"rowNumber\" style = \"font-weight: bold; text-align: right;\">3</td><td style = \"text-align: left;\">ml_target</td><td style = \"text-align: left;\">0</td><td style = \"text-align: left;\">1</td><td style = \"text-align: left;\">0.258329</td><td style = \"text-align: right;\">0</td><td style = \"text-align: left;\">Int64</td></tr></tbody></table></div>"
      ],
      "text/latex": [
       "\\begin{tabular}{r|cccccc}\n",
       "\t& variable & min & max & mean & nmissing & eltype\\\\\n",
       "\t\\hline\n",
       "\t& Symbol & Any & Any & Union… & Int64 & DataType\\\\\n",
       "\t\\hline\n",
       "\t1 & id & 0 & 37699 & 18849.5 & 0 & Int64 \\\\\n",
       "\t2 & name & 007arunwilson & timqian &  & 0 & String31 \\\\\n",
       "\t3 & ml\\_target & 0 & 1 & 0.258329 & 0 & Int64 \\\\\n",
       "\\end{tabular}\n"
      ],
      "text/plain": [
       "\u001b[1m3×6 DataFrame\u001b[0m\n",
       "\u001b[1m Row \u001b[0m│\u001b[1m variable  \u001b[0m\u001b[1m min           \u001b[0m\u001b[1m max     \u001b[0m\u001b[1m mean     \u001b[0m\u001b[1m nmissing \u001b[0m\u001b[1m eltype   \u001b[0m\n",
       "     │\u001b[90m Symbol    \u001b[0m\u001b[90m Any           \u001b[0m\u001b[90m Any     \u001b[0m\u001b[90m Union…   \u001b[0m\u001b[90m Int64    \u001b[0m\u001b[90m DataType \u001b[0m\n",
       "─────┼─────────────────────────────────────────────────────────────────\n",
       "   1 │ id         0              37699    18849.5          0  Int64\n",
       "   2 │ name       007arunwilson  timqian \u001b[90m          \u001b[0m        0  String31\n",
       "   3 │ ml_target  0              1        0.258329         0  Int64"
      ]
     },
     "execution_count": 12,
     "metadata": {},
     "output_type": "execute_result"
    }
   ],
   "source": [
    "describe(classes_df, :min, :max, :mean, :nmissing, :eltype)"
   ]
  },
  {
   "cell_type": "markdown",
   "id": "79cbb991",
   "metadata": {},
   "source": [
    "Note that nodes are numbered uses 0-based indexing. We will need to fix it."
   ]
  },
  {
   "cell_type": "code",
   "execution_count": 13,
   "id": "b7a40e92",
   "metadata": {},
   "outputs": [
    {
     "data": {
      "text/html": [
       "<div><div style = \"float: left;\"><span>289003×2 DataFrame</span></div><div style = \"float: right;\"><span style = \"font-style: italic;\">288978 rows omitted</span></div><div style = \"clear: both;\"></div></div><div class = \"data-frame\" style = \"overflow-x: scroll;\"><table class = \"data-frame\" style = \"margin-bottom: 6px;\"><thead><tr class = \"header\"><th class = \"rowNumber\" style = \"font-weight: bold; text-align: right;\">Row</th><th style = \"text-align: left;\">id_1</th><th style = \"text-align: left;\">id_2</th></tr><tr class = \"subheader headerLastRow\"><th class = \"rowNumber\" style = \"font-weight: bold; text-align: right;\"></th><th title = \"Int64\" style = \"text-align: left;\">Int64</th><th title = \"Int64\" style = \"text-align: left;\">Int64</th></tr></thead><tbody><tr><td class = \"rowNumber\" style = \"font-weight: bold; text-align: right;\">1</td><td style = \"text-align: right;\">1</td><td style = \"text-align: right;\">23978</td></tr><tr><td class = \"rowNumber\" style = \"font-weight: bold; text-align: right;\">2</td><td style = \"text-align: right;\">2</td><td style = \"text-align: right;\">34527</td></tr><tr><td class = \"rowNumber\" style = \"font-weight: bold; text-align: right;\">3</td><td style = \"text-align: right;\">2</td><td style = \"text-align: right;\">2371</td></tr><tr><td class = \"rowNumber\" style = \"font-weight: bold; text-align: right;\">4</td><td style = \"text-align: right;\">2</td><td style = \"text-align: right;\">14684</td></tr><tr><td class = \"rowNumber\" style = \"font-weight: bold; text-align: right;\">5</td><td style = \"text-align: right;\">2</td><td style = \"text-align: right;\">29983</td></tr><tr><td class = \"rowNumber\" style = \"font-weight: bold; text-align: right;\">6</td><td style = \"text-align: right;\">2</td><td style = \"text-align: right;\">21143</td></tr><tr><td class = \"rowNumber\" style = \"font-weight: bold; text-align: right;\">7</td><td style = \"text-align: right;\">2</td><td style = \"text-align: right;\">20364</td></tr><tr><td class = \"rowNumber\" style = \"font-weight: bold; text-align: right;\">8</td><td style = \"text-align: right;\">2</td><td style = \"text-align: right;\">23831</td></tr><tr><td class = \"rowNumber\" style = \"font-weight: bold; text-align: right;\">9</td><td style = \"text-align: right;\">2</td><td style = \"text-align: right;\">34036</td></tr><tr><td class = \"rowNumber\" style = \"font-weight: bold; text-align: right;\">10</td><td style = \"text-align: right;\">6068</td><td style = \"text-align: right;\">19721</td></tr><tr><td class = \"rowNumber\" style = \"font-weight: bold; text-align: right;\">11</td><td style = \"text-align: right;\">6068</td><td style = \"text-align: right;\">20184</td></tr><tr><td class = \"rowNumber\" style = \"font-weight: bold; text-align: right;\">12</td><td style = \"text-align: right;\">4</td><td style = \"text-align: right;\">4951</td></tr><tr><td class = \"rowNumber\" style = \"font-weight: bold; text-align: right;\">13</td><td style = \"text-align: right;\">4</td><td style = \"text-align: right;\">18030</td></tr><tr><td style = \"text-align: right;\">&vellip;</td><td style = \"text-align: right;\">&vellip;</td><td style = \"text-align: right;\">&vellip;</td></tr><tr><td class = \"rowNumber\" style = \"font-weight: bold; text-align: right;\">288992</td><td style = \"text-align: right;\">37472</td><td style = \"text-align: right;\">37698</td></tr><tr><td class = \"rowNumber\" style = \"font-weight: bold; text-align: right;\">288993</td><td style = \"text-align: right;\">37489</td><td style = \"text-align: right;\">6909</td></tr><tr><td class = \"rowNumber\" style = \"font-weight: bold; text-align: right;\">288994</td><td style = \"text-align: right;\">37495</td><td style = \"text-align: right;\">37578</td></tr><tr><td class = \"rowNumber\" style = \"font-weight: bold; text-align: right;\">288995</td><td style = \"text-align: right;\">37496</td><td style = \"text-align: right;\">18378</td></tr><tr><td class = \"rowNumber\" style = \"font-weight: bold; text-align: right;\">288996</td><td style = \"text-align: right;\">31256</td><td style = \"text-align: right;\">37603</td></tr><tr><td class = \"rowNumber\" style = \"font-weight: bold; text-align: right;\">288997</td><td style = \"text-align: right;\">37520</td><td style = \"text-align: right;\">37679</td></tr><tr><td class = \"rowNumber\" style = \"font-weight: bold; text-align: right;\">288998</td><td style = \"text-align: right;\">19094</td><td style = \"text-align: right;\">2348</td></tr><tr><td class = \"rowNumber\" style = \"font-weight: bold; text-align: right;\">288999</td><td style = \"text-align: right;\">37528</td><td style = \"text-align: right;\">37597</td></tr><tr><td class = \"rowNumber\" style = \"font-weight: bold; text-align: right;\">289000</td><td style = \"text-align: right;\">37530</td><td style = \"text-align: right;\">37602</td></tr><tr><td class = \"rowNumber\" style = \"font-weight: bold; text-align: right;\">289001</td><td style = \"text-align: right;\">37645</td><td style = \"text-align: right;\">2348</td></tr><tr><td class = \"rowNumber\" style = \"font-weight: bold; text-align: right;\">289002</td><td style = \"text-align: right;\">25880</td><td style = \"text-align: right;\">2348</td></tr><tr><td class = \"rowNumber\" style = \"font-weight: bold; text-align: right;\">289003</td><td style = \"text-align: right;\">25617</td><td style = \"text-align: right;\">2348</td></tr></tbody></table></div>"
      ],
      "text/latex": [
       "\\begin{tabular}{r|cc}\n",
       "\t& id\\_1 & id\\_2\\\\\n",
       "\t\\hline\n",
       "\t& Int64 & Int64\\\\\n",
       "\t\\hline\n",
       "\t1 & 1 & 23978 \\\\\n",
       "\t2 & 2 & 34527 \\\\\n",
       "\t3 & 2 & 2371 \\\\\n",
       "\t4 & 2 & 14684 \\\\\n",
       "\t5 & 2 & 29983 \\\\\n",
       "\t6 & 2 & 21143 \\\\\n",
       "\t7 & 2 & 20364 \\\\\n",
       "\t8 & 2 & 23831 \\\\\n",
       "\t9 & 2 & 34036 \\\\\n",
       "\t10 & 6068 & 19721 \\\\\n",
       "\t11 & 6068 & 20184 \\\\\n",
       "\t12 & 4 & 4951 \\\\\n",
       "\t13 & 4 & 18030 \\\\\n",
       "\t14 & 4 & 3359 \\\\\n",
       "\t15 & 4 & 34936 \\\\\n",
       "\t16 & 4 & 5917 \\\\\n",
       "\t17 & 5 & 2866 \\\\\n",
       "\t18 & 5 & 9343 \\\\\n",
       "\t19 & 6 & 27804 \\\\\n",
       "\t20 & 7 & 27804 \\\\\n",
       "\t21 & 7 & 18613 \\\\\n",
       "\t22 & 7 & 18877 \\\\\n",
       "\t23 & 7 & 31891 \\\\\n",
       "\t24 & 7 & 17648 \\\\\n",
       "\t25 & 7 & 18563 \\\\\n",
       "\t26 & 8 & 37494 \\\\\n",
       "\t27 & 8 & 33644 \\\\\n",
       "\t28 & 8 & 30200 \\\\\n",
       "\t29 & 8 & 35774 \\\\\n",
       "\t30 & 8 & 11274 \\\\\n",
       "\t$\\dots$ & $\\dots$ & $\\dots$ \\\\\n",
       "\\end{tabular}\n"
      ],
      "text/plain": [
       "\u001b[1m289003×2 DataFrame\u001b[0m\n",
       "\u001b[1m    Row \u001b[0m│\u001b[1m id_1  \u001b[0m\u001b[1m id_2  \u001b[0m\n",
       "        │\u001b[90m Int64 \u001b[0m\u001b[90m Int64 \u001b[0m\n",
       "────────┼──────────────\n",
       "      1 │     1  23978\n",
       "      2 │     2  34527\n",
       "      3 │     2   2371\n",
       "      4 │     2  14684\n",
       "      5 │     2  29983\n",
       "      6 │     2  21143\n",
       "      7 │     2  20364\n",
       "      8 │     2  23831\n",
       "      9 │     2  34036\n",
       "     10 │  6068  19721\n",
       "     11 │  6068  20184\n",
       "   ⋮    │   ⋮      ⋮\n",
       " 288994 │ 37495  37578\n",
       " 288995 │ 37496  18378\n",
       " 288996 │ 31256  37603\n",
       " 288997 │ 37520  37679\n",
       " 288998 │ 19094   2348\n",
       " 288999 │ 37528  37597\n",
       " 289000 │ 37530  37602\n",
       " 289001 │ 37645   2348\n",
       " 289002 │ 25880   2348\n",
       " 289003 │ 25617   2348\n",
       "\u001b[36m    288982 rows omitted\u001b[0m"
      ]
     },
     "execution_count": 13,
     "metadata": {},
     "output_type": "execute_result"
    }
   ],
   "source": [
    "edges_df .+= 1"
   ]
  },
  {
   "cell_type": "code",
   "execution_count": 14,
   "id": "5e722623",
   "metadata": {},
   "outputs": [
    {
     "data": {
      "text/plain": [
       "37700-element Vector{Int64}:\n",
       "     1\n",
       "     2\n",
       "     3\n",
       "     4\n",
       "     5\n",
       "     6\n",
       "     7\n",
       "     8\n",
       "     9\n",
       "    10\n",
       "    11\n",
       "    12\n",
       "    13\n",
       "     ⋮\n",
       " 37689\n",
       " 37690\n",
       " 37691\n",
       " 37692\n",
       " 37693\n",
       " 37694\n",
       " 37695\n",
       " 37696\n",
       " 37697\n",
       " 37698\n",
       " 37699\n",
       " 37700"
      ]
     },
     "execution_count": 14,
     "metadata": {},
     "output_type": "execute_result"
    }
   ],
   "source": [
    "classes_df.id .+= 1"
   ]
  },
  {
   "cell_type": "markdown",
   "id": "38b51536",
   "metadata": {},
   "source": [
    "### Creating a graph using source data and its initial inspection"
   ]
  },
  {
   "cell_type": "code",
   "execution_count": 15,
   "id": "9943749d",
   "metadata": {},
   "outputs": [
    {
     "data": {
      "text/plain": [
       "{37700, 0} undirected simple Int64 graph"
      ]
     },
     "execution_count": 15,
     "metadata": {},
     "output_type": "execute_result"
    }
   ],
   "source": [
    "gh = SimpleGraph(nrow(classes_df))"
   ]
  },
  {
   "cell_type": "code",
   "execution_count": 16,
   "id": "8ae5bf63",
   "metadata": {},
   "outputs": [],
   "source": [
    "for (srt, dst) in eachrow(edges_df)\n",
    "    add_edge!(gh, srt, dst)\n",
    "end"
   ]
  },
  {
   "cell_type": "code",
   "execution_count": 17,
   "id": "8abe9912",
   "metadata": {},
   "outputs": [
    {
     "data": {
      "text/plain": [
       "{37700, 289003} undirected simple Int64 graph"
      ]
     },
     "execution_count": 17,
     "metadata": {},
     "output_type": "execute_result"
    }
   ],
   "source": [
    "gh"
   ]
  },
  {
   "cell_type": "code",
   "execution_count": 18,
   "id": "ba0de127",
   "metadata": {},
   "outputs": [
    {
     "data": {
      "text/plain": [
       "289003"
      ]
     },
     "execution_count": 18,
     "metadata": {},
     "output_type": "execute_result"
    }
   ],
   "source": [
    "ne(gh)"
   ]
  },
  {
   "cell_type": "code",
   "execution_count": 19,
   "id": "828acd18",
   "metadata": {},
   "outputs": [
    {
     "data": {
      "text/plain": [
       "37700"
      ]
     },
     "execution_count": 19,
     "metadata": {},
     "output_type": "execute_result"
    }
   ],
   "source": [
    "nv(gh)"
   ]
  },
  {
   "cell_type": "code",
   "execution_count": 20,
   "id": "ebfeb96b",
   "metadata": {},
   "outputs": [
    {
     "data": {
      "text/plain": [
       "1-element Vector{Vector{Int64}}:\n",
       " [1, 2, 3, 4, 5, 6, 7, 8, 9, 10  …  37691, 37692, 37693, 37694, 37695, 37696, 37697, 37698, 37699, 37700]"
      ]
     },
     "execution_count": 20,
     "metadata": {},
     "output_type": "execute_result"
    }
   ],
   "source": [
    "connected_components(gh)"
   ]
  },
  {
   "cell_type": "markdown",
   "id": "afa45690",
   "metadata": {},
   "source": [
    "### Getting and analyzing node degree in the graph"
   ]
  },
  {
   "cell_type": "code",
   "execution_count": 21,
   "id": "0f8fdb28",
   "metadata": {},
   "outputs": [
    {
     "data": {
      "text/plain": [
       "37700-element Vector{Int64}:\n",
       "   1\n",
       "   8\n",
       "   1\n",
       "   5\n",
       "   2\n",
       "   1\n",
       "   6\n",
       "   8\n",
       "   8\n",
       "   7\n",
       "  66\n",
       "   2\n",
       "   6\n",
       "   ⋮\n",
       "   8\n",
       "   9\n",
       " 215\n",
       "   3\n",
       "  58\n",
       "   4\n",
       "  20\n",
       "   1\n",
       "   2\n",
       "   4\n",
       "   3\n",
       "   4"
      ]
     },
     "execution_count": 21,
     "metadata": {},
     "output_type": "execute_result"
    }
   ],
   "source": [
    "degree(gh)"
   ]
  },
  {
   "cell_type": "code",
   "execution_count": 22,
   "id": "57be0b88",
   "metadata": {},
   "outputs": [
    {
     "data": {
      "text/plain": [
       "37700-element Vector{Int64}:\n",
       "   1\n",
       "   8\n",
       "   1\n",
       "   5\n",
       "   2\n",
       "   1\n",
       "   6\n",
       "   8\n",
       "   8\n",
       "   7\n",
       "  66\n",
       "   2\n",
       "   6\n",
       "   ⋮\n",
       "   8\n",
       "   9\n",
       " 215\n",
       "   3\n",
       "  58\n",
       "   4\n",
       "  20\n",
       "   1\n",
       "   2\n",
       "   4\n",
       "   3\n",
       "   4"
      ]
     },
     "execution_count": 22,
     "metadata": {},
     "output_type": "execute_result"
    }
   ],
   "source": [
    "classes_df.deg = degree(gh)"
   ]
  },
  {
   "cell_type": "code",
   "execution_count": 23,
   "id": "dae77847",
   "metadata": {},
   "outputs": [
    {
     "name": "stdout",
     "output_type": "stream",
     "text": [
      "Summary Stats:\n",
      "Length:         37700\n",
      "Missing Count:  0\n",
      "Mean:           15.331724\n",
      "Minimum:        1.000000\n",
      "1st Quartile:   2.000000\n",
      "Median:         6.000000\n",
      "3rd Quartile:   13.000000\n",
      "Maximum:        9458.000000\n",
      "Type:           Int64\n"
     ]
    }
   ],
   "source": [
    "describe(classes_df.deg)"
   ]
  },
  {
   "cell_type": "markdown",
   "id": "7adc9671",
   "metadata": {},
   "source": [
    "### Warmup task: random walk on a graph"
   ]
  },
  {
   "cell_type": "markdown",
   "id": "1c61d472",
   "metadata": {},
   "source": [
    "Assume that we start in an arbitrarily picked node. Next we visit one of its neighbors (randomly picked).\n",
    "Questions:\n",
    "* what will be the average degree of the visited nodes in the long run?\n",
    "* what will be the probability of visiting some node in the long run?"
   ]
  },
  {
   "cell_type": "code",
   "execution_count": 24,
   "id": "3b8eff17",
   "metadata": {},
   "outputs": [
    {
     "data": {
      "text/plain": [
       "travel (generic function with 1 method)"
      ]
     },
     "execution_count": 24,
     "metadata": {},
     "output_type": "execute_result"
    }
   ],
   "source": [
    "function travel(gh, i, steps)\n",
    "    degs = [degree(gh, i)]\n",
    "    visits = fill(0, nv(gh))\n",
    "    visits[i] += 1\n",
    "    for _ in 1:steps\n",
    "        i = rand(neighbors(gh, i))\n",
    "        push!(degs, degree(gh, i))\n",
    "        visits[i] += 1\n",
    "    end\n",
    "    return degs, visits\n",
    "end"
   ]
  },
  {
   "cell_type": "code",
   "execution_count": 25,
   "id": "5f71b77b",
   "metadata": {},
   "outputs": [
    {
     "data": {
      "text/plain": [
       "([1, 32, 60, 51, 331, 30, 6, 7085, 8, 3  …  1, 613, 249, 30, 34, 29, 2468, 6, 385, 19], [21, 135, 26, 85, 38, 24, 99, 136, 140, 127  …  3782, 41, 979, 78, 354, 30, 44, 61, 43, 71])"
      ]
     },
     "execution_count": 25,
     "metadata": {},
     "output_type": "execute_result"
    }
   ],
   "source": [
    "degs, visits = travel(gh, 1, 10^7)"
   ]
  },
  {
   "cell_type": "code",
   "execution_count": 26,
   "id": "04f96590",
   "metadata": {},
   "outputs": [
    {
     "data": {
      "text/plain": [
       "440.90957490904253"
      ]
     },
     "execution_count": 26,
     "metadata": {},
     "output_type": "execute_result"
    }
   ],
   "source": [
    "mean(degs)"
   ]
  },
  {
   "cell_type": "markdown",
   "id": "edc6328f",
   "metadata": {},
   "source": [
    "Surprisingly it is larger than mean degree of the node in the graph."
   ]
  },
  {
   "cell_type": "markdown",
   "id": "4acf00ae",
   "metadata": {},
   "source": [
    "Let us check mean weighted by degree:"
   ]
  },
  {
   "cell_type": "code",
   "execution_count": 27,
   "id": "315e03e3",
   "metadata": {},
   "outputs": [
    {
     "data": {
      "text/plain": [
       "441.020594941921"
      ]
     },
     "execution_count": 27,
     "metadata": {},
     "output_type": "execute_result"
    }
   ],
   "source": [
    "mean(classes_df.deg, Weights(classes_df.deg))"
   ]
  },
  {
   "cell_type": "markdown",
   "id": "58e8a521",
   "metadata": {},
   "source": [
    "So it looks that probability of visiting the node is proportional to its degree. Let us check it more closely:"
   ]
  },
  {
   "cell_type": "code",
   "execution_count": 28,
   "id": "32531ce1",
   "metadata": {},
   "outputs": [
    {
     "data": {
      "text/plain": [
       "0.9999242236638517"
      ]
     },
     "execution_count": 28,
     "metadata": {},
     "output_type": "execute_result"
    }
   ],
   "source": [
    "cor(classes_df.deg, visits)"
   ]
  },
  {
   "cell_type": "code",
   "execution_count": 29,
   "id": "e3f7a024",
   "metadata": {},
   "outputs": [
    {
     "data": {
      "text/plain": [
       "2-element Vector{Float64}:\n",
       "  0.06917795965012687\n",
       " 17.29634811908733"
      ]
     },
     "execution_count": 29,
     "metadata": {},
     "output_type": "execute_result"
    }
   ],
   "source": [
    "[ones(nv(gh)) classes_df.deg] \\ visits"
   ]
  },
  {
   "cell_type": "markdown",
   "id": "fe805588",
   "metadata": {},
   "source": [
    "Now instead of the simulation results let us analyze the probability of visiting the node numerically using transition matrix:"
   ]
  },
  {
   "cell_type": "code",
   "execution_count": 30,
   "id": "f4fc2ebf",
   "metadata": {},
   "outputs": [
    {
     "data": {
      "text/plain": [
       "37700×37700 SparseArrays.SparseMatrixCSC{Int64, Int64} with 578006 stored entries:\n",
       "⣿⣿⣿⣿⣿⣿⣿⣿⣿⣿⣿⣿⣿⣿⣿⣿⣿⣿⣿⣿⣿⣿⣿⣿⣿⣿⣿⣿⣿⣿⣿⣿⣿⣿⣿⣿⣿⣿⣿⡇\n",
       "⣿⣿⣿⣿⣿⣿⣿⣿⣿⣿⣿⣿⣿⣿⣿⣿⣿⣿⣿⣿⣿⣿⣿⣿⣿⣿⣿⣿⣿⣿⣿⣿⣿⣿⣿⣿⣿⣿⣿⡇\n",
       "⣿⣿⣿⣿⣿⣿⣿⣿⣿⣿⣿⣿⣿⣿⣿⣿⣿⣿⣿⣿⣿⣿⣿⣿⣿⣿⣿⣿⣿⣿⣿⣿⣿⣿⣿⣿⣿⣿⣿⡇\n",
       "⣿⣿⣿⣿⣿⣿⣿⣿⣿⣿⣿⣿⣿⣿⣿⣿⣿⣿⣿⣿⣿⣿⣿⣿⣿⣿⣿⣿⣿⣿⣿⣿⣿⣿⣿⣿⣿⣿⣿⡇\n",
       "⣿⣿⣿⣿⣿⣿⣿⣿⣿⣿⣿⣿⣿⣿⣿⣿⣿⣿⣿⣿⣿⣿⣿⣿⣿⣿⣿⣿⣿⣿⣿⣿⣿⣿⣿⣿⣿⣿⣿⡇\n",
       "⣿⣿⣿⣿⣿⣿⣿⣿⣿⣿⣿⣿⣿⣿⣿⣿⣿⣿⣿⣿⣿⣿⣿⣿⣿⣿⣿⣿⣿⣿⣿⣿⣿⣿⣿⣿⣿⣿⣿⡇\n",
       "⣿⣿⣿⣿⣿⣿⣿⣿⣿⣿⣿⣿⣿⣿⣿⣿⣿⣿⣿⣿⣿⣿⣿⣿⣿⣿⣿⣿⣿⣿⣿⣿⣿⣿⣿⣿⣿⣿⣿⡇\n",
       "⣿⣿⣿⣿⣿⣿⣿⣿⣿⣿⣿⣿⣿⣿⣿⣿⣿⣿⣿⣿⣿⣿⣿⣿⣿⣿⣿⣿⣿⣿⣿⣿⣿⣿⣿⣿⣿⣿⣿⡇\n",
       "⣿⣿⣿⣿⣿⣿⣿⣿⣿⣿⣿⣿⣿⣿⣿⣿⣿⣿⣿⣿⣿⣿⣿⣿⣿⣿⣿⣿⣿⣿⣿⣿⣿⣿⣿⣿⣿⣿⣿⡇\n",
       "⣿⣿⣿⣿⣿⣿⣿⣿⣿⣿⣿⣿⣿⣿⣿⣿⣿⣿⣿⣿⣿⣿⣿⣿⣿⣿⣿⣿⣿⣿⣿⣿⣿⣿⣿⣿⣿⣿⣿⡇\n",
       "⣿⣿⣿⣿⣿⣿⣿⣿⣿⣿⣿⣿⣿⣿⣿⣿⣿⣿⣿⣿⣿⣿⣿⣿⣿⣿⣿⣿⣿⣿⣿⣿⣿⣿⣿⣿⣿⣿⣿⡇\n",
       "⣿⣿⣿⣿⣿⣿⣿⣿⣿⣿⣿⣿⣿⣿⣿⣿⣿⣿⣿⣿⣿⣿⣿⣿⣿⣿⣿⣿⣿⣿⣿⣿⣿⣿⣿⣿⣿⣿⣿⡇\n",
       "⣿⣿⣿⣿⣿⣿⣿⣿⣿⣿⣿⣿⣿⣿⣿⣿⣿⣿⣿⣿⣿⣿⣿⣿⣿⣿⣿⣿⣿⣿⣿⣿⣿⣿⣿⣿⣿⣿⣿⡇\n",
       "⣿⣿⣿⣿⣿⣿⣿⣿⣿⣿⣿⣿⣿⣿⣿⣿⣿⣿⣿⣿⣿⣿⣿⣿⣿⣿⣿⣿⣿⣿⣿⣿⣿⣿⣿⣿⣿⣿⣿⡇\n",
       "⣿⣿⣿⣿⣿⣿⣿⣿⣿⣿⣿⣿⣿⣿⣿⣿⣿⣿⣿⣿⣿⣿⣿⣿⣿⣿⣿⣿⣿⣿⣿⣿⣿⣿⣿⣿⣿⣿⣿⡇\n",
       "⣿⣿⣿⣿⣿⣿⣿⣿⣿⣿⣿⣿⣿⣿⣿⣿⣿⣿⣿⣿⣿⣿⣿⣿⣿⣿⣿⣿⣿⣿⣿⣿⣿⣿⣿⣿⣿⣿⣿⡇\n",
       "⣿⣿⣿⣿⣿⣿⣿⣿⣿⣿⣿⣿⣿⣿⣿⣿⣿⣿⣿⣿⣿⣿⣿⣿⣿⣿⣿⣿⣿⣿⣿⣿⣿⣿⣿⣿⣿⣿⣿⡇\n",
       "⣿⣿⣿⣿⣿⣿⣿⣿⣿⣿⣿⣿⣿⣿⣿⣿⣿⣿⣿⣿⣿⣿⣿⣿⣿⣿⣿⣿⣿⣿⣿⣿⣿⣿⣿⣿⣿⣿⣿⡇\n",
       "⣿⣿⣿⣿⣿⣿⣿⣿⣿⣿⣿⣿⣿⣿⣿⣿⣿⣿⣿⣿⣿⣿⣿⣿⣿⣿⣿⣿⣿⣿⣿⣿⣿⣿⣿⣿⣿⣿⣿⡇\n",
       "⠿⠿⠿⠿⠿⠿⠿⠿⠿⠿⠿⠿⠿⠿⠿⠿⠿⠿⠿⠿⠿⠿⠿⠿⠿⠿⠿⠿⠿⠿⠿⠿⠿⠿⠿⠿⠿⠿⠿⠇"
      ]
     },
     "execution_count": 30,
     "metadata": {},
     "output_type": "execute_result"
    }
   ],
   "source": [
    "am = adjacency_matrix(gh)"
   ]
  },
  {
   "cell_type": "code",
   "execution_count": 31,
   "id": "5dd198f2",
   "metadata": {},
   "outputs": [
    {
     "data": {
      "text/plain": [
       "37700-element Vector{Float64}:\n",
       " 1.0\n",
       " 0.125\n",
       " 1.0\n",
       " 0.2\n",
       " 0.5\n",
       " 1.0\n",
       " 0.16666666666666666\n",
       " 0.125\n",
       " 0.125\n",
       " 0.14285714285714285\n",
       " 0.015151515151515152\n",
       " 0.5\n",
       " 0.16666666666666666\n",
       " ⋮\n",
       " 0.125\n",
       " 0.1111111111111111\n",
       " 0.004651162790697674\n",
       " 0.3333333333333333\n",
       " 0.017241379310344827\n",
       " 0.25\n",
       " 0.05\n",
       " 1.0\n",
       " 0.5\n",
       " 0.25\n",
       " 0.3333333333333333\n",
       " 0.25"
      ]
     },
     "execution_count": 31,
     "metadata": {},
     "output_type": "execute_result"
    }
   ],
   "source": [
    "travel_prob = (1 ./ classes_df.deg)"
   ]
  },
  {
   "cell_type": "code",
   "execution_count": 32,
   "id": "9e877ae2",
   "metadata": {},
   "outputs": [
    {
     "data": {
      "text/plain": [
       "37700×37700 SparseArrays.SparseMatrixCSC{Float64, Int64} with 578006 stored entries:\n",
       "⣿⣿⣿⣿⣿⣿⣿⣿⣿⣿⣿⣿⣿⣿⣿⣿⣿⣿⣿⣿⣿⣿⣿⣿⣿⣿⣿⣿⣿⣿⣿⣿⣿⣿⣿⣿⣿⣿⣿⡇\n",
       "⣿⣿⣿⣿⣿⣿⣿⣿⣿⣿⣿⣿⣿⣿⣿⣿⣿⣿⣿⣿⣿⣿⣿⣿⣿⣿⣿⣿⣿⣿⣿⣿⣿⣿⣿⣿⣿⣿⣿⡇\n",
       "⣿⣿⣿⣿⣿⣿⣿⣿⣿⣿⣿⣿⣿⣿⣿⣿⣿⣿⣿⣿⣿⣿⣿⣿⣿⣿⣿⣿⣿⣿⣿⣿⣿⣿⣿⣿⣿⣿⣿⡇\n",
       "⣿⣿⣿⣿⣿⣿⣿⣿⣿⣿⣿⣿⣿⣿⣿⣿⣿⣿⣿⣿⣿⣿⣿⣿⣿⣿⣿⣿⣿⣿⣿⣿⣿⣿⣿⣿⣿⣿⣿⡇\n",
       "⣿⣿⣿⣿⣿⣿⣿⣿⣿⣿⣿⣿⣿⣿⣿⣿⣿⣿⣿⣿⣿⣿⣿⣿⣿⣿⣿⣿⣿⣿⣿⣿⣿⣿⣿⣿⣿⣿⣿⡇\n",
       "⣿⣿⣿⣿⣿⣿⣿⣿⣿⣿⣿⣿⣿⣿⣿⣿⣿⣿⣿⣿⣿⣿⣿⣿⣿⣿⣿⣿⣿⣿⣿⣿⣿⣿⣿⣿⣿⣿⣿⡇\n",
       "⣿⣿⣿⣿⣿⣿⣿⣿⣿⣿⣿⣿⣿⣿⣿⣿⣿⣿⣿⣿⣿⣿⣿⣿⣿⣿⣿⣿⣿⣿⣿⣿⣿⣿⣿⣿⣿⣿⣿⡇\n",
       "⣿⣿⣿⣿⣿⣿⣿⣿⣿⣿⣿⣿⣿⣿⣿⣿⣿⣿⣿⣿⣿⣿⣿⣿⣿⣿⣿⣿⣿⣿⣿⣿⣿⣿⣿⣿⣿⣿⣿⡇\n",
       "⣿⣿⣿⣿⣿⣿⣿⣿⣿⣿⣿⣿⣿⣿⣿⣿⣿⣿⣿⣿⣿⣿⣿⣿⣿⣿⣿⣿⣿⣿⣿⣿⣿⣿⣿⣿⣿⣿⣿⡇\n",
       "⣿⣿⣿⣿⣿⣿⣿⣿⣿⣿⣿⣿⣿⣿⣿⣿⣿⣿⣿⣿⣿⣿⣿⣿⣿⣿⣿⣿⣿⣿⣿⣿⣿⣿⣿⣿⣿⣿⣿⡇\n",
       "⣿⣿⣿⣿⣿⣿⣿⣿⣿⣿⣿⣿⣿⣿⣿⣿⣿⣿⣿⣿⣿⣿⣿⣿⣿⣿⣿⣿⣿⣿⣿⣿⣿⣿⣿⣿⣿⣿⣿⡇\n",
       "⣿⣿⣿⣿⣿⣿⣿⣿⣿⣿⣿⣿⣿⣿⣿⣿⣿⣿⣿⣿⣿⣿⣿⣿⣿⣿⣿⣿⣿⣿⣿⣿⣿⣿⣿⣿⣿⣿⣿⡇\n",
       "⣿⣿⣿⣿⣿⣿⣿⣿⣿⣿⣿⣿⣿⣿⣿⣿⣿⣿⣿⣿⣿⣿⣿⣿⣿⣿⣿⣿⣿⣿⣿⣿⣿⣿⣿⣿⣿⣿⣿⡇\n",
       "⣿⣿⣿⣿⣿⣿⣿⣿⣿⣿⣿⣿⣿⣿⣿⣿⣿⣿⣿⣿⣿⣿⣿⣿⣿⣿⣿⣿⣿⣿⣿⣿⣿⣿⣿⣿⣿⣿⣿⡇\n",
       "⣿⣿⣿⣿⣿⣿⣿⣿⣿⣿⣿⣿⣿⣿⣿⣿⣿⣿⣿⣿⣿⣿⣿⣿⣿⣿⣿⣿⣿⣿⣿⣿⣿⣿⣿⣿⣿⣿⣿⡇\n",
       "⣿⣿⣿⣿⣿⣿⣿⣿⣿⣿⣿⣿⣿⣿⣿⣿⣿⣿⣿⣿⣿⣿⣿⣿⣿⣿⣿⣿⣿⣿⣿⣿⣿⣿⣿⣿⣿⣿⣿⡇\n",
       "⣿⣿⣿⣿⣿⣿⣿⣿⣿⣿⣿⣿⣿⣿⣿⣿⣿⣿⣿⣿⣿⣿⣿⣿⣿⣿⣿⣿⣿⣿⣿⣿⣿⣿⣿⣿⣿⣿⣿⡇\n",
       "⣿⣿⣿⣿⣿⣿⣿⣿⣿⣿⣿⣿⣿⣿⣿⣿⣿⣿⣿⣿⣿⣿⣿⣿⣿⣿⣿⣿⣿⣿⣿⣿⣿⣿⣿⣿⣿⣿⣿⡇\n",
       "⣿⣿⣿⣿⣿⣿⣿⣿⣿⣿⣿⣿⣿⣿⣿⣿⣿⣿⣿⣿⣿⣿⣿⣿⣿⣿⣿⣿⣿⣿⣿⣿⣿⣿⣿⣿⣿⣿⣿⡇\n",
       "⠿⠿⠿⠿⠿⠿⠿⠿⠿⠿⠿⠿⠿⠿⠿⠿⠿⠿⠿⠿⠿⠿⠿⠿⠿⠿⠿⠿⠿⠿⠿⠿⠿⠿⠿⠿⠿⠿⠿⠇"
      ]
     },
     "execution_count": 32,
     "metadata": {},
     "output_type": "execute_result"
    }
   ],
   "source": [
    "tm = am .* travel_prob"
   ]
  },
  {
   "cell_type": "code",
   "execution_count": 33,
   "id": "f403b767",
   "metadata": {},
   "outputs": [
    {
     "data": {
      "text/plain": [
       "pow_iter (generic function with 1 method)"
      ]
     },
     "execution_count": 33,
     "metadata": {},
     "output_type": "execute_result"
    }
   ],
   "source": [
    "function pow_iter(tm; iters=1000)\n",
    "    x = ones(1, size(tm, 2))\n",
    "    for _ in 1:iters\n",
    "        x = x * tm\n",
    "        x ./= sum(x)\n",
    "    end\n",
    "    return x\n",
    "end"
   ]
  },
  {
   "cell_type": "code",
   "execution_count": 34,
   "id": "3cd6cfeb",
   "metadata": {},
   "outputs": [
    {
     "data": {
      "text/plain": [
       "1×37700 Matrix{Float64}:\n",
       " 1.73009e-6  1.38407e-5  1.73009e-6  …  6.92034e-6  5.19026e-6  6.92034e-6"
      ]
     },
     "execution_count": 34,
     "metadata": {},
     "output_type": "execute_result"
    }
   ],
   "source": [
    "stationary_prob = pow_iter(tm)"
   ]
  },
  {
   "cell_type": "code",
   "execution_count": 35,
   "id": "86ed4601",
   "metadata": {},
   "outputs": [
    {
     "data": {
      "text/plain": [
       "1×37700 adjoint(::Vector{Float64}) with eltype Float64:\n",
       " 1.73009e-6  1.38407e-5  1.73009e-6  …  6.92034e-6  5.19026e-6  6.92034e-6"
      ]
     },
     "execution_count": 35,
     "metadata": {},
     "output_type": "execute_result"
    }
   ],
   "source": [
    "(classes_df.deg / sum(classes_df.deg))'"
   ]
  },
  {
   "cell_type": "code",
   "execution_count": 36,
   "id": "d3ab0c7c",
   "metadata": {},
   "outputs": [
    {
     "data": {
      "text/plain": [
       "(-2.2065682614424986e-15, 4.0072112295064244e-16)"
      ]
     },
     "execution_count": 36,
     "metadata": {},
     "output_type": "execute_result"
    }
   ],
   "source": [
    "extrema(stationary_prob - (classes_df.deg / sum(classes_df.deg))')"
   ]
  },
  {
   "cell_type": "markdown",
   "id": "d7017b47",
   "metadata": {},
   "source": [
    "Why is this finding important?"
   ]
  },
  {
   "cell_type": "markdown",
   "id": "92513b0c",
   "metadata": {},
   "source": [
    "### Main task: prediction of developer type by inspection of types of its neighbors"
   ]
  },
  {
   "cell_type": "markdown",
   "id": "ddc72b20",
   "metadata": {},
   "source": [
    "Understanding how one can inspect edges of a graph"
   ]
  },
  {
   "cell_type": "code",
   "execution_count": 37,
   "id": "1b16d799",
   "metadata": {},
   "outputs": [
    {
     "data": {
      "text/plain": [
       "SimpleEdgeIter 289003"
      ]
     },
     "execution_count": 37,
     "metadata": {},
     "output_type": "execute_result"
    }
   ],
   "source": [
    "edges(gh)"
   ]
  },
  {
   "cell_type": "code",
   "execution_count": 38,
   "id": "f898a1e1",
   "metadata": {},
   "outputs": [
    {
     "data": {
      "text/plain": [
       "Edge 1 => 23978"
      ]
     },
     "execution_count": 38,
     "metadata": {},
     "output_type": "execute_result"
    }
   ],
   "source": [
    "e1 = first(edges(gh))"
   ]
  },
  {
   "cell_type": "code",
   "execution_count": 39,
   "id": "cbcc8c59",
   "metadata": {},
   "outputs": [
    {
     "name": "stdout",
     "output_type": "stream",
     "text": [
      "Graphs.SimpleGraphs.SimpleEdge{Int64}\n",
      "  src: Int64 1\n",
      "  dst: Int64 23978\n"
     ]
    }
   ],
   "source": [
    "dump(e1)"
   ]
  },
  {
   "cell_type": "code",
   "execution_count": 40,
   "id": "2b552244",
   "metadata": {},
   "outputs": [
    {
     "data": {
      "text/plain": [
       "1"
      ]
     },
     "execution_count": 40,
     "metadata": {},
     "output_type": "execute_result"
    }
   ],
   "source": [
    "e1.src"
   ]
  },
  {
   "cell_type": "code",
   "execution_count": 41,
   "id": "f50f704d",
   "metadata": {},
   "outputs": [
    {
     "data": {
      "text/plain": [
       "23978"
      ]
     },
     "execution_count": 41,
     "metadata": {},
     "output_type": "execute_result"
    }
   ],
   "source": [
    "e1.dst"
   ]
  },
  {
   "cell_type": "markdown",
   "id": "59025c91",
   "metadata": {},
   "source": [
    "Counting neighbors of a node that have ml or web type:"
   ]
  },
  {
   "cell_type": "code",
   "execution_count": 42,
   "id": "16be8370",
   "metadata": {},
   "outputs": [
    {
     "data": {
      "text/plain": [
       "deg_class (generic function with 1 method)"
      ]
     },
     "execution_count": 42,
     "metadata": {},
     "output_type": "execute_result"
    }
   ],
   "source": [
    "function deg_class(gh, class)\n",
    "    deg_ml = zeros(Int, length(class))\n",
    "    deg_web = zeros(Int, length(class))\n",
    "    for edge in edges(gh)\n",
    "        a, b = edge.src, edge.dst\n",
    "        if class[b] == 1\n",
    "            deg_ml[a] += 1\n",
    "        else\n",
    "            deg_web[a] += 1\n",
    "        end\n",
    "        if class[a] == 1\n",
    "            deg_ml[b] += 1\n",
    "        else\n",
    "            deg_web[b] += 1\n",
    "        end\n",
    "    end\n",
    "    return (deg_ml, deg_web)\n",
    "end"
   ]
  },
  {
   "cell_type": "code",
   "execution_count": 43,
   "id": "9a622ea1",
   "metadata": {},
   "outputs": [
    {
     "data": {
      "text/plain": [
       "([0, 0, 0, 3, 1, 0, 0, 0, 1, 2  …  2, 0, 12, 1, 0, 1, 0, 0, 1, 0], [1, 8, 1, 2, 1, 1, 6, 8, 7, 5  …  213, 3, 46, 3, 20, 0, 2, 4, 2, 4])"
      ]
     },
     "execution_count": 43,
     "metadata": {},
     "output_type": "execute_result"
    }
   ],
   "source": [
    "classes_df.deg_ml, classes_df.deg_web = deg_class(gh, classes_df.ml_target)"
   ]
  },
  {
   "cell_type": "code",
   "execution_count": 44,
   "id": "02cf313b",
   "metadata": {},
   "outputs": [
    {
     "data": {
      "text/html": [
       "<div><div style = \"float: left;\"><span>6×5 DataFrame</span></div><div style = \"clear: both;\"></div></div><div class = \"data-frame\" style = \"overflow-x: scroll;\"><table class = \"data-frame\" style = \"margin-bottom: 6px;\"><thead><tr class = \"header\"><th class = \"rowNumber\" style = \"font-weight: bold; text-align: right;\">Row</th><th style = \"text-align: left;\">variable</th><th style = \"text-align: left;\">min</th><th style = \"text-align: left;\">max</th><th style = \"text-align: left;\">mean</th><th style = \"text-align: left;\">std</th></tr><tr class = \"subheader headerLastRow\"><th class = \"rowNumber\" style = \"font-weight: bold; text-align: right;\"></th><th title = \"Symbol\" style = \"text-align: left;\">Symbol</th><th title = \"Any\" style = \"text-align: left;\">Any</th><th title = \"Any\" style = \"text-align: left;\">Any</th><th title = \"Union{Nothing, Float64}\" style = \"text-align: left;\">Union…</th><th title = \"Union{Nothing, Float64}\" style = \"text-align: left;\">Union…</th></tr></thead><tbody><tr><td class = \"rowNumber\" style = \"font-weight: bold; text-align: right;\">1</td><td style = \"text-align: left;\">id</td><td style = \"text-align: left;\">1</td><td style = \"text-align: left;\">37700</td><td style = \"text-align: left;\">18850.5</td><td style = \"text-align: left;\">10883.2</td></tr><tr><td class = \"rowNumber\" style = \"font-weight: bold; text-align: right;\">2</td><td style = \"text-align: left;\">name</td><td style = \"text-align: left;\">007arunwilson</td><td style = \"text-align: left;\">timqian</td><td style = \"font-style: italic; text-align: left;\"></td><td style = \"font-style: italic; text-align: left;\"></td></tr><tr><td class = \"rowNumber\" style = \"font-weight: bold; text-align: right;\">3</td><td style = \"text-align: left;\">ml_target</td><td style = \"text-align: left;\">0</td><td style = \"text-align: left;\">1</td><td style = \"text-align: left;\">0.258329</td><td style = \"text-align: left;\">0.437722</td></tr><tr><td class = \"rowNumber\" style = \"font-weight: bold; text-align: right;\">4</td><td style = \"text-align: left;\">deg</td><td style = \"text-align: left;\">1</td><td style = \"text-align: left;\">9458</td><td style = \"text-align: left;\">15.3317</td><td style = \"text-align: left;\">80.7881</td></tr><tr><td class = \"rowNumber\" style = \"font-weight: bold; text-align: right;\">5</td><td style = \"text-align: left;\">deg_ml</td><td style = \"text-align: left;\">0</td><td style = \"text-align: left;\">1620</td><td style = \"text-align: left;\">2.22981</td><td style = \"text-align: left;\">13.935</td></tr><tr><td class = \"rowNumber\" style = \"font-weight: bold; text-align: right;\">6</td><td style = \"text-align: left;\">deg_web</td><td style = \"text-align: left;\">0</td><td style = \"text-align: left;\">8194</td><td style = \"text-align: left;\">13.1019</td><td style = \"text-align: left;\">69.9712</td></tr></tbody></table></div>"
      ],
      "text/latex": [
       "\\begin{tabular}{r|ccccc}\n",
       "\t& variable & min & max & mean & std\\\\\n",
       "\t\\hline\n",
       "\t& Symbol & Any & Any & Union… & Union…\\\\\n",
       "\t\\hline\n",
       "\t1 & id & 1 & 37700 & 18850.5 & 10883.2 \\\\\n",
       "\t2 & name & 007arunwilson & timqian &  &  \\\\\n",
       "\t3 & ml\\_target & 0 & 1 & 0.258329 & 0.437722 \\\\\n",
       "\t4 & deg & 1 & 9458 & 15.3317 & 80.7881 \\\\\n",
       "\t5 & deg\\_ml & 0 & 1620 & 2.22981 & 13.935 \\\\\n",
       "\t6 & deg\\_web & 0 & 8194 & 13.1019 & 69.9712 \\\\\n",
       "\\end{tabular}\n"
      ],
      "text/plain": [
       "\u001b[1m6×5 DataFrame\u001b[0m\n",
       "\u001b[1m Row \u001b[0m│\u001b[1m variable  \u001b[0m\u001b[1m min           \u001b[0m\u001b[1m max     \u001b[0m\u001b[1m mean     \u001b[0m\u001b[1m std      \u001b[0m\n",
       "     │\u001b[90m Symbol    \u001b[0m\u001b[90m Any           \u001b[0m\u001b[90m Any     \u001b[0m\u001b[90m Union…   \u001b[0m\u001b[90m Union…   \u001b[0m\n",
       "─────┼───────────────────────────────────────────────────────\n",
       "   1 │ id         1              37700    18850.5   10883.2\n",
       "   2 │ name       007arunwilson  timqian \u001b[90m          \u001b[0m\u001b[90m          \u001b[0m\n",
       "   3 │ ml_target  0              1        0.258329  0.437722\n",
       "   4 │ deg        1              9458     15.3317   80.7881\n",
       "   5 │ deg_ml     0              1620     2.22981   13.935\n",
       "   6 │ deg_web    0              8194     13.1019   69.9712"
      ]
     },
     "execution_count": 44,
     "metadata": {},
     "output_type": "execute_result"
    }
   ],
   "source": [
    "describe(classes_df, :min, :max, :mean, :std)"
   ]
  },
  {
   "cell_type": "code",
   "execution_count": 45,
   "id": "638bb1c9",
   "metadata": {},
   "outputs": [
    {
     "data": {
      "text/plain": [
       "true"
      ]
     },
     "execution_count": 45,
     "metadata": {},
     "output_type": "execute_result"
    }
   ],
   "source": [
    "classes_df.deg_ml + classes_df.deg_web == classes_df.deg"
   ]
  },
  {
   "cell_type": "markdown",
   "id": "c1b5481f",
   "metadata": {},
   "source": [
    "Computing summary statistics of web and machine learning developer's features"
   ]
  },
  {
   "cell_type": "code",
   "execution_count": 46,
   "id": "44d30c7b",
   "metadata": {},
   "outputs": [
    {
     "name": "stdout",
     "output_type": "stream",
     "text": [
      "(0, \"deg_ml\", 1.5985122134401488)\n",
      "(0, \"deg_web\", 16.066878866993314)\n",
      "(1, \"deg_ml\", 4.042304138001848)\n",
      "(1, \"deg_web\", 4.589382893520895)\n"
     ]
    }
   ],
   "source": [
    "for type in [0, 1], col in [\"deg_ml\", \"deg_web\"]\n",
    "    println((type, col,\n",
    "    mean(classes_df[classes_df.ml_target .== type, col])))\n",
    "end"
   ]
  },
  {
   "cell_type": "code",
   "execution_count": 47,
   "id": "68ce8edb",
   "metadata": {},
   "outputs": [
    {
     "data": {
      "text/html": [
       "<div><div style = \"float: left;\"><span>2×3 DataFrame</span></div><div style = \"clear: both;\"></div></div><div class = \"data-frame\" style = \"overflow-x: scroll;\"><table class = \"data-frame\" style = \"margin-bottom: 6px;\"><thead><tr class = \"header\"><th class = \"rowNumber\" style = \"font-weight: bold; text-align: right;\">Row</th><th style = \"text-align: left;\">ml_target</th><th style = \"text-align: left;\">mean_deg_ml</th><th style = \"text-align: left;\">mean_deg_web</th></tr><tr class = \"subheader headerLastRow\"><th class = \"rowNumber\" style = \"font-weight: bold; text-align: right;\"></th><th title = \"Int64\" style = \"text-align: left;\">Int64</th><th title = \"Float64\" style = \"text-align: left;\">Float64</th><th title = \"Float64\" style = \"text-align: left;\">Float64</th></tr></thead><tbody><tr><td class = \"rowNumber\" style = \"font-weight: bold; text-align: right;\">1</td><td style = \"text-align: right;\">0</td><td style = \"text-align: right;\">1.59851</td><td style = \"text-align: right;\">16.0669</td></tr><tr><td class = \"rowNumber\" style = \"font-weight: bold; text-align: right;\">2</td><td style = \"text-align: right;\">1</td><td style = \"text-align: right;\">4.0423</td><td style = \"text-align: right;\">4.58938</td></tr></tbody></table></div>"
      ],
      "text/latex": [
       "\\begin{tabular}{r|ccc}\n",
       "\t& ml\\_target & mean\\_deg\\_ml & mean\\_deg\\_web\\\\\n",
       "\t\\hline\n",
       "\t& Int64 & Float64 & Float64\\\\\n",
       "\t\\hline\n",
       "\t1 & 0 & 1.59851 & 16.0669 \\\\\n",
       "\t2 & 1 & 4.0423 & 4.58938 \\\\\n",
       "\\end{tabular}\n"
      ],
      "text/plain": [
       "\u001b[1m2×3 DataFrame\u001b[0m\n",
       "\u001b[1m Row \u001b[0m│\u001b[1m ml_target \u001b[0m\u001b[1m mean_deg_ml \u001b[0m\u001b[1m mean_deg_web \u001b[0m\n",
       "     │\u001b[90m Int64     \u001b[0m\u001b[90m Float64     \u001b[0m\u001b[90m Float64      \u001b[0m\n",
       "─────┼──────────────────────────────────────\n",
       "   1 │         0      1.59851      16.0669\n",
       "   2 │         1      4.0423        4.58938"
      ]
     },
     "execution_count": 47,
     "metadata": {},
     "output_type": "execute_result"
    }
   ],
   "source": [
    "@chain classes_df begin\n",
    "    groupby(:ml_target)\n",
    "    @combine(:mean_deg_ml = mean(:deg_ml),\n",
    "             :mean_deg_web = mean(:deg_web))\n",
    "end"
   ]
  },
  {
   "cell_type": "markdown",
   "id": "b18db01d",
   "metadata": {},
   "source": [
    "Building a logistic regression predicting developer type"
   ]
  },
  {
   "cell_type": "code",
   "execution_count": 48,
   "id": "85d4e8ea",
   "metadata": {},
   "outputs": [
    {
     "data": {
      "text/plain": [
       "StatsModels.TableRegressionModel{GeneralizedLinearModel{GLM.GlmResp{Vector{Float64}, Binomial{Float64}, LogitLink}, GLM.DensePredChol{Float64, LinearAlgebra.CholeskyPivoted{Float64, Matrix{Float64}, Vector{Int64}}}}, Matrix{Float64}}\n",
       "\n",
       "ml_target ~ 1 + :(log1p(deg_ml)) + :(log1p(deg_web))\n",
       "\n",
       "Coefficients:\n",
       "────────────────────────────────────────────────────────────────────────────\n",
       "                   Coef.  Std. Error       z  Pr(>|z|)  Lower 95%  Upper 95%\n",
       "────────────────────────────────────────────────────────────────────────────\n",
       "(Intercept)      0.30205   0.0288865   10.46    <1e-24   0.245433   0.358666\n",
       "log1p(deg_ml)    1.80476   0.0224022   80.56    <1e-99   1.76085    1.84866\n",
       "log1p(deg_web)  -1.63877   0.0208776  -78.49    <1e-99  -1.67969   -1.59785\n",
       "────────────────────────────────────────────────────────────────────────────"
      ]
     },
     "execution_count": 48,
     "metadata": {},
     "output_type": "execute_result"
    }
   ],
   "source": [
    "model = glm(@formula(ml_target~log1p(deg_ml)+log1p(deg_web)), classes_df, Binomial(), LogitLink())"
   ]
  },
  {
   "cell_type": "markdown",
   "id": "3e9f22ec",
   "metadata": {},
   "source": [
    "Analysis of the quality of the created model"
   ]
  },
  {
   "cell_type": "code",
   "execution_count": 49,
   "id": "dae2d665",
   "metadata": {},
   "outputs": [
    {
     "data": {
      "text/plain": [
       "37700-element Vector{Float64}:\n",
       " 0.30282965454640626\n",
       " 0.03561591796250178\n",
       " 0.30282965454640626\n",
       " 0.7317659512169469\n",
       " 0.6027897836494603\n",
       " 0.30282965454640626\n",
       " 0.05280744087342835\n",
       " 0.03561591796250178\n",
       " 0.1353202034881714\n",
       " 0.34265057019151657\n",
       " 0.18662022876084552\n",
       " 0.18267568923788643\n",
       " 0.05280744087342835\n",
       " ⋮\n",
       " 0.46697108544462856\n",
       " 0.1142814697999301\n",
       " 0.0014880120492772983\n",
       " 0.12241375789416\n",
       " 0.20127440994462992\n",
       " 0.3276559037219484\n",
       " 0.00912813620140297\n",
       " 0.8253483333089029\n",
       " 0.18267568923788643\n",
       " 0.088229291403207\n",
       " 0.43847305835201505\n",
       " 0.088229291403207"
      ]
     },
     "execution_count": 49,
     "metadata": {},
     "output_type": "execute_result"
    }
   ],
   "source": [
    "classes_df.predict = predict(model)"
   ]
  },
  {
   "cell_type": "code",
   "execution_count": 50,
   "id": "74931b2f",
   "metadata": {},
   "outputs": [
    {
     "data": {
      "image/svg+xml": [
       "<?xml version=\"1.0\" encoding=\"utf-8\"?>\n",
       "<svg xmlns=\"http://www.w3.org/2000/svg\" xmlns:xlink=\"http://www.w3.org/1999/xlink\" width=\"600\" height=\"400\" viewBox=\"0 0 2400 1600\">\n",
       "<defs>\n",
       "  <clipPath id=\"clip000\">\n",
       "    <rect x=\"0\" y=\"0\" width=\"2400\" height=\"1600\"/>\n",
       "  </clipPath>\n",
       "</defs>\n",
       "<path clip-path=\"url(#clip000)\" d=\"\n",
       "M0 1600 L2400 1600 L2400 0 L0 0  Z\n",
       "  \" fill=\"#ffffff\" fill-rule=\"evenodd\" fill-opacity=\"1\"/>\n",
       "<defs>\n",
       "  <clipPath id=\"clip001\">\n",
       "    <rect x=\"480\" y=\"0\" width=\"1681\" height=\"1600\"/>\n",
       "  </clipPath>\n",
       "</defs>\n",
       "<path clip-path=\"url(#clip000)\" d=\"\n",
       "M202.177 1486.45 L2352.76 1486.45 L2352.76 47.2441 L202.177 47.2441  Z\n",
       "  \" fill=\"#ffffff\" fill-rule=\"evenodd\" fill-opacity=\"1\"/>\n",
       "<defs>\n",
       "  <clipPath id=\"clip002\">\n",
       "    <rect x=\"202\" y=\"47\" width=\"2152\" height=\"1440\"/>\n",
       "  </clipPath>\n",
       "</defs>\n",
       "<polyline clip-path=\"url(#clip002)\" style=\"stroke:#000000; stroke-linecap:round; stroke-linejoin:round; stroke-width:2; stroke-opacity:0.1; fill:none\" points=\"\n",
       "  320.462,1486.45 320.462,47.2441 \n",
       "  \"/>\n",
       "<polyline clip-path=\"url(#clip002)\" style=\"stroke:#000000; stroke-linecap:round; stroke-linejoin:round; stroke-width:2; stroke-opacity:0.1; fill:none\" points=\"\n",
       "  798.964,1486.45 798.964,47.2441 \n",
       "  \"/>\n",
       "<polyline clip-path=\"url(#clip002)\" style=\"stroke:#000000; stroke-linecap:round; stroke-linejoin:round; stroke-width:2; stroke-opacity:0.1; fill:none\" points=\"\n",
       "  1277.47,1486.45 1277.47,47.2441 \n",
       "  \"/>\n",
       "<polyline clip-path=\"url(#clip002)\" style=\"stroke:#000000; stroke-linecap:round; stroke-linejoin:round; stroke-width:2; stroke-opacity:0.1; fill:none\" points=\"\n",
       "  1755.97,1486.45 1755.97,47.2441 \n",
       "  \"/>\n",
       "<polyline clip-path=\"url(#clip002)\" style=\"stroke:#000000; stroke-linecap:round; stroke-linejoin:round; stroke-width:2; stroke-opacity:0.1; fill:none\" points=\"\n",
       "  2234.47,1486.45 2234.47,47.2441 \n",
       "  \"/>\n",
       "<polyline clip-path=\"url(#clip000)\" style=\"stroke:#000000; stroke-linecap:round; stroke-linejoin:round; stroke-width:4; stroke-opacity:1; fill:none\" points=\"\n",
       "  202.177,1486.45 2352.76,1486.45 \n",
       "  \"/>\n",
       "<polyline clip-path=\"url(#clip000)\" style=\"stroke:#000000; stroke-linecap:round; stroke-linejoin:round; stroke-width:4; stroke-opacity:1; fill:none\" points=\"\n",
       "  320.462,1486.45 320.462,1467.55 \n",
       "  \"/>\n",
       "<polyline clip-path=\"url(#clip000)\" style=\"stroke:#000000; stroke-linecap:round; stroke-linejoin:round; stroke-width:4; stroke-opacity:1; fill:none\" points=\"\n",
       "  798.964,1486.45 798.964,1467.55 \n",
       "  \"/>\n",
       "<polyline clip-path=\"url(#clip000)\" style=\"stroke:#000000; stroke-linecap:round; stroke-linejoin:round; stroke-width:4; stroke-opacity:1; fill:none\" points=\"\n",
       "  1277.47,1486.45 1277.47,1467.55 \n",
       "  \"/>\n",
       "<polyline clip-path=\"url(#clip000)\" style=\"stroke:#000000; stroke-linecap:round; stroke-linejoin:round; stroke-width:4; stroke-opacity:1; fill:none\" points=\"\n",
       "  1755.97,1486.45 1755.97,1467.55 \n",
       "  \"/>\n",
       "<polyline clip-path=\"url(#clip000)\" style=\"stroke:#000000; stroke-linecap:round; stroke-linejoin:round; stroke-width:4; stroke-opacity:1; fill:none\" points=\"\n",
       "  2234.47,1486.45 2234.47,1467.55 \n",
       "  \"/>\n",
       "<path clip-path=\"url(#clip000)\" d=\"M282.766 1517.37 Q279.155 1517.37 277.326 1520.93 Q275.52 1524.47 275.52 1531.6 Q275.52 1538.71 277.326 1542.27 Q279.155 1545.82 282.766 1545.82 Q286.4 1545.82 288.206 1542.27 Q290.034 1538.71 290.034 1531.6 Q290.034 1524.47 288.206 1520.93 Q286.4 1517.37 282.766 1517.37 M282.766 1513.66 Q288.576 1513.66 291.632 1518.27 Q294.71 1522.85 294.71 1531.6 Q294.71 1540.33 291.632 1544.94 Q288.576 1549.52 282.766 1549.52 Q276.956 1549.52 273.877 1544.94 Q270.821 1540.33 270.821 1531.6 Q270.821 1522.85 273.877 1518.27 Q276.956 1513.66 282.766 1513.66 Z\" fill=\"#000000\" fill-rule=\"evenodd\" fill-opacity=\"1\" /><path clip-path=\"url(#clip000)\" d=\"M302.928 1542.97 L307.812 1542.97 L307.812 1548.85 L302.928 1548.85 L302.928 1542.97 Z\" fill=\"#000000\" fill-rule=\"evenodd\" fill-opacity=\"1\" /><path clip-path=\"url(#clip000)\" d=\"M327.997 1517.37 Q324.386 1517.37 322.557 1520.93 Q320.752 1524.47 320.752 1531.6 Q320.752 1538.71 322.557 1542.27 Q324.386 1545.82 327.997 1545.82 Q331.631 1545.82 333.437 1542.27 Q335.266 1538.71 335.266 1531.6 Q335.266 1524.47 333.437 1520.93 Q331.631 1517.37 327.997 1517.37 M327.997 1513.66 Q333.807 1513.66 336.863 1518.27 Q339.941 1522.85 339.941 1531.6 Q339.941 1540.33 336.863 1544.94 Q333.807 1549.52 327.997 1549.52 Q322.187 1549.52 319.108 1544.94 Q316.053 1540.33 316.053 1531.6 Q316.053 1522.85 319.108 1518.27 Q322.187 1513.66 327.997 1513.66 Z\" fill=\"#000000\" fill-rule=\"evenodd\" fill-opacity=\"1\" /><path clip-path=\"url(#clip000)\" d=\"M358.159 1517.37 Q354.548 1517.37 352.719 1520.93 Q350.914 1524.47 350.914 1531.6 Q350.914 1538.71 352.719 1542.27 Q354.548 1545.82 358.159 1545.82 Q361.793 1545.82 363.599 1542.27 Q365.427 1538.71 365.427 1531.6 Q365.427 1524.47 363.599 1520.93 Q361.793 1517.37 358.159 1517.37 M358.159 1513.66 Q363.969 1513.66 367.025 1518.27 Q370.103 1522.85 370.103 1531.6 Q370.103 1540.33 367.025 1544.94 Q363.969 1549.52 358.159 1549.52 Q352.349 1549.52 349.27 1544.94 Q346.215 1540.33 346.215 1531.6 Q346.215 1522.85 349.27 1518.27 Q352.349 1513.66 358.159 1513.66 Z\" fill=\"#000000\" fill-rule=\"evenodd\" fill-opacity=\"1\" /><path clip-path=\"url(#clip000)\" d=\"M761.765 1517.37 Q758.154 1517.37 756.326 1520.93 Q754.52 1524.47 754.52 1531.6 Q754.52 1538.71 756.326 1542.27 Q758.154 1545.82 761.765 1545.82 Q765.4 1545.82 767.205 1542.27 Q769.034 1538.71 769.034 1531.6 Q769.034 1524.47 767.205 1520.93 Q765.4 1517.37 761.765 1517.37 M761.765 1513.66 Q767.576 1513.66 770.631 1518.27 Q773.71 1522.85 773.71 1531.6 Q773.71 1540.33 770.631 1544.94 Q767.576 1549.52 761.765 1549.52 Q755.955 1549.52 752.877 1544.94 Q749.821 1540.33 749.821 1531.6 Q749.821 1522.85 752.877 1518.27 Q755.955 1513.66 761.765 1513.66 Z\" fill=\"#000000\" fill-rule=\"evenodd\" fill-opacity=\"1\" /><path clip-path=\"url(#clip000)\" d=\"M781.927 1542.97 L786.812 1542.97 L786.812 1548.85 L781.927 1548.85 L781.927 1542.97 Z\" fill=\"#000000\" fill-rule=\"evenodd\" fill-opacity=\"1\" /><path clip-path=\"url(#clip000)\" d=\"M801.025 1544.91 L817.344 1544.91 L817.344 1548.85 L795.4 1548.85 L795.4 1544.91 Q798.062 1542.16 802.645 1537.53 Q807.251 1532.88 808.432 1531.53 Q810.677 1529.01 811.557 1527.27 Q812.46 1525.51 812.46 1523.82 Q812.46 1521.07 810.515 1519.33 Q808.594 1517.6 805.492 1517.6 Q803.293 1517.6 800.839 1518.36 Q798.409 1519.13 795.631 1520.68 L795.631 1515.95 Q798.455 1514.82 800.909 1514.24 Q803.362 1513.66 805.399 1513.66 Q810.77 1513.66 813.964 1516.35 Q817.159 1519.03 817.159 1523.52 Q817.159 1525.65 816.349 1527.57 Q815.561 1529.47 813.455 1532.07 Q812.876 1532.74 809.774 1535.95 Q806.673 1539.15 801.025 1544.91 Z\" fill=\"#000000\" fill-rule=\"evenodd\" fill-opacity=\"1\" /><path clip-path=\"url(#clip000)\" d=\"M827.205 1514.29 L845.561 1514.29 L845.561 1518.22 L831.487 1518.22 L831.487 1526.7 Q832.506 1526.35 833.524 1526.19 Q834.543 1526 835.561 1526 Q841.348 1526 844.728 1529.17 Q848.108 1532.34 848.108 1537.76 Q848.108 1543.34 844.635 1546.44 Q841.163 1549.52 834.844 1549.52 Q832.668 1549.52 830.399 1549.15 Q828.154 1548.78 825.747 1548.04 L825.747 1543.34 Q827.83 1544.47 830.052 1545.03 Q832.274 1545.58 834.751 1545.58 Q838.756 1545.58 841.094 1543.48 Q843.432 1541.37 843.432 1537.76 Q843.432 1534.15 841.094 1532.04 Q838.756 1529.94 834.751 1529.94 Q832.876 1529.94 831.001 1530.35 Q829.149 1530.77 827.205 1531.65 L827.205 1514.29 Z\" fill=\"#000000\" fill-rule=\"evenodd\" fill-opacity=\"1\" /><path clip-path=\"url(#clip000)\" d=\"M1239.77 1517.37 Q1236.16 1517.37 1234.33 1520.93 Q1232.52 1524.47 1232.52 1531.6 Q1232.52 1538.71 1234.33 1542.27 Q1236.16 1545.82 1239.77 1545.82 Q1243.4 1545.82 1245.21 1542.27 Q1247.04 1538.71 1247.04 1531.6 Q1247.04 1524.47 1245.21 1520.93 Q1243.4 1517.37 1239.77 1517.37 M1239.77 1513.66 Q1245.58 1513.66 1248.64 1518.27 Q1251.71 1522.85 1251.71 1531.6 Q1251.71 1540.33 1248.64 1544.94 Q1245.58 1549.52 1239.77 1549.52 Q1233.96 1549.52 1230.88 1544.94 Q1227.83 1540.33 1227.83 1531.6 Q1227.83 1522.85 1230.88 1518.27 Q1233.96 1513.66 1239.77 1513.66 Z\" fill=\"#000000\" fill-rule=\"evenodd\" fill-opacity=\"1\" /><path clip-path=\"url(#clip000)\" d=\"M1259.93 1542.97 L1264.82 1542.97 L1264.82 1548.85 L1259.93 1548.85 L1259.93 1542.97 Z\" fill=\"#000000\" fill-rule=\"evenodd\" fill-opacity=\"1\" /><path clip-path=\"url(#clip000)\" d=\"M1275.05 1514.29 L1293.4 1514.29 L1293.4 1518.22 L1279.33 1518.22 L1279.33 1526.7 Q1280.35 1526.35 1281.37 1526.19 Q1282.39 1526 1283.4 1526 Q1289.19 1526 1292.57 1529.17 Q1295.95 1532.34 1295.95 1537.76 Q1295.95 1543.34 1292.48 1546.44 Q1289.01 1549.52 1282.69 1549.52 Q1280.51 1549.52 1278.24 1549.15 Q1276 1548.78 1273.59 1548.04 L1273.59 1543.34 Q1275.67 1544.47 1277.89 1545.03 Q1280.12 1545.58 1282.59 1545.58 Q1286.6 1545.58 1288.94 1543.48 Q1291.27 1541.37 1291.27 1537.76 Q1291.27 1534.15 1288.94 1532.04 Q1286.6 1529.94 1282.59 1529.94 Q1280.72 1529.94 1278.84 1530.35 Q1276.99 1530.77 1275.05 1531.65 L1275.05 1514.29 Z\" fill=\"#000000\" fill-rule=\"evenodd\" fill-opacity=\"1\" /><path clip-path=\"url(#clip000)\" d=\"M1315.16 1517.37 Q1311.55 1517.37 1309.72 1520.93 Q1307.92 1524.47 1307.92 1531.6 Q1307.92 1538.71 1309.72 1542.27 Q1311.55 1545.82 1315.16 1545.82 Q1318.8 1545.82 1320.6 1542.27 Q1322.43 1538.71 1322.43 1531.6 Q1322.43 1524.47 1320.6 1520.93 Q1318.8 1517.37 1315.16 1517.37 M1315.16 1513.66 Q1320.97 1513.66 1324.03 1518.27 Q1327.11 1522.85 1327.11 1531.6 Q1327.11 1540.33 1324.03 1544.94 Q1320.97 1549.52 1315.16 1549.52 Q1309.35 1549.52 1306.27 1544.94 Q1303.22 1540.33 1303.22 1531.6 Q1303.22 1522.85 1306.27 1518.27 Q1309.35 1513.66 1315.16 1513.66 Z\" fill=\"#000000\" fill-rule=\"evenodd\" fill-opacity=\"1\" /><path clip-path=\"url(#clip000)\" d=\"M1718.77 1517.37 Q1715.16 1517.37 1713.33 1520.93 Q1711.52 1524.47 1711.52 1531.6 Q1711.52 1538.71 1713.33 1542.27 Q1715.16 1545.82 1718.77 1545.82 Q1722.4 1545.82 1724.21 1542.27 Q1726.04 1538.71 1726.04 1531.6 Q1726.04 1524.47 1724.21 1520.93 Q1722.4 1517.37 1718.77 1517.37 M1718.77 1513.66 Q1724.58 1513.66 1727.64 1518.27 Q1730.71 1522.85 1730.71 1531.6 Q1730.71 1540.33 1727.64 1544.94 Q1724.58 1549.52 1718.77 1549.52 Q1712.96 1549.52 1709.88 1544.94 Q1706.83 1540.33 1706.83 1531.6 Q1706.83 1522.85 1709.88 1518.27 Q1712.96 1513.66 1718.77 1513.66 Z\" fill=\"#000000\" fill-rule=\"evenodd\" fill-opacity=\"1\" /><path clip-path=\"url(#clip000)\" d=\"M1738.93 1542.97 L1743.82 1542.97 L1743.82 1548.85 L1738.93 1548.85 L1738.93 1542.97 Z\" fill=\"#000000\" fill-rule=\"evenodd\" fill-opacity=\"1\" /><path clip-path=\"url(#clip000)\" d=\"M1752.82 1514.29 L1775.04 1514.29 L1775.04 1516.28 L1762.5 1548.85 L1757.61 1548.85 L1769.42 1518.22 L1752.82 1518.22 L1752.82 1514.29 Z\" fill=\"#000000\" fill-rule=\"evenodd\" fill-opacity=\"1\" /><path clip-path=\"url(#clip000)\" d=\"M1784.21 1514.29 L1802.57 1514.29 L1802.57 1518.22 L1788.49 1518.22 L1788.49 1526.7 Q1789.51 1526.35 1790.53 1526.19 Q1791.55 1526 1792.57 1526 Q1798.35 1526 1801.73 1529.17 Q1805.11 1532.34 1805.11 1537.76 Q1805.11 1543.34 1801.64 1546.44 Q1798.17 1549.52 1791.85 1549.52 Q1789.67 1549.52 1787.4 1549.15 Q1785.16 1548.78 1782.75 1548.04 L1782.75 1543.34 Q1784.83 1544.47 1787.06 1545.03 Q1789.28 1545.58 1791.76 1545.58 Q1795.76 1545.58 1798.1 1543.48 Q1800.44 1541.37 1800.44 1537.76 Q1800.44 1534.15 1798.1 1532.04 Q1795.76 1529.94 1791.76 1529.94 Q1789.88 1529.94 1788.01 1530.35 Q1786.15 1530.77 1784.21 1531.65 L1784.21 1514.29 Z\" fill=\"#000000\" fill-rule=\"evenodd\" fill-opacity=\"1\" /><path clip-path=\"url(#clip000)\" d=\"M2186.54 1544.91 L2194.18 1544.91 L2194.18 1518.55 L2185.87 1520.21 L2185.87 1515.95 L2194.13 1514.29 L2198.81 1514.29 L2198.81 1544.91 L2206.45 1544.91 L2206.45 1548.85 L2186.54 1548.85 L2186.54 1544.91 Z\" fill=\"#000000\" fill-rule=\"evenodd\" fill-opacity=\"1\" /><path clip-path=\"url(#clip000)\" d=\"M2215.89 1542.97 L2220.78 1542.97 L2220.78 1548.85 L2215.89 1548.85 L2215.89 1542.97 Z\" fill=\"#000000\" fill-rule=\"evenodd\" fill-opacity=\"1\" /><path clip-path=\"url(#clip000)\" d=\"M2240.96 1517.37 Q2237.35 1517.37 2235.52 1520.93 Q2233.72 1524.47 2233.72 1531.6 Q2233.72 1538.71 2235.52 1542.27 Q2237.35 1545.82 2240.96 1545.82 Q2244.6 1545.82 2246.4 1542.27 Q2248.23 1538.71 2248.23 1531.6 Q2248.23 1524.47 2246.4 1520.93 Q2244.6 1517.37 2240.96 1517.37 M2240.96 1513.66 Q2246.77 1513.66 2249.83 1518.27 Q2252.91 1522.85 2252.91 1531.6 Q2252.91 1540.33 2249.83 1544.94 Q2246.77 1549.52 2240.96 1549.52 Q2235.15 1549.52 2232.07 1544.94 Q2229.02 1540.33 2229.02 1531.6 Q2229.02 1522.85 2232.07 1518.27 Q2235.15 1513.66 2240.96 1513.66 Z\" fill=\"#000000\" fill-rule=\"evenodd\" fill-opacity=\"1\" /><path clip-path=\"url(#clip000)\" d=\"M2271.13 1517.37 Q2267.51 1517.37 2265.69 1520.93 Q2263.88 1524.47 2263.88 1531.6 Q2263.88 1538.71 2265.69 1542.27 Q2267.51 1545.82 2271.13 1545.82 Q2274.76 1545.82 2276.56 1542.27 Q2278.39 1538.71 2278.39 1531.6 Q2278.39 1524.47 2276.56 1520.93 Q2274.76 1517.37 2271.13 1517.37 M2271.13 1513.66 Q2276.94 1513.66 2279.99 1518.27 Q2283.07 1522.85 2283.07 1531.6 Q2283.07 1540.33 2279.99 1544.94 Q2276.94 1549.52 2271.13 1549.52 Q2265.31 1549.52 2262.24 1544.94 Q2259.18 1540.33 2259.18 1531.6 Q2259.18 1522.85 2262.24 1518.27 Q2265.31 1513.66 2271.13 1513.66 Z\" fill=\"#000000\" fill-rule=\"evenodd\" fill-opacity=\"1\" /><polyline clip-path=\"url(#clip002)\" style=\"stroke:#000000; stroke-linecap:round; stroke-linejoin:round; stroke-width:2; stroke-opacity:0.1; fill:none\" points=\"\n",
       "  202.177,1445.72 2352.76,1445.72 \n",
       "  \"/>\n",
       "<polyline clip-path=\"url(#clip002)\" style=\"stroke:#000000; stroke-linecap:round; stroke-linejoin:round; stroke-width:2; stroke-opacity:0.1; fill:none\" points=\"\n",
       "  202.177,1122.44 2352.76,1122.44 \n",
       "  \"/>\n",
       "<polyline clip-path=\"url(#clip002)\" style=\"stroke:#000000; stroke-linecap:round; stroke-linejoin:round; stroke-width:2; stroke-opacity:0.1; fill:none\" points=\"\n",
       "  202.177,799.173 2352.76,799.173 \n",
       "  \"/>\n",
       "<polyline clip-path=\"url(#clip002)\" style=\"stroke:#000000; stroke-linecap:round; stroke-linejoin:round; stroke-width:2; stroke-opacity:0.1; fill:none\" points=\"\n",
       "  202.177,475.902 2352.76,475.902 \n",
       "  \"/>\n",
       "<polyline clip-path=\"url(#clip002)\" style=\"stroke:#000000; stroke-linecap:round; stroke-linejoin:round; stroke-width:2; stroke-opacity:0.1; fill:none\" points=\"\n",
       "  202.177,152.631 2352.76,152.631 \n",
       "  \"/>\n",
       "<polyline clip-path=\"url(#clip000)\" style=\"stroke:#000000; stroke-linecap:round; stroke-linejoin:round; stroke-width:4; stroke-opacity:1; fill:none\" points=\"\n",
       "  202.177,1486.45 202.177,47.2441 \n",
       "  \"/>\n",
       "<polyline clip-path=\"url(#clip000)\" style=\"stroke:#000000; stroke-linecap:round; stroke-linejoin:round; stroke-width:4; stroke-opacity:1; fill:none\" points=\"\n",
       "  202.177,1445.72 221.074,1445.72 \n",
       "  \"/>\n",
       "<polyline clip-path=\"url(#clip000)\" style=\"stroke:#000000; stroke-linecap:round; stroke-linejoin:round; stroke-width:4; stroke-opacity:1; fill:none\" points=\"\n",
       "  202.177,1122.44 221.074,1122.44 \n",
       "  \"/>\n",
       "<polyline clip-path=\"url(#clip000)\" style=\"stroke:#000000; stroke-linecap:round; stroke-linejoin:round; stroke-width:4; stroke-opacity:1; fill:none\" points=\"\n",
       "  202.177,799.173 221.074,799.173 \n",
       "  \"/>\n",
       "<polyline clip-path=\"url(#clip000)\" style=\"stroke:#000000; stroke-linecap:round; stroke-linejoin:round; stroke-width:4; stroke-opacity:1; fill:none\" points=\"\n",
       "  202.177,475.902 221.074,475.902 \n",
       "  \"/>\n",
       "<polyline clip-path=\"url(#clip000)\" style=\"stroke:#000000; stroke-linecap:round; stroke-linejoin:round; stroke-width:4; stroke-opacity:1; fill:none\" points=\"\n",
       "  202.177,152.631 221.074,152.631 \n",
       "  \"/>\n",
       "<path clip-path=\"url(#clip000)\" d=\"M154.232 1431.51 Q150.621 1431.51 148.793 1435.08 Q146.987 1438.62 146.987 1445.75 Q146.987 1452.86 148.793 1456.42 Q150.621 1459.96 154.232 1459.96 Q157.867 1459.96 159.672 1456.42 Q161.501 1452.86 161.501 1445.75 Q161.501 1438.62 159.672 1435.08 Q157.867 1431.51 154.232 1431.51 M154.232 1427.81 Q160.042 1427.81 163.098 1432.42 Q166.177 1437 166.177 1445.75 Q166.177 1454.48 163.098 1459.08 Q160.042 1463.67 154.232 1463.67 Q148.422 1463.67 145.343 1459.08 Q142.288 1454.48 142.288 1445.75 Q142.288 1437 145.343 1432.42 Q148.422 1427.81 154.232 1427.81 Z\" fill=\"#000000\" fill-rule=\"evenodd\" fill-opacity=\"1\" /><path clip-path=\"url(#clip000)\" d=\"M57.7745 1135.79 L74.0939 1135.79 L74.0939 1139.72 L52.1495 1139.72 L52.1495 1135.79 Q54.8115 1133.03 59.3949 1128.41 Q64.0013 1123.75 65.1819 1122.41 Q67.4272 1119.89 68.3068 1118.15 Q69.2096 1116.39 69.2096 1114.7 Q69.2096 1111.95 67.2652 1110.21 Q65.3439 1108.47 62.2421 1108.47 Q60.043 1108.47 57.5893 1109.24 Q55.1588 1110 52.381 1111.55 L52.381 1106.83 Q55.2051 1105.7 57.6588 1105.12 Q60.1124 1104.54 62.1495 1104.54 Q67.5198 1104.54 70.7142 1107.22 Q73.9087 1109.91 73.9087 1114.4 Q73.9087 1116.53 73.0985 1118.45 Q72.3115 1120.35 70.205 1122.94 Q69.6263 1123.61 66.5245 1126.83 Q63.4226 1130.03 57.7745 1135.79 Z\" fill=\"#000000\" fill-rule=\"evenodd\" fill-opacity=\"1\" /><path clip-path=\"url(#clip000)\" d=\"M93.9086 1108.24 Q90.2975 1108.24 88.4688 1111.81 Q86.6632 1115.35 86.6632 1122.48 Q86.6632 1129.59 88.4688 1133.15 Q90.2975 1136.69 93.9086 1136.69 Q97.5428 1136.69 99.3483 1133.15 Q101.177 1129.59 101.177 1122.48 Q101.177 1115.35 99.3483 1111.81 Q97.5428 1108.24 93.9086 1108.24 M93.9086 1104.54 Q99.7187 1104.54 102.774 1109.15 Q105.853 1113.73 105.853 1122.48 Q105.853 1131.21 102.774 1135.81 Q99.7187 1140.4 93.9086 1140.4 Q88.0984 1140.4 85.0197 1135.81 Q81.9642 1131.21 81.9642 1122.48 Q81.9642 1113.73 85.0197 1109.15 Q88.0984 1104.54 93.9086 1104.54 Z\" fill=\"#000000\" fill-rule=\"evenodd\" fill-opacity=\"1\" /><path clip-path=\"url(#clip000)\" d=\"M124.07 1108.24 Q120.459 1108.24 118.631 1111.81 Q116.825 1115.35 116.825 1122.48 Q116.825 1129.59 118.631 1133.15 Q120.459 1136.69 124.07 1136.69 Q127.705 1136.69 129.51 1133.15 Q131.339 1129.59 131.339 1122.48 Q131.339 1115.35 129.51 1111.81 Q127.705 1108.24 124.07 1108.24 M124.07 1104.54 Q129.881 1104.54 132.936 1109.15 Q136.015 1113.73 136.015 1122.48 Q136.015 1131.21 132.936 1135.81 Q129.881 1140.4 124.07 1140.4 Q118.26 1140.4 115.182 1135.81 Q112.126 1131.21 112.126 1122.48 Q112.126 1113.73 115.182 1109.15 Q118.26 1104.54 124.07 1104.54 Z\" fill=\"#000000\" fill-rule=\"evenodd\" fill-opacity=\"1\" /><path clip-path=\"url(#clip000)\" d=\"M154.232 1108.24 Q150.621 1108.24 148.793 1111.81 Q146.987 1115.35 146.987 1122.48 Q146.987 1129.59 148.793 1133.15 Q150.621 1136.69 154.232 1136.69 Q157.867 1136.69 159.672 1133.15 Q161.501 1129.59 161.501 1122.48 Q161.501 1115.35 159.672 1111.81 Q157.867 1108.24 154.232 1108.24 M154.232 1104.54 Q160.042 1104.54 163.098 1109.15 Q166.177 1113.73 166.177 1122.48 Q166.177 1131.21 163.098 1135.81 Q160.042 1140.4 154.232 1140.4 Q148.422 1140.4 145.343 1135.81 Q142.288 1131.21 142.288 1122.48 Q142.288 1113.73 145.343 1109.15 Q148.422 1104.54 154.232 1104.54 Z\" fill=\"#000000\" fill-rule=\"evenodd\" fill-opacity=\"1\" /><path clip-path=\"url(#clip000)\" d=\"M66.5939 785.967 L54.7884 804.416 L66.5939 804.416 L66.5939 785.967 M65.367 781.893 L71.2466 781.893 L71.2466 804.416 L76.1772 804.416 L76.1772 808.305 L71.2466 808.305 L71.2466 816.453 L66.5939 816.453 L66.5939 808.305 L50.9921 808.305 L50.9921 803.791 L65.367 781.893 Z\" fill=\"#000000\" fill-rule=\"evenodd\" fill-opacity=\"1\" /><path clip-path=\"url(#clip000)\" d=\"M93.9086 784.972 Q90.2975 784.972 88.4688 788.537 Q86.6632 792.078 86.6632 799.208 Q86.6632 806.314 88.4688 809.879 Q90.2975 813.421 93.9086 813.421 Q97.5428 813.421 99.3483 809.879 Q101.177 806.314 101.177 799.208 Q101.177 792.078 99.3483 788.537 Q97.5428 784.972 93.9086 784.972 M93.9086 781.268 Q99.7187 781.268 102.774 785.875 Q105.853 790.458 105.853 799.208 Q105.853 807.935 102.774 812.541 Q99.7187 817.124 93.9086 817.124 Q88.0984 817.124 85.0197 812.541 Q81.9642 807.935 81.9642 799.208 Q81.9642 790.458 85.0197 785.875 Q88.0984 781.268 93.9086 781.268 Z\" fill=\"#000000\" fill-rule=\"evenodd\" fill-opacity=\"1\" /><path clip-path=\"url(#clip000)\" d=\"M124.07 784.972 Q120.459 784.972 118.631 788.537 Q116.825 792.078 116.825 799.208 Q116.825 806.314 118.631 809.879 Q120.459 813.421 124.07 813.421 Q127.705 813.421 129.51 809.879 Q131.339 806.314 131.339 799.208 Q131.339 792.078 129.51 788.537 Q127.705 784.972 124.07 784.972 M124.07 781.268 Q129.881 781.268 132.936 785.875 Q136.015 790.458 136.015 799.208 Q136.015 807.935 132.936 812.541 Q129.881 817.124 124.07 817.124 Q118.26 817.124 115.182 812.541 Q112.126 807.935 112.126 799.208 Q112.126 790.458 115.182 785.875 Q118.26 781.268 124.07 781.268 Z\" fill=\"#000000\" fill-rule=\"evenodd\" fill-opacity=\"1\" /><path clip-path=\"url(#clip000)\" d=\"M154.232 784.972 Q150.621 784.972 148.793 788.537 Q146.987 792.078 146.987 799.208 Q146.987 806.314 148.793 809.879 Q150.621 813.421 154.232 813.421 Q157.867 813.421 159.672 809.879 Q161.501 806.314 161.501 799.208 Q161.501 792.078 159.672 788.537 Q157.867 784.972 154.232 784.972 M154.232 781.268 Q160.042 781.268 163.098 785.875 Q166.177 790.458 166.177 799.208 Q166.177 807.935 163.098 812.541 Q160.042 817.124 154.232 817.124 Q148.422 817.124 145.343 812.541 Q142.288 807.935 142.288 799.208 Q142.288 790.458 145.343 785.875 Q148.422 781.268 154.232 781.268 Z\" fill=\"#000000\" fill-rule=\"evenodd\" fill-opacity=\"1\" /><path clip-path=\"url(#clip000)\" d=\"M64.3254 474.038 Q61.1773 474.038 59.3254 476.191 Q57.4967 478.344 57.4967 482.094 Q57.4967 485.821 59.3254 487.997 Q61.1773 490.149 64.3254 490.149 Q67.4735 490.149 69.3022 487.997 Q71.1541 485.821 71.1541 482.094 Q71.1541 478.344 69.3022 476.191 Q67.4735 474.038 64.3254 474.038 M73.6077 459.386 L73.6077 463.645 Q71.8485 462.812 70.0429 462.372 Q68.2606 461.932 66.5013 461.932 Q61.8717 461.932 59.418 465.057 Q56.9875 468.182 56.6402 474.501 Q58.006 472.487 60.0662 471.423 Q62.1263 470.335 64.6032 470.335 Q69.8115 470.335 72.8207 473.506 Q75.8531 476.654 75.8531 482.094 Q75.8531 487.418 72.705 490.636 Q69.5568 493.853 64.3254 493.853 Q58.33 493.853 55.1588 489.27 Q51.9875 484.663 51.9875 475.937 Q51.9875 467.742 55.8764 462.881 Q59.7652 457.997 66.3161 457.997 Q68.0754 457.997 69.8578 458.344 Q71.6633 458.691 73.6077 459.386 Z\" fill=\"#000000\" fill-rule=\"evenodd\" fill-opacity=\"1\" /><path clip-path=\"url(#clip000)\" d=\"M93.9086 461.701 Q90.2975 461.701 88.4688 465.265 Q86.6632 468.807 86.6632 475.937 Q86.6632 483.043 88.4688 486.608 Q90.2975 490.149 93.9086 490.149 Q97.5428 490.149 99.3483 486.608 Q101.177 483.043 101.177 475.937 Q101.177 468.807 99.3483 465.265 Q97.5428 461.701 93.9086 461.701 M93.9086 457.997 Q99.7187 457.997 102.774 462.603 Q105.853 467.187 105.853 475.937 Q105.853 484.663 102.774 489.27 Q99.7187 493.853 93.9086 493.853 Q88.0984 493.853 85.0197 489.27 Q81.9642 484.663 81.9642 475.937 Q81.9642 467.187 85.0197 462.603 Q88.0984 457.997 93.9086 457.997 Z\" fill=\"#000000\" fill-rule=\"evenodd\" fill-opacity=\"1\" /><path clip-path=\"url(#clip000)\" d=\"M124.07 461.701 Q120.459 461.701 118.631 465.265 Q116.825 468.807 116.825 475.937 Q116.825 483.043 118.631 486.608 Q120.459 490.149 124.07 490.149 Q127.705 490.149 129.51 486.608 Q131.339 483.043 131.339 475.937 Q131.339 468.807 129.51 465.265 Q127.705 461.701 124.07 461.701 M124.07 457.997 Q129.881 457.997 132.936 462.603 Q136.015 467.187 136.015 475.937 Q136.015 484.663 132.936 489.27 Q129.881 493.853 124.07 493.853 Q118.26 493.853 115.182 489.27 Q112.126 484.663 112.126 475.937 Q112.126 467.187 115.182 462.603 Q118.26 457.997 124.07 457.997 Z\" fill=\"#000000\" fill-rule=\"evenodd\" fill-opacity=\"1\" /><path clip-path=\"url(#clip000)\" d=\"M154.232 461.701 Q150.621 461.701 148.793 465.265 Q146.987 468.807 146.987 475.937 Q146.987 483.043 148.793 486.608 Q150.621 490.149 154.232 490.149 Q157.867 490.149 159.672 486.608 Q161.501 483.043 161.501 475.937 Q161.501 468.807 159.672 465.265 Q157.867 461.701 154.232 461.701 M154.232 457.997 Q160.042 457.997 163.098 462.603 Q166.177 467.187 166.177 475.937 Q166.177 484.663 163.098 489.27 Q160.042 493.853 154.232 493.853 Q148.422 493.853 145.343 489.27 Q142.288 484.663 142.288 475.937 Q142.288 467.187 145.343 462.603 Q148.422 457.997 154.232 457.997 Z\" fill=\"#000000\" fill-rule=\"evenodd\" fill-opacity=\"1\" /><path clip-path=\"url(#clip000)\" d=\"M63.7467 153.499 Q60.4134 153.499 58.4921 155.281 Q56.5939 157.063 56.5939 160.188 Q56.5939 163.313 58.4921 165.096 Q60.4134 166.878 63.7467 166.878 Q67.08 166.878 69.0013 165.096 Q70.9226 163.29 70.9226 160.188 Q70.9226 157.063 69.0013 155.281 Q67.1032 153.499 63.7467 153.499 M59.0708 151.508 Q56.0615 150.767 54.3717 148.707 Q52.7051 146.647 52.7051 143.684 Q52.7051 139.54 55.6449 137.133 Q58.6078 134.726 63.7467 134.726 Q68.9087 134.726 71.8485 137.133 Q74.7883 139.54 74.7883 143.684 Q74.7883 146.647 73.0985 148.707 Q71.4318 150.767 68.4457 151.508 Q71.8253 152.295 73.7003 154.587 Q75.5985 156.878 75.5985 160.188 Q75.5985 165.211 72.5198 167.897 Q69.4642 170.582 63.7467 170.582 Q58.0291 170.582 54.9504 167.897 Q51.8949 165.211 51.8949 160.188 Q51.8949 156.878 53.793 154.587 Q55.6912 152.295 59.0708 151.508 M57.3578 144.124 Q57.3578 146.809 59.0245 148.313 Q60.7143 149.818 63.7467 149.818 Q66.7559 149.818 68.4457 148.313 Q70.1587 146.809 70.1587 144.124 Q70.1587 141.438 68.4457 139.934 Q66.7559 138.429 63.7467 138.429 Q60.7143 138.429 59.0245 139.934 Q57.3578 141.438 57.3578 144.124 Z\" fill=\"#000000\" fill-rule=\"evenodd\" fill-opacity=\"1\" /><path clip-path=\"url(#clip000)\" d=\"M93.9086 138.429 Q90.2975 138.429 88.4688 141.994 Q86.6632 145.536 86.6632 152.665 Q86.6632 159.772 88.4688 163.336 Q90.2975 166.878 93.9086 166.878 Q97.5428 166.878 99.3483 163.336 Q101.177 159.772 101.177 152.665 Q101.177 145.536 99.3483 141.994 Q97.5428 138.429 93.9086 138.429 M93.9086 134.726 Q99.7187 134.726 102.774 139.332 Q105.853 143.915 105.853 152.665 Q105.853 161.392 102.774 165.999 Q99.7187 170.582 93.9086 170.582 Q88.0984 170.582 85.0197 165.999 Q81.9642 161.392 81.9642 152.665 Q81.9642 143.915 85.0197 139.332 Q88.0984 134.726 93.9086 134.726 Z\" fill=\"#000000\" fill-rule=\"evenodd\" fill-opacity=\"1\" /><path clip-path=\"url(#clip000)\" d=\"M124.07 138.429 Q120.459 138.429 118.631 141.994 Q116.825 145.536 116.825 152.665 Q116.825 159.772 118.631 163.336 Q120.459 166.878 124.07 166.878 Q127.705 166.878 129.51 163.336 Q131.339 159.772 131.339 152.665 Q131.339 145.536 129.51 141.994 Q127.705 138.429 124.07 138.429 M124.07 134.726 Q129.881 134.726 132.936 139.332 Q136.015 143.915 136.015 152.665 Q136.015 161.392 132.936 165.999 Q129.881 170.582 124.07 170.582 Q118.26 170.582 115.182 165.999 Q112.126 161.392 112.126 152.665 Q112.126 143.915 115.182 139.332 Q118.26 134.726 124.07 134.726 Z\" fill=\"#000000\" fill-rule=\"evenodd\" fill-opacity=\"1\" /><path clip-path=\"url(#clip000)\" d=\"M154.232 138.429 Q150.621 138.429 148.793 141.994 Q146.987 145.536 146.987 152.665 Q146.987 159.772 148.793 163.336 Q150.621 166.878 154.232 166.878 Q157.867 166.878 159.672 163.336 Q161.501 159.772 161.501 152.665 Q161.501 145.536 159.672 141.994 Q157.867 138.429 154.232 138.429 M154.232 134.726 Q160.042 134.726 163.098 139.332 Q166.177 143.915 166.177 152.665 Q166.177 161.392 163.098 165.999 Q160.042 170.582 154.232 170.582 Q148.422 170.582 145.343 165.999 Q142.288 161.392 142.288 152.665 Q142.288 143.915 145.343 139.332 Q148.422 134.726 154.232 134.726 Z\" fill=\"#000000\" fill-rule=\"evenodd\" fill-opacity=\"1\" /><path clip-path=\"url(#clip002)\" d=\"\n",
       "M320.462 1409.02 L320.462 1445.72 L416.163 1445.72 L416.163 1409.02 L320.462 1409.02 L320.462 1409.02  Z\n",
       "  \" fill=\"#009af9\" fill-rule=\"evenodd\" fill-opacity=\"1\"/>\n",
       "<polyline clip-path=\"url(#clip002)\" style=\"stroke:#000000; stroke-linecap:round; stroke-linejoin:round; stroke-width:4; stroke-opacity:1; fill:none\" points=\"\n",
       "  320.462,1409.02 320.462,1445.72 416.163,1445.72 416.163,1409.02 320.462,1409.02 \n",
       "  \"/>\n",
       "<path clip-path=\"url(#clip002)\" d=\"\n",
       "M416.163 1369.91 L416.163 1445.72 L511.863 1445.72 L511.863 1369.91 L416.163 1369.91 L416.163 1369.91  Z\n",
       "  \" fill=\"#009af9\" fill-rule=\"evenodd\" fill-opacity=\"1\"/>\n",
       "<polyline clip-path=\"url(#clip002)\" style=\"stroke:#000000; stroke-linecap:round; stroke-linejoin:round; stroke-width:4; stroke-opacity:1; fill:none\" points=\"\n",
       "  416.163,1369.91 416.163,1445.72 511.863,1445.72 511.863,1369.91 416.163,1369.91 \n",
       "  \"/>\n",
       "<path clip-path=\"url(#clip002)\" d=\"\n",
       "M511.863 1369.91 L511.863 1445.72 L607.564 1445.72 L607.564 1369.91 L511.863 1369.91 L511.863 1369.91  Z\n",
       "  \" fill=\"#009af9\" fill-rule=\"evenodd\" fill-opacity=\"1\"/>\n",
       "<polyline clip-path=\"url(#clip002)\" style=\"stroke:#000000; stroke-linecap:round; stroke-linejoin:round; stroke-width:4; stroke-opacity:1; fill:none\" points=\"\n",
       "  511.863,1369.91 511.863,1445.72 607.564,1445.72 607.564,1369.91 511.863,1369.91 \n",
       "  \"/>\n",
       "<path clip-path=\"url(#clip002)\" d=\"\n",
       "M607.564 1331.76 L607.564 1445.72 L703.264 1445.72 L703.264 1331.76 L607.564 1331.76 L607.564 1331.76  Z\n",
       "  \" fill=\"#009af9\" fill-rule=\"evenodd\" fill-opacity=\"1\"/>\n",
       "<polyline clip-path=\"url(#clip002)\" style=\"stroke:#000000; stroke-linecap:round; stroke-linejoin:round; stroke-width:4; stroke-opacity:1; fill:none\" points=\"\n",
       "  607.564,1331.76 607.564,1445.72 703.264,1445.72 703.264,1331.76 607.564,1331.76 \n",
       "  \"/>\n",
       "<path clip-path=\"url(#clip002)\" d=\"\n",
       "M703.264 1411.29 L703.264 1445.72 L798.964 1445.72 L798.964 1411.29 L703.264 1411.29 L703.264 1411.29  Z\n",
       "  \" fill=\"#009af9\" fill-rule=\"evenodd\" fill-opacity=\"1\"/>\n",
       "<polyline clip-path=\"url(#clip002)\" style=\"stroke:#000000; stroke-linecap:round; stroke-linejoin:round; stroke-width:4; stroke-opacity:1; fill:none\" points=\"\n",
       "  703.264,1411.29 703.264,1445.72 798.964,1445.72 798.964,1411.29 703.264,1411.29 \n",
       "  \"/>\n",
       "<path clip-path=\"url(#clip002)\" d=\"\n",
       "M798.964 1408.38 L798.964 1445.72 L894.665 1445.72 L894.665 1408.38 L798.964 1408.38 L798.964 1408.38  Z\n",
       "  \" fill=\"#009af9\" fill-rule=\"evenodd\" fill-opacity=\"1\"/>\n",
       "<polyline clip-path=\"url(#clip002)\" style=\"stroke:#000000; stroke-linecap:round; stroke-linejoin:round; stroke-width:4; stroke-opacity:1; fill:none\" points=\"\n",
       "  798.964,1408.38 798.964,1445.72 894.665,1445.72 894.665,1408.38 798.964,1408.38 \n",
       "  \"/>\n",
       "<path clip-path=\"url(#clip002)\" d=\"\n",
       "M894.665 1238.01 L894.665 1445.72 L990.365 1445.72 L990.365 1238.01 L894.665 1238.01 L894.665 1238.01  Z\n",
       "  \" fill=\"#009af9\" fill-rule=\"evenodd\" fill-opacity=\"1\"/>\n",
       "<polyline clip-path=\"url(#clip002)\" style=\"stroke:#000000; stroke-linecap:round; stroke-linejoin:round; stroke-width:4; stroke-opacity:1; fill:none\" points=\"\n",
       "  894.665,1238.01 894.665,1445.72 990.365,1445.72 990.365,1238.01 894.665,1238.01 \n",
       "  \"/>\n",
       "<path clip-path=\"url(#clip002)\" d=\"\n",
       "M990.365 1435.21 L990.365 1445.72 L1086.07 1445.72 L1086.07 1435.21 L990.365 1435.21 L990.365 1435.21  Z\n",
       "  \" fill=\"#009af9\" fill-rule=\"evenodd\" fill-opacity=\"1\"/>\n",
       "<polyline clip-path=\"url(#clip002)\" style=\"stroke:#000000; stroke-linecap:round; stroke-linejoin:round; stroke-width:4; stroke-opacity:1; fill:none\" points=\"\n",
       "  990.365,1435.21 990.365,1445.72 1086.07,1445.72 1086.07,1435.21 990.365,1435.21 \n",
       "  \"/>\n",
       "<path clip-path=\"url(#clip002)\" d=\"\n",
       "M1086.07 1360.7 L1086.07 1445.72 L1181.77 1445.72 L1181.77 1360.7 L1086.07 1360.7 L1086.07 1360.7  Z\n",
       "  \" fill=\"#009af9\" fill-rule=\"evenodd\" fill-opacity=\"1\"/>\n",
       "<polyline clip-path=\"url(#clip002)\" style=\"stroke:#000000; stroke-linecap:round; stroke-linejoin:round; stroke-width:4; stroke-opacity:1; fill:none\" points=\"\n",
       "  1086.07,1360.7 1086.07,1445.72 1181.77,1445.72 1181.77,1360.7 1086.07,1360.7 \n",
       "  \"/>\n",
       "<path clip-path=\"url(#clip002)\" d=\"\n",
       "M1181.77 1430.68 L1181.77 1445.72 L1277.47 1445.72 L1277.47 1430.68 L1181.77 1430.68 L1181.77 1430.68  Z\n",
       "  \" fill=\"#009af9\" fill-rule=\"evenodd\" fill-opacity=\"1\"/>\n",
       "<polyline clip-path=\"url(#clip002)\" style=\"stroke:#000000; stroke-linecap:round; stroke-linejoin:round; stroke-width:4; stroke-opacity:1; fill:none\" points=\"\n",
       "  1181.77,1430.68 1181.77,1445.72 1277.47,1445.72 1277.47,1430.68 1181.77,1430.68 \n",
       "  \"/>\n",
       "<path clip-path=\"url(#clip002)\" d=\"\n",
       "M1277.47 1400.46 L1277.47 1445.72 L1373.17 1445.72 L1373.17 1400.46 L1277.47 1400.46 L1277.47 1400.46  Z\n",
       "  \" fill=\"#009af9\" fill-rule=\"evenodd\" fill-opacity=\"1\"/>\n",
       "<polyline clip-path=\"url(#clip002)\" style=\"stroke:#000000; stroke-linecap:round; stroke-linejoin:round; stroke-width:4; stroke-opacity:1; fill:none\" points=\"\n",
       "  1277.47,1400.46 1277.47,1445.72 1373.17,1445.72 1373.17,1400.46 1277.47,1400.46 \n",
       "  \"/>\n",
       "<path clip-path=\"url(#clip002)\" d=\"\n",
       "M1373.17 1427.77 L1373.17 1445.72 L1468.87 1445.72 L1468.87 1427.77 L1373.17 1427.77 L1373.17 1427.77  Z\n",
       "  \" fill=\"#009af9\" fill-rule=\"evenodd\" fill-opacity=\"1\"/>\n",
       "<polyline clip-path=\"url(#clip002)\" style=\"stroke:#000000; stroke-linecap:round; stroke-linejoin:round; stroke-width:4; stroke-opacity:1; fill:none\" points=\"\n",
       "  1373.17,1427.77 1373.17,1445.72 1468.87,1445.72 1468.87,1427.77 1373.17,1427.77 \n",
       "  \"/>\n",
       "<path clip-path=\"url(#clip002)\" d=\"\n",
       "M1468.87 1277.94 L1468.87 1445.72 L1564.57 1445.72 L1564.57 1277.94 L1468.87 1277.94 L1468.87 1277.94  Z\n",
       "  \" fill=\"#009af9\" fill-rule=\"evenodd\" fill-opacity=\"1\"/>\n",
       "<polyline clip-path=\"url(#clip002)\" style=\"stroke:#000000; stroke-linecap:round; stroke-linejoin:round; stroke-width:4; stroke-opacity:1; fill:none\" points=\"\n",
       "  1468.87,1277.94 1468.87,1445.72 1564.57,1445.72 1564.57,1277.94 1468.87,1277.94 \n",
       "  \"/>\n",
       "<path clip-path=\"url(#clip002)\" d=\"\n",
       "M1564.57 1434.4 L1564.57 1445.72 L1660.27 1445.72 L1660.27 1434.4 L1564.57 1434.4 L1564.57 1434.4  Z\n",
       "  \" fill=\"#009af9\" fill-rule=\"evenodd\" fill-opacity=\"1\"/>\n",
       "<polyline clip-path=\"url(#clip002)\" style=\"stroke:#000000; stroke-linecap:round; stroke-linejoin:round; stroke-width:4; stroke-opacity:1; fill:none\" points=\"\n",
       "  1564.57,1434.4 1564.57,1445.72 1660.27,1445.72 1660.27,1434.4 1564.57,1434.4 \n",
       "  \"/>\n",
       "<path clip-path=\"url(#clip002)\" d=\"\n",
       "M1660.27 1389.79 L1660.27 1445.72 L1755.97 1445.72 L1755.97 1389.79 L1660.27 1389.79 L1660.27 1389.79  Z\n",
       "  \" fill=\"#009af9\" fill-rule=\"evenodd\" fill-opacity=\"1\"/>\n",
       "<polyline clip-path=\"url(#clip002)\" style=\"stroke:#000000; stroke-linecap:round; stroke-linejoin:round; stroke-width:4; stroke-opacity:1; fill:none\" points=\"\n",
       "  1660.27,1389.79 1660.27,1445.72 1755.97,1445.72 1755.97,1389.79 1660.27,1389.79 \n",
       "  \"/>\n",
       "<path clip-path=\"url(#clip002)\" d=\"\n",
       "M1755.97 1364.9 L1755.97 1445.72 L1851.67 1445.72 L1851.67 1364.9 L1755.97 1364.9 L1755.97 1364.9  Z\n",
       "  \" fill=\"#009af9\" fill-rule=\"evenodd\" fill-opacity=\"1\"/>\n",
       "<polyline clip-path=\"url(#clip002)\" style=\"stroke:#000000; stroke-linecap:round; stroke-linejoin:round; stroke-width:4; stroke-opacity:1; fill:none\" points=\"\n",
       "  1755.97,1364.9 1755.97,1445.72 1851.67,1445.72 1851.67,1364.9 1755.97,1364.9 \n",
       "  \"/>\n",
       "<path clip-path=\"url(#clip002)\" d=\"\n",
       "M1851.67 1240.76 L1851.67 1445.72 L1947.37 1445.72 L1947.37 1240.76 L1851.67 1240.76 L1851.67 1240.76  Z\n",
       "  \" fill=\"#009af9\" fill-rule=\"evenodd\" fill-opacity=\"1\"/>\n",
       "<polyline clip-path=\"url(#clip002)\" style=\"stroke:#000000; stroke-linecap:round; stroke-linejoin:round; stroke-width:4; stroke-opacity:1; fill:none\" points=\"\n",
       "  1851.67,1240.76 1851.67,1445.72 1947.37,1445.72 1947.37,1240.76 1851.67,1240.76 \n",
       "  \"/>\n",
       "<path clip-path=\"url(#clip002)\" d=\"\n",
       "M1947.37 1371.85 L1947.37 1445.72 L2043.07 1445.72 L2043.07 1371.85 L1947.37 1371.85 L1947.37 1371.85  Z\n",
       "  \" fill=\"#009af9\" fill-rule=\"evenodd\" fill-opacity=\"1\"/>\n",
       "<polyline clip-path=\"url(#clip002)\" style=\"stroke:#000000; stroke-linecap:round; stroke-linejoin:round; stroke-width:4; stroke-opacity:1; fill:none\" points=\"\n",
       "  1947.37,1371.85 1947.37,1445.72 2043.07,1445.72 2043.07,1371.85 1947.37,1371.85 \n",
       "  \"/>\n",
       "<path clip-path=\"url(#clip002)\" d=\"\n",
       "M2043.07 1285.37 L2043.07 1445.72 L2138.77 1445.72 L2138.77 1285.37 L2043.07 1285.37 L2043.07 1285.37  Z\n",
       "  \" fill=\"#009af9\" fill-rule=\"evenodd\" fill-opacity=\"1\"/>\n",
       "<polyline clip-path=\"url(#clip002)\" style=\"stroke:#000000; stroke-linecap:round; stroke-linejoin:round; stroke-width:4; stroke-opacity:1; fill:none\" points=\"\n",
       "  2043.07,1285.37 2043.07,1445.72 2138.77,1445.72 2138.77,1285.37 2043.07,1285.37 \n",
       "  \"/>\n",
       "<path clip-path=\"url(#clip002)\" d=\"\n",
       "M2138.77 1382.03 L2138.77 1445.72 L2234.47 1445.72 L2234.47 1382.03 L2138.77 1382.03 L2138.77 1382.03  Z\n",
       "  \" fill=\"#009af9\" fill-rule=\"evenodd\" fill-opacity=\"1\"/>\n",
       "<polyline clip-path=\"url(#clip002)\" style=\"stroke:#000000; stroke-linecap:round; stroke-linejoin:round; stroke-width:4; stroke-opacity:1; fill:none\" points=\"\n",
       "  2138.77,1382.03 2138.77,1445.72 2234.47,1445.72 2234.47,1382.03 2138.77,1382.03 \n",
       "  \"/>\n",
       "<circle clip-path=\"url(#clip002)\" style=\"fill:#009af9; stroke:none; fill-opacity:0\" cx=\"368.313\" cy=\"1409.02\" r=\"2\"/>\n",
       "<circle clip-path=\"url(#clip002)\" style=\"fill:#009af9; stroke:none; fill-opacity:0\" cx=\"464.013\" cy=\"1369.91\" r=\"2\"/>\n",
       "<circle clip-path=\"url(#clip002)\" style=\"fill:#009af9; stroke:none; fill-opacity:0\" cx=\"559.713\" cy=\"1369.91\" r=\"2\"/>\n",
       "<circle clip-path=\"url(#clip002)\" style=\"fill:#009af9; stroke:none; fill-opacity:0\" cx=\"655.414\" cy=\"1331.76\" r=\"2\"/>\n",
       "<circle clip-path=\"url(#clip002)\" style=\"fill:#009af9; stroke:none; fill-opacity:0\" cx=\"751.114\" cy=\"1411.29\" r=\"2\"/>\n",
       "<circle clip-path=\"url(#clip002)\" style=\"fill:#009af9; stroke:none; fill-opacity:0\" cx=\"846.815\" cy=\"1408.38\" r=\"2\"/>\n",
       "<circle clip-path=\"url(#clip002)\" style=\"fill:#009af9; stroke:none; fill-opacity:0\" cx=\"942.515\" cy=\"1238.01\" r=\"2\"/>\n",
       "<circle clip-path=\"url(#clip002)\" style=\"fill:#009af9; stroke:none; fill-opacity:0\" cx=\"1038.22\" cy=\"1435.21\" r=\"2\"/>\n",
       "<circle clip-path=\"url(#clip002)\" style=\"fill:#009af9; stroke:none; fill-opacity:0\" cx=\"1133.92\" cy=\"1360.7\" r=\"2\"/>\n",
       "<circle clip-path=\"url(#clip002)\" style=\"fill:#009af9; stroke:none; fill-opacity:0\" cx=\"1229.62\" cy=\"1430.68\" r=\"2\"/>\n",
       "<circle clip-path=\"url(#clip002)\" style=\"fill:#009af9; stroke:none; fill-opacity:0\" cx=\"1325.32\" cy=\"1400.46\" r=\"2\"/>\n",
       "<circle clip-path=\"url(#clip002)\" style=\"fill:#009af9; stroke:none; fill-opacity:0\" cx=\"1421.02\" cy=\"1427.77\" r=\"2\"/>\n",
       "<circle clip-path=\"url(#clip002)\" style=\"fill:#009af9; stroke:none; fill-opacity:0\" cx=\"1516.72\" cy=\"1277.94\" r=\"2\"/>\n",
       "<circle clip-path=\"url(#clip002)\" style=\"fill:#009af9; stroke:none; fill-opacity:0\" cx=\"1612.42\" cy=\"1434.4\" r=\"2\"/>\n",
       "<circle clip-path=\"url(#clip002)\" style=\"fill:#009af9; stroke:none; fill-opacity:0\" cx=\"1708.12\" cy=\"1389.79\" r=\"2\"/>\n",
       "<circle clip-path=\"url(#clip002)\" style=\"fill:#009af9; stroke:none; fill-opacity:0\" cx=\"1803.82\" cy=\"1364.9\" r=\"2\"/>\n",
       "<circle clip-path=\"url(#clip002)\" style=\"fill:#009af9; stroke:none; fill-opacity:0\" cx=\"1899.52\" cy=\"1240.76\" r=\"2\"/>\n",
       "<circle clip-path=\"url(#clip002)\" style=\"fill:#009af9; stroke:none; fill-opacity:0\" cx=\"1995.22\" cy=\"1371.85\" r=\"2\"/>\n",
       "<circle clip-path=\"url(#clip002)\" style=\"fill:#009af9; stroke:none; fill-opacity:0\" cx=\"2090.92\" cy=\"1285.37\" r=\"2\"/>\n",
       "<circle clip-path=\"url(#clip002)\" style=\"fill:#009af9; stroke:none; fill-opacity:0\" cx=\"2186.62\" cy=\"1382.03\" r=\"2\"/>\n",
       "<path clip-path=\"url(#clip002)\" d=\"\n",
       "M320.462 87.9763 L320.462 1445.72 L416.163 1445.72 L416.163 87.9763 L320.462 87.9763 L320.462 87.9763  Z\n",
       "  \" fill=\"#e26f46\" fill-rule=\"evenodd\" fill-opacity=\"0.2\"/>\n",
       "<polyline clip-path=\"url(#clip002)\" style=\"stroke:#000000; stroke-linecap:round; stroke-linejoin:round; stroke-width:4; stroke-opacity:1; fill:none\" points=\"\n",
       "  320.462,87.9763 320.462,1445.72 416.163,1445.72 416.163,87.9763 320.462,87.9763 \n",
       "  \"/>\n",
       "<path clip-path=\"url(#clip002)\" d=\"\n",
       "M416.163 532.798 L416.163 1445.72 L511.863 1445.72 L511.863 532.798 L416.163 532.798 L416.163 532.798  Z\n",
       "  \" fill=\"#e26f46\" fill-rule=\"evenodd\" fill-opacity=\"0.2\"/>\n",
       "<polyline clip-path=\"url(#clip002)\" style=\"stroke:#000000; stroke-linecap:round; stroke-linejoin:round; stroke-width:4; stroke-opacity:1; fill:none\" points=\"\n",
       "  416.163,532.798 416.163,1445.72 511.863,1445.72 511.863,532.798 416.163,532.798 \n",
       "  \"/>\n",
       "<path clip-path=\"url(#clip002)\" d=\"\n",
       "M511.863 920.885 L511.863 1445.72 L607.564 1445.72 L607.564 920.885 L511.863 920.885 L511.863 920.885  Z\n",
       "  \" fill=\"#e26f46\" fill-rule=\"evenodd\" fill-opacity=\"0.2\"/>\n",
       "<polyline clip-path=\"url(#clip002)\" style=\"stroke:#000000; stroke-linecap:round; stroke-linejoin:round; stroke-width:4; stroke-opacity:1; fill:none\" points=\"\n",
       "  511.863,920.885 511.863,1445.72 607.564,1445.72 607.564,920.885 511.863,920.885 \n",
       "  \"/>\n",
       "<path clip-path=\"url(#clip002)\" d=\"\n",
       "M607.564 903.428 L607.564 1445.72 L703.264 1445.72 L703.264 903.428 L607.564 903.428 L607.564 903.428  Z\n",
       "  \" fill=\"#e26f46\" fill-rule=\"evenodd\" fill-opacity=\"0.2\"/>\n",
       "<polyline clip-path=\"url(#clip002)\" style=\"stroke:#000000; stroke-linecap:round; stroke-linejoin:round; stroke-width:4; stroke-opacity:1; fill:none\" points=\"\n",
       "  607.564,903.428 607.564,1445.72 703.264,1445.72 703.264,903.428 607.564,903.428 \n",
       "  \"/>\n",
       "<path clip-path=\"url(#clip002)\" d=\"\n",
       "M703.264 1322.71 L703.264 1445.72 L798.964 1445.72 L798.964 1322.71 L703.264 1322.71 L703.264 1322.71  Z\n",
       "  \" fill=\"#e26f46\" fill-rule=\"evenodd\" fill-opacity=\"0.2\"/>\n",
       "<polyline clip-path=\"url(#clip002)\" style=\"stroke:#000000; stroke-linecap:round; stroke-linejoin:round; stroke-width:4; stroke-opacity:1; fill:none\" points=\"\n",
       "  703.264,1322.71 703.264,1445.72 798.964,1445.72 798.964,1322.71 703.264,1322.71 \n",
       "  \"/>\n",
       "<path clip-path=\"url(#clip002)\" d=\"\n",
       "M798.964 1346.96 L798.964 1445.72 L894.665 1445.72 L894.665 1346.96 L798.964 1346.96 L798.964 1346.96  Z\n",
       "  \" fill=\"#e26f46\" fill-rule=\"evenodd\" fill-opacity=\"0.2\"/>\n",
       "<polyline clip-path=\"url(#clip002)\" style=\"stroke:#000000; stroke-linecap:round; stroke-linejoin:round; stroke-width:4; stroke-opacity:1; fill:none\" points=\"\n",
       "  798.964,1346.96 798.964,1445.72 894.665,1445.72 894.665,1346.96 798.964,1346.96 \n",
       "  \"/>\n",
       "<path clip-path=\"url(#clip002)\" d=\"\n",
       "M894.665 863.504 L894.665 1445.72 L990.365 1445.72 L990.365 863.504 L894.665 863.504 L894.665 863.504  Z\n",
       "  \" fill=\"#e26f46\" fill-rule=\"evenodd\" fill-opacity=\"0.2\"/>\n",
       "<polyline clip-path=\"url(#clip002)\" style=\"stroke:#000000; stroke-linecap:round; stroke-linejoin:round; stroke-width:4; stroke-opacity:1; fill:none\" points=\"\n",
       "  894.665,863.504 894.665,1445.72 990.365,1445.72 990.365,863.504 894.665,863.504 \n",
       "  \"/>\n",
       "<path clip-path=\"url(#clip002)\" d=\"\n",
       "M990.365 1429.55 L990.365 1445.72 L1086.07 1445.72 L1086.07 1429.55 L990.365 1429.55 L990.365 1429.55  Z\n",
       "  \" fill=\"#e26f46\" fill-rule=\"evenodd\" fill-opacity=\"0.2\"/>\n",
       "<polyline clip-path=\"url(#clip002)\" style=\"stroke:#000000; stroke-linecap:round; stroke-linejoin:round; stroke-width:4; stroke-opacity:1; fill:none\" points=\"\n",
       "  990.365,1429.55 990.365,1445.72 1086.07,1445.72 1086.07,1429.55 990.365,1429.55 \n",
       "  \"/>\n",
       "<path clip-path=\"url(#clip002)\" d=\"\n",
       "M1086.07 1351.81 L1086.07 1445.72 L1181.77 1445.72 L1181.77 1351.81 L1086.07 1351.81 L1086.07 1351.81  Z\n",
       "  \" fill=\"#e26f46\" fill-rule=\"evenodd\" fill-opacity=\"0.2\"/>\n",
       "<polyline clip-path=\"url(#clip002)\" style=\"stroke:#000000; stroke-linecap:round; stroke-linejoin:round; stroke-width:4; stroke-opacity:1; fill:none\" points=\"\n",
       "  1086.07,1351.81 1086.07,1445.72 1181.77,1445.72 1181.77,1351.81 1086.07,1351.81 \n",
       "  \"/>\n",
       "<path clip-path=\"url(#clip002)\" d=\"\n",
       "M1181.77 1431.82 L1181.77 1445.72 L1277.47 1445.72 L1277.47 1431.82 L1181.77 1431.82 L1181.77 1431.82  Z\n",
       "  \" fill=\"#e26f46\" fill-rule=\"evenodd\" fill-opacity=\"0.2\"/>\n",
       "<polyline clip-path=\"url(#clip002)\" style=\"stroke:#000000; stroke-linecap:round; stroke-linejoin:round; stroke-width:4; stroke-opacity:1; fill:none\" points=\"\n",
       "  1181.77,1431.82 1181.77,1445.72 1277.47,1445.72 1277.47,1431.82 1181.77,1431.82 \n",
       "  \"/>\n",
       "<path clip-path=\"url(#clip002)\" d=\"\n",
       "M1277.47 1414.84 L1277.47 1445.72 L1373.17 1445.72 L1373.17 1414.84 L1277.47 1414.84 L1277.47 1414.84  Z\n",
       "  \" fill=\"#e26f46\" fill-rule=\"evenodd\" fill-opacity=\"0.2\"/>\n",
       "<polyline clip-path=\"url(#clip002)\" style=\"stroke:#000000; stroke-linecap:round; stroke-linejoin:round; stroke-width:4; stroke-opacity:1; fill:none\" points=\"\n",
       "  1277.47,1414.84 1277.47,1445.72 1373.17,1445.72 1373.17,1414.84 1277.47,1414.84 \n",
       "  \"/>\n",
       "<path clip-path=\"url(#clip002)\" d=\"\n",
       "M1373.17 1433.59 L1373.17 1445.72 L1468.87 1445.72 L1468.87 1433.59 L1373.17 1433.59 L1373.17 1433.59  Z\n",
       "  \" fill=\"#e26f46\" fill-rule=\"evenodd\" fill-opacity=\"0.2\"/>\n",
       "<polyline clip-path=\"url(#clip002)\" style=\"stroke:#000000; stroke-linecap:round; stroke-linejoin:round; stroke-width:4; stroke-opacity:1; fill:none\" points=\"\n",
       "  1373.17,1433.59 1373.17,1445.72 1468.87,1445.72 1468.87,1433.59 1373.17,1433.59 \n",
       "  \"/>\n",
       "<path clip-path=\"url(#clip002)\" d=\"\n",
       "M1468.87 1356.01 L1468.87 1445.72 L1564.57 1445.72 L1564.57 1356.01 L1468.87 1356.01 L1468.87 1356.01  Z\n",
       "  \" fill=\"#e26f46\" fill-rule=\"evenodd\" fill-opacity=\"0.2\"/>\n",
       "<polyline clip-path=\"url(#clip002)\" style=\"stroke:#000000; stroke-linecap:round; stroke-linejoin:round; stroke-width:4; stroke-opacity:1; fill:none\" points=\"\n",
       "  1468.87,1356.01 1468.87,1445.72 1564.57,1445.72 1564.57,1356.01 1468.87,1356.01 \n",
       "  \"/>\n",
       "<path clip-path=\"url(#clip002)\" d=\"\n",
       "M1564.57 1438.44 L1564.57 1445.72 L1660.27 1445.72 L1660.27 1438.44 L1564.57 1438.44 L1564.57 1438.44  Z\n",
       "  \" fill=\"#e26f46\" fill-rule=\"evenodd\" fill-opacity=\"0.2\"/>\n",
       "<polyline clip-path=\"url(#clip002)\" style=\"stroke:#000000; stroke-linecap:round; stroke-linejoin:round; stroke-width:4; stroke-opacity:1; fill:none\" points=\"\n",
       "  1564.57,1438.44 1564.57,1445.72 1660.27,1445.72 1660.27,1438.44 1564.57,1438.44 \n",
       "  \"/>\n",
       "<path clip-path=\"url(#clip002)\" d=\"\n",
       "M1660.27 1429.55 L1660.27 1445.72 L1755.97 1445.72 L1755.97 1429.55 L1660.27 1429.55 L1660.27 1429.55  Z\n",
       "  \" fill=\"#e26f46\" fill-rule=\"evenodd\" fill-opacity=\"0.2\"/>\n",
       "<polyline clip-path=\"url(#clip002)\" style=\"stroke:#000000; stroke-linecap:round; stroke-linejoin:round; stroke-width:4; stroke-opacity:1; fill:none\" points=\"\n",
       "  1660.27,1429.55 1660.27,1445.72 1755.97,1445.72 1755.97,1429.55 1660.27,1429.55 \n",
       "  \"/>\n",
       "<path clip-path=\"url(#clip002)\" d=\"\n",
       "M1755.97 1424.7 L1755.97 1445.72 L1851.67 1445.72 L1851.67 1424.7 L1755.97 1424.7 L1755.97 1424.7  Z\n",
       "  \" fill=\"#e26f46\" fill-rule=\"evenodd\" fill-opacity=\"0.2\"/>\n",
       "<polyline clip-path=\"url(#clip002)\" style=\"stroke:#000000; stroke-linecap:round; stroke-linejoin:round; stroke-width:4; stroke-opacity:1; fill:none\" points=\"\n",
       "  1755.97,1424.7 1755.97,1445.72 1851.67,1445.72 1851.67,1424.7 1755.97,1424.7 \n",
       "  \"/>\n",
       "<path clip-path=\"url(#clip002)\" d=\"\n",
       "M1851.67 1395.93 L1851.67 1445.72 L1947.37 1445.72 L1947.37 1395.93 L1851.67 1395.93 L1851.67 1395.93  Z\n",
       "  \" fill=\"#e26f46\" fill-rule=\"evenodd\" fill-opacity=\"0.2\"/>\n",
       "<polyline clip-path=\"url(#clip002)\" style=\"stroke:#000000; stroke-linecap:round; stroke-linejoin:round; stroke-width:4; stroke-opacity:1; fill:none\" points=\"\n",
       "  1851.67,1395.93 1851.67,1445.72 1947.37,1445.72 1947.37,1395.93 1851.67,1395.93 \n",
       "  \"/>\n",
       "<path clip-path=\"url(#clip002)\" d=\"\n",
       "M1947.37 1436.5 L1947.37 1445.72 L2043.07 1445.72 L2043.07 1436.5 L1947.37 1436.5 L1947.37 1436.5  Z\n",
       "  \" fill=\"#e26f46\" fill-rule=\"evenodd\" fill-opacity=\"0.2\"/>\n",
       "<polyline clip-path=\"url(#clip002)\" style=\"stroke:#000000; stroke-linecap:round; stroke-linejoin:round; stroke-width:4; stroke-opacity:1; fill:none\" points=\"\n",
       "  1947.37,1436.5 1947.37,1445.72 2043.07,1445.72 2043.07,1436.5 1947.37,1436.5 \n",
       "  \"/>\n",
       "<path clip-path=\"url(#clip002)\" d=\"\n",
       "M2043.07 1431.33 L2043.07 1445.72 L2138.77 1445.72 L2138.77 1431.33 L2043.07 1431.33 L2043.07 1431.33  Z\n",
       "  \" fill=\"#e26f46\" fill-rule=\"evenodd\" fill-opacity=\"0.2\"/>\n",
       "<polyline clip-path=\"url(#clip002)\" style=\"stroke:#000000; stroke-linecap:round; stroke-linejoin:round; stroke-width:4; stroke-opacity:1; fill:none\" points=\"\n",
       "  2043.07,1431.33 2043.07,1445.72 2138.77,1445.72 2138.77,1431.33 2043.07,1431.33 \n",
       "  \"/>\n",
       "<path clip-path=\"url(#clip002)\" d=\"\n",
       "M2138.77 1442.48 L2138.77 1445.72 L2234.47 1445.72 L2234.47 1442.48 L2138.77 1442.48 L2138.77 1442.48  Z\n",
       "  \" fill=\"#e26f46\" fill-rule=\"evenodd\" fill-opacity=\"0.2\"/>\n",
       "<polyline clip-path=\"url(#clip002)\" style=\"stroke:#000000; stroke-linecap:round; stroke-linejoin:round; stroke-width:4; stroke-opacity:1; fill:none\" points=\"\n",
       "  2138.77,1442.48 2138.77,1445.72 2234.47,1445.72 2234.47,1442.48 2138.77,1442.48 \n",
       "  \"/>\n",
       "<circle clip-path=\"url(#clip002)\" style=\"fill:#e26f46; stroke:none; fill-opacity:0\" cx=\"368.313\" cy=\"87.9763\" r=\"2\"/>\n",
       "<circle clip-path=\"url(#clip002)\" style=\"fill:#e26f46; stroke:none; fill-opacity:0\" cx=\"464.013\" cy=\"532.798\" r=\"2\"/>\n",
       "<circle clip-path=\"url(#clip002)\" style=\"fill:#e26f46; stroke:none; fill-opacity:0\" cx=\"559.713\" cy=\"920.885\" r=\"2\"/>\n",
       "<circle clip-path=\"url(#clip002)\" style=\"fill:#e26f46; stroke:none; fill-opacity:0\" cx=\"655.414\" cy=\"903.428\" r=\"2\"/>\n",
       "<circle clip-path=\"url(#clip002)\" style=\"fill:#e26f46; stroke:none; fill-opacity:0\" cx=\"751.114\" cy=\"1322.71\" r=\"2\"/>\n",
       "<circle clip-path=\"url(#clip002)\" style=\"fill:#e26f46; stroke:none; fill-opacity:0\" cx=\"846.815\" cy=\"1346.96\" r=\"2\"/>\n",
       "<circle clip-path=\"url(#clip002)\" style=\"fill:#e26f46; stroke:none; fill-opacity:0\" cx=\"942.515\" cy=\"863.504\" r=\"2\"/>\n",
       "<circle clip-path=\"url(#clip002)\" style=\"fill:#e26f46; stroke:none; fill-opacity:0\" cx=\"1038.22\" cy=\"1429.55\" r=\"2\"/>\n",
       "<circle clip-path=\"url(#clip002)\" style=\"fill:#e26f46; stroke:none; fill-opacity:0\" cx=\"1133.92\" cy=\"1351.81\" r=\"2\"/>\n",
       "<circle clip-path=\"url(#clip002)\" style=\"fill:#e26f46; stroke:none; fill-opacity:0\" cx=\"1229.62\" cy=\"1431.82\" r=\"2\"/>\n",
       "<circle clip-path=\"url(#clip002)\" style=\"fill:#e26f46; stroke:none; fill-opacity:0\" cx=\"1325.32\" cy=\"1414.84\" r=\"2\"/>\n",
       "<circle clip-path=\"url(#clip002)\" style=\"fill:#e26f46; stroke:none; fill-opacity:0\" cx=\"1421.02\" cy=\"1433.59\" r=\"2\"/>\n",
       "<circle clip-path=\"url(#clip002)\" style=\"fill:#e26f46; stroke:none; fill-opacity:0\" cx=\"1516.72\" cy=\"1356.01\" r=\"2\"/>\n",
       "<circle clip-path=\"url(#clip002)\" style=\"fill:#e26f46; stroke:none; fill-opacity:0\" cx=\"1612.42\" cy=\"1438.44\" r=\"2\"/>\n",
       "<circle clip-path=\"url(#clip002)\" style=\"fill:#e26f46; stroke:none; fill-opacity:0\" cx=\"1708.12\" cy=\"1429.55\" r=\"2\"/>\n",
       "<circle clip-path=\"url(#clip002)\" style=\"fill:#e26f46; stroke:none; fill-opacity:0\" cx=\"1803.82\" cy=\"1424.7\" r=\"2\"/>\n",
       "<circle clip-path=\"url(#clip002)\" style=\"fill:#e26f46; stroke:none; fill-opacity:0\" cx=\"1899.52\" cy=\"1395.93\" r=\"2\"/>\n",
       "<circle clip-path=\"url(#clip002)\" style=\"fill:#e26f46; stroke:none; fill-opacity:0\" cx=\"1995.22\" cy=\"1436.5\" r=\"2\"/>\n",
       "<circle clip-path=\"url(#clip002)\" style=\"fill:#e26f46; stroke:none; fill-opacity:0\" cx=\"2090.92\" cy=\"1431.33\" r=\"2\"/>\n",
       "<circle clip-path=\"url(#clip002)\" style=\"fill:#e26f46; stroke:none; fill-opacity:0\" cx=\"2186.62\" cy=\"1442.48\" r=\"2\"/>\n",
       "<path clip-path=\"url(#clip000)\" d=\"\n",
       "M1972.56 250.738 L2281.07 250.738 L2281.07 95.2176 L1972.56 95.2176  Z\n",
       "  \" fill=\"#ffffff\" fill-rule=\"evenodd\" fill-opacity=\"1\"/>\n",
       "<polyline clip-path=\"url(#clip000)\" style=\"stroke:#000000; stroke-linecap:round; stroke-linejoin:round; stroke-width:4; stroke-opacity:1; fill:none\" points=\"\n",
       "  1972.56,250.738 2281.07,250.738 2281.07,95.2176 1972.56,95.2176 1972.56,250.738 \n",
       "  \"/>\n",
       "<path clip-path=\"url(#clip000)\" d=\"\n",
       "M1996.46 167.794 L2139.83 167.794 L2139.83 126.322 L1996.46 126.322 L1996.46 167.794  Z\n",
       "  \" fill=\"#009af9\" fill-rule=\"evenodd\" fill-opacity=\"1\"/>\n",
       "<polyline clip-path=\"url(#clip000)\" style=\"stroke:#000000; stroke-linecap:round; stroke-linejoin:round; stroke-width:4; stroke-opacity:1; fill:none\" points=\"\n",
       "  1996.46,167.794 2139.83,167.794 2139.83,126.322 1996.46,126.322 1996.46,167.794 \n",
       "  \"/>\n",
       "<path clip-path=\"url(#clip000)\" d=\"M2184.07 143.389 Q2185.67 140.518 2187.89 139.153 Q2190.11 137.787 2193.12 137.787 Q2197.17 137.787 2199.37 140.634 Q2201.57 143.458 2201.57 148.689 L2201.57 164.338 L2197.29 164.338 L2197.29 148.828 Q2197.29 145.102 2195.97 143.296 Q2194.65 141.49 2191.94 141.49 Q2188.63 141.49 2186.71 143.69 Q2184.79 145.889 2184.79 149.685 L2184.79 164.338 L2180.51 164.338 L2180.51 148.828 Q2180.51 145.078 2179.19 143.296 Q2177.87 141.49 2175.11 141.49 Q2171.85 141.49 2169.93 143.713 Q2168.01 145.912 2168.01 149.685 L2168.01 164.338 L2163.73 164.338 L2163.73 138.412 L2168.01 138.412 L2168.01 142.44 Q2169.47 140.055 2171.5 138.921 Q2173.54 137.787 2176.34 137.787 Q2179.17 137.787 2181.13 139.222 Q2183.12 140.657 2184.07 143.389 Z\" fill=\"#000000\" fill-rule=\"evenodd\" fill-opacity=\"1\" /><path clip-path=\"url(#clip000)\" d=\"M2210.07 128.319 L2214.33 128.319 L2214.33 164.338 L2210.07 164.338 L2210.07 128.319 Z\" fill=\"#000000\" fill-rule=\"evenodd\" fill-opacity=\"1\" /><path clip-path=\"url(#clip000)\" d=\"\n",
       "M1996.46 219.634 L2139.83 219.634 L2139.83 178.162 L1996.46 178.162 L1996.46 219.634  Z\n",
       "  \" fill=\"#e26f46\" fill-rule=\"evenodd\" fill-opacity=\"0.2\"/>\n",
       "<polyline clip-path=\"url(#clip000)\" style=\"stroke:#000000; stroke-linecap:round; stroke-linejoin:round; stroke-width:4; stroke-opacity:1; fill:none\" points=\"\n",
       "  1996.46,219.634 2139.83,219.634 2139.83,178.162 1996.46,178.162 1996.46,219.634 \n",
       "  \"/>\n",
       "<path clip-path=\"url(#clip000)\" d=\"M2163.73 190.252 L2167.99 190.252 L2173.31 210.483 L2178.61 190.252 L2183.63 190.252 L2188.96 210.483 L2194.26 190.252 L2198.52 190.252 L2191.74 216.178 L2186.71 216.178 L2181.13 194.928 L2175.53 216.178 L2170.51 216.178 L2163.73 190.252 Z\" fill=\"#000000\" fill-rule=\"evenodd\" fill-opacity=\"1\" /><path clip-path=\"url(#clip000)\" d=\"M2227.15 202.15 L2227.15 204.233 L2207.57 204.233 Q2207.85 208.631 2210.21 210.946 Q2212.59 213.238 2216.83 213.238 Q2219.28 213.238 2221.57 212.636 Q2223.89 212.034 2226.16 210.83 L2226.16 214.858 Q2223.86 215.83 2221.46 216.34 Q2219.05 216.849 2216.57 216.849 Q2210.37 216.849 2206.74 213.238 Q2203.12 209.627 2203.12 203.469 Q2203.12 197.104 2206.55 193.377 Q2210 189.627 2215.83 189.627 Q2221.06 189.627 2224.1 193.006 Q2227.15 196.363 2227.15 202.15 M2222.89 200.9 Q2222.85 197.405 2220.92 195.321 Q2219.03 193.238 2215.88 193.238 Q2212.31 193.238 2210.16 195.252 Q2208.03 197.266 2207.71 200.923 L2222.89 200.9 Z\" fill=\"#000000\" fill-rule=\"evenodd\" fill-opacity=\"1\" /><path clip-path=\"url(#clip000)\" d=\"M2252.75 203.238 Q2252.75 198.539 2250.81 195.877 Q2248.89 193.192 2245.51 193.192 Q2242.13 193.192 2240.18 195.877 Q2238.26 198.539 2238.26 203.238 Q2238.26 207.937 2240.18 210.622 Q2242.13 213.284 2245.51 213.284 Q2248.89 213.284 2250.81 210.622 Q2252.75 207.937 2252.75 203.238 M2238.26 194.187 Q2239.61 191.872 2241.64 190.761 Q2243.7 189.627 2246.55 189.627 Q2251.27 189.627 2254.21 193.377 Q2257.17 197.127 2257.17 203.238 Q2257.17 209.349 2254.21 213.099 Q2251.27 216.849 2246.55 216.849 Q2243.7 216.849 2241.64 215.738 Q2239.61 214.603 2238.26 212.289 L2238.26 216.178 L2233.98 216.178 L2233.98 180.159 L2238.26 180.159 L2238.26 194.187 Z\" fill=\"#000000\" fill-rule=\"evenodd\" fill-opacity=\"1\" /></svg>\n"
      ]
     },
     "execution_count": 50,
     "metadata": {},
     "output_type": "execute_result"
    }
   ],
   "source": [
    "histogram(classes_df.predict[classes_df.ml_target .== 1], label=\"ml\", bins=20)\n",
    "histogram!(classes_df.predict[classes_df.ml_target .== 0], label=\"web\", bins=20, fillalpha=0.2)"
   ]
  },
  {
   "cell_type": "code",
   "execution_count": 51,
   "id": "c5cdfae6",
   "metadata": {},
   "outputs": [
    {
     "data": {
      "text/plain": [
       "37700-element CategoricalArray{String,1,UInt32}:\n",
       " \"Q8: [0.30282965454640626, 0.43847305835201505)\"\n",
       " \"Q2: [0.01981477894510248, 0.042873665800867065)\"\n",
       " \"Q8: [0.30282965454640626, 0.43847305835201505)\"\n",
       " \"Q9: [0.43847305835201505, 0.7643080643519612)\"\n",
       " \"Q9: [0.43847305835201505, 0.7643080643519612)\"\n",
       " \"Q8: [0.30282965454640626, 0.43847305835201505)\"\n",
       " \"Q3: [0.042873665800867065, 0.06696749306132144)\"\n",
       " \"Q2: [0.01981477894510248, 0.042873665800867065)\"\n",
       " \"Q5: [0.1142814697999301, 0.16302534515991868)\"\n",
       " \"Q8: [0.30282965454640626, 0.43847305835201505)\"\n",
       " \"Q6: [0.16302534515991868, 0.20048425275997656)\"\n",
       " \"Q6: [0.16302534515991868, 0.20048425275997656)\"\n",
       " \"Q3: [0.042873665800867065, 0.06696749306132144)\"\n",
       " ⋮\n",
       " \"Q9: [0.43847305835201505, 0.7643080643519612)\"\n",
       " \"Q5: [0.1142814697999301, 0.16302534515991868)\"\n",
       " \"Q1: [0.00010832236011656448, 0.01981477894510248)\"\n",
       " \"Q5: [0.1142814697999301, 0.16302534515991868)\"\n",
       " \"Q7: [0.20048425275997656, 0.30282965454640626)\"\n",
       " \"Q8: [0.30282965454640626, 0.43847305835201505)\"\n",
       " \"Q1: [0.00010832236011656448, 0.01981477894510248)\"\n",
       " \"Q10: [0.7643080643519612, 0.9977873258287571]\"\n",
       " \"Q6: [0.16302534515991868, 0.20048425275997656)\"\n",
       " \"Q4: [0.06696749306132144, 0.1142814697999301)\"\n",
       " \"Q9: [0.43847305835201505, 0.7643080643519612)\"\n",
       " \"Q4: [0.06696749306132144, 0.1142814697999301)\""
      ]
     },
     "execution_count": 51,
     "metadata": {},
     "output_type": "execute_result"
    }
   ],
   "source": [
    "classes_df.decile = cut(classes_df.predict, 10)"
   ]
  },
  {
   "cell_type": "code",
   "execution_count": 52,
   "id": "180932d2",
   "metadata": {},
   "outputs": [
    {
     "data": {
      "text/html": [
       "<div><div style = \"float: left;\"><span>10×3 DataFrame</span></div><div style = \"clear: both;\"></div></div><div class = \"data-frame\" style = \"overflow-x: scroll;\"><table class = \"data-frame\" style = \"margin-bottom: 6px;\"><thead><tr class = \"header\"><th class = \"rowNumber\" style = \"font-weight: bold; text-align: right;\">Row</th><th style = \"text-align: left;\">decile</th><th style = \"text-align: left;\">prob_ml</th><th style = \"text-align: left;\">prob_pred_ml</th></tr><tr class = \"subheader headerLastRow\"><th class = \"rowNumber\" style = \"font-weight: bold; text-align: right;\"></th><th title = \"CategoricalValue{String, UInt32}\" style = \"text-align: left;\">Cat…</th><th title = \"Float64\" style = \"text-align: left;\">Float64</th><th title = \"Float64\" style = \"text-align: left;\">Float64</th></tr></thead><tbody><tr><td class = \"rowNumber\" style = \"font-weight: bold; text-align: right;\">1</td><td style = \"text-align: left;\">Q1: [0.00010832236011656448, 0.01981477894510248)</td><td style = \"text-align: right;\">0.0115127</td><td style = \"text-align: right;\">0.00998673</td></tr><tr><td class = \"rowNumber\" style = \"font-weight: bold; text-align: right;\">2</td><td style = \"text-align: left;\">Q2: [0.01981477894510248, 0.042873665800867065)</td><td style = \"text-align: right;\">0.0335516</td><td style = \"text-align: right;\">0.0291336</td></tr><tr><td class = \"rowNumber\" style = \"font-weight: bold; text-align: right;\">3</td><td style = \"text-align: left;\">Q3: [0.042873665800867065, 0.06696749306132144)</td><td style = \"text-align: right;\">0.0553554</td><td style = \"text-align: right;\">0.0506897</td></tr><tr><td class = \"rowNumber\" style = \"font-weight: bold; text-align: right;\">4</td><td style = \"text-align: left;\">Q4: [0.06696749306132144, 0.1142814697999301)</td><td style = \"text-align: right;\">0.0845727</td><td style = \"text-align: right;\">0.081349</td></tr><tr><td class = \"rowNumber\" style = \"font-weight: bold; text-align: right;\">5</td><td style = \"text-align: left;\">Q5: [0.1142814697999301, 0.16302534515991868)</td><td style = \"text-align: right;\">0.130256</td><td style = \"text-align: right;\">0.125422</td></tr><tr><td class = \"rowNumber\" style = \"font-weight: bold; text-align: right;\">6</td><td style = \"text-align: left;\">Q6: [0.16302534515991868, 0.20048425275997656)</td><td style = \"text-align: right;\">0.173381</td><td style = \"text-align: right;\">0.1807</td></tr><tr><td class = \"rowNumber\" style = \"font-weight: bold; text-align: right;\">7</td><td style = \"text-align: left;\">Q7: [0.20048425275997656, 0.30282965454640626)</td><td style = \"text-align: right;\">0.244493</td><td style = \"text-align: right;\">0.237877</td></tr><tr><td class = \"rowNumber\" style = \"font-weight: bold; text-align: right;\">8</td><td style = \"text-align: left;\">Q8: [0.30282965454640626, 0.43847305835201505)</td><td style = \"text-align: right;\">0.280184</td><td style = \"text-align: right;\">0.316515</td></tr><tr><td class = \"rowNumber\" style = \"font-weight: bold; text-align: right;\">9</td><td style = \"text-align: left;\">Q9: [0.43847305835201505, 0.7643080643519612)</td><td style = \"text-align: right;\">0.635382</td><td style = \"text-align: right;\">0.591563</td></tr><tr><td class = \"rowNumber\" style = \"font-weight: bold; text-align: right;\">10</td><td style = \"text-align: left;\">Q10: [0.7643080643519612, 0.9977873258287571]</td><td style = \"text-align: right;\">0.863504</td><td style = \"text-align: right;\">0.873316</td></tr></tbody></table></div>"
      ],
      "text/latex": [
       "\\begin{tabular}{r|ccc}\n",
       "\t& decile & prob\\_ml & prob\\_pred\\_ml\\\\\n",
       "\t\\hline\n",
       "\t& Cat… & Float64 & Float64\\\\\n",
       "\t\\hline\n",
       "\t1 & Q1: [0.00010832236011656448, 0.01981477894510248) & 0.0115127 & 0.00998673 \\\\\n",
       "\t2 & Q2: [0.01981477894510248, 0.042873665800867065) & 0.0335516 & 0.0291336 \\\\\n",
       "\t3 & Q3: [0.042873665800867065, 0.06696749306132144) & 0.0553554 & 0.0506897 \\\\\n",
       "\t4 & Q4: [0.06696749306132144, 0.1142814697999301) & 0.0845727 & 0.081349 \\\\\n",
       "\t5 & Q5: [0.1142814697999301, 0.16302534515991868) & 0.130256 & 0.125422 \\\\\n",
       "\t6 & Q6: [0.16302534515991868, 0.20048425275997656) & 0.173381 & 0.1807 \\\\\n",
       "\t7 & Q7: [0.20048425275997656, 0.30282965454640626) & 0.244493 & 0.237877 \\\\\n",
       "\t8 & Q8: [0.30282965454640626, 0.43847305835201505) & 0.280184 & 0.316515 \\\\\n",
       "\t9 & Q9: [0.43847305835201505, 0.7643080643519612) & 0.635382 & 0.591563 \\\\\n",
       "\t10 & Q10: [0.7643080643519612, 0.9977873258287571] & 0.863504 & 0.873316 \\\\\n",
       "\\end{tabular}\n"
      ],
      "text/plain": [
       "\u001b[1m10×3 DataFrame\u001b[0m\n",
       "\u001b[1m Row \u001b[0m│\u001b[1m decile                            \u001b[0m\u001b[1m prob_ml   \u001b[0m\u001b[1m prob_pred_ml \u001b[0m\n",
       "     │\u001b[90m Cat…                              \u001b[0m\u001b[90m Float64   \u001b[0m\u001b[90m Float64      \u001b[0m\n",
       "─────┼────────────────────────────────────────────────────────────\n",
       "   1 │ Q1: [0.00010832236011656448, 0.0…  0.0115127    0.00998673\n",
       "   2 │ Q2: [0.01981477894510248, 0.0428…  0.0335516    0.0291336\n",
       "   3 │ Q3: [0.042873665800867065, 0.066…  0.0553554    0.0506897\n",
       "   4 │ Q4: [0.06696749306132144, 0.1142…  0.0845727    0.081349\n",
       "   5 │ Q5: [0.1142814697999301, 0.16302…  0.130256     0.125422\n",
       "   6 │ Q6: [0.16302534515991868, 0.2004…  0.173381     0.1807\n",
       "   7 │ Q7: [0.20048425275997656, 0.3028…  0.244493     0.237877\n",
       "   8 │ Q8: [0.30282965454640626, 0.4384…  0.280184     0.316515\n",
       "   9 │ Q9: [0.43847305835201505, 0.7643…  0.635382     0.591563\n",
       "  10 │ Q10: [0.7643080643519612, 0.9977…  0.863504     0.873316"
      ]
     },
     "execution_count": 52,
     "metadata": {},
     "output_type": "execute_result"
    }
   ],
   "source": [
    "diagnostic = @chain classes_df begin\n",
    "    groupby(:decile)\n",
    "    @combine(:prob_ml = mean(:ml_target), :prob_pred_ml = mean(:predict))\n",
    "end"
   ]
  },
  {
   "cell_type": "code",
   "execution_count": 53,
   "id": "65af9877",
   "metadata": {},
   "outputs": [
    {
     "data": {
      "image/svg+xml": [
       "<?xml version=\"1.0\" encoding=\"utf-8\"?>\n",
       "<svg xmlns=\"http://www.w3.org/2000/svg\" xmlns:xlink=\"http://www.w3.org/1999/xlink\" width=\"600\" height=\"400\" viewBox=\"0 0 2400 1600\">\n",
       "<defs>\n",
       "  <clipPath id=\"clip040\">\n",
       "    <rect x=\"0\" y=\"0\" width=\"2400\" height=\"1600\"/>\n",
       "  </clipPath>\n",
       "</defs>\n",
       "<path clip-path=\"url(#clip040)\" d=\"\n",
       "M0 1600 L2400 1600 L2400 0 L0 0  Z\n",
       "  \" fill=\"#ffffff\" fill-rule=\"evenodd\" fill-opacity=\"1\"/>\n",
       "<defs>\n",
       "  <clipPath id=\"clip041\">\n",
       "    <rect x=\"480\" y=\"0\" width=\"1681\" height=\"1600\"/>\n",
       "  </clipPath>\n",
       "</defs>\n",
       "<path clip-path=\"url(#clip040)\" d=\"\n",
       "M219.866 1423.18 L2352.76 1423.18 L2352.76 47.2441 L219.866 47.2441  Z\n",
       "  \" fill=\"#ffffff\" fill-rule=\"evenodd\" fill-opacity=\"1\"/>\n",
       "<defs>\n",
       "  <clipPath id=\"clip042\">\n",
       "    <rect x=\"219\" y=\"47\" width=\"2134\" height=\"1377\"/>\n",
       "  </clipPath>\n",
       "</defs>\n",
       "<polyline clip-path=\"url(#clip042)\" style=\"stroke:#000000; stroke-linecap:round; stroke-linejoin:round; stroke-width:2; stroke-opacity:0.1; fill:none\" points=\"\n",
       "  280.231,1423.18 280.231,47.2441 \n",
       "  \"/>\n",
       "<polyline clip-path=\"url(#clip042)\" style=\"stroke:#000000; stroke-linecap:round; stroke-linejoin:round; stroke-width:2; stroke-opacity:0.1; fill:none\" points=\"\n",
       "  503.804,1423.18 503.804,47.2441 \n",
       "  \"/>\n",
       "<polyline clip-path=\"url(#clip042)\" style=\"stroke:#000000; stroke-linecap:round; stroke-linejoin:round; stroke-width:2; stroke-opacity:0.1; fill:none\" points=\"\n",
       "  727.378,1423.18 727.378,47.2441 \n",
       "  \"/>\n",
       "<polyline clip-path=\"url(#clip042)\" style=\"stroke:#000000; stroke-linecap:round; stroke-linejoin:round; stroke-width:2; stroke-opacity:0.1; fill:none\" points=\"\n",
       "  950.951,1423.18 950.951,47.2441 \n",
       "  \"/>\n",
       "<polyline clip-path=\"url(#clip042)\" style=\"stroke:#000000; stroke-linecap:round; stroke-linejoin:round; stroke-width:2; stroke-opacity:0.1; fill:none\" points=\"\n",
       "  1174.52,1423.18 1174.52,47.2441 \n",
       "  \"/>\n",
       "<polyline clip-path=\"url(#clip042)\" style=\"stroke:#000000; stroke-linecap:round; stroke-linejoin:round; stroke-width:2; stroke-opacity:0.1; fill:none\" points=\"\n",
       "  1398.1,1423.18 1398.1,47.2441 \n",
       "  \"/>\n",
       "<polyline clip-path=\"url(#clip042)\" style=\"stroke:#000000; stroke-linecap:round; stroke-linejoin:round; stroke-width:2; stroke-opacity:0.1; fill:none\" points=\"\n",
       "  1621.67,1423.18 1621.67,47.2441 \n",
       "  \"/>\n",
       "<polyline clip-path=\"url(#clip042)\" style=\"stroke:#000000; stroke-linecap:round; stroke-linejoin:round; stroke-width:2; stroke-opacity:0.1; fill:none\" points=\"\n",
       "  1845.24,1423.18 1845.24,47.2441 \n",
       "  \"/>\n",
       "<polyline clip-path=\"url(#clip042)\" style=\"stroke:#000000; stroke-linecap:round; stroke-linejoin:round; stroke-width:2; stroke-opacity:0.1; fill:none\" points=\"\n",
       "  2068.82,1423.18 2068.82,47.2441 \n",
       "  \"/>\n",
       "<polyline clip-path=\"url(#clip042)\" style=\"stroke:#000000; stroke-linecap:round; stroke-linejoin:round; stroke-width:2; stroke-opacity:0.1; fill:none\" points=\"\n",
       "  2292.39,1423.18 2292.39,47.2441 \n",
       "  \"/>\n",
       "<polyline clip-path=\"url(#clip040)\" style=\"stroke:#000000; stroke-linecap:round; stroke-linejoin:round; stroke-width:4; stroke-opacity:1; fill:none\" points=\"\n",
       "  219.866,1423.18 2352.76,1423.18 \n",
       "  \"/>\n",
       "<polyline clip-path=\"url(#clip040)\" style=\"stroke:#000000; stroke-linecap:round; stroke-linejoin:round; stroke-width:4; stroke-opacity:1; fill:none\" points=\"\n",
       "  280.231,1423.18 280.231,1404.28 \n",
       "  \"/>\n",
       "<polyline clip-path=\"url(#clip040)\" style=\"stroke:#000000; stroke-linecap:round; stroke-linejoin:round; stroke-width:4; stroke-opacity:1; fill:none\" points=\"\n",
       "  503.804,1423.18 503.804,1404.28 \n",
       "  \"/>\n",
       "<polyline clip-path=\"url(#clip040)\" style=\"stroke:#000000; stroke-linecap:round; stroke-linejoin:round; stroke-width:4; stroke-opacity:1; fill:none\" points=\"\n",
       "  727.378,1423.18 727.378,1404.28 \n",
       "  \"/>\n",
       "<polyline clip-path=\"url(#clip040)\" style=\"stroke:#000000; stroke-linecap:round; stroke-linejoin:round; stroke-width:4; stroke-opacity:1; fill:none\" points=\"\n",
       "  950.951,1423.18 950.951,1404.28 \n",
       "  \"/>\n",
       "<polyline clip-path=\"url(#clip040)\" style=\"stroke:#000000; stroke-linecap:round; stroke-linejoin:round; stroke-width:4; stroke-opacity:1; fill:none\" points=\"\n",
       "  1174.52,1423.18 1174.52,1404.28 \n",
       "  \"/>\n",
       "<polyline clip-path=\"url(#clip040)\" style=\"stroke:#000000; stroke-linecap:round; stroke-linejoin:round; stroke-width:4; stroke-opacity:1; fill:none\" points=\"\n",
       "  1398.1,1423.18 1398.1,1404.28 \n",
       "  \"/>\n",
       "<polyline clip-path=\"url(#clip040)\" style=\"stroke:#000000; stroke-linecap:round; stroke-linejoin:round; stroke-width:4; stroke-opacity:1; fill:none\" points=\"\n",
       "  1621.67,1423.18 1621.67,1404.28 \n",
       "  \"/>\n",
       "<polyline clip-path=\"url(#clip040)\" style=\"stroke:#000000; stroke-linecap:round; stroke-linejoin:round; stroke-width:4; stroke-opacity:1; fill:none\" points=\"\n",
       "  1845.24,1423.18 1845.24,1404.28 \n",
       "  \"/>\n",
       "<polyline clip-path=\"url(#clip040)\" style=\"stroke:#000000; stroke-linecap:round; stroke-linejoin:round; stroke-width:4; stroke-opacity:1; fill:none\" points=\"\n",
       "  2068.82,1423.18 2068.82,1404.28 \n",
       "  \"/>\n",
       "<polyline clip-path=\"url(#clip040)\" style=\"stroke:#000000; stroke-linecap:round; stroke-linejoin:round; stroke-width:4; stroke-opacity:1; fill:none\" points=\"\n",
       "  2292.39,1423.18 2292.39,1404.28 \n",
       "  \"/>\n",
       "<path clip-path=\"url(#clip040)\" d=\"M270.613 1481.64 L278.252 1481.64 L278.252 1455.28 L269.942 1456.95 L269.942 1452.69 L278.206 1451.02 L282.882 1451.02 L282.882 1481.64 L290.52 1481.64 L290.52 1485.58 L270.613 1485.58 L270.613 1481.64 Z\" fill=\"#000000\" fill-rule=\"evenodd\" fill-opacity=\"1\" /><path clip-path=\"url(#clip040)\" d=\"M498.457 1481.64 L514.777 1481.64 L514.777 1485.58 L492.832 1485.58 L492.832 1481.64 Q495.494 1478.89 500.078 1474.26 Q504.684 1469.61 505.865 1468.27 Q508.11 1465.74 508.99 1464.01 Q509.892 1462.25 509.892 1460.56 Q509.892 1457.8 507.948 1456.07 Q506.027 1454.33 502.925 1454.33 Q500.726 1454.33 498.272 1455.09 Q495.841 1455.86 493.064 1457.41 L493.064 1452.69 Q495.888 1451.55 498.341 1450.97 Q500.795 1450.39 502.832 1450.39 Q508.203 1450.39 511.397 1453.08 Q514.591 1455.77 514.591 1460.26 Q514.591 1462.39 513.781 1464.31 Q512.994 1466.2 510.888 1468.8 Q510.309 1469.47 507.207 1472.69 Q504.105 1475.88 498.457 1481.64 Z\" fill=\"#000000\" fill-rule=\"evenodd\" fill-opacity=\"1\" /><path clip-path=\"url(#clip040)\" d=\"M731.625 1466.95 Q734.982 1467.66 736.857 1469.93 Q738.755 1472.2 738.755 1475.53 Q738.755 1480.65 735.236 1483.45 Q731.718 1486.25 725.237 1486.25 Q723.061 1486.25 720.746 1485.81 Q718.454 1485.39 716 1484.54 L716 1480.02 Q717.945 1481.16 720.26 1481.74 Q722.575 1482.32 725.098 1482.32 Q729.496 1482.32 731.787 1480.58 Q734.102 1478.84 734.102 1475.53 Q734.102 1472.48 731.949 1470.77 Q729.82 1469.03 726 1469.03 L721.973 1469.03 L721.973 1465.19 L726.186 1465.19 Q729.635 1465.19 731.463 1463.82 Q733.292 1462.43 733.292 1459.84 Q733.292 1457.18 731.394 1455.77 Q729.519 1454.33 726 1454.33 Q724.079 1454.33 721.88 1454.75 Q719.681 1455.16 717.042 1456.04 L717.042 1451.88 Q719.704 1451.14 722.019 1450.77 Q724.357 1450.39 726.417 1450.39 Q731.741 1450.39 734.843 1452.83 Q737.945 1455.23 737.945 1459.35 Q737.945 1462.22 736.301 1464.21 Q734.658 1466.18 731.625 1466.95 Z\" fill=\"#000000\" fill-rule=\"evenodd\" fill-opacity=\"1\" /><path clip-path=\"url(#clip040)\" d=\"M953.96 1455.09 L942.155 1473.54 L953.96 1473.54 L953.96 1455.09 M952.733 1451.02 L958.613 1451.02 L958.613 1473.54 L963.544 1473.54 L963.544 1477.43 L958.613 1477.43 L958.613 1485.58 L953.96 1485.58 L953.96 1477.43 L938.359 1477.43 L938.359 1472.92 L952.733 1451.02 Z\" fill=\"#000000\" fill-rule=\"evenodd\" fill-opacity=\"1\" /><path clip-path=\"url(#clip040)\" d=\"M1164.8 1451.02 L1183.16 1451.02 L1183.16 1454.96 L1169.08 1454.96 L1169.08 1463.43 Q1170.1 1463.08 1171.12 1462.92 Q1172.14 1462.73 1173.16 1462.73 Q1178.95 1462.73 1182.33 1465.9 Q1185.7 1469.08 1185.7 1474.49 Q1185.7 1480.07 1182.23 1483.17 Q1178.76 1486.25 1172.44 1486.25 Q1170.27 1486.25 1168 1485.88 Q1165.75 1485.51 1163.34 1484.77 L1163.34 1480.07 Q1165.43 1481.2 1167.65 1481.76 Q1169.87 1482.32 1172.35 1482.32 Q1176.35 1482.32 1178.69 1480.21 Q1181.03 1478.1 1181.03 1474.49 Q1181.03 1470.88 1178.69 1468.77 Q1176.35 1466.67 1172.35 1466.67 Q1170.47 1466.67 1168.6 1467.08 Q1166.75 1467.5 1164.8 1468.38 L1164.8 1451.02 Z\" fill=\"#000000\" fill-rule=\"evenodd\" fill-opacity=\"1\" /><path clip-path=\"url(#clip040)\" d=\"M1398.5 1466.44 Q1395.35 1466.44 1393.5 1468.59 Q1391.67 1470.74 1391.67 1474.49 Q1391.67 1478.22 1393.5 1480.39 Q1395.35 1482.55 1398.5 1482.55 Q1401.65 1482.55 1403.48 1480.39 Q1405.33 1478.22 1405.33 1474.49 Q1405.33 1470.74 1403.48 1468.59 Q1401.65 1466.44 1398.5 1466.44 M1407.79 1451.78 L1407.79 1456.04 Q1406.03 1455.21 1404.22 1454.77 Q1402.44 1454.33 1400.68 1454.33 Q1396.05 1454.33 1393.6 1457.45 Q1391.16 1460.58 1390.82 1466.9 Q1392.18 1464.89 1394.24 1463.82 Q1396.3 1462.73 1398.78 1462.73 Q1403.99 1462.73 1407 1465.9 Q1410.03 1469.05 1410.03 1474.49 Q1410.03 1479.82 1406.88 1483.03 Q1403.73 1486.25 1398.5 1486.25 Q1392.51 1486.25 1389.34 1481.67 Q1386.16 1477.06 1386.16 1468.33 Q1386.16 1460.14 1390.05 1455.28 Q1393.94 1450.39 1400.49 1450.39 Q1402.25 1450.39 1404.04 1450.74 Q1405.84 1451.09 1407.79 1451.78 Z\" fill=\"#000000\" fill-rule=\"evenodd\" fill-opacity=\"1\" /><path clip-path=\"url(#clip040)\" d=\"M1610.56 1451.02 L1632.78 1451.02 L1632.78 1453.01 L1620.24 1485.58 L1615.35 1485.58 L1627.16 1454.96 L1610.56 1454.96 L1610.56 1451.02 Z\" fill=\"#000000\" fill-rule=\"evenodd\" fill-opacity=\"1\" /><path clip-path=\"url(#clip040)\" d=\"M1845.24 1469.17 Q1841.91 1469.17 1839.99 1470.95 Q1838.09 1472.73 1838.09 1475.86 Q1838.09 1478.98 1839.99 1480.77 Q1841.91 1482.55 1845.24 1482.55 Q1848.58 1482.55 1850.5 1480.77 Q1852.42 1478.96 1852.42 1475.86 Q1852.42 1472.73 1850.5 1470.95 Q1848.6 1469.17 1845.24 1469.17 M1840.57 1467.18 Q1837.56 1466.44 1835.87 1464.38 Q1834.2 1462.32 1834.2 1459.35 Q1834.2 1455.21 1837.14 1452.8 Q1840.11 1450.39 1845.24 1450.39 Q1850.41 1450.39 1853.35 1452.8 Q1856.29 1455.21 1856.29 1459.35 Q1856.29 1462.32 1854.6 1464.38 Q1852.93 1466.44 1849.94 1467.18 Q1853.32 1467.96 1855.2 1470.26 Q1857.1 1472.55 1857.1 1475.86 Q1857.1 1480.88 1854.02 1483.57 Q1850.96 1486.25 1845.24 1486.25 Q1839.53 1486.25 1836.45 1483.57 Q1833.39 1480.88 1833.39 1475.86 Q1833.39 1472.55 1835.29 1470.26 Q1837.19 1467.96 1840.57 1467.18 M1838.86 1459.79 Q1838.86 1462.48 1840.52 1463.98 Q1842.21 1465.49 1845.24 1465.49 Q1848.25 1465.49 1849.94 1463.98 Q1851.66 1462.48 1851.66 1459.79 Q1851.66 1457.11 1849.94 1455.6 Q1848.25 1454.1 1845.24 1454.1 Q1842.21 1454.1 1840.52 1455.6 Q1838.86 1457.11 1838.86 1459.79 Z\" fill=\"#000000\" fill-rule=\"evenodd\" fill-opacity=\"1\" /><path clip-path=\"url(#clip040)\" d=\"M2059.12 1484.86 L2059.12 1480.6 Q2060.88 1481.44 2062.68 1481.88 Q2064.49 1482.32 2066.23 1482.32 Q2070.85 1482.32 2073.29 1479.21 Q2075.74 1476.09 2076.09 1469.75 Q2074.74 1471.74 2072.68 1472.8 Q2070.62 1473.87 2068.12 1473.87 Q2062.94 1473.87 2059.91 1470.74 Q2056.9 1467.59 2056.9 1462.15 Q2056.9 1456.83 2060.04 1453.61 Q2063.19 1450.39 2068.42 1450.39 Q2074.42 1450.39 2077.57 1455 Q2080.74 1459.58 2080.74 1468.33 Q2080.74 1476.51 2076.85 1481.39 Q2072.98 1486.25 2066.43 1486.25 Q2064.67 1486.25 2062.87 1485.9 Q2061.06 1485.56 2059.12 1484.86 M2068.42 1470.21 Q2071.57 1470.21 2073.4 1468.06 Q2075.25 1465.9 2075.25 1462.15 Q2075.25 1458.43 2073.4 1456.27 Q2071.57 1454.1 2068.42 1454.1 Q2065.28 1454.1 2063.42 1456.27 Q2061.6 1458.43 2061.6 1462.15 Q2061.6 1465.9 2063.42 1468.06 Q2065.28 1470.21 2068.42 1470.21 Z\" fill=\"#000000\" fill-rule=\"evenodd\" fill-opacity=\"1\" /><path clip-path=\"url(#clip040)\" d=\"M2267.08 1481.64 L2274.72 1481.64 L2274.72 1455.28 L2266.41 1456.95 L2266.41 1452.69 L2274.67 1451.02 L2279.35 1451.02 L2279.35 1481.64 L2286.99 1481.64 L2286.99 1485.58 L2267.08 1485.58 L2267.08 1481.64 Z\" fill=\"#000000\" fill-rule=\"evenodd\" fill-opacity=\"1\" /><path clip-path=\"url(#clip040)\" d=\"M2306.43 1454.1 Q2302.82 1454.1 2300.99 1457.66 Q2299.19 1461.2 2299.19 1468.33 Q2299.19 1475.44 2300.99 1479.01 Q2302.82 1482.55 2306.43 1482.55 Q2310.06 1482.55 2311.87 1479.01 Q2313.7 1475.44 2313.7 1468.33 Q2313.7 1461.2 2311.87 1457.66 Q2310.06 1454.1 2306.43 1454.1 M2306.43 1450.39 Q2312.24 1450.39 2315.3 1455 Q2318.37 1459.58 2318.37 1468.33 Q2318.37 1477.06 2315.3 1481.67 Q2312.24 1486.25 2306.43 1486.25 Q2300.62 1486.25 2297.54 1481.67 Q2294.49 1477.06 2294.49 1468.33 Q2294.49 1459.58 2297.54 1455 Q2300.62 1450.39 2306.43 1450.39 Z\" fill=\"#000000\" fill-rule=\"evenodd\" fill-opacity=\"1\" /><path clip-path=\"url(#clip040)\" d=\"M1219.03 1537.81 L1219.03 1518.52 L1224.88 1518.52 L1224.88 1568.04 L1219.03 1568.04 L1219.03 1562.7 Q1217.18 1565.88 1214.35 1567.44 Q1211.55 1568.97 1207.6 1568.97 Q1201.14 1568.97 1197.06 1563.81 Q1193.02 1558.65 1193.02 1550.25 Q1193.02 1541.85 1197.06 1536.69 Q1201.14 1531.54 1207.6 1531.54 Q1211.55 1531.54 1214.35 1533.1 Q1217.18 1534.62 1219.03 1537.81 M1199.07 1550.25 Q1199.07 1556.71 1201.71 1560.4 Q1204.38 1564.07 1209.03 1564.07 Q1213.68 1564.07 1216.35 1560.4 Q1219.03 1556.71 1219.03 1550.25 Q1219.03 1543.79 1216.35 1540.13 Q1213.68 1536.44 1209.03 1536.44 Q1204.38 1536.44 1201.71 1540.13 Q1199.07 1543.79 1199.07 1550.25 Z\" fill=\"#000000\" fill-rule=\"evenodd\" fill-opacity=\"1\" /><path clip-path=\"url(#clip040)\" d=\"M1267.44 1548.76 L1267.44 1551.62 L1240.51 1551.62 Q1240.89 1557.67 1244.14 1560.85 Q1247.42 1564 1253.24 1564 Q1256.62 1564 1259.77 1563.17 Q1262.95 1562.35 1266.07 1560.69 L1266.07 1566.23 Q1262.92 1567.57 1259.61 1568.27 Q1256.3 1568.97 1252.89 1568.97 Q1244.36 1568.97 1239.36 1564 Q1234.4 1559.04 1234.4 1550.57 Q1234.4 1541.82 1239.11 1536.69 Q1243.85 1531.54 1251.87 1531.54 Q1259.07 1531.54 1263.24 1536.18 Q1267.44 1540.8 1267.44 1548.76 M1261.58 1547.04 Q1261.52 1542.23 1258.87 1539.37 Q1256.26 1536.5 1251.94 1536.5 Q1247.03 1536.5 1244.07 1539.27 Q1241.15 1542.04 1240.7 1547.07 L1261.58 1547.04 Z\" fill=\"#000000\" fill-rule=\"evenodd\" fill-opacity=\"1\" /><path clip-path=\"url(#clip040)\" d=\"M1302.7 1533.76 L1302.7 1539.24 Q1300.22 1537.87 1297.71 1537.2 Q1295.22 1536.5 1292.68 1536.5 Q1286.98 1536.5 1283.83 1540.13 Q1280.68 1543.73 1280.68 1550.25 Q1280.68 1556.78 1283.83 1560.4 Q1286.98 1564 1292.68 1564 Q1295.22 1564 1297.71 1563.33 Q1300.22 1562.63 1302.7 1561.26 L1302.7 1566.68 Q1300.25 1567.82 1297.61 1568.39 Q1295 1568.97 1292.04 1568.97 Q1283.99 1568.97 1279.25 1563.91 Q1274.5 1558.85 1274.5 1550.25 Q1274.5 1541.53 1279.28 1536.53 Q1284.08 1531.54 1292.42 1531.54 Q1295.13 1531.54 1297.71 1532.11 Q1300.28 1532.65 1302.7 1533.76 Z\" fill=\"#000000\" fill-rule=\"evenodd\" fill-opacity=\"1\" /><path clip-path=\"url(#clip040)\" d=\"M1312.89 1532.4 L1318.74 1532.4 L1318.74 1568.04 L1312.89 1568.04 L1312.89 1532.4 M1312.89 1518.52 L1318.74 1518.52 L1318.74 1525.93 L1312.89 1525.93 L1312.89 1518.52 Z\" fill=\"#000000\" fill-rule=\"evenodd\" fill-opacity=\"1\" /><path clip-path=\"url(#clip040)\" d=\"M1331 1518.52 L1336.85 1518.52 L1336.85 1568.04 L1331 1568.04 L1331 1518.52 Z\" fill=\"#000000\" fill-rule=\"evenodd\" fill-opacity=\"1\" /><path clip-path=\"url(#clip040)\" d=\"M1379.6 1548.76 L1379.6 1551.62 L1352.67 1551.62 Q1353.06 1557.67 1356.3 1560.85 Q1359.58 1564 1365.4 1564 Q1368.78 1564 1371.93 1563.17 Q1375.11 1562.35 1378.23 1560.69 L1378.23 1566.23 Q1375.08 1567.57 1371.77 1568.27 Q1368.46 1568.97 1365.05 1568.97 Q1356.52 1568.97 1351.53 1564 Q1346.56 1559.04 1346.56 1550.57 Q1346.56 1541.82 1351.27 1536.69 Q1356.02 1531.54 1364.04 1531.54 Q1371.23 1531.54 1375.4 1536.18 Q1379.6 1540.8 1379.6 1548.76 M1373.74 1547.04 Q1373.68 1542.23 1371.04 1539.37 Q1368.43 1536.5 1364.1 1536.5 Q1359.2 1536.5 1356.24 1539.27 Q1353.31 1542.04 1352.86 1547.07 L1373.74 1547.04 Z\" fill=\"#000000\" fill-rule=\"evenodd\" fill-opacity=\"1\" /><polyline clip-path=\"url(#clip042)\" style=\"stroke:#000000; stroke-linecap:round; stroke-linejoin:round; stroke-width:2; stroke-opacity:0.1; fill:none\" points=\"\n",
       "  219.866,1399.25 2352.76,1399.25 \n",
       "  \"/>\n",
       "<polyline clip-path=\"url(#clip042)\" style=\"stroke:#000000; stroke-linecap:round; stroke-linejoin:round; stroke-width:2; stroke-opacity:0.1; fill:none\" points=\"\n",
       "  219.866,1098.55 2352.76,1098.55 \n",
       "  \"/>\n",
       "<polyline clip-path=\"url(#clip042)\" style=\"stroke:#000000; stroke-linecap:round; stroke-linejoin:round; stroke-width:2; stroke-opacity:0.1; fill:none\" points=\"\n",
       "  219.866,797.836 2352.76,797.836 \n",
       "  \"/>\n",
       "<polyline clip-path=\"url(#clip042)\" style=\"stroke:#000000; stroke-linecap:round; stroke-linejoin:round; stroke-width:2; stroke-opacity:0.1; fill:none\" points=\"\n",
       "  219.866,497.128 2352.76,497.128 \n",
       "  \"/>\n",
       "<polyline clip-path=\"url(#clip042)\" style=\"stroke:#000000; stroke-linecap:round; stroke-linejoin:round; stroke-width:2; stroke-opacity:0.1; fill:none\" points=\"\n",
       "  219.866,196.419 2352.76,196.419 \n",
       "  \"/>\n",
       "<polyline clip-path=\"url(#clip040)\" style=\"stroke:#000000; stroke-linecap:round; stroke-linejoin:round; stroke-width:4; stroke-opacity:1; fill:none\" points=\"\n",
       "  219.866,1423.18 219.866,47.2441 \n",
       "  \"/>\n",
       "<polyline clip-path=\"url(#clip040)\" style=\"stroke:#000000; stroke-linecap:round; stroke-linejoin:round; stroke-width:4; stroke-opacity:1; fill:none\" points=\"\n",
       "  219.866,1399.25 238.764,1399.25 \n",
       "  \"/>\n",
       "<polyline clip-path=\"url(#clip040)\" style=\"stroke:#000000; stroke-linecap:round; stroke-linejoin:round; stroke-width:4; stroke-opacity:1; fill:none\" points=\"\n",
       "  219.866,1098.55 238.764,1098.55 \n",
       "  \"/>\n",
       "<polyline clip-path=\"url(#clip040)\" style=\"stroke:#000000; stroke-linecap:round; stroke-linejoin:round; stroke-width:4; stroke-opacity:1; fill:none\" points=\"\n",
       "  219.866,797.836 238.764,797.836 \n",
       "  \"/>\n",
       "<polyline clip-path=\"url(#clip040)\" style=\"stroke:#000000; stroke-linecap:round; stroke-linejoin:round; stroke-width:4; stroke-opacity:1; fill:none\" points=\"\n",
       "  219.866,497.128 238.764,497.128 \n",
       "  \"/>\n",
       "<polyline clip-path=\"url(#clip040)\" style=\"stroke:#000000; stroke-linecap:round; stroke-linejoin:round; stroke-width:4; stroke-opacity:1; fill:none\" points=\"\n",
       "  219.866,196.419 238.764,196.419 \n",
       "  \"/>\n",
       "<path clip-path=\"url(#clip040)\" d=\"M126.691 1385.05 Q123.08 1385.05 121.251 1388.62 Q119.445 1392.16 119.445 1399.29 Q119.445 1406.39 121.251 1409.96 Q123.08 1413.5 126.691 1413.5 Q130.325 1413.5 132.13 1409.96 Q133.959 1406.39 133.959 1399.29 Q133.959 1392.16 132.13 1388.62 Q130.325 1385.05 126.691 1385.05 M126.691 1381.35 Q132.501 1381.35 135.556 1385.96 Q138.635 1390.54 138.635 1399.29 Q138.635 1408.02 135.556 1412.62 Q132.501 1417.21 126.691 1417.21 Q120.88 1417.21 117.802 1412.62 Q114.746 1408.02 114.746 1399.29 Q114.746 1390.54 117.802 1385.96 Q120.88 1381.35 126.691 1381.35 Z\" fill=\"#000000\" fill-rule=\"evenodd\" fill-opacity=\"1\" /><path clip-path=\"url(#clip040)\" d=\"M146.853 1410.65 L151.737 1410.65 L151.737 1416.53 L146.853 1416.53 L146.853 1410.65 Z\" fill=\"#000000\" fill-rule=\"evenodd\" fill-opacity=\"1\" /><path clip-path=\"url(#clip040)\" d=\"M171.922 1385.05 Q168.311 1385.05 166.482 1388.62 Q164.677 1392.16 164.677 1399.29 Q164.677 1406.39 166.482 1409.96 Q168.311 1413.5 171.922 1413.5 Q175.556 1413.5 177.362 1409.96 Q179.19 1406.39 179.19 1399.29 Q179.19 1392.16 177.362 1388.62 Q175.556 1385.05 171.922 1385.05 M171.922 1381.35 Q177.732 1381.35 180.788 1385.96 Q183.866 1390.54 183.866 1399.29 Q183.866 1408.02 180.788 1412.62 Q177.732 1417.21 171.922 1417.21 Q166.112 1417.21 163.033 1412.62 Q159.978 1408.02 159.978 1399.29 Q159.978 1390.54 163.033 1385.96 Q166.112 1381.35 171.922 1381.35 Z\" fill=\"#000000\" fill-rule=\"evenodd\" fill-opacity=\"1\" /><path clip-path=\"url(#clip040)\" d=\"M128.288 1084.34 Q124.677 1084.34 122.848 1087.91 Q121.043 1091.45 121.043 1098.58 Q121.043 1105.69 122.848 1109.25 Q124.677 1112.79 128.288 1112.79 Q131.922 1112.79 133.728 1109.25 Q135.556 1105.69 135.556 1098.58 Q135.556 1091.45 133.728 1087.91 Q131.922 1084.34 128.288 1084.34 M128.288 1080.64 Q134.098 1080.64 137.154 1085.25 Q140.232 1089.83 140.232 1098.58 Q140.232 1107.31 137.154 1111.91 Q134.098 1116.5 128.288 1116.5 Q122.478 1116.5 119.399 1111.91 Q116.343 1107.31 116.343 1098.58 Q116.343 1089.83 119.399 1085.25 Q122.478 1080.64 128.288 1080.64 Z\" fill=\"#000000\" fill-rule=\"evenodd\" fill-opacity=\"1\" /><path clip-path=\"url(#clip040)\" d=\"M148.45 1109.95 L153.334 1109.95 L153.334 1115.83 L148.45 1115.83 L148.45 1109.95 Z\" fill=\"#000000\" fill-rule=\"evenodd\" fill-opacity=\"1\" /><path clip-path=\"url(#clip040)\" d=\"M167.547 1111.89 L183.866 1111.89 L183.866 1115.83 L161.922 1115.83 L161.922 1111.89 Q164.584 1109.14 169.167 1104.51 Q173.774 1099.85 174.954 1098.51 Q177.2 1095.99 178.079 1094.25 Q178.982 1092.49 178.982 1090.8 Q178.982 1088.05 177.038 1086.31 Q175.116 1084.58 172.014 1084.58 Q169.815 1084.58 167.362 1085.34 Q164.931 1086.1 162.153 1087.65 L162.153 1082.93 Q164.977 1081.8 167.431 1081.22 Q169.885 1080.64 171.922 1080.64 Q177.292 1080.64 180.487 1083.33 Q183.681 1086.01 183.681 1090.5 Q183.681 1092.63 182.871 1094.55 Q182.084 1096.45 179.977 1099.04 Q179.399 1099.71 176.297 1102.93 Q173.195 1106.13 167.547 1111.89 Z\" fill=\"#000000\" fill-rule=\"evenodd\" fill-opacity=\"1\" /><path clip-path=\"url(#clip040)\" d=\"M126.205 783.635 Q122.593 783.635 120.765 787.2 Q118.959 790.742 118.959 797.871 Q118.959 804.978 120.765 808.542 Q122.593 812.084 126.205 812.084 Q129.839 812.084 131.644 808.542 Q133.473 804.978 133.473 797.871 Q133.473 790.742 131.644 787.2 Q129.839 783.635 126.205 783.635 M126.205 779.931 Q132.015 779.931 135.07 784.538 Q138.149 789.121 138.149 797.871 Q138.149 806.598 135.07 811.204 Q132.015 815.788 126.205 815.788 Q120.394 815.788 117.316 811.204 Q114.26 806.598 114.26 797.871 Q114.26 789.121 117.316 784.538 Q120.394 779.931 126.205 779.931 Z\" fill=\"#000000\" fill-rule=\"evenodd\" fill-opacity=\"1\" /><path clip-path=\"url(#clip040)\" d=\"M146.366 809.237 L151.251 809.237 L151.251 815.116 L146.366 815.116 L146.366 809.237 Z\" fill=\"#000000\" fill-rule=\"evenodd\" fill-opacity=\"1\" /><path clip-path=\"url(#clip040)\" d=\"M174.283 784.63 L162.477 803.079 L174.283 803.079 L174.283 784.63 M173.056 780.556 L178.936 780.556 L178.936 803.079 L183.866 803.079 L183.866 806.968 L178.936 806.968 L178.936 815.116 L174.283 815.116 L174.283 806.968 L158.681 806.968 L158.681 802.454 L173.056 780.556 Z\" fill=\"#000000\" fill-rule=\"evenodd\" fill-opacity=\"1\" /><path clip-path=\"url(#clip040)\" d=\"M126.529 482.926 Q122.918 482.926 121.089 486.491 Q119.283 490.033 119.283 497.162 Q119.283 504.269 121.089 507.834 Q122.918 511.375 126.529 511.375 Q130.163 511.375 131.968 507.834 Q133.797 504.269 133.797 497.162 Q133.797 490.033 131.968 486.491 Q130.163 482.926 126.529 482.926 M126.529 479.223 Q132.339 479.223 135.394 483.829 Q138.473 488.412 138.473 497.162 Q138.473 505.889 135.394 510.496 Q132.339 515.079 126.529 515.079 Q120.718 515.079 117.64 510.496 Q114.584 505.889 114.584 497.162 Q114.584 488.412 117.64 483.829 Q120.718 479.223 126.529 479.223 Z\" fill=\"#000000\" fill-rule=\"evenodd\" fill-opacity=\"1\" /><path clip-path=\"url(#clip040)\" d=\"M146.691 508.528 L151.575 508.528 L151.575 514.408 L146.691 514.408 L146.691 508.528 Z\" fill=\"#000000\" fill-rule=\"evenodd\" fill-opacity=\"1\" /><path clip-path=\"url(#clip040)\" d=\"M172.339 495.264 Q169.19 495.264 167.339 497.417 Q165.51 499.57 165.51 503.32 Q165.51 507.047 167.339 509.223 Q169.19 511.375 172.339 511.375 Q175.487 511.375 177.315 509.223 Q179.167 507.047 179.167 503.32 Q179.167 499.57 177.315 497.417 Q175.487 495.264 172.339 495.264 M181.621 480.612 L181.621 484.871 Q179.862 484.037 178.056 483.598 Q176.274 483.158 174.514 483.158 Q169.885 483.158 167.431 486.283 Q165.001 489.408 164.653 495.727 Q166.019 493.713 168.079 492.649 Q170.139 491.561 172.616 491.561 Q177.825 491.561 180.834 494.732 Q183.866 497.88 183.866 503.32 Q183.866 508.644 180.718 511.861 Q177.57 515.079 172.339 515.079 Q166.343 515.079 163.172 510.496 Q160.001 505.889 160.001 497.162 Q160.001 488.968 163.89 484.107 Q167.778 479.223 174.329 479.223 Q176.089 479.223 177.871 479.57 Q179.676 479.917 181.621 480.612 Z\" fill=\"#000000\" fill-rule=\"evenodd\" fill-opacity=\"1\" /><path clip-path=\"url(#clip040)\" d=\"M126.783 182.218 Q123.172 182.218 121.343 185.782 Q119.538 189.324 119.538 196.454 Q119.538 203.56 121.343 207.125 Q123.172 210.667 126.783 210.667 Q130.417 210.667 132.223 207.125 Q134.052 203.56 134.052 196.454 Q134.052 189.324 132.223 185.782 Q130.417 182.218 126.783 182.218 M126.783 178.514 Q132.593 178.514 135.649 183.12 Q138.728 187.704 138.728 196.454 Q138.728 205.181 135.649 209.787 Q132.593 214.37 126.783 214.37 Q120.973 214.37 117.894 209.787 Q114.839 205.181 114.839 196.454 Q114.839 187.704 117.894 183.12 Q120.973 178.514 126.783 178.514 Z\" fill=\"#000000\" fill-rule=\"evenodd\" fill-opacity=\"1\" /><path clip-path=\"url(#clip040)\" d=\"M146.945 207.819 L151.829 207.819 L151.829 213.699 L146.945 213.699 L146.945 207.819 Z\" fill=\"#000000\" fill-rule=\"evenodd\" fill-opacity=\"1\" /><path clip-path=\"url(#clip040)\" d=\"M172.014 197.287 Q168.681 197.287 166.76 199.069 Q164.862 200.852 164.862 203.977 Q164.862 207.102 166.76 208.884 Q168.681 210.667 172.014 210.667 Q175.348 210.667 177.269 208.884 Q179.19 207.079 179.19 203.977 Q179.19 200.852 177.269 199.069 Q175.371 197.287 172.014 197.287 M167.339 195.296 Q164.329 194.556 162.64 192.495 Q160.973 190.435 160.973 187.472 Q160.973 183.329 163.913 180.921 Q166.876 178.514 172.014 178.514 Q177.176 178.514 180.116 180.921 Q183.056 183.329 183.056 187.472 Q183.056 190.435 181.366 192.495 Q179.7 194.556 176.714 195.296 Q180.093 196.083 181.968 198.375 Q183.866 200.667 183.866 203.977 Q183.866 209 180.788 211.685 Q177.732 214.37 172.014 214.37 Q166.297 214.37 163.218 211.685 Q160.163 209 160.163 203.977 Q160.163 200.667 162.061 198.375 Q163.959 196.083 167.339 195.296 M165.626 187.912 Q165.626 190.597 167.292 192.102 Q168.982 193.607 172.014 193.607 Q175.024 193.607 176.714 192.102 Q178.426 190.597 178.426 187.912 Q178.426 185.227 176.714 183.722 Q175.024 182.218 172.014 182.218 Q168.982 182.218 167.292 183.722 Q165.626 185.227 165.626 187.912 Z\" fill=\"#000000\" fill-rule=\"evenodd\" fill-opacity=\"1\" /><path clip-path=\"url(#clip040)\" d=\"M58.657 948.368 L77.5631 948.368 L77.5631 954.256 L28.3562 954.256 L28.3562 948.368 L33.7671 948.368 Q30.5842 946.522 29.0564 943.721 Q27.4968 940.888 27.4968 936.973 Q27.4968 930.48 32.6531 926.438 Q37.8093 922.364 46.212 922.364 Q54.6147 922.364 59.771 926.438 Q64.9272 930.48 64.9272 936.973 Q64.9272 940.888 63.3994 943.721 Q61.8398 946.522 58.657 948.368 M46.212 928.443 Q39.7508 928.443 36.0905 931.117 Q32.3984 933.758 32.3984 938.405 Q32.3984 943.052 36.0905 945.726 Q39.7508 948.368 46.212 948.368 Q52.6732 948.368 56.3653 945.726 Q60.0256 943.052 60.0256 938.405 Q60.0256 933.758 56.3653 931.117 Q52.6732 928.443 46.212 928.443 Z\" fill=\"#000000\" fill-rule=\"evenodd\" fill-opacity=\"1\" /><path clip-path=\"url(#clip040)\" d=\"M33.8307 891.999 Q33.2578 892.986 33.0032 894.164 Q32.7167 895.309 32.7167 896.71 Q32.7167 901.675 35.9632 904.349 Q39.1779 906.991 45.2253 906.991 L64.0042 906.991 L64.0042 912.879 L28.3562 912.879 L28.3562 906.991 L33.8944 906.991 Q30.6479 905.145 29.0883 902.184 Q27.4968 899.224 27.4968 894.991 Q27.4968 894.386 27.5923 893.654 Q27.656 892.922 27.8151 892.031 L33.8307 891.999 Z\" fill=\"#000000\" fill-rule=\"evenodd\" fill-opacity=\"1\" /><path clip-path=\"url(#clip040)\" d=\"M32.4621 873.475 Q32.4621 878.186 36.1542 880.923 Q39.8145 883.66 46.212 883.66 Q52.6095 883.66 56.3017 880.955 Q59.9619 878.218 59.9619 873.475 Q59.9619 868.796 56.2698 866.059 Q52.5777 863.322 46.212 863.322 Q39.8781 863.322 36.186 866.059 Q32.4621 868.796 32.4621 873.475 M27.4968 873.475 Q27.4968 865.836 32.4621 861.476 Q37.4273 857.115 46.212 857.115 Q54.9649 857.115 59.9619 861.476 Q64.9272 865.836 64.9272 873.475 Q64.9272 881.146 59.9619 885.506 Q54.9649 889.835 46.212 889.835 Q37.4273 889.835 32.4621 885.506 Q27.4968 881.146 27.4968 873.475 Z\" fill=\"#000000\" fill-rule=\"evenodd\" fill-opacity=\"1\" /><path clip-path=\"url(#clip040)\" d=\"M46.212 821.817 Q39.7508 821.817 36.0905 824.491 Q32.3984 827.133 32.3984 831.78 Q32.3984 836.427 36.0905 839.1 Q39.7508 841.742 46.212 841.742 Q52.6732 841.742 56.3653 839.1 Q60.0256 836.427 60.0256 831.78 Q60.0256 827.133 56.3653 824.491 Q52.6732 821.817 46.212 821.817 M33.7671 841.742 Q30.5842 839.896 29.0564 837.095 Q27.4968 834.262 27.4968 830.347 Q27.4968 823.854 32.6531 819.812 Q37.8093 815.738 46.212 815.738 Q54.6147 815.738 59.771 819.812 Q64.9272 823.854 64.9272 830.347 Q64.9272 834.262 63.3994 837.095 Q61.8398 839.896 58.657 841.742 L64.0042 841.742 L64.0042 847.63 L14.479 847.63 L14.479 841.742 L33.7671 841.742 Z\" fill=\"#000000\" fill-rule=\"evenodd\" fill-opacity=\"1\" /><path clip-path=\"url(#clip040)\" d=\"M46.0847 789.83 Q46.0847 796.927 47.7079 799.665 Q49.3312 802.402 53.2461 802.402 Q56.3653 802.402 58.2114 800.365 Q60.0256 798.296 60.0256 794.763 Q60.0256 789.893 56.5881 786.965 Q53.1188 784.005 47.3897 784.005 L46.0847 784.005 L46.0847 789.83 M43.6657 778.149 L64.0042 778.149 L64.0042 784.005 L58.5933 784.005 Q61.8398 786.01 63.3994 789.002 Q64.9272 791.994 64.9272 796.323 Q64.9272 801.797 61.8716 805.044 Q58.7843 808.258 53.6281 808.258 Q47.6125 808.258 44.5569 804.248 Q41.5014 800.206 41.5014 792.217 L41.5014 784.005 L40.9285 784.005 Q36.8862 784.005 34.6901 786.679 Q32.4621 789.32 32.4621 794.127 Q32.4621 797.182 33.1941 800.079 Q33.9262 802.975 35.3903 805.649 L29.9795 805.649 Q28.7381 802.434 28.1334 799.41 Q27.4968 796.386 27.4968 793.522 Q27.4968 785.788 31.5072 781.968 Q35.5176 778.149 43.6657 778.149 Z\" fill=\"#000000\" fill-rule=\"evenodd\" fill-opacity=\"1\" /><path clip-path=\"url(#clip040)\" d=\"M46.212 740.496 Q39.7508 740.496 36.0905 743.169 Q32.3984 745.811 32.3984 750.458 Q32.3984 755.105 36.0905 757.778 Q39.7508 760.42 46.212 760.42 Q52.6732 760.42 56.3653 757.778 Q60.0256 755.105 60.0256 750.458 Q60.0256 745.811 56.3653 743.169 Q52.6732 740.496 46.212 740.496 M33.7671 760.42 Q30.5842 758.574 29.0564 755.773 Q27.4968 752.94 27.4968 749.026 Q27.4968 742.533 32.6531 738.49 Q37.8093 734.416 46.212 734.416 Q54.6147 734.416 59.771 738.49 Q64.9272 742.533 64.9272 749.026 Q64.9272 752.94 63.3994 755.773 Q61.8398 758.574 58.657 760.42 L64.0042 760.42 L64.0042 766.308 L14.479 766.308 L14.479 760.42 L33.7671 760.42 Z\" fill=\"#000000\" fill-rule=\"evenodd\" fill-opacity=\"1\" /><path clip-path=\"url(#clip040)\" d=\"M28.3562 724.709 L28.3562 718.852 L64.0042 718.852 L64.0042 724.709 L28.3562 724.709 M14.479 724.709 L14.479 718.852 L21.895 718.852 L21.895 724.709 L14.479 724.709 Z\" fill=\"#000000\" fill-rule=\"evenodd\" fill-opacity=\"1\" /><path clip-path=\"url(#clip040)\" d=\"M14.479 706.598 L14.479 700.742 L64.0042 700.742 L64.0042 706.598 L14.479 706.598 Z\" fill=\"#000000\" fill-rule=\"evenodd\" fill-opacity=\"1\" /><path clip-path=\"url(#clip040)\" d=\"M28.3562 688.488 L28.3562 682.631 L64.0042 682.631 L64.0042 688.488 L28.3562 688.488 M14.479 688.488 L14.479 682.631 L21.895 682.631 L21.895 688.488 L14.479 688.488 Z\" fill=\"#000000\" fill-rule=\"evenodd\" fill-opacity=\"1\" /><path clip-path=\"url(#clip040)\" d=\"M18.2347 664.584 L28.3562 664.584 L28.3562 652.521 L32.9077 652.521 L32.9077 664.584 L52.2594 664.584 Q56.6199 664.584 57.8613 663.407 Q59.1026 662.197 59.1026 658.537 L59.1026 652.521 L64.0042 652.521 L64.0042 658.537 Q64.0042 665.317 61.4897 667.895 Q58.9434 670.473 52.2594 670.473 L32.9077 670.473 L32.9077 674.77 L28.3562 674.77 L28.3562 670.473 L18.2347 670.473 L18.2347 664.584 Z\" fill=\"#000000\" fill-rule=\"evenodd\" fill-opacity=\"1\" /><path clip-path=\"url(#clip040)\" d=\"M67.3143 629.987 Q73.68 632.469 75.6216 634.825 Q77.5631 637.18 77.5631 641.127 L77.5631 645.806 L72.6615 645.806 L72.6615 642.368 Q72.6615 639.949 71.5157 638.612 Q70.3699 637.276 66.1048 635.652 L63.4312 634.602 L28.3562 649.02 L28.3562 642.814 L56.238 631.674 L28.3562 620.534 L28.3562 614.327 L67.3143 629.987 Z\" fill=\"#000000\" fill-rule=\"evenodd\" fill-opacity=\"1\" /><path clip-path=\"url(#clip040)\" d=\"M35.1993 557.768 Q31.2526 555.572 29.3747 552.516 Q27.4968 549.461 27.4968 545.323 Q27.4968 539.753 31.4117 536.729 Q35.2948 533.706 42.4881 533.706 L64.0042 533.706 L64.0042 539.594 L42.679 539.594 Q37.5546 539.594 35.072 541.408 Q32.5894 543.222 32.5894 546.946 Q32.5894 551.498 35.6131 554.139 Q38.6368 556.781 43.8567 556.781 L64.0042 556.781 L64.0042 562.669 L42.679 562.669 Q37.5228 562.669 35.072 564.484 Q32.5894 566.298 32.5894 570.086 Q32.5894 574.573 35.6449 577.215 Q38.6686 579.857 43.8567 579.857 L64.0042 579.857 L64.0042 585.745 L28.3562 585.745 L28.3562 579.857 L33.8944 579.857 Q30.616 577.852 29.0564 575.051 Q27.4968 572.25 27.4968 568.399 Q27.4968 564.516 29.4702 561.81 Q31.4436 559.073 35.1993 557.768 Z\" fill=\"#000000\" fill-rule=\"evenodd\" fill-opacity=\"1\" /><path clip-path=\"url(#clip040)\" d=\"M14.479 522.024 L14.479 516.168 L64.0042 516.168 L64.0042 522.024 L14.479 522.024 Z\" fill=\"#000000\" fill-rule=\"evenodd\" fill-opacity=\"1\" /><polyline clip-path=\"url(#clip042)\" style=\"stroke:#009af9; stroke-linecap:round; stroke-linejoin:round; stroke-width:4; stroke-opacity:1; fill:none\" points=\"\n",
       "  280.231,1381.94 503.804,1348.81 727.378,1316.02 950.951,1272.1 1174.52,1203.41 1398.1,1138.57 1621.67,1031.65 1845.24,977.984 2068.82,443.93 2292.39,100.938 \n",
       "  \n",
       "  \"/>\n",
       "<polyline clip-path=\"url(#clip042)\" style=\"stroke:#e26f46; stroke-linecap:round; stroke-linejoin:round; stroke-width:4; stroke-opacity:1; fill:none\" points=\"\n",
       "  280.231,1384.24 503.804,1355.45 727.378,1323.04 950.951,1276.94 1174.52,1210.68 1398.1,1127.56 1621.67,1041.6 1845.24,923.36 2068.82,509.813 2292.39,86.1857 \n",
       "  \n",
       "  \"/>\n",
       "<path clip-path=\"url(#clip040)\" d=\"\n",
       "M290.963 248.629 L720.524 248.629 L720.524 93.1086 L290.963 93.1086  Z\n",
       "  \" fill=\"#ffffff\" fill-rule=\"evenodd\" fill-opacity=\"1\"/>\n",
       "<polyline clip-path=\"url(#clip040)\" style=\"stroke:#000000; stroke-linecap:round; stroke-linejoin:round; stroke-width:4; stroke-opacity:1; fill:none\" points=\"\n",
       "  290.963,248.629 720.524,248.629 720.524,93.1086 290.963,93.1086 290.963,248.629 \n",
       "  \"/>\n",
       "<polyline clip-path=\"url(#clip040)\" style=\"stroke:#009af9; stroke-linecap:round; stroke-linejoin:round; stroke-width:4; stroke-opacity:1; fill:none\" points=\"\n",
       "  314.661,144.949 456.854,144.949 \n",
       "  \"/>\n",
       "<path clip-path=\"url(#clip040)\" d=\"M492.451 139.289 Q489.025 139.289 487.034 141.974 Q485.043 144.636 485.043 149.289 Q485.043 153.942 487.011 156.627 Q489.002 159.289 492.451 159.289 Q495.854 159.289 497.844 156.604 Q499.835 153.918 499.835 149.289 Q499.835 144.682 497.844 141.997 Q495.854 139.289 492.451 139.289 M492.451 135.678 Q498.006 135.678 501.178 139.289 Q504.349 142.9 504.349 149.289 Q504.349 155.655 501.178 159.289 Q498.006 162.9 492.451 162.9 Q486.872 162.9 483.701 159.289 Q480.553 155.655 480.553 149.289 Q480.553 142.9 483.701 139.289 Q486.872 135.678 492.451 135.678 Z\" fill=\"#000000\" fill-rule=\"evenodd\" fill-opacity=\"1\" /><path clip-path=\"url(#clip040)\" d=\"M530.02 149.289 Q530.02 144.59 528.076 141.928 Q526.154 139.243 522.775 139.243 Q519.395 139.243 517.451 141.928 Q515.529 144.59 515.529 149.289 Q515.529 153.988 517.451 156.673 Q519.395 159.335 522.775 159.335 Q526.154 159.335 528.076 156.673 Q530.02 153.988 530.02 149.289 M515.529 140.238 Q516.872 137.923 518.909 136.812 Q520.969 135.678 523.816 135.678 Q528.539 135.678 531.478 139.428 Q534.441 143.178 534.441 149.289 Q534.441 155.4 531.478 159.15 Q528.539 162.9 523.816 162.9 Q520.969 162.9 518.909 161.789 Q516.872 160.655 515.529 158.34 L515.529 162.229 L511.247 162.229 L511.247 126.21 L515.529 126.21 L515.529 140.238 Z\" fill=\"#000000\" fill-rule=\"evenodd\" fill-opacity=\"1\" /><path clip-path=\"url(#clip040)\" d=\"M558.029 137.067 L558.029 141.094 Q556.224 140.169 554.279 139.706 Q552.335 139.243 550.251 139.243 Q547.08 139.243 545.483 140.215 Q543.909 141.187 543.909 143.131 Q543.909 144.613 545.043 145.469 Q546.177 146.303 549.603 147.067 L551.062 147.391 Q555.599 148.363 557.497 150.145 Q559.418 151.905 559.418 155.076 Q559.418 158.687 556.548 160.793 Q553.701 162.9 548.701 162.9 Q546.617 162.9 544.349 162.483 Q542.103 162.09 539.603 161.28 L539.603 156.881 Q541.964 158.108 544.256 158.733 Q546.548 159.335 548.793 159.335 Q551.802 159.335 553.423 158.317 Q555.043 157.275 555.043 155.4 Q555.043 153.664 553.863 152.738 Q552.705 151.812 548.747 150.956 L547.265 150.608 Q543.307 149.775 541.548 148.062 Q539.789 146.326 539.789 143.317 Q539.789 139.659 542.381 137.669 Q544.974 135.678 549.742 135.678 Q552.103 135.678 554.187 136.025 Q556.27 136.372 558.029 137.067 Z\" fill=\"#000000\" fill-rule=\"evenodd\" fill-opacity=\"1\" /><path clip-path=\"url(#clip040)\" d=\"M588.376 148.201 L588.376 150.284 L568.793 150.284 Q569.071 154.682 571.432 156.997 Q573.816 159.289 578.052 159.289 Q580.506 159.289 582.798 158.687 Q585.112 158.085 587.381 156.881 L587.381 160.909 Q585.089 161.881 582.682 162.391 Q580.274 162.9 577.798 162.9 Q571.594 162.9 567.96 159.289 Q564.349 155.678 564.349 149.52 Q564.349 143.155 567.775 139.428 Q571.224 135.678 577.057 135.678 Q582.288 135.678 585.321 139.057 Q588.376 142.414 588.376 148.201 M584.117 146.951 Q584.071 143.456 582.149 141.372 Q580.251 139.289 577.103 139.289 Q573.538 139.289 571.386 141.303 Q569.256 143.317 568.932 146.974 L584.117 146.951 Z\" fill=\"#000000\" fill-rule=\"evenodd\" fill-opacity=\"1\" /><path clip-path=\"url(#clip040)\" d=\"M610.39 140.284 Q609.672 139.868 608.816 139.682 Q607.983 139.474 606.964 139.474 Q603.353 139.474 601.409 141.835 Q599.487 144.173 599.487 148.571 L599.487 162.229 L595.205 162.229 L595.205 136.303 L599.487 136.303 L599.487 140.331 Q600.83 137.969 602.983 136.835 Q605.135 135.678 608.214 135.678 Q608.654 135.678 609.186 135.747 Q609.719 135.794 610.367 135.909 L610.39 140.284 Z\" fill=\"#000000\" fill-rule=\"evenodd\" fill-opacity=\"1\" /><path clip-path=\"url(#clip040)\" d=\"M611.802 136.303 L616.316 136.303 L624.418 158.062 L632.52 136.303 L637.033 136.303 L627.311 162.229 L621.524 162.229 L611.802 136.303 Z\" fill=\"#000000\" fill-rule=\"evenodd\" fill-opacity=\"1\" /><path clip-path=\"url(#clip040)\" d=\"M665.089 148.201 L665.089 150.284 L645.506 150.284 Q645.783 154.682 648.144 156.997 Q650.529 159.289 654.765 159.289 Q657.218 159.289 659.51 158.687 Q661.825 158.085 664.093 156.881 L664.093 160.909 Q661.802 161.881 659.394 162.391 Q656.987 162.9 654.51 162.9 Q648.307 162.9 644.672 159.289 Q641.061 155.678 641.061 149.52 Q641.061 143.155 644.487 139.428 Q647.936 135.678 653.769 135.678 Q659.001 135.678 662.033 139.057 Q665.089 142.414 665.089 148.201 M660.83 146.951 Q660.783 143.456 658.862 141.372 Q656.964 139.289 653.816 139.289 Q650.251 139.289 648.098 141.303 Q645.969 143.317 645.644 146.974 L660.83 146.951 Z\" fill=\"#000000\" fill-rule=\"evenodd\" fill-opacity=\"1\" /><path clip-path=\"url(#clip040)\" d=\"M689.14 140.238 L689.14 126.21 L693.399 126.21 L693.399 162.229 L689.14 162.229 L689.14 158.34 Q687.797 160.655 685.737 161.789 Q683.7 162.9 680.829 162.9 Q676.13 162.9 673.167 159.15 Q670.228 155.4 670.228 149.289 Q670.228 143.178 673.167 139.428 Q676.13 135.678 680.829 135.678 Q683.7 135.678 685.737 136.812 Q687.797 137.923 689.14 140.238 M674.626 149.289 Q674.626 153.988 676.547 156.673 Q678.492 159.335 681.871 159.335 Q685.251 159.335 687.195 156.673 Q689.14 153.988 689.14 149.289 Q689.14 144.59 687.195 141.928 Q685.251 139.243 681.871 139.243 Q678.492 139.243 676.547 141.928 Q674.626 144.59 674.626 149.289 Z\" fill=\"#000000\" fill-rule=\"evenodd\" fill-opacity=\"1\" /><polyline clip-path=\"url(#clip040)\" style=\"stroke:#e26f46; stroke-linecap:round; stroke-linejoin:round; stroke-width:4; stroke-opacity:1; fill:none\" points=\"\n",
       "  314.661,196.789 456.854,196.789 \n",
       "  \"/>\n",
       "<path clip-path=\"url(#clip040)\" d=\"M484.835 210.18 L484.835 223.93 L480.553 223.93 L480.553 188.143 L484.835 188.143 L484.835 192.078 Q486.178 189.763 488.215 188.652 Q490.275 187.518 493.122 187.518 Q497.844 187.518 500.784 191.268 Q503.747 195.018 503.747 201.129 Q503.747 207.24 500.784 210.99 Q497.844 214.74 493.122 214.74 Q490.275 214.74 488.215 213.629 Q486.178 212.495 484.835 210.18 M499.326 201.129 Q499.326 196.43 497.381 193.768 Q495.46 191.083 492.08 191.083 Q488.701 191.083 486.756 193.768 Q484.835 196.43 484.835 201.129 Q484.835 205.828 486.756 208.513 Q488.701 211.175 492.08 211.175 Q495.46 211.175 497.381 208.513 Q499.326 205.828 499.326 201.129 Z\" fill=\"#000000\" fill-rule=\"evenodd\" fill-opacity=\"1\" /><path clip-path=\"url(#clip040)\" d=\"M525.83 192.124 Q525.113 191.708 524.256 191.522 Q523.423 191.314 522.404 191.314 Q518.793 191.314 516.849 193.675 Q514.928 196.013 514.928 200.411 L514.928 214.069 L510.645 214.069 L510.645 188.143 L514.928 188.143 L514.928 192.171 Q516.27 189.809 518.423 188.675 Q520.576 187.518 523.654 187.518 Q524.094 187.518 524.627 187.587 Q525.159 187.634 525.807 187.749 L525.83 192.124 Z\" fill=\"#000000\" fill-rule=\"evenodd\" fill-opacity=\"1\" /><path clip-path=\"url(#clip040)\" d=\"M551.432 200.041 L551.432 202.124 L531.849 202.124 Q532.127 206.522 534.488 208.837 Q536.872 211.129 541.108 211.129 Q543.562 211.129 545.853 210.527 Q548.168 209.925 550.437 208.721 L550.437 212.749 Q548.145 213.721 545.738 214.231 Q543.33 214.74 540.853 214.74 Q534.65 214.74 531.015 211.129 Q527.404 207.518 527.404 201.36 Q527.404 194.995 530.83 191.268 Q534.279 187.518 540.113 187.518 Q545.344 187.518 548.376 190.897 Q551.432 194.254 551.432 200.041 M547.173 198.791 Q547.126 195.296 545.205 193.212 Q543.307 191.129 540.159 191.129 Q536.594 191.129 534.441 193.143 Q532.312 195.157 531.988 198.814 L547.173 198.791 Z\" fill=\"#000000\" fill-rule=\"evenodd\" fill-opacity=\"1\" /><path clip-path=\"url(#clip040)\" d=\"M575.483 192.078 L575.483 178.05 L579.742 178.05 L579.742 214.069 L575.483 214.069 L575.483 210.18 Q574.14 212.495 572.08 213.629 Q570.043 214.74 567.173 214.74 Q562.474 214.74 559.511 210.99 Q556.571 207.24 556.571 201.129 Q556.571 195.018 559.511 191.268 Q562.474 187.518 567.173 187.518 Q570.043 187.518 572.08 188.652 Q574.14 189.763 575.483 192.078 M560.969 201.129 Q560.969 205.828 562.89 208.513 Q564.835 211.175 568.214 211.175 Q571.594 211.175 573.538 208.513 Q575.483 205.828 575.483 201.129 Q575.483 196.43 573.538 193.768 Q571.594 191.083 568.214 191.083 Q564.835 191.083 562.89 193.768 Q560.969 196.43 560.969 201.129 Z\" fill=\"#000000\" fill-rule=\"evenodd\" fill-opacity=\"1\" /><path clip-path=\"url(#clip040)\" d=\"M588.515 188.143 L592.774 188.143 L592.774 214.069 L588.515 214.069 L588.515 188.143 M588.515 178.05 L592.774 178.05 L592.774 183.444 L588.515 183.444 L588.515 178.05 Z\" fill=\"#000000\" fill-rule=\"evenodd\" fill-opacity=\"1\" /><path clip-path=\"url(#clip040)\" d=\"M620.344 189.138 L620.344 193.12 Q618.538 192.124 616.709 191.638 Q614.904 191.129 613.052 191.129 Q608.909 191.129 606.617 193.768 Q604.325 196.384 604.325 201.129 Q604.325 205.874 606.617 208.513 Q608.909 211.129 613.052 211.129 Q614.904 211.129 616.709 210.643 Q618.538 210.133 620.344 209.138 L620.344 213.073 Q618.561 213.907 616.64 214.323 Q614.742 214.74 612.589 214.74 Q606.733 214.74 603.284 211.059 Q599.835 207.379 599.835 201.129 Q599.835 194.786 603.307 191.152 Q606.802 187.518 612.867 187.518 Q614.834 187.518 616.709 187.935 Q618.584 188.328 620.344 189.138 Z\" fill=\"#000000\" fill-rule=\"evenodd\" fill-opacity=\"1\" /><path clip-path=\"url(#clip040)\" d=\"M631.964 180.782 L631.964 188.143 L640.737 188.143 L640.737 191.453 L631.964 191.453 L631.964 205.527 Q631.964 208.698 632.82 209.601 Q633.7 210.504 636.362 210.504 L640.737 210.504 L640.737 214.069 L636.362 214.069 Q631.432 214.069 629.557 212.24 Q627.682 210.388 627.682 205.527 L627.682 191.453 L624.557 191.453 L624.557 188.143 L627.682 188.143 L627.682 180.782 L631.964 180.782 Z\" fill=\"#000000\" fill-rule=\"evenodd\" fill-opacity=\"1\" /><path clip-path=\"url(#clip040)\" d=\"M668.515 200.041 L668.515 202.124 L648.932 202.124 Q649.209 206.522 651.57 208.837 Q653.955 211.129 658.191 211.129 Q660.644 211.129 662.936 210.527 Q665.251 209.925 667.519 208.721 L667.519 212.749 Q665.228 213.721 662.82 214.231 Q660.413 214.74 657.936 214.74 Q651.732 214.74 648.098 211.129 Q644.487 207.518 644.487 201.36 Q644.487 194.995 647.913 191.268 Q651.362 187.518 657.195 187.518 Q662.427 187.518 665.459 190.897 Q668.515 194.254 668.515 200.041 M664.255 198.791 Q664.209 195.296 662.288 193.212 Q660.39 191.129 657.242 191.129 Q653.677 191.129 651.524 193.143 Q649.394 195.157 649.07 198.814 L664.255 198.791 Z\" fill=\"#000000\" fill-rule=\"evenodd\" fill-opacity=\"1\" /><path clip-path=\"url(#clip040)\" d=\"M692.566 192.078 L692.566 178.05 L696.825 178.05 L696.825 214.069 L692.566 214.069 L692.566 210.18 Q691.223 212.495 689.163 213.629 Q687.126 214.74 684.255 214.74 Q679.556 214.74 676.593 210.99 Q673.654 207.24 673.654 201.129 Q673.654 195.018 676.593 191.268 Q679.556 187.518 684.255 187.518 Q687.126 187.518 689.163 188.652 Q691.223 189.763 692.566 192.078 M678.052 201.129 Q678.052 205.828 679.973 208.513 Q681.917 211.175 685.297 211.175 Q688.677 211.175 690.621 208.513 Q692.566 205.828 692.566 201.129 Q692.566 196.43 690.621 193.768 Q688.677 191.083 685.297 191.083 Q681.917 191.083 679.973 193.768 Q678.052 196.43 678.052 201.129 Z\" fill=\"#000000\" fill-rule=\"evenodd\" fill-opacity=\"1\" /></svg>\n"
      ]
     },
     "execution_count": 53,
     "metadata": {},
     "output_type": "execute_result"
    }
   ],
   "source": [
    "plot(diagnostic.prob_ml, label=\"observed\", xticks=1:10, xlabel=\"decile\", ylabel=\"probability ml\")\n",
    "plot!(diagnostic.prob_pred_ml, label=\"predicted\")"
   ]
  },
  {
   "cell_type": "markdown",
   "id": "6bf806e2",
   "metadata": {},
   "source": [
    "*Preparation of this worksop has been supported by the Polish National Agency for Academic Exchange under the Strategic Partnerships programme, grant number BPI/PST/2021/1/00069/U/00001.*\n",
    "\n",
    "![SGH & NAWA](logo.png)"
   ]
  }
 ],
 "metadata": {
  "kernelspec": {
   "display_name": "Julia 1.8.4",
   "language": "julia",
   "name": "julia-1.8"
  },
  "language_info": {
   "file_extension": ".jl",
   "mimetype": "application/julia",
   "name": "julia",
   "version": "1.8.4"
  }
 },
 "nbformat": 4,
 "nbformat_minor": 5
}
