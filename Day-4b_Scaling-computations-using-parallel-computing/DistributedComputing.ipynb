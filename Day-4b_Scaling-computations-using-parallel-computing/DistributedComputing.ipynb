{
 "cells": [
  {
   "cell_type": "code",
   "execution_count": null,
   "id": "68b0836a",
   "metadata": {},
   "outputs": [],
   "source": [
    "println(\"Number of threads that your Julia is run: ## $(Threads.nthreads())\")"
   ]
  },
  {
   "cell_type": "code",
   "execution_count": null,
   "id": "4aa1aaf0",
   "metadata": {},
   "outputs": [],
   "source": [
    "using BenchmarkTools, Distributed"
   ]
  },
  {
   "cell_type": "markdown",
   "id": "02a83007",
   "metadata": {},
   "source": [
    "### Parallelize via Single Instruction Multiple Data (SIMD)"
   ]
  },
  {
   "cell_type": "code",
   "execution_count": null,
   "id": "a6acee57",
   "metadata": {},
   "outputs": [],
   "source": [
    "function dot1(x, y)\n",
    "    s = 0.0\n",
    "    for i in 1:length(x)\n",
    "        @inbounds s += x[i]*y[i]\n",
    "    end\n",
    "    s\n",
    "end"
   ]
  },
  {
   "cell_type": "code",
   "execution_count": null,
   "id": "869b35dc",
   "metadata": {},
   "outputs": [],
   "source": [
    "function dot2(x, y)\n",
    "    s = 0.0\n",
    "    @simd for i in 1:length(x)\n",
    "        @inbounds s += x[i]*y[i]\n",
    "    end\n",
    "    s\n",
    "end"
   ]
  },
  {
   "cell_type": "code",
   "execution_count": null,
   "id": "693abf6e",
   "metadata": {},
   "outputs": [],
   "source": [
    "x = 100*rand(10000)\n",
    "y = 100*rand(10000)\n",
    "\n",
    "res1 = @btime dot1($x, $y)\n",
    "res2 = @btime dot2($x, $y)\n",
    "\n",
    "println(res1)\n",
    "println(res2)"
   ]
  },
  {
   "cell_type": "markdown",
   "id": "b939e997",
   "metadata": {},
   "source": [
    "### Green threading"
   ]
  },
  {
   "cell_type": "code",
   "execution_count": null,
   "id": "f7da7625",
   "metadata": {},
   "outputs": [],
   "source": [
    "@time sleep(2)"
   ]
  },
  {
   "cell_type": "code",
   "execution_count": null,
   "id": "fe3275b2",
   "metadata": {
    "scrolled": true
   },
   "outputs": [],
   "source": [
    "@time @async sleep(2)"
   ]
  },
  {
   "cell_type": "code",
   "execution_count": null,
   "id": "572b606b",
   "metadata": {},
   "outputs": [],
   "source": [
    "function dojob(i)\n",
    "    val = round(rand(), digits=2)\n",
    "    sleep(val)   # this could be external computations with I/O\n",
    "    i, val\n",
    "end"
   ]
  },
  {
   "cell_type": "code",
   "execution_count": null,
   "id": "6c96c8d7",
   "metadata": {},
   "outputs": [],
   "source": [
    "result = Vector{Tuple{Int,Float64}}(undef, 8)"
   ]
  },
  {
   "cell_type": "code",
   "execution_count": null,
   "id": "e127dc06",
   "metadata": {},
   "outputs": [],
   "source": [
    "@time for i=1:8\n",
    "    result[i] = dojob(i)\n",
    "end\n",
    "result"
   ]
  },
  {
   "cell_type": "code",
   "execution_count": null,
   "id": "3bf5cf64",
   "metadata": {},
   "outputs": [],
   "source": [
    "result = Vector{Tuple{Int,Float64}}(undef, 8);\n",
    "@time for i=1:8\n",
    "   @async result[i] = dojob(i)\n",
    "end\n",
    "result"
   ]
  },
  {
   "cell_type": "code",
   "execution_count": null,
   "id": "6bc95ae6",
   "metadata": {},
   "outputs": [],
   "source": [
    "result = Vector{Tuple{Int,Float64}}(undef, 8);\n",
    "@time @sync for i=1:8\n",
    "   @async result[i] = dojob(i)\n",
    "end\n",
    "result"
   ]
  },
  {
   "cell_type": "markdown",
   "id": "b57767fa",
   "metadata": {},
   "source": [
    "#### Programming a simple web server\n",
    "You should be able to connect using the address <a href=\"http://localhost:9991/3+4\" target=\"about:blank\">http://localhost:9991/3+4</a>\n",
    "\n",
    "To stop web server click <a href=\"http://localhost:9991/stopme\" target=\"about:blank\">http://localhost:9991/stopme</a>"
   ]
  },
  {
   "cell_type": "code",
   "execution_count": null,
   "id": "c6641220",
   "metadata": {},
   "outputs": [],
   "source": [
    "using Sockets\n",
    "println(\"Starting the web server...\")\n",
    "server = Sockets.listen(9991)"
   ]
  },
  {
   "cell_type": "code",
   "execution_count": null,
   "id": "70a28d67",
   "metadata": {},
   "outputs": [],
   "source": [
    "@async begin\n",
    "    contt = Ref(true)\n",
    "    while contt[]\n",
    "        sock = Sockets.accept(server)\n",
    "        @async begin\n",
    "            data = readline(sock)\n",
    "            print(\"Got request:\\n\", data, \"\\n\")\n",
    "            cmd = split(data, \" \")[2][2:end]\n",
    "            println(sock, \"\\nHTTP/1.1 200 OK\\nContent-Type: text/html\\n\")\n",
    "            contt[] = contt[] && (!occursin(\"stopme\", data))\n",
    "            if contt[]\n",
    "                 println(sock, string(\"<html><body>\", cmd, \"=\", eval(Meta.parse(cmd)), \"</body></html>\"))\n",
    "            else\n",
    "                println(sock,\"<html><body>stopping</body></html>\")\n",
    "            end\n",
    "            close(sock)\n",
    "        end\n",
    "    end\n",
    "    println(\"Handling requests stopped\")\n",
    "end"
   ]
  },
  {
   "cell_type": "markdown",
   "id": "e0561254",
   "metadata": {},
   "source": [
    "### Multithreading"
   ]
  },
  {
   "cell_type": "code",
   "execution_count": null,
   "id": "a2e3cdd9",
   "metadata": {},
   "outputs": [],
   "source": [
    "Threads.nthreads()"
   ]
  },
  {
   "cell_type": "code",
   "execution_count": null,
   "id": "61e1d1d1",
   "metadata": {},
   "outputs": [],
   "source": [
    "function ssum(x)\n",
    "    r, c = size(x)\n",
    "    y = zeros(c)\n",
    "    for i in 1:c\n",
    "        for j in 1:r\n",
    "            @inbounds y[i] += x[j, i]\n",
    "        end\n",
    "    end\n",
    "    y\n",
    "end"
   ]
  },
  {
   "cell_type": "code",
   "execution_count": null,
   "id": "e2a4a2e8",
   "metadata": {},
   "outputs": [],
   "source": [
    "function tsum(x)\n",
    "    r, c = size(x)\n",
    "    y = zeros(c)\n",
    "    Threads.@threads for i in 1:c\n",
    "        for j in 1:r\n",
    "            @inbounds y[i] += x[j, i]\n",
    "        end\n",
    "    end\n",
    "    y\n",
    "end\n"
   ]
  },
  {
   "cell_type": "code",
   "execution_count": null,
   "id": "2e4ebef5",
   "metadata": {},
   "outputs": [],
   "source": [
    "x = rand(1000,1000);"
   ]
  },
  {
   "cell_type": "code",
   "execution_count": null,
   "id": "55526866",
   "metadata": {},
   "outputs": [],
   "source": [
    "@time ssum(x)\n",
    "@time ssum(x);"
   ]
  },
  {
   "cell_type": "code",
   "execution_count": null,
   "id": "eed39ed8",
   "metadata": {},
   "outputs": [],
   "source": [
    "@time tsum(x)\n",
    "@time tsum(x);"
   ]
  },
  {
   "cell_type": "markdown",
   "id": "52d9f2a7",
   "metadata": {},
   "source": [
    "#### Locking mechanism for threads"
   ]
  },
  {
   "cell_type": "code",
   "execution_count": null,
   "id": "5894cc29",
   "metadata": {},
   "outputs": [],
   "source": [
    "function f_bad()\n",
    "    x = 0\n",
    "    Threads.@threads for i in 1:10^6\n",
    "        x += 1\n",
    "    end\n",
    "    return x\n",
    "end\n"
   ]
  },
  {
   "cell_type": "code",
   "execution_count": null,
   "id": "a5ed2555",
   "metadata": {},
   "outputs": [],
   "source": [
    "@time f_bad()"
   ]
  },
  {
   "cell_type": "code",
   "execution_count": null,
   "id": "d5359fcc",
   "metadata": {},
   "outputs": [],
   "source": [
    "function f_atomic()\n",
    "    x = Threads.Atomic{Int}(0)\n",
    "    Threads.@threads for i in 1:10^6\n",
    "        Threads.atomic_add!(x, 1)\n",
    "    end\n",
    "    return x[]\n",
    "end\n",
    "\n",
    "function f_spin()\n",
    "    l = Threads.SpinLock()\n",
    "    x = 0\n",
    "    Threads.@threads for i in 1:10^6\n",
    "        Threads.lock(l) do\n",
    "            x += 1\n",
    "        end\n",
    "    end\n",
    "    return x\n",
    "end\n",
    "\n",
    "function f_reentrant()\n",
    "    l = ReentrantLock()\n",
    "    x = 0\n",
    "    Threads.@threads for i in 1:10^6\n",
    "        Threads.lock(l) do\n",
    "            x += 1\n",
    "        end\n",
    "    end\n",
    "    return x\n",
    "end\n"
   ]
  },
  {
   "cell_type": "code",
   "execution_count": null,
   "id": "6c969c44",
   "metadata": {},
   "outputs": [],
   "source": [
    "using DataFrames\n",
    "stats = DataFrame()\n",
    "for f in [f_bad, f_atomic, f_spin, f_reentrant]\n",
    "    for i = 1:2\n",
    "        value, elapsedtime  = @timed f()\n",
    "        push!(stats, (f=string(f),i=i, value=value, timems=elapsedtime*1000))\n",
    "    end\n",
    "end\n",
    "println(stats)\n"
   ]
  },
  {
   "cell_type": "markdown",
   "id": "2846c599",
   "metadata": {},
   "source": [
    "### Multi-processing and distributed computing"
   ]
  },
  {
   "cell_type": "code",
   "execution_count": null,
   "id": "b9e7cf7d",
   "metadata": {},
   "outputs": [],
   "source": [
    "using Distributed"
   ]
  },
  {
   "cell_type": "markdown",
   "id": "caf3b10c",
   "metadata": {},
   "source": [
    "This code adds 4 workers (and avoids adding more)"
   ]
  },
  {
   "cell_type": "code",
   "execution_count": null,
   "id": "e0626f59",
   "metadata": {},
   "outputs": [],
   "source": [
    "addprocs(max(0, 5-nworkers()));"
   ]
  },
  {
   "cell_type": "code",
   "execution_count": null,
   "id": "99b678b4",
   "metadata": {},
   "outputs": [],
   "source": [
    "workers()"
   ]
  },
  {
   "cell_type": "code",
   "execution_count": null,
   "id": "f0ffdc87",
   "metadata": {},
   "outputs": [],
   "source": [
    "function s_rand()\n",
    "    n = 10^4\n",
    "    x = 0.0\n",
    "    for i in 1:n\n",
    "        x += sum(rand(10^4))\n",
    "    end\n",
    "    x / n\n",
    "end\n",
    " \n",
    "@time s_rand()\n",
    "@time s_rand()\n"
   ]
  },
  {
   "cell_type": "code",
   "execution_count": null,
   "id": "84ede908",
   "metadata": {},
   "outputs": [],
   "source": [
    "using Distributed\n",
    " \n",
    " \n",
    "function p_rand()\n",
    "    n = 10^4\n",
    "    x = @distributed (+) for i in 1:n\n",
    "        sum(rand(10^4))\n",
    "    end\n",
    "    x / n\n",
    "end\n",
    "\n",
    "@time p_rand()\n",
    "@time p_rand()\n"
   ]
  },
  {
   "cell_type": "code",
   "execution_count": null,
   "id": "f281840e",
   "metadata": {},
   "outputs": [],
   "source": [
    "using Distributed\n",
    "@everywhere using Pkg\n",
    "@everywhere Pkg.activate(\"..\")\n",
    "@everywhere using Distributed, Random, DataFrames\n",
    "\n",
    "@everywhere function calc(x, y)\n",
    "    2x + y\n",
    "end\n",
    "\n",
    "@everywhere function init_worker()    \n",
    "   Random.seed!(myid())\n",
    "end\n",
    "\n",
    "@sync for wid in workers()\n",
    "    @async fetch(@spawnat wid init_worker())\n",
    "end\n"
   ]
  },
  {
   "cell_type": "markdown",
   "id": "10189162",
   "metadata": {},
   "source": [
    "Typically results are collected to a `DataFrame`"
   ]
  },
  {
   "cell_type": "code",
   "execution_count": null,
   "id": "c636c081",
   "metadata": {},
   "outputs": [],
   "source": [
    "data = @distributed (append!) for (i, j) = vec(collect(Iterators.product(1:4, 1:5)))\n",
    "    a = rand(1:499)\n",
    "    b = rand(1:9)*1000\n",
    "    c = calc(a, b)\n",
    "    DataFrame(;i,j,a,b,c,procid = myid())\n",
    "end"
   ]
  },
  {
   "cell_type": "markdown",
   "id": "1c625c64",
   "metadata": {},
   "source": [
    "#### Advanced Interprocess communication - cellular automaton example"
   ]
  },
  {
   "cell_type": "code",
   "execution_count": null,
   "id": "c8e469ce",
   "metadata": {},
   "outputs": [],
   "source": [
    "using Distributed\n",
    "@everywhere using ParallelDataTransfer, Distributed\n",
    "\n",
    "\n",
    "@everywhere function rule30()\n",
    "    lastv = Main.caa[1]\n",
    "    for i in 2:(length(Main.caa)-1)\n",
    "        current = Main.caa[i]\n",
    "        Main.caa[i] = xor(lastv, Main.caa[i] || Main.caa[i+1])\n",
    "        lastv = current\n",
    "    end\n",
    "end\n",
    "\n",
    "\n",
    "@everywhere function getcaa()\n",
    "    Main.caa\n",
    "end\n",
    "@everywhere function getsetborder()\n",
    "    #println(myid(),\"gs\");flush(stdout)\n",
    "    Main.caa[1] = (@fetchfrom Main.neighbours[1] getcaa()[15+1])\n",
    "    #println(myid(),\"gs1\");flush(stdout)\n",
    "    Main.caa[end] = (@fetchfrom Main.neighbours[2] getcaa()[2])\n",
    "    #println(myid(),\"gse\");flush(stdout)\n",
    "end\n",
    "\n",
    "function printsimdist(workers::Array{Int})\n",
    "    for w in workers\n",
    "        dat = @fetchfrom w caa\n",
    "        for b in dat[2:end-1]\n",
    "            print(b ? \"#\" : \" \")\n",
    "        end\n",
    "    end\n",
    "    println()\n",
    "    flush(stdout)\n",
    "end\n",
    "\n",
    "function runca(steps::Int, visualize::Bool)\n",
    "    @sync for w in workers()\n",
    "        @async @fetchfrom w fill!(caa, false)\n",
    "    end\n",
    "    @fetchfrom wks[Int(nwks/2)+1] caa[2]=true\n",
    "    visualize && printsimdist(workers())\n",
    "    for i in 1:steps\n",
    "        @sync for w in workers()\n",
    "            @async @fetchfrom w getsetborder()\n",
    "        end\n",
    "        @sync for w in workers()\n",
    "            @async @fetchfrom w rule30()\n",
    "        end\n",
    "        visualize && printsimdist(workers())\n",
    "    end\n",
    "end\n",
    "\n"
   ]
  },
  {
   "cell_type": "code",
   "execution_count": null,
   "id": "b7794574",
   "metadata": {},
   "outputs": [],
   "source": [
    "wks = workers()\n",
    "nwks = length(wks)\n",
    "for i in 1:nwks\n",
    "    sendto(wks[i], neighbours = (i==1 ? wks[nwks] : wks[i-1],\n",
    "                                i==nwks ? wks[1] : wks[i+1]))\n",
    "    fetch(@defineat wks[i] const caa = zeros(Bool, 15+2));\n",
    "end\n",
    "\n",
    "runca(20,true)\n"
   ]
  }
 ],
 "metadata": {
  "kernelspec": {
   "display_name": "Julia 1.8.5",
   "language": "julia",
   "name": "julia-1.8"
  },
  "language_info": {
   "file_extension": ".jl",
   "mimetype": "application/julia",
   "name": "julia",
   "version": "1.8.5"
  }
 },
 "nbformat": 4,
 "nbformat_minor": 5
}
