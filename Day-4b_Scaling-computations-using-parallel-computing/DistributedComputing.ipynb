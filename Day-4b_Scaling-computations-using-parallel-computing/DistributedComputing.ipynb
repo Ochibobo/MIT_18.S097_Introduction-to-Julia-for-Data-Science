{
 "cells": [
  {
   "cell_type": "code",
   "execution_count": 1,
   "id": "68b0836a",
   "metadata": {},
   "outputs": [
    {
     "name": "stdout",
     "output_type": "stream",
     "text": [
      "Number of threads that your Julia is run: ## 8\n"
     ]
    }
   ],
   "source": [
    "println(\"Number of threads that your Julia is run: ## $(Threads.nthreads())\")"
   ]
  },
  {
   "cell_type": "code",
   "execution_count": 3,
   "id": "4aa1aaf0",
   "metadata": {},
   "outputs": [],
   "source": [
    "using BenchmarkTools, Distributed"
   ]
  },
  {
   "cell_type": "markdown",
   "id": "02a83007",
   "metadata": {},
   "source": [
    "### Parallelize via Single Instruction Multiple Data (SIMD)"
   ]
  },
  {
   "cell_type": "code",
   "execution_count": 4,
   "id": "a6acee57",
   "metadata": {},
   "outputs": [
    {
     "data": {
      "text/plain": [
       "dot1 (generic function with 1 method)"
      ]
     },
     "execution_count": 4,
     "metadata": {},
     "output_type": "execute_result"
    }
   ],
   "source": [
    "function dot1(x, y)\n",
    "    s = 0.0\n",
    "    for i in 1:length(x)\n",
    "        @inbounds s += x[i]*y[i]\n",
    "    end\n",
    "    s\n",
    "end"
   ]
  },
  {
   "cell_type": "code",
   "execution_count": 5,
   "id": "869b35dc",
   "metadata": {},
   "outputs": [
    {
     "data": {
      "text/plain": [
       "dot2 (generic function with 1 method)"
      ]
     },
     "execution_count": 5,
     "metadata": {},
     "output_type": "execute_result"
    }
   ],
   "source": [
    "function dot2(x, y)\n",
    "    s = 0.0\n",
    "    @simd for i in 1:length(x)\n",
    "        @inbounds s += x[i]*y[i]\n",
    "    end\n",
    "    s\n",
    "end"
   ]
  },
  {
   "cell_type": "code",
   "execution_count": 6,
   "id": "693abf6e",
   "metadata": {},
   "outputs": [
    {
     "name": "stdout",
     "output_type": "stream",
     "text": [
      "  12.025 μs (0 allocations: 0 bytes)\n",
      "  2.110 μs (0 allocations: 0 bytes)\n",
      "2.5095465536428425e7\n",
      "2.5095465536428474e7\n"
     ]
    }
   ],
   "source": [
    "x = 100*rand(10000)\n",
    "y = 100*rand(10000)\n",
    "\n",
    "res1 = @btime dot1($x, $y)\n",
    "res2 = @btime dot2($x, $y)\n",
    "\n",
    "println(res1)\n",
    "println(res2)"
   ]
  },
  {
   "cell_type": "markdown",
   "id": "b939e997",
   "metadata": {},
   "source": [
    "### Green threading"
   ]
  },
  {
   "cell_type": "code",
   "execution_count": 9,
   "id": "f7da7625",
   "metadata": {},
   "outputs": [
    {
     "name": "stdout",
     "output_type": "stream",
     "text": [
      "  2.005748 seconds (64 allocations: 1.922 KiB)\n"
     ]
    }
   ],
   "source": [
    "@time sleep(2)"
   ]
  },
  {
   "cell_type": "code",
   "execution_count": 10,
   "id": "fe3275b2",
   "metadata": {
    "scrolled": true
   },
   "outputs": [
    {
     "name": "stdout",
     "output_type": "stream",
     "text": [
      "  0.005964 seconds (8.01 k allocations: 462.538 KiB)\n"
     ]
    },
    {
     "data": {
      "text/plain": [
       "Task (runnable) @0x0000023ddb060200"
      ]
     },
     "execution_count": 10,
     "metadata": {},
     "output_type": "execute_result"
    }
   ],
   "source": [
    "@time @async sleep(2)"
   ]
  },
  {
   "cell_type": "code",
   "execution_count": 1,
   "id": "572b606b",
   "metadata": {},
   "outputs": [
    {
     "data": {
      "text/plain": [
       "dojob (generic function with 1 method)"
      ]
     },
     "execution_count": 1,
     "metadata": {},
     "output_type": "execute_result"
    }
   ],
   "source": [
    "function dojob(i)\n",
    "    val = round(rand(), digits=2)\n",
    "    sleep(val)   # this could be external computations with I/O\n",
    "    i, val\n",
    "end"
   ]
  },
  {
   "cell_type": "code",
   "execution_count": 2,
   "id": "6c96c8d7",
   "metadata": {},
   "outputs": [
    {
     "data": {
      "text/plain": [
       "8-element Vector{Tuple{Int64, Float64}}:\n",
       " (0, 0.0)\n",
       " (0, 0.0)\n",
       " (0, 0.0)\n",
       " (0, 0.0)\n",
       " (0, 0.0)\n",
       " (0, 0.0)\n",
       " (0, 0.0)\n",
       " (0, 0.0)"
      ]
     },
     "execution_count": 2,
     "metadata": {},
     "output_type": "execute_result"
    }
   ],
   "source": [
    "result = Vector{Tuple{Int,Float64}}(undef, 8)"
   ]
  },
  {
   "cell_type": "code",
   "execution_count": 3,
   "id": "e127dc06",
   "metadata": {},
   "outputs": [
    {
     "name": "stdout",
     "output_type": "stream",
     "text": [
      "  3.378491 seconds (1.48 k allocations: 85.574 KiB, 0.35% compilation time)\n"
     ]
    },
    {
     "data": {
      "text/plain": [
       "8-element Vector{Tuple{Int64, Float64}}:\n",
       " (1, 0.23)\n",
       " (2, 0.77)\n",
       " (3, 0.11)\n",
       " (4, 0.47)\n",
       " (5, 0.61)\n",
       " (6, 0.22)\n",
       " (7, 0.14)\n",
       " (8, 0.76)"
      ]
     },
     "execution_count": 3,
     "metadata": {},
     "output_type": "execute_result"
    }
   ],
   "source": [
    "@time for i=1:8\n",
    "    result[i] = dojob(i)\n",
    "end\n",
    "result"
   ]
  },
  {
   "cell_type": "code",
   "execution_count": 23,
   "id": "3bf5cf64",
   "metadata": {},
   "outputs": [
    {
     "name": "stdout",
     "output_type": "stream",
     "text": [
      "  0.000062 seconds (83 allocations: 7.139 KiB)\n"
     ]
    },
    {
     "data": {
      "text/plain": [
       "8-element Vector{Tuple{Int64, Float64}}:\n",
       " (0, 0.0)\n",
       " (0, 0.0)\n",
       " (0, 0.0)\n",
       " (0, 0.0)\n",
       " (0, 0.0)\n",
       " (0, 0.0)\n",
       " (0, 0.0)\n",
       " (0, 0.0)"
      ]
     },
     "execution_count": 23,
     "metadata": {},
     "output_type": "execute_result"
    }
   ],
   "source": [
    "result = Vector{Tuple{Int,Float64}}(undef, 8);\n",
    "@time for i=1:8\n",
    "   @async result[i] = dojob(i)\n",
    "end\n",
    "result"
   ]
  },
  {
   "cell_type": "code",
   "execution_count": 4,
   "id": "6bc95ae6",
   "metadata": {},
   "outputs": [
    {
     "name": "stdout",
     "output_type": "stream",
     "text": [
      "  0.943283 seconds (16.85 k allocations: 1.017 MiB, 6.64% compilation time)\n"
     ]
    },
    {
     "data": {
      "text/plain": [
       "8-element Vector{Tuple{Int64, Float64}}:\n",
       " (1, 0.74)\n",
       " (2, 0.85)\n",
       " (3, 0.07)\n",
       " (4, 0.65)\n",
       " (5, 0.33)\n",
       " (6, 0.04)\n",
       " (7, 0.78)\n",
       " (8, 0.22)"
      ]
     },
     "execution_count": 4,
     "metadata": {},
     "output_type": "execute_result"
    }
   ],
   "source": [
    "result = Vector{Tuple{Int,Float64}}(undef, 8);\n",
    "@time @sync for i=1:8\n",
    "   @async result[i] = dojob(i)\n",
    "end\n",
    "result"
   ]
  },
  {
   "cell_type": "markdown",
   "id": "b57767fa",
   "metadata": {},
   "source": [
    "#### Programming a simple web server\n",
    "You should be able to connect using the address <a href=\"http://localhost:9991/3+4\" target=\"about:blank\">http://localhost:9991/3+4</a>\n",
    "\n",
    "To stop web server click <a href=\"http://localhost:9991/stopme\" target=\"about:blank\">http://localhost:9991/stopme</a>"
   ]
  },
  {
   "cell_type": "code",
   "execution_count": 5,
   "id": "c6641220",
   "metadata": {},
   "outputs": [
    {
     "name": "stdout",
     "output_type": "stream",
     "text": [
      "Starting the web server...\n"
     ]
    },
    {
     "data": {
      "text/plain": [
       "Sockets.TCPServer(Base.Libc.WindowsRawSocket(0x000000000000042c) active)"
      ]
     },
     "execution_count": 5,
     "metadata": {},
     "output_type": "execute_result"
    }
   ],
   "source": [
    "using Sockets\n",
    "println(\"Starting the web server...\")\n",
    "server = Sockets.listen(9991)"
   ]
  },
  {
   "cell_type": "code",
   "execution_count": 6,
   "id": "70a28d67",
   "metadata": {},
   "outputs": [
    {
     "data": {
      "text/plain": [
       "Task (runnable) @0x0000016a0d7d05e0"
      ]
     },
     "execution_count": 6,
     "metadata": {},
     "output_type": "execute_result"
    },
    {
     "name": "stdout",
     "output_type": "stream",
     "text": [
      "Got request:\n",
      "GET /3+4 HTTP/1.1\n",
      "Got request:\n",
      "GET /stopme HTTP/1.1\n",
      "Handling requests stopped\n",
      "Got request:\n",
      "\n"
     ]
    }
   ],
   "source": [
    "@async begin\n",
    "    contt = Ref(true)\n",
    "    while contt[]\n",
    "        sock = Sockets.accept(server)\n",
    "        @async begin\n",
    "            data = readline(sock)\n",
    "            print(\"Got request:\\n\", data, \"\\n\")\n",
    "            cmd = split(data, \" \")[2][2:end]\n",
    "            println(sock, \"\\nHTTP/1.1 200 OK\\nContent-Type: text/html\\n\")\n",
    "            contt[] = contt[] && (!occursin(\"stopme\", data))\n",
    "            if contt[]\n",
    "                 println(sock, string(\"<html><body>\", cmd, \"=\", eval(Meta.parse(cmd)), \"</body></html>\"))\n",
    "            else\n",
    "                println(sock,\"<html><body>stopping</body></html>\")\n",
    "            end\n",
    "            close(sock)\n",
    "        end\n",
    "    end\n",
    "    println(\"Handling requests stopped\")\n",
    "end"
   ]
  },
  {
   "cell_type": "markdown",
   "id": "e0561254",
   "metadata": {},
   "source": [
    "### Multithreading"
   ]
  },
  {
   "cell_type": "code",
   "execution_count": 7,
   "id": "a2e3cdd9",
   "metadata": {},
   "outputs": [
    {
     "data": {
      "text/plain": [
       "1"
      ]
     },
     "execution_count": 7,
     "metadata": {},
     "output_type": "execute_result"
    }
   ],
   "source": [
    "Threads.nthreads()"
   ]
  },
  {
   "cell_type": "code",
   "execution_count": 28,
   "id": "61e1d1d1",
   "metadata": {},
   "outputs": [
    {
     "data": {
      "text/plain": [
       "ssum (generic function with 1 method)"
      ]
     },
     "execution_count": 28,
     "metadata": {},
     "output_type": "execute_result"
    }
   ],
   "source": [
    "function ssum(x)\n",
    "    r, c = size(x)\n",
    "    y = zeros(c)\n",
    "    for i in 1:c\n",
    "        for j in 1:r\n",
    "            @inbounds y[i] += x[j, i]\n",
    "        end\n",
    "    end\n",
    "    y\n",
    "end"
   ]
  },
  {
   "cell_type": "code",
   "execution_count": 30,
   "id": "e2a4a2e8",
   "metadata": {},
   "outputs": [
    {
     "data": {
      "text/plain": [
       "tsum (generic function with 1 method)"
      ]
     },
     "execution_count": 30,
     "metadata": {},
     "output_type": "execute_result"
    }
   ],
   "source": [
    "function tsum(x)\n",
    "    r, c = size(x)\n",
    "    y = zeros(c)\n",
    "    Threads.@threads for i in 1:c\n",
    "        for j in 1:r\n",
    "            @inbounds y[i] += x[j, i]\n",
    "        end\n",
    "    end\n",
    "    y\n",
    "end\n"
   ]
  },
  {
   "cell_type": "code",
   "execution_count": 42,
   "id": "2e4ebef5",
   "metadata": {},
   "outputs": [],
   "source": [
    "x = rand(10000,1000);"
   ]
  },
  {
   "cell_type": "code",
   "execution_count": 43,
   "id": "55526866",
   "metadata": {},
   "outputs": [
    {
     "name": "stdout",
     "output_type": "stream",
     "text": [
      "  0.015025 seconds (1 allocation: 7.938 KiB)\n",
      "  0.009474 seconds (1 allocation: 7.938 KiB)\n"
     ]
    }
   ],
   "source": [
    "@time ssum(x)\n",
    "@time ssum(x);"
   ]
  },
  {
   "cell_type": "code",
   "execution_count": 44,
   "id": "eed39ed8",
   "metadata": {},
   "outputs": [
    {
     "name": "stdout",
     "output_type": "stream",
     "text": [
      "  0.004882 seconds (52 allocations: 13.359 KiB)\n",
      "  0.001982 seconds (52 allocations: 13.359 KiB)\n"
     ]
    }
   ],
   "source": [
    "@time tsum(x)\n",
    "@time tsum(x);"
   ]
  },
  {
   "cell_type": "markdown",
   "id": "52d9f2a7",
   "metadata": {},
   "source": [
    "#### Locking mechanism for threads"
   ]
  },
  {
   "cell_type": "code",
   "execution_count": 45,
   "id": "5894cc29",
   "metadata": {},
   "outputs": [
    {
     "data": {
      "text/plain": [
       "f_bad (generic function with 1 method)"
      ]
     },
     "execution_count": 45,
     "metadata": {},
     "output_type": "execute_result"
    }
   ],
   "source": [
    "function f_bad()\n",
    "    x = 0\n",
    "    Threads.@threads for i in 1:10^7\n",
    "        x += 1\n",
    "    end\n",
    "    return x\n",
    "end\n"
   ]
  },
  {
   "cell_type": "code",
   "execution_count": 48,
   "id": "a5ed2555",
   "metadata": {},
   "outputs": [
    {
     "name": "stdout",
     "output_type": "stream",
     "text": [
      "  0.525740 seconds (10.00 M allocations: 152.578 MiB)\n"
     ]
    },
    {
     "data": {
      "text/plain": [
       "1293224"
      ]
     },
     "execution_count": 48,
     "metadata": {},
     "output_type": "execute_result"
    }
   ],
   "source": [
    "@time f_bad()"
   ]
  },
  {
   "cell_type": "code",
   "execution_count": 49,
   "id": "d5359fcc",
   "metadata": {},
   "outputs": [
    {
     "data": {
      "text/plain": [
       "f_reentrant (generic function with 1 method)"
      ]
     },
     "execution_count": 49,
     "metadata": {},
     "output_type": "execute_result"
    }
   ],
   "source": [
    "function f_atomic()\n",
    "    x = Threads.Atomic{Int}(0)\n",
    "    Threads.@threads for i in 1:10^7\n",
    "        Threads.atomic_add!(x, 1)\n",
    "    end\n",
    "    return x[]\n",
    "end\n",
    "\n",
    "function f_spin()\n",
    "    l = Threads.SpinLock()\n",
    "    x = 0\n",
    "    Threads.@threads for i in 1:10^7\n",
    "        Threads.lock(l) do\n",
    "            x += 1\n",
    "        end\n",
    "    end\n",
    "    return x\n",
    "end\n",
    "\n",
    "function f_reentrant()\n",
    "    l = ReentrantLock()\n",
    "    x = 0\n",
    "    Threads.@threads for i in 1:10^7\n",
    "        Threads.lock(l) do\n",
    "            x += 1\n",
    "        end\n",
    "    end\n",
    "    return x\n",
    "end\n"
   ]
  },
  {
   "cell_type": "code",
   "execution_count": 50,
   "id": "6c969c44",
   "metadata": {},
   "outputs": [
    {
     "name": "stdout",
     "output_type": "stream",
     "text": [
      "\u001b[1m8×4 DataFrame\u001b[0m\n",
      "\u001b[1m Row \u001b[0m│\u001b[1m f           \u001b[0m\u001b[1m i     \u001b[0m\u001b[1m value    \u001b[0m\u001b[1m timems   \u001b[0m\n",
      "     │\u001b[90m String      \u001b[0m\u001b[90m Int64 \u001b[0m\u001b[90m Int64    \u001b[0m\u001b[90m Float64  \u001b[0m\n",
      "─────┼────────────────────────────────────────\n",
      "   1 │ f_bad            1   1306731   254.793\n",
      "   2 │ f_bad            2   1494738   397.46\n",
      "   3 │ f_atomic         1  10000000   231.957\n",
      "   4 │ f_atomic         2  10000000   195.303\n",
      "   5 │ f_spin           1  10000000  4758.85\n",
      "   6 │ f_spin           2  10000000  4721.66\n",
      "   7 │ f_reentrant      1  10000000  6788.93\n",
      "   8 │ f_reentrant      2  10000000  6573.98\n"
     ]
    }
   ],
   "source": [
    "using DataFrames\n",
    "stats = DataFrame()\n",
    "for f in [f_bad, f_atomic, f_spin, f_reentrant]\n",
    "    for i = 1:2\n",
    "        value, elapsedtime  = @timed f()\n",
    "        push!(stats, (f=string(f),i=i, value=value, timems=elapsedtime*1000))\n",
    "    end\n",
    "end\n",
    "println(stats)\n"
   ]
  },
  {
   "cell_type": "markdown",
   "id": "2846c599",
   "metadata": {},
   "source": [
    "### Multi-processing and distributed computing"
   ]
  },
  {
   "cell_type": "code",
   "execution_count": 8,
   "id": "b9e7cf7d",
   "metadata": {},
   "outputs": [],
   "source": [
    "using Distributed"
   ]
  },
  {
   "cell_type": "code",
   "execution_count": 10,
   "id": "e0626f59",
   "metadata": {},
   "outputs": [],
   "source": [
    "addprocs(max(0, 5-nworkers()));"
   ]
  },
  {
   "cell_type": "code",
   "execution_count": 11,
   "id": "99b678b4",
   "metadata": {},
   "outputs": [
    {
     "data": {
      "text/plain": [
       "4-element Vector{Int64}:\n",
       " 2\n",
       " 3\n",
       " 4\n",
       " 5"
      ]
     },
     "execution_count": 11,
     "metadata": {},
     "output_type": "execute_result"
    }
   ],
   "source": [
    "workers()"
   ]
  },
  {
   "cell_type": "code",
   "execution_count": 63,
   "id": "f0ffdc87",
   "metadata": {},
   "outputs": [
    {
     "name": "stdout",
     "output_type": "stream",
     "text": [
      "  0.435935 seconds (20.00 k allocations: 763.397 MiB, 22.88% gc time)\n",
      "  0.419023 seconds (20.00 k allocations: 763.397 MiB, 16.58% gc time)\n"
     ]
    },
    {
     "data": {
      "text/plain": [
       "5000.002440794839"
      ]
     },
     "execution_count": 63,
     "metadata": {},
     "output_type": "execute_result"
    }
   ],
   "source": [
    "function s_rand()\n",
    "    n = 10^4\n",
    "    x = 0.0\n",
    "    for i in 1:n\n",
    "        x += sum(rand(10^4))\n",
    "    end\n",
    "    x / n\n",
    "end\n",
    " \n",
    "@time s_rand()\n",
    "@time s_rand()\n"
   ]
  },
  {
   "cell_type": "code",
   "execution_count": 12,
   "id": "84ede908",
   "metadata": {},
   "outputs": [
    {
     "name": "stdout",
     "output_type": "stream",
     "text": [
      "  2.651535 seconds (1.01 M allocations: 51.516 MiB, 0.62% gc time, 39.56% compilation time)\n",
      "  0.318478 seconds (518 allocations: 30.836 KiB)\n"
     ]
    },
    {
     "data": {
      "text/plain": [
       "5000.396789794042"
      ]
     },
     "execution_count": 12,
     "metadata": {},
     "output_type": "execute_result"
    }
   ],
   "source": [
    "using Distributed\n",
    " \n",
    " \n",
    "function p_rand()\n",
    "    n = 10^4\n",
    "    x = @distributed (+) for i in 1:n\n",
    "        sum(rand(10^4))\n",
    "    end\n",
    "    x / n\n",
    "end\n",
    "\n",
    "@time p_rand()\n",
    "@time p_rand()\n"
   ]
  },
  {
   "cell_type": "code",
   "execution_count": 20,
   "id": "f281840e",
   "metadata": {},
   "outputs": [],
   "source": [
    "using Distributed\n",
    "@everywhere using Distributed, Random, DataFrames\n",
    "\n",
    "@everywhere function calc(x, y)\n",
    "    2x + y\n",
    "end\n",
    "\n",
    "@everywhere function init_worker()    \n",
    "   Random.seed!(myid())\n",
    "end\n",
    "\n",
    "@sync for wid in workers()\n",
    "    @async fetch(@spawnat wid init_worker())\n",
    "end\n"
   ]
  },
  {
   "cell_type": "markdown",
   "id": "10189162",
   "metadata": {},
   "source": [
    "Typically results are collected to a `DataFrame`"
   ]
  },
  {
   "cell_type": "code",
   "execution_count": 25,
   "id": "c636c081",
   "metadata": {},
   "outputs": [
    {
     "data": {
      "text/html": [
       "<div><div style = \"float: left;\"><span>24×4 DataFrame</span></div><div style = \"clear: both;\"></div></div><div class = \"data-frame\" style = \"overflow-x: scroll;\"><table class = \"data-frame\" style = \"margin-bottom: 6px;\"><thead><tr class = \"header\"><th class = \"rowNumber\" style = \"font-weight: bold; text-align: right;\">Row</th><th style = \"text-align: left;\">a</th><th style = \"text-align: left;\">b</th><th style = \"text-align: left;\">c</th><th style = \"text-align: left;\">procid</th></tr><tr class = \"subheader headerLastRow\"><th class = \"rowNumber\" style = \"font-weight: bold; text-align: right;\"></th><th title = \"Int64\" style = \"text-align: left;\">Int64</th><th title = \"Int64\" style = \"text-align: left;\">Int64</th><th title = \"Int64\" style = \"text-align: left;\">Int64</th><th title = \"Int64\" style = \"text-align: left;\">Int64</th></tr></thead><tbody><tr><td class = \"rowNumber\" style = \"font-weight: bold; text-align: right;\">1</td><td style = \"text-align: right;\">470</td><td style = \"text-align: right;\">6000</td><td style = \"text-align: right;\">6940</td><td style = \"text-align: right;\">2</td></tr><tr><td class = \"rowNumber\" style = \"font-weight: bold; text-align: right;\">2</td><td style = \"text-align: right;\">135</td><td style = \"text-align: right;\">7000</td><td style = \"text-align: right;\">7270</td><td style = \"text-align: right;\">2</td></tr><tr><td class = \"rowNumber\" style = \"font-weight: bold; text-align: right;\">3</td><td style = \"text-align: right;\">172</td><td style = \"text-align: right;\">9000</td><td style = \"text-align: right;\">9344</td><td style = \"text-align: right;\">2</td></tr><tr><td class = \"rowNumber\" style = \"font-weight: bold; text-align: right;\">4</td><td style = \"text-align: right;\">345</td><td style = \"text-align: right;\">6000</td><td style = \"text-align: right;\">6690</td><td style = \"text-align: right;\">2</td></tr><tr><td class = \"rowNumber\" style = \"font-weight: bold; text-align: right;\">5</td><td style = \"text-align: right;\">20</td><td style = \"text-align: right;\">7000</td><td style = \"text-align: right;\">7040</td><td style = \"text-align: right;\">2</td></tr><tr><td class = \"rowNumber\" style = \"font-weight: bold; text-align: right;\">6</td><td style = \"text-align: right;\">189</td><td style = \"text-align: right;\">6000</td><td style = \"text-align: right;\">6378</td><td style = \"text-align: right;\">2</td></tr><tr><td class = \"rowNumber\" style = \"font-weight: bold; text-align: right;\">7</td><td style = \"text-align: right;\">44</td><td style = \"text-align: right;\">1000</td><td style = \"text-align: right;\">1088</td><td style = \"text-align: right;\">3</td></tr><tr><td class = \"rowNumber\" style = \"font-weight: bold; text-align: right;\">8</td><td style = \"text-align: right;\">176</td><td style = \"text-align: right;\">3000</td><td style = \"text-align: right;\">3352</td><td style = \"text-align: right;\">3</td></tr><tr><td class = \"rowNumber\" style = \"font-weight: bold; text-align: right;\">9</td><td style = \"text-align: right;\">3</td><td style = \"text-align: right;\">5000</td><td style = \"text-align: right;\">5006</td><td style = \"text-align: right;\">3</td></tr><tr><td class = \"rowNumber\" style = \"font-weight: bold; text-align: right;\">10</td><td style = \"text-align: right;\">406</td><td style = \"text-align: right;\">6000</td><td style = \"text-align: right;\">6812</td><td style = \"text-align: right;\">3</td></tr><tr><td class = \"rowNumber\" style = \"font-weight: bold; text-align: right;\">11</td><td style = \"text-align: right;\">295</td><td style = \"text-align: right;\">1000</td><td style = \"text-align: right;\">1590</td><td style = \"text-align: right;\">3</td></tr><tr><td class = \"rowNumber\" style = \"font-weight: bold; text-align: right;\">12</td><td style = \"text-align: right;\">35</td><td style = \"text-align: right;\">2000</td><td style = \"text-align: right;\">2070</td><td style = \"text-align: right;\">3</td></tr><tr><td class = \"rowNumber\" style = \"font-weight: bold; text-align: right;\">13</td><td style = \"text-align: right;\">458</td><td style = \"text-align: right;\">5000</td><td style = \"text-align: right;\">5916</td><td style = \"text-align: right;\">4</td></tr><tr><td class = \"rowNumber\" style = \"font-weight: bold; text-align: right;\">14</td><td style = \"text-align: right;\">227</td><td style = \"text-align: right;\">8000</td><td style = \"text-align: right;\">8454</td><td style = \"text-align: right;\">4</td></tr><tr><td class = \"rowNumber\" style = \"font-weight: bold; text-align: right;\">15</td><td style = \"text-align: right;\">343</td><td style = \"text-align: right;\">7000</td><td style = \"text-align: right;\">7686</td><td style = \"text-align: right;\">4</td></tr><tr><td class = \"rowNumber\" style = \"font-weight: bold; text-align: right;\">16</td><td style = \"text-align: right;\">18</td><td style = \"text-align: right;\">2000</td><td style = \"text-align: right;\">2036</td><td style = \"text-align: right;\">4</td></tr><tr><td class = \"rowNumber\" style = \"font-weight: bold; text-align: right;\">17</td><td style = \"text-align: right;\">124</td><td style = \"text-align: right;\">3000</td><td style = \"text-align: right;\">3248</td><td style = \"text-align: right;\">4</td></tr><tr><td class = \"rowNumber\" style = \"font-weight: bold; text-align: right;\">18</td><td style = \"text-align: right;\">406</td><td style = \"text-align: right;\">1000</td><td style = \"text-align: right;\">1812</td><td style = \"text-align: right;\">4</td></tr><tr><td class = \"rowNumber\" style = \"font-weight: bold; text-align: right;\">19</td><td style = \"text-align: right;\">476</td><td style = \"text-align: right;\">1000</td><td style = \"text-align: right;\">1952</td><td style = \"text-align: right;\">5</td></tr><tr><td class = \"rowNumber\" style = \"font-weight: bold; text-align: right;\">20</td><td style = \"text-align: right;\">328</td><td style = \"text-align: right;\">7000</td><td style = \"text-align: right;\">7656</td><td style = \"text-align: right;\">5</td></tr><tr><td class = \"rowNumber\" style = \"font-weight: bold; text-align: right;\">21</td><td style = \"text-align: right;\">117</td><td style = \"text-align: right;\">3000</td><td style = \"text-align: right;\">3234</td><td style = \"text-align: right;\">5</td></tr><tr><td class = \"rowNumber\" style = \"font-weight: bold; text-align: right;\">22</td><td style = \"text-align: right;\">162</td><td style = \"text-align: right;\">4000</td><td style = \"text-align: right;\">4324</td><td style = \"text-align: right;\">5</td></tr><tr><td class = \"rowNumber\" style = \"font-weight: bold; text-align: right;\">23</td><td style = \"text-align: right;\">312</td><td style = \"text-align: right;\">5000</td><td style = \"text-align: right;\">5624</td><td style = \"text-align: right;\">5</td></tr><tr><td class = \"rowNumber\" style = \"font-weight: bold; text-align: right;\">24</td><td style = \"text-align: right;\">179</td><td style = \"text-align: right;\">5000</td><td style = \"text-align: right;\">5358</td><td style = \"text-align: right;\">5</td></tr></tbody></table></div>"
      ],
      "text/latex": [
       "\\begin{tabular}{r|cccc}\n",
       "\t& a & b & c & procid\\\\\n",
       "\t\\hline\n",
       "\t& Int64 & Int64 & Int64 & Int64\\\\\n",
       "\t\\hline\n",
       "\t1 & 470 & 6000 & 6940 & 2 \\\\\n",
       "\t2 & 135 & 7000 & 7270 & 2 \\\\\n",
       "\t3 & 172 & 9000 & 9344 & 2 \\\\\n",
       "\t4 & 345 & 6000 & 6690 & 2 \\\\\n",
       "\t5 & 20 & 7000 & 7040 & 2 \\\\\n",
       "\t6 & 189 & 6000 & 6378 & 2 \\\\\n",
       "\t7 & 44 & 1000 & 1088 & 3 \\\\\n",
       "\t8 & 176 & 3000 & 3352 & 3 \\\\\n",
       "\t9 & 3 & 5000 & 5006 & 3 \\\\\n",
       "\t10 & 406 & 6000 & 6812 & 3 \\\\\n",
       "\t11 & 295 & 1000 & 1590 & 3 \\\\\n",
       "\t12 & 35 & 2000 & 2070 & 3 \\\\\n",
       "\t13 & 458 & 5000 & 5916 & 4 \\\\\n",
       "\t14 & 227 & 8000 & 8454 & 4 \\\\\n",
       "\t15 & 343 & 7000 & 7686 & 4 \\\\\n",
       "\t16 & 18 & 2000 & 2036 & 4 \\\\\n",
       "\t17 & 124 & 3000 & 3248 & 4 \\\\\n",
       "\t18 & 406 & 1000 & 1812 & 4 \\\\\n",
       "\t19 & 476 & 1000 & 1952 & 5 \\\\\n",
       "\t20 & 328 & 7000 & 7656 & 5 \\\\\n",
       "\t21 & 117 & 3000 & 3234 & 5 \\\\\n",
       "\t22 & 162 & 4000 & 4324 & 5 \\\\\n",
       "\t23 & 312 & 5000 & 5624 & 5 \\\\\n",
       "\t24 & 179 & 5000 & 5358 & 5 \\\\\n",
       "\\end{tabular}\n"
      ],
      "text/plain": [
       "\u001b[1m24×4 DataFrame\u001b[0m\n",
       "\u001b[1m Row \u001b[0m│\u001b[1m a     \u001b[0m\u001b[1m b     \u001b[0m\u001b[1m c     \u001b[0m\u001b[1m procid \u001b[0m\n",
       "     │\u001b[90m Int64 \u001b[0m\u001b[90m Int64 \u001b[0m\u001b[90m Int64 \u001b[0m\u001b[90m Int64  \u001b[0m\n",
       "─────┼─────────────────────────────\n",
       "   1 │   470   6000   6940       2\n",
       "   2 │   135   7000   7270       2\n",
       "   3 │   172   9000   9344       2\n",
       "   4 │   345   6000   6690       2\n",
       "   5 │    20   7000   7040       2\n",
       "   6 │   189   6000   6378       2\n",
       "   7 │    44   1000   1088       3\n",
       "   8 │   176   3000   3352       3\n",
       "   9 │     3   5000   5006       3\n",
       "  10 │   406   6000   6812       3\n",
       "  11 │   295   1000   1590       3\n",
       "  ⋮  │   ⋮      ⋮      ⋮      ⋮\n",
       "  15 │   343   7000   7686       4\n",
       "  16 │    18   2000   2036       4\n",
       "  17 │   124   3000   3248       4\n",
       "  18 │   406   1000   1812       4\n",
       "  19 │   476   1000   1952       5\n",
       "  20 │   328   7000   7656       5\n",
       "  21 │   117   3000   3234       5\n",
       "  22 │   162   4000   4324       5\n",
       "  23 │   312   5000   5624       5\n",
       "  24 │   179   5000   5358       5\n",
       "\u001b[36m                     3 rows omitted\u001b[0m"
      ]
     },
     "execution_count": 25,
     "metadata": {},
     "output_type": "execute_result"
    }
   ],
   "source": [
    "data = @distributed (append!) for i = 1:24\n",
    "    a = rand(1:499)\n",
    "    b = rand(1:9)*1000\n",
    "    c = calc(a, b)\n",
    "    DataFrame(;a,b,c,procid = myid())\n",
    "end"
   ]
  },
  {
   "cell_type": "markdown",
   "id": "1c625c64",
   "metadata": {},
   "source": [
    "#### Advanced Inteprocess communication - cellular automaton example"
   ]
  },
  {
   "cell_type": "code",
   "execution_count": 16,
   "id": "c8e469ce",
   "metadata": {},
   "outputs": [
    {
     "data": {
      "text/plain": [
       "runca (generic function with 1 method)"
      ]
     },
     "execution_count": 16,
     "metadata": {},
     "output_type": "execute_result"
    }
   ],
   "source": [
    "using Distributed\n",
    "@everywhere using ParallelDataTransfer, Distributed\n",
    "\n",
    "\n",
    "@everywhere function rule30()\n",
    "    lastv = Main.caa[1]\n",
    "    for i in 2:(length(Main.caa)-1)\n",
    "        current = Main.caa[i]\n",
    "        Main.caa[i] = xor(lastv, Main.caa[i] || Main.caa[i+1])\n",
    "        lastv = current\n",
    "    end\n",
    "end\n",
    "\n",
    "\n",
    "@everywhere function getcaa()\n",
    "    Main.caa\n",
    "end\n",
    "@everywhere function getsetborder()\n",
    "    #println(myid(),\"gs\");flush(stdout)\n",
    "    Main.caa[1] = (@fetchfrom Main.neighbours[1] getcaa()[15+1])\n",
    "    #println(myid(),\"gs1\");flush(stdout)\n",
    "    Main.caa[end] = (@fetchfrom Main.neighbours[2] getcaa()[2])\n",
    "    #println(myid(),\"gse\");flush(stdout)\n",
    "end\n",
    "\n",
    "function printsimdist(workers::Array{Int})\n",
    "    for w in workers\n",
    "        dat = @fetchfrom w caa\n",
    "        for b in dat[2:end-1]\n",
    "            print(b ? \"#\" : \" \")\n",
    "        end\n",
    "    end\n",
    "    println()\n",
    "    flush(stdout)\n",
    "end\n",
    "\n",
    "function runca(steps::Int, visualize::Bool)\n",
    "    @sync for w in workers()\n",
    "        @async @fetchfrom w fill!(caa, false)\n",
    "    end\n",
    "    @fetchfrom wks[Int(nwks/2)+1] caa[2]=true\n",
    "    visualize && printsimdist(workers())\n",
    "    for i in 1:steps\n",
    "        @sync for w in workers()\n",
    "            @async @fetchfrom w getsetborder()\n",
    "        end\n",
    "        @sync for w in workers()\n",
    "            @async @fetchfrom w rule30()\n",
    "        end\n",
    "        visualize && printsimdist(workers())\n",
    "    end\n",
    "end\n",
    "\n"
   ]
  },
  {
   "cell_type": "code",
   "execution_count": 17,
   "id": "b7794574",
   "metadata": {},
   "outputs": [
    {
     "name": "stdout",
     "output_type": "stream",
     "text": [
      "      From worker 2:\tWARNING: redefinition of constant caa. This may fail, cause incorrect answers, or produce other errors.\n",
      "      From worker 3:\tWARNING: redefinition of constant caa. This may fail, cause incorrect answers, or produce other errors.\n",
      "      From worker 4:\tWARNING: redefinition of constant caa. This may fail, cause incorrect answers, or produce other errors.\n",
      "      From worker 5:\tWARNING: redefinition of constant caa. This may fail, cause incorrect answers, or produce other errors.\n",
      "                              #                             \n",
      "                             ###                            \n",
      "                            ##  #                           \n",
      "                           ## ####                          \n",
      "                          ##  #   #                         \n",
      "                         ## #### ###                        \n",
      "                        ##  #    #  #                       \n",
      "                       ## ####  ######                      \n",
      "                      ##  #   ###     #                     \n",
      "                     ## #### ##  #   ###                    \n",
      "                    ##  #    # #### ##  #                   \n",
      "                   ## ####  ## #    # ####                  \n",
      "                  ##  #   ###  ##  ## #   #                 \n",
      "                 ## #### ##  ### ###  ## ###                \n",
      "                ##  #    # ###   #  ###  #  #               \n",
      "               ## ####  ## #  # #####  #######              \n",
      "              ##  #   ###  #### #    ###      #             \n",
      "             ## #### ##  ###    ##  ##  #    ###            \n",
      "            ##  #    # ###  #  ## ### ####  ##  #           \n",
      "           ## ####  ## #  ######  #   #   ### ####          \n",
      "          ##  #   ###  ####     #### ### ##   #   #         \n"
     ]
    }
   ],
   "source": [
    "wks = workers()\n",
    "nwks = length(wks)\n",
    "for i in 1:nwks\n",
    "    sendto(wks[i], neighbours = (i==1 ? wks[nwks] : wks[i-1],\n",
    "                                i==nwks ? wks[1] : wks[i+1]))\n",
    "    fetch(@defineat wks[i] const caa = zeros(Bool, 15+2));\n",
    "end\n",
    "\n",
    "runca(20,true)\n"
   ]
  }
 ],
 "metadata": {
  "kernelspec": {
   "display_name": "Julia 1.8.3",
   "language": "julia",
   "name": "julia-1.8"
  },
  "language_info": {
   "file_extension": ".jl",
   "mimetype": "application/julia",
   "name": "julia",
   "version": "1.8.3"
  }
 },
 "nbformat": 4,
 "nbformat_minor": 5
}
