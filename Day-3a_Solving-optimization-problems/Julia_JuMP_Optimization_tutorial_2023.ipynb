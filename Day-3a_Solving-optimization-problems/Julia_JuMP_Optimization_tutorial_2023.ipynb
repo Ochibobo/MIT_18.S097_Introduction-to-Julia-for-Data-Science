{
 "cells": [
  {
   "cell_type": "markdown",
   "id": "df249940",
   "metadata": {},
   "source": [
    "Packages used in this tutorial"
   ]
  },
  {
   "cell_type": "code",
   "execution_count": 2,
   "id": "d78db4e0",
   "metadata": {},
   "outputs": [],
   "source": [
    "using Pkg\n",
    "#pkg\"add HiGHS JuMP Calculus Ipopt\""
   ]
  },
  {
   "cell_type": "code",
   "execution_count": 3,
   "id": "df2ead98",
   "metadata": {
    "scrolled": true
   },
   "outputs": [
    {
     "name": "stdout",
     "output_type": "stream",
     "text": [
      "Min 50 x₁ + 70 x₂\n",
      "Subject to\n",
      " 200 x₁ + 2000 x₂ >= 9000.0\n",
      " 100 x₁ + 30 x₂ >= 300.0\n",
      " 9 x₁ + 11 x₂ >= 60.0\n",
      " x₁ >= 0.0\n",
      " x₂ >= 0.0\n",
      "\n"
     ]
    }
   ],
   "source": [
    "using JuMP, HiGHS\n",
    "m = Model(HiGHS.Optimizer)\n",
    "@variable(m,  x₁ >= 0)\n",
    "@variable(m,  x₂ >= 0)\n",
    "@objective(m, Min, 50x₁ + 70x₂)\n",
    "@constraint(m, 200x₁ + 2000x₂ >= 9000)\n",
    "@constraint(m, 100x₁ +   30x₂ >=  300)\n",
    "@constraint(m, 9x₁   +   11x₂ >=   60)\n",
    "println(m)"
   ]
  },
  {
   "cell_type": "code",
   "execution_count": 4,
   "id": "e9b80c7f",
   "metadata": {},
   "outputs": [
    {
     "data": {
      "text/plain": [
       "A JuMP Model\n",
       "Minimization problem with:\n",
       "Variables: 2\n",
       "Objective function type: AffExpr\n",
       "`AffExpr`-in-`MathOptInterface.GreaterThan{Float64}`: 3 constraints\n",
       "`VariableRef`-in-`MathOptInterface.GreaterThan{Float64}`: 2 constraints\n",
       "Model mode: AUTOMATIC\n",
       "CachingOptimizer state: EMPTY_OPTIMIZER\n",
       "Solver name: HiGHS\n",
       "Names registered in the model: x₁, x₂"
      ]
     },
     "execution_count": 4,
     "metadata": {},
     "output_type": "execute_result"
    }
   ],
   "source": [
    "m"
   ]
  },
  {
   "cell_type": "code",
   "execution_count": 5,
   "id": "198aa3e7",
   "metadata": {},
   "outputs": [
    {
     "name": "stdout",
     "output_type": "stream",
     "text": [
      "Running HiGHS 1.4.0 [date: 1970-01-01, git hash: bcf6c0b22]\n",
      "Copyright (c) 2022 ERGO-Code under MIT licence terms\n",
      "Presolving model\n",
      "3 rows, 2 cols, 6 nonzeros\n",
      "3 rows, 2 cols, 6 nonzeros\n",
      "Presolve : Reductions: rows 3(-0); columns 2(-0); elements 6(-0) - Not reduced\n",
      "Problem not reduced by presolve: solving the LP\n",
      "Using EKK dual simplex solver - serial\n",
      "  Iteration        Objective     Infeasibilities num(sum)\n",
      "          0     0.0000000000e+00 Pr: 3(2205) 0s\n",
      "          2     3.8814432990e+02 Pr: 0(0) 0s\n",
      "Model   status      : Optimal\n",
      "Simplex   iterations: 2\n",
      "Objective value     :  3.8814432990e+02\n",
      "HiGHS run time      :          0.02\n"
     ]
    },
    {
     "data": {
      "text/plain": [
       "2-element Vector{Float64}:\n",
       " 1.7010309278350515\n",
       " 4.329896907216495"
      ]
     },
     "execution_count": 5,
     "metadata": {},
     "output_type": "execute_result"
    }
   ],
   "source": [
    "optimize!(m)\n",
    "\n",
    "value.([x₁,x₂])"
   ]
  },
  {
   "cell_type": "markdown",
   "id": "186a3d22",
   "metadata": {},
   "source": [
    "The same model as above but now the decision variables are expected to be integers"
   ]
  },
  {
   "cell_type": "code",
   "execution_count": 6,
   "id": "54ec101b",
   "metadata": {},
   "outputs": [
    {
     "name": "stdout",
     "output_type": "stream",
     "text": [
      "Min 50 x₁ + 70 x₂\n",
      "Subject to\n",
      " 200 x₁ + 2000 x₂ >= 9000.0\n",
      " 100 x₁ + 30 x₂ >= 300.0\n",
      " 9 x₁ + 11 x₂ >= 60.0\n",
      " x₁ >= 0.0\n",
      " x₂ >= 0.0\n",
      " x₁ <= 100.0\n",
      " x₂ <= 110.0\n",
      " x₁ integer\n",
      " x₂ integer\n",
      "\n"
     ]
    }
   ],
   "source": [
    "m = Model(HiGHS.Optimizer)\n",
    "@variable(m, 100 >= x₁ >= 0, Int)\n",
    "@variable(m, 110 >= x₂ >= 0, Int)\n",
    "@objective(m, Min, 50x₁ + 70x₂)\n",
    "@constraint(m, 200x₁ + 2000x₂ >= 9000)\n",
    "@constraint(m, 100x₁ +   30x₂ >=  300)\n",
    "@constraint(m, 9x₁   +   11x₂ >=   60)\n",
    "println(m)"
   ]
  },
  {
   "cell_type": "code",
   "execution_count": 7,
   "id": "34102baa",
   "metadata": {},
   "outputs": [
    {
     "name": "stdout",
     "output_type": "stream",
     "text": [
      "Running HiGHS 1.4.0 [date: 1970-01-01, git hash: bcf6c0b22]\n",
      "Copyright (c) 2022 ERGO-Code under MIT licence terms\n",
      "Presolving model\n",
      "3 rows, 2 cols, 6 nonzeros\n",
      "3 rows, 2 cols, 6 nonzeros\n",
      "Objective function is integral with scale 0.1\n",
      "\n",
      "Solving MIP model with:\n",
      "   3 rows\n",
      "   2 cols (0 binary, 2 integer, 0 implied int., 0 continuous)\n",
      "   6 nonzeros\n",
      "\n",
      "        Nodes      |    B&B Tree     |            Objective Bounds              |  Dynamic Constraints |       Work      \n",
      "     Proc. InQueue |  Leaves   Expl. | BestBound       BestSol              Gap |   Cuts   InLp Confl. | LpIters     Time\n",
      "\n",
      "         0       0         0   0.00%   0               inf                  inf        0      0      0         0     0.0s\n",
      "\n",
      "Solving report\n",
      "  Status            Optimal\n",
      "  Primal bound      450\n",
      "  Dual bound        450\n",
      "  Gap               0% (tolerance: 0.01%)\n",
      "  Solution status   feasible\n",
      "                    450 (objective)\n",
      "                    0 (bound viol.)\n",
      "                    0 (int. viol.)\n",
      "                    0 (row viol.)\n",
      "  Timing            0.03 (total)\n",
      "                    0.00 (presolve)\n",
      "                    0.00 (postsolve)\n",
      "  Nodes             1\n",
      "  LP iterations     2 (total)\n",
      "                    0 (strong br.)\n",
      "                    0 (separation)\n",
      "                    0 (heuristics)\n"
     ]
    },
    {
     "data": {
      "text/plain": [
       "2-element Vector{Int64}:\n",
       " 2\n",
       " 5"
      ]
     },
     "execution_count": 7,
     "metadata": {},
     "output_type": "execute_result"
    }
   ],
   "source": [
    "optimize!(m)\n",
    "JuMP.value.([x₁,x₂])\n",
    "\n",
    "#1.9999999999999\n",
    "round.(Int, value.([x₁,x₂]))"
   ]
  },
  {
   "cell_type": "markdown",
   "id": "fc5ad00c",
   "metadata": {},
   "source": [
    "What are those `@` macros we are seeing around?"
   ]
  },
  {
   "cell_type": "code",
   "execution_count": 8,
   "id": "de2d3bdc",
   "metadata": {
    "scrolled": true
   },
   "outputs": [
    {
     "data": {
      "text/plain": [
       ":(x = 5)"
      ]
     },
     "execution_count": 8,
     "metadata": {},
     "output_type": "execute_result"
    }
   ],
   "source": [
    "code = Meta.parse(\"x=5\")"
   ]
  },
  {
   "cell_type": "code",
   "execution_count": 9,
   "id": "bbe59b0f",
   "metadata": {},
   "outputs": [
    {
     "name": "stdout",
     "output_type": "stream",
     "text": [
      "Expr\n",
      "  head: Symbol =\n",
      "  args: Array{Any}((2,))\n",
      "    1: Symbol x\n",
      "    2: Int64 5\n"
     ]
    }
   ],
   "source": [
    "dump(code)"
   ]
  },
  {
   "cell_type": "code",
   "execution_count": 44,
   "id": "2a7a78fa",
   "metadata": {},
   "outputs": [
    {
     "data": {
      "text/plain": [
       ":somysymbolname"
      ]
     },
     "execution_count": 44,
     "metadata": {},
     "output_type": "execute_result"
    }
   ],
   "source": [
    ":somysymbolname"
   ]
  },
  {
   "cell_type": "code",
   "execution_count": 11,
   "id": "1026cb07",
   "metadata": {},
   "outputs": [
    {
     "name": "stdout",
     "output_type": "stream",
     "text": [
      "Expr\n",
      "  head: Symbol =\n",
      "  args: Array{Any}((2,))\n",
      "    1: Symbol x\n",
      "    2: Int64 5\n"
     ]
    }
   ],
   "source": [
    "dump(code)"
   ]
  },
  {
   "cell_type": "code",
   "execution_count": 12,
   "id": "a41abf0c",
   "metadata": {},
   "outputs": [
    {
     "data": {
      "text/plain": [
       "5"
      ]
     },
     "execution_count": 12,
     "metadata": {},
     "output_type": "execute_result"
    }
   ],
   "source": [
    "eval(code)"
   ]
  },
  {
   "cell_type": "code",
   "execution_count": 13,
   "id": "614bd7d7",
   "metadata": {},
   "outputs": [
    {
     "data": {
      "text/plain": [
       "5"
      ]
     },
     "execution_count": 13,
     "metadata": {},
     "output_type": "execute_result"
    }
   ],
   "source": [
    "x"
   ]
  },
  {
   "cell_type": "code",
   "execution_count": 45,
   "id": "33d4266a",
   "metadata": {},
   "outputs": [
    {
     "data": {
      "text/plain": [
       "@sayhello (macro with 1 method)"
      ]
     },
     "execution_count": 45,
     "metadata": {},
     "output_type": "execute_result"
    }
   ],
   "source": [
    "macro sayhello(name)\n",
    "    println(\"Code is being generated\")\n",
    "    return :( println(\"Hello, \", $name) )\n",
    "end"
   ]
  },
  {
   "cell_type": "code",
   "execution_count": 46,
   "id": "2dc3ff16",
   "metadata": {},
   "outputs": [
    {
     "name": "stdout",
     "output_type": "stream",
     "text": [
      "Code is being generated\n",
      "Hello, John\n",
      "  0.000863 seconds (127 allocations: 9.656 KiB)\n"
     ]
    }
   ],
   "source": [
    "@time @sayhello(\"John\")"
   ]
  },
  {
   "cell_type": "code",
   "execution_count": 47,
   "id": "033ad0bd",
   "metadata": {},
   "outputs": [
    {
     "name": "stdout",
     "output_type": "stream",
     "text": [
      "Code is being generated\n",
      "Hello, John\n",
      "  0.000676 seconds (27 allocations: 816 bytes)\n"
     ]
    }
   ],
   "source": [
    "@time @sayhello(\"John\")"
   ]
  },
  {
   "cell_type": "code",
   "execution_count": 48,
   "id": "0c420460",
   "metadata": {
    "scrolled": true
   },
   "outputs": [
    {
     "name": "stdout",
     "output_type": "stream",
     "text": [
      "Code is being generated\n"
     ]
    },
    {
     "data": {
      "text/plain": [
       ":(Main.println(\"Hello, \", \"John\"))"
      ]
     },
     "execution_count": 48,
     "metadata": {},
     "output_type": "execute_result"
    }
   ],
   "source": [
    "@macroexpand @sayhello(\"John\")"
   ]
  },
  {
   "cell_type": "code",
   "execution_count": 49,
   "id": "d235fb4a",
   "metadata": {},
   "outputs": [
    {
     "name": "stdout",
     "output_type": "stream",
     "text": [
      "Code is being generated\n",
      "Main.println(\"Hello, \", \"John\")\n"
     ]
    }
   ],
   "source": [
    "println(@macroexpand @sayhello(\"John\"))"
   ]
  },
  {
   "cell_type": "code",
   "execution_count": 50,
   "id": "4d84d144",
   "metadata": {},
   "outputs": [
    {
     "name": "stdout",
     "output_type": "stream",
     "text": [
      "Code is being generated\n",
      "Hello, John\n"
     ]
    }
   ],
   "source": [
    "@sayhello(\"John\")"
   ]
  },
  {
   "cell_type": "code",
   "execution_count": 51,
   "id": "ed64558b",
   "metadata": {},
   "outputs": [
    {
     "name": "stdout",
     "output_type": "stream",
     "text": [
      "begin\n",
      "    \u001b[90m#= In[51]:1 =#\u001b[39m\n",
      "    JuMP._valid_model(m, :m)\n",
      "    begin\n",
      "        \u001b[90m#= C:\\JuliaPkg\\Julia-1.8.3\\packages\\JuMP\\vuP7I\\src\\macros.jl:130 =#\u001b[39m\n",
      "        JuMP._error_if_cannot_register(m, :x₁)\n",
      "        \u001b[90m#= C:\\JuliaPkg\\Julia-1.8.3\\packages\\JuMP\\vuP7I\\src\\macros.jl:138 =#\u001b[39m\n",
      "        var\"#244###443\" = JuMP.add_variable(m, JuMP.build_variable(JuMP.var\"#_error#127\"{LineNumberNode}(:(\u001b[90m#= In[51]:1 =#\u001b[39m), Core.Box((:m, :(x₁ >= 0)))), JuMP.VariableInfo(true, 0, false, NaN, false, NaN, false, NaN, false, false)), if JuMP.set_string_names_on_creation(m)\n",
      "                    \"x₁\"\n",
      "                else\n",
      "                    \"\"\n",
      "                end)\n",
      "        \u001b[90m#= C:\\JuliaPkg\\Julia-1.8.3\\packages\\JuMP\\vuP7I\\src\\macros.jl:139 =#\u001b[39m\n",
      "        m[:x₁] = var\"#244###443\"\n",
      "        \u001b[90m#= C:\\JuliaPkg\\Julia-1.8.3\\packages\\JuMP\\vuP7I\\src\\macros.jl:145 =#\u001b[39m\n",
      "        x₁ = var\"#244###443\"\n",
      "    end\n",
      "end\n"
     ]
    }
   ],
   "source": [
    "println(@macroexpand @variable(m, x₁ >= 0));"
   ]
  },
  {
   "cell_type": "code",
   "execution_count": 21,
   "id": "ced14b04",
   "metadata": {},
   "outputs": [],
   "source": [
    "using Calculus"
   ]
  },
  {
   "cell_type": "code",
   "execution_count": null,
   "id": "4e6e619f",
   "metadata": {},
   "outputs": [],
   "source": []
  },
  {
   "cell_type": "code",
   "execution_count": 22,
   "id": "03ed659a",
   "metadata": {},
   "outputs": [
    {
     "data": {
      "text/plain": [
       ":(1 * cos(x) + (1x + x * 1) + (0 * x + 5 * 1))"
      ]
     },
     "execution_count": 22,
     "metadata": {},
     "output_type": "execute_result"
    }
   ],
   "source": [
    "differentiate(:(sin(x) + x*x+5x))"
   ]
  },
  {
   "cell_type": "markdown",
   "id": "1eaa4d4f",
   "metadata": {},
   "source": [
    "### Subway optimization"
   ]
  },
  {
   "cell_type": "code",
   "execution_count": 52,
   "id": "371dfca6",
   "metadata": {},
   "outputs": [],
   "source": [
    "using JuMP, HiGHS\n",
    "using DelimitedFiles"
   ]
  },
  {
   "cell_type": "code",
   "execution_count": 53,
   "id": "55f06020",
   "metadata": {},
   "outputs": [],
   "source": [
    "S = 18   # number of warehouses\n",
    "D = 100  # number of restaurants\n",
    "supply = fill(100,S)\n",
    "demand = fill(15,D);"
   ]
  },
  {
   "cell_type": "code",
   "execution_count": 54,
   "id": "e81870c2",
   "metadata": {},
   "outputs": [],
   "source": [
    "dat=\"\"\"21328\t7901\t16774\t24413\t14131\t21551\t15742\t21091\t25167\t3266\t19312\t14878\t22914\t18392\t14514\t21072\t11535\t12965\t12952\t12952\t15839\t27836\t16816\t13527\t13769\t4924\t23891\t26532\t10245\t15446\t16834\t11421\t27231\t20285\t25810\t12477\t16499\t26958\t23770\t32327\t23572\t26475\t23894\t2054\t22156\t28491\t2392\t21051\t18793\t14598\t9413\t8004\t14286\t8717\t24919\t27581\t21829\t26135\t33450\t4905\t18558\t23046\t9212\t20923\t6426\t20020\t24644\t10862\t12351\t16446\t7751\t19819\t17406\t16768\t9319\t17584\t8191\t18776\t22432\t20389\t25377\t3129\t22425\t6899\t16830\t12305\t3393\t24579\t16727\t21086\t30660\t26999\t29664\t26436\t26138\t28183\t20874\t30143\t30419\t29718\n",
    "5195\t15055\t4216\t9295\t6050\t4779\t3641\t15102\t8395\t16829\t5224\t3595\t14177\t1684\t2753\t4300\t5469\t4233\t3962\t3962\t3039\t13176\t12595\t4764\t5428\t12767\t7119\t11115\t6960\t1597\t1173\t5848\t26351\t10941\t19927\t7174\t13542\t11015\t6998\t18198\t18270\t9703\t7376\t15867\t21981\t12387\t19029\t6936\t9170\t15206\t7748\t8933\t11906\t12823\t24031\t21698\t8083\t11432\t18205\t18548\t17558\t25919\t10027\t7178\t10521\t19897\t29294\t15136\t13659\t10764\t18656\t7135\t9574\t19550\t13973\t11620\t17524\t10944\t9910\t9940\t26373\t13762\t11058\t16154\t22702\t19728\t14022\t13212\t4280\t7563\t22298\t13152\t15728\t12308\t17068\t19554\t12880\t16313\t18674\t20915\n",
    "24025\t13295\t22003\t22254\t20379\t26418\t22859\t10495\t28761\t12735\t29656\t23437\t36220\t24616\t24042\t28477\t24395\t24758\t25121\t25121\t26548\t22646\t30633\t22842\t26491\t16326\t27452\t24373\t23067\t25325\t26551\t21542\t15677\t33471\t14651\t19634\t30316\t26735\t29375\t24969\t12413\t28023\t29753\t17066\t10602\t28267\t17790\t19925\t31979\t11657\t20017\t21593\t15001\t22657\t12101\t16422\t32830\t33810\t28260\t19918\t7961\t10227\t17414\t32204\t20070\t8789\t9898\t25254\t26654\t15742\t22269\t18946\t30636\t6105\t14423\t31182\t22709\t32007\t34792\t15723\t12559\t17643\t34786\t12754\t2900\t26823\t15171\t36939\t28008\t19237\t19501\t18955\t20687\t20740\t15099\t17024\t13131\t22051\t19380\t18559\n",
    "22508\t22014\t17954\t25593\t16490\t22230\t16922\t24989\t25524\t22994\t19299\t15807\t6155\t19098\t15443\t21468\t12730\t13765\t13698\t13698\t16518\t29016\t5152\t14712\t12407\t19272\t24570\t27712\t12077\t16125\t17442\t13516\t36239\t9317\t29815\t14836\t4483\t28138\t23911\t33506\t28157\t27086\t24005\t18712\t31869\t29670\t18413\t22231\t11140\t22962\t14736\t13031\t19351\t12074\t33919\t31585\t16632\t23191\t34630\t15865\t26772\t35807\t17273\t14708\t14646\t29784\t39182\t9608\t8373\t18948\t12547\t20876\t8411\t28622\t21042\t6315\t12007\t7728\t12270\t22466\t36261\t17719\t9635\t23113\t31385\t8204\t20527\t7661\t15899\t22181\t34494\t28057\t30721\t27616\t29264\t31749\t23716\t31201\t32314\t33111\n",
    "12913\t5006\t10217\t14089\t7574\t15206\t10375\t9595\t18453\t9762\t18403\t10736\t23395\t12829\t11221\t17256\t11328\t11937\t12300\t12300\t13779\t17052\t17405\t10020\t13666\t7932\t17144\t16209\t9839\t13158\t14563\t8314\t17138\t20646\t14521\t6406\t17088\t16684\t19067\t21542\t12283\t17714\t19445\t11789\t12768\t18217\t15071\t10777\t19154\t2717\t6596\t8172\t2025\t9318\t14805\t16292\t20943\t23502\t22666\t14640\t7256\t16706\t3917\t20037\t6821\t10026\t20081\t11915\t13233\t4235\t14855\t9053\t17812\t8378\t3697\t18089\t14029\t19182\t22625\t8169\t17147\t9683\t22619\t6321\t11174\t17884\t9520\t24772\t15841\t10116\t19371\t16003\t18668\t15652\t14502\t16894\t8883\t19148\t18556\t18349\n",
    "6281\t16514\t5753\t10410\t7509\t5795\t5099\t16782\t9308\t18288\t3312\t4999\t12625\t2798\t4158\t5230\t4648\t3949\t3341\t3341\t2010\t14262\t11741\t5686\t4491\t14172\t8135\t12202\t6139\t1903\t833\t7252\t28032\t9390\t21608\t8633\t12688\t12061\t7800\t19313\t19950\t10719\t7894\t15046\t23662\t13403\t18173\t8050\t7618\t16665\t9152\t8112\t13364\t11967\t25712\t23378\t6171\t10135\t19220\t17692\t19239\t27600\t11486\t5266\t9700\t21577\t30975\t14265\t12788\t12222\t17785\t8823\t8548\t21230\t15432\t10622\t16653\t9685\t7998\t11620\t28054\t12940\t9507\t17612\t24382\t18873\t15427\t11660\t3003\t8736\t23737\t14267\t16842\t13422\t18513\t21173\t14561\t17427\t19876\t22534\n",
    "4656\t19128\t9008\t4124\t11894\t5115\t10216\t15084\t4473\t23560\t7924\t11296\t21642\t8036\t12133\t5794\t14532\t13370\t13273\t13273\t12492\t5169\t21810\t12436\t14643\t21431\t3145\t2102\t16062\t11050\t9979\t14704\t26333\t18420\t19909\t13545\t22757\t1361\t5712\t10225\t18252\t3044\t6090\t24906\t21963\t2893\t28161\t5968\t16648\t16074\t16577\t18035\t13324\t21984\t24014\t21680\t11094\t10146\t8657\t27685\t17540\t25902\t17061\t12978\t19586\t19879\t29276\t24306\t22830\t12163\t27827\t7636\t18788\t19532\t17819\t20835\t26694\t20159\t15710\t9922\t26355\t22801\t18447\t20443\t22684\t28942\t22852\t20547\t13660\t6657\t21239\t9808\t12248\t7988\t16401\t19061\t12862\t10557\t16997\t20422\n",
    "16446\t6905\t14412\t14675\t11772\t18839\t14588\t7393\t21182\t11243\t22077\t14949\t27612\t17024\t15434\t20898\t15787\t16151\t16513\t16513\t17993\t16064\t22025\t14234\t17883\t9936\t19873\t16795\t14459\t17371\t18776\t12934\t14600\t24863\t12201\t11026\t21708\t19156\t21796\t20555\t9963\t20444\t22174\t13463\t10230\t20688\t16645\t12347\t23371\t2861\t11340\t12916\t6325\t14030\t12267\t13972\t25156\t26231\t21678\t16314\t4936\t12206\t8733\t24250\t11443\t6518\t15339\t16627\t17978\t7135\t16968\t11368\t22029\t3256\t5796\t22574\t17408\t23399\t26839\t8145\t14538\t11797\t26832\t8220\t6019\t21522\t11470\t28986\t20054\t11658\t17050\t15108\t17399\t14664\t12468\t14574\t6924\t18252\t16749\t16109\n",
    "12070\t11940\t10048\t10299\t8061\t14463\t10878\t2839\t16806\t16286\t17701\t11239\t23901\t12661\t11724\t16522\t12122\t12440\t12803\t12803\t14282\t11080\t18749\t10523\t14172\t14959\t15497\t12419\t11183\t13370\t14597\t9658\t14089\t21152\t7665\t7700\t18432\t14780\t17420\t15539\t6007\t16068\t17798\t18505\t9719\t16312\t21688\t7971\t19661\t5094\t10528\t12139\t5548\t16015\t11769\t9435\t20875\t21855\t16694\t21357\t5295\t13657\t10644\t20249\t13538\t7634\t17032\t18604\t17127\t3353\t21847\t6992\t18318\t7287\t10724\t18909\t20725\t19688\t22837\t3769\t14111\t16676\t22831\t13254\t10342\t24395\t16513\t24984\t16053\t7282\t12491\t9848\t12040\t9648\t7426\t9830\t1565\t12993\t11480\t11273\n",
    "10329\t23462\t13628\t6311\t16247\t10788\t14836\t14910\t7331\t27913\t13481\t15916\t27214\t13710\t16784\t11351\t19112\t17990\t17893\t17893\t18028\t2647\t26430\t16997\t19262\t25789\t8815\t4323\t20625\t16722\t15636\t19217\t26160\t23992\t19703\t17898\t27377\t4669\t9312\t5419\t18078\t5880\t9548\t29264\t21790\t5165\t32546\t9541\t22221\t17837\t20935\t22545\t17686\t26421\t23840\t21156\t16651\t13619\t3334\t32102\t17366\t25728\t21419\t18550\t23944\t19705\t29103\t28886\t27409\t15635\t32264\t11041\t23408\t19358\t22153\t25455\t31131\t24779\t21282\t11857\t26182\t27159\t24019\t24777\t22510\t33562\t27210\t26120\t19317\t9710\t19225\t7343\t9606\t5523\t14848\t17430\t12203\t7915\t14982\t18439\n",
    "9046\t7229\t6350\t10918\t3587\t11339\t6397\t7802\t14626\t11985\t14424\t6758\t19420\t8962\t7243\t13389\t7493\t7959\t8322\t8322\t9801\t14306\t13857\t6042\t9691\t10151\t13317\t13037\t6291\t9180\t10585\t4767\t19051\t16671\t12628\t2808\t13541\t13463\t15240\t18797\t10970\t13888\t15618\t13923\t14681\t14996\t17205\t7556\t15180\t6200\t5636\t7247\t2636\t11123\t16732\t14398\t16964\t19675\t19921\t16774\t9996\t18620\t5807\t16059\t8646\t12597\t21994\t13712\t12236\t1761\t16966\t5969\t13837\t11847\t5920\t14279\t15834\t15208\t18647\t5814\t19073\t11817\t18641\t8544\t14609\t19504\t11740\t20794\t11863\t7254\t17377\t13258\t15923\t12907\t12147\t14632\t6528\t16403\t16201\t15994\n",
    "4657\t14007\t4438\t3771\t6792\t7050\t5646\t9018\t9393\t18458\t10288\t6726\t19802\t5879\t7594\t9109\t9647\t8800\t8703\t8703\t8838\t7010\t17078\t7532\t10073\t16334\t8084\t5890\t11170\t7533\t8037\t9762\t20267\t16877\t13843\t8443\t18024\t7499\t10007\t11501\t12186\t8655\t10385\t19810\t15897\t9032\t23092\t475\t15105\t10063\t11480\t13090\t8130\t16966\t17948\t15614\t13462\t14442\t12625\t22647\t11474\t19836\t11964\t13509\t14489\t13813\t23210\t19421\t17945\t6236\t22809\t1641\t14219\t13466\t12699\t15994\t21677\t15589\t16241\t3856\t20289\t17704\t16993\t15322\t16618\t24210\t17755\t19147\t10215\t239\t15528\t6455\t8962\t5611\t10304\t12964\t6796\t9616\t11742\t14325\n",
    "16168\t26420\t17376\t13468\t19205\t18438\t18584\t14330\t20479\t30871\t21676\t19664\t32739\t18651\t20532\t20497\t22329\t21738\t21641\t21641\t21776\t11708\t29491\t20520\t23011\t28747\t19444\t14693\t23583\t20470\t20809\t22175\t13538\t29815\t9415\t20856\t30437\t17221\t21396\t8872\t12092\t19047\t21773\t32223\t13988\t18752\t35504\t13302\t28043\t20840\t23893\t25503\t20740\t29379\t14349\t9468\t24851\t25830\t16745\t35060\t16582\t17173\t24377\t25029\t26902\t15501\t19174\t31968\t30491\t18559\t35222\t13999\t27156\t18554\t25111\t28487\t34089\t28527\t27761\t14815\t16400\t30117\t29931\t27735\t21545\t36623\t30168\t32085\t23153\t13264\t6197\t7925\t4260\t9841\t9124\t7119\t14589\t5954\t5049\t5752\n",
    "3485\t11419\t1299\t6632\t4185\t5779\t2507\t10988\t9414\t15851\t9008\t3586\t16662\t3402\t4455\t7829\t6823\t5661\t5564\t5564\t5416\t10055\t14101\t4742\t6933\t13733\t8106\t8751\t8353\t4111\t5337\t6995\t22238\t13455\t15814\t5836\t15048\t8923\t10029\t14546\t14156\t8763\t10407\t17212\t17868\t10455\t20452\t3270\t11683\t11254\t8883\t10326\t7960\t14275\t19918\t17585\t11895\t14463\t15669\t19976\t13445\t21806\t9362\t10990\t11892\t15784\t25181\t16597\t15121\t6811\t20117\t2917\t11079\t15437\t10110\t13126\t18985\t12450\t13578\t5827\t22260\t15107\t13572\t12733\t18588\t21233\t15158\t15725\t6794\t3345\t18185\t9500\t12007\t8655\t12955\t15440\t8767\t12661\t14455\t16802\n",
    "20790\t9466\t18768\t19019\t16388\t23183\t19204\t8048\t25526\t11781\t26421\t19566\t32228\t21381\t20050\t25242\t20403\t20767\t21130\t21130\t22609\t19411\t26641\t18850\t22499\t12497\t24217\t21138\t19075\t21988\t23316\t17550\t14121\t29479\t12701\t15643\t26324\t23500\t26140\t22523\t10462\t24788\t26518\t14435\t9046\t25032\t17184\t16690\t27988\t7647\t16008\t17583\t10992\t18647\t11810\t14471\t29595\t30575\t25025\t17287\t5515\t9936\t13405\t28867\t16060\t6910\t13069\t21244\t22645\t11751\t19529\t15711\t26645\t3659\t10414\t27190\t19969\t28015\t31455\t12488\t12268\t14358\t31448\t9386\t3721\t24083\t12443\t33602\t24671\t16002\t17550\t16509\t18607\t17505\t13028\t15073\t9896\t19605\t17309\t16608\n",
    "5209\t18274\t7514\t9447\t9270\t4512\t6860\t18543\t7991\t20049\t1770\t6760\t12619\t4480\t5919\t3913\t6409\t5710\t5102\t5102\t3771\t13094\t13449\t7447\t6252\t15933\t6849\t11034\t7900\t3664\t2533\t9013\t29793\t9396\t23369\t10394\t14396\t10775\t6403\t19042\t21711\t9433\t6497\t16807\t25423\t12117\t19933\t9297\t7625\t18426\t10913\t9872\t15125\t13727\t27473\t25139\t4829\t8593\t17935\t19453\t20999\t29361\t13247\t3955\t11460\t23338\t32736\t15967\t14491\t13983\t19488\t10504\t10133\t22991\t17193\t12207\t18355\t11270\t6687\t13381\t29815\t14701\t9423\t19373\t26143\t20582\t17188\t11524\t4764\t9986\t25177\t14146\t17374\t13177\t20016\t22675\t16322\t17157\t20935\t24036\n",
    "11294\t12965\t9272\t9523\t8056\t13686\t10128\t2354\t16029\t17305\t16925\t10705\t23655\t11884\t11574\t15745\t12558\t12435\t12683\t12683\t13816\t9914\t19729\t10518\t13926\t15996\t14721\t11642\t12295\t12593\t13820\t10771\t13604\t20906\t7180\t8812\t19545\t14003\t16644\t14373\t5522\t15291\t17022\t19525\t9234\t15536\t22708\t7194\t19415\t6113\t11640\t13251\t6661\t17127\t11284\t8951\t20099\t21078\t15528\t22377\t4811\t13172\t11756\t19472\t14650\t7150\t16547\t19716\t18239\t4465\t22960\t6215\t18072\t6803\t11837\t18726\t21838\t19442\t22060\t2992\t13626\t17788\t22054\t14280\t9954\t25508\t17533\t24208\t15276\t6505\t11490\t8682\t10874\t8483\t6260\t8746\t400\t11827\t10314\t10107\n",
    "5303\t9560\t2607\t8328\t2468\t7596\t3463\t9535\t11232\t14134\t10826\t4040\t16990\t5219\t4909\t9646\t5902\t6115\t6018\t6018\t7151\t11553\t13064\t4295\t7261\t12016\t9923\t10447\t6988\t5928\t7155\t5580\t20785\t14241\t14361\t4119\t14011\t10873\t11846\t16044\t12703\t10580\t12224\t15533\t16415\t12406\t18815\t4966\t12750\t9395\t7204\t8813\t6101\t12689\t18465\t16131\t13713\t16281\t17167\t18371\t11992\t20353\t7646\t12807\t10213\t14330\t23728\t15278\t13802\t4953\t18532\t3288\t11407\t13983\t8252\t12061\t17400\t12778\t15396\t4373\t20807\t13428\t15389\t10875\t17135\t20196\t13479\t17543\t8611\t4601\t16731\t10469\t13133\t10153\t11502\t13987\t7314\t13613\t14444\t15348\n",
    "\"\"\";"
   ]
  },
  {
   "cell_type": "code",
   "execution_count": 55,
   "id": "aea1926f",
   "metadata": {},
   "outputs": [
    {
     "data": {
      "text/plain": [
       "18×100 Matrix{Int64}:\n",
       " 21328   7901  16774  24413  14131  …  28183  20874  30143  30419  29718\n",
       "  5195  15055   4216   9295   6050     19554  12880  16313  18674  20915\n",
       " 24025  13295  22003  22254  20379     17024  13131  22051  19380  18559\n",
       " 22508  22014  17954  25593  16490     31749  23716  31201  32314  33111\n",
       " 12913   5006  10217  14089   7574     16894   8883  19148  18556  18349\n",
       "  6281  16514   5753  10410   7509  …  21173  14561  17427  19876  22534\n",
       "  4656  19128   9008   4124  11894     19061  12862  10557  16997  20422\n",
       " 16446   6905  14412  14675  11772     14574   6924  18252  16749  16109\n",
       " 12070  11940  10048  10299   8061      9830   1565  12993  11480  11273\n",
       " 10329  23462  13628   6311  16247     17430  12203   7915  14982  18439\n",
       "  9046   7229   6350  10918   3587  …  14632   6528  16403  16201  15994\n",
       "  4657  14007   4438   3771   6792     12964   6796   9616  11742  14325\n",
       " 16168  26420  17376  13468  19205      7119  14589   5954   5049   5752\n",
       "  3485  11419   1299   6632   4185     15440   8767  12661  14455  16802\n",
       " 20790   9466  18768  19019  16388     15073   9896  19605  17309  16608\n",
       "  5209  18274   7514   9447   9270  …  22675  16322  17157  20935  24036\n",
       " 11294  12965   9272   9523   8056      8746    400  11827  10314  10107\n",
       "  5303   9560   2607   8328   2468     13987   7314  13613  14444  15348"
      ]
     },
     "execution_count": 55,
     "metadata": {},
     "output_type": "execute_result"
    }
   ],
   "source": [
    "c = readdlm(IOBuffer(dat), Int)"
   ]
  },
  {
   "cell_type": "code",
   "execution_count": 27,
   "id": "60fb891e",
   "metadata": {},
   "outputs": [
    {
     "name": "stdout",
     "output_type": "stream",
     "text": [
      "Running HiGHS 1.4.0 [date: 1970-01-01, git hash: bcf6c0b22]\n",
      "Copyright (c) 2022 ERGO-Code under MIT licence terms\n",
      "Presolving model\n",
      "118 rows, 1800 cols, 3600 nonzeros\n",
      "118 rows, 1800 cols, 3600 nonzeros\n",
      "Presolve : Reductions: rows 118(-0); columns 1800(-0); elements 3600(-0) - Not reduced\n",
      "Problem not reduced by presolve: solving the LP\n",
      "Using EKK dual simplex solver - serial\n",
      "  Iteration        Objective     Infeasibilities num(sum)\n",
      "          0     0.0000000000e+00 Pr: 100(1500) 0s\n",
      "        144     7.9948050000e+06 Pr: 0(0) 0s\n",
      "Model   status      : Optimal\n",
      "Simplex   iterations: 144\n",
      "Objective value     :  7.9948050000e+06\n",
      "HiGHS run time      :          0.00\n"
     ]
    }
   ],
   "source": [
    "m = Model(HiGHS.Optimizer);\n",
    "@variable(m, 400 >= x[i=1:S, j=1:D] >= 0)\n",
    "\n",
    "∑ = sum\n",
    "\n",
    "for j=1:D\n",
    "   @constraint(m, ∑(x[:, j]) >= demand[j]   )\n",
    "end\n",
    "for i=1:S\n",
    "   @constraint(m, ∑(x[i, :]) <= supply[i]   )\n",
    "end\n",
    "#@objective(m, Min, ∑( x[i, j]*c[i, j] for i=1:S, j=1:D))\n",
    "@objective(m, Min, ∑( x .* c ))\n",
    "\n",
    "optimize!(m)\n"
   ]
  },
  {
   "cell_type": "code",
   "execution_count": 28,
   "id": "330f9245",
   "metadata": {},
   "outputs": [
    {
     "name": "stdout",
     "output_type": "stream",
     "text": [
      "termination_status(m) = MathOptInterface.OPTIMAL\n"
     ]
    },
    {
     "data": {
      "text/plain": [
       "Enum MathOptInterface.TerminationStatusCode:\n",
       "OPTIMIZE_NOT_CALLED = 0\n",
       "OPTIMAL = 1\n",
       "INFEASIBLE = 2\n",
       "DUAL_INFEASIBLE = 3\n",
       "LOCALLY_SOLVED = 4\n",
       "LOCALLY_INFEASIBLE = 5\n",
       "INFEASIBLE_OR_UNBOUNDED = 6\n",
       "ALMOST_OPTIMAL = 7\n",
       "ALMOST_INFEASIBLE = 8\n",
       "ALMOST_DUAL_INFEASIBLE = 9\n",
       "ALMOST_LOCALLY_SOLVED = 10\n",
       "ITERATION_LIMIT = 11\n",
       "TIME_LIMIT = 12\n",
       "NODE_LIMIT = 13\n",
       "SOLUTION_LIMIT = 14\n",
       "MEMORY_LIMIT = 15\n",
       "OBJECTIVE_LIMIT = 16\n",
       "NORM_LIMIT = 17\n",
       "OTHER_LIMIT = 18\n",
       "SLOW_PROGRESS = 19\n",
       "NUMERICAL_ERROR = 20\n",
       "INVALID_MODEL = 21\n",
       "INVALID_OPTION = 22\n",
       "INTERRUPTED = 23\n",
       "OTHER_ERROR = 24"
      ]
     },
     "execution_count": 28,
     "metadata": {},
     "output_type": "execute_result"
    }
   ],
   "source": [
    "@show termination_status(m)\n",
    "typeof(termination_status(m))"
   ]
  },
  {
   "cell_type": "code",
   "execution_count": 29,
   "id": "1ccfda7f",
   "metadata": {},
   "outputs": [
    {
     "data": {
      "text/plain": [
       "18×100 Matrix{Float64}:\n",
       "  0.0   0.0   0.0   0.0   0.0   0.0  …   0.0   0.0   0.0   0.0   0.0   0.0\n",
       "  0.0   0.0   0.0   0.0   0.0   0.0      0.0   0.0   0.0   0.0   0.0   0.0\n",
       "  0.0   0.0   0.0   0.0   0.0   0.0      0.0   0.0   0.0   0.0   0.0   0.0\n",
       "  0.0   0.0   0.0   0.0   0.0   0.0      0.0   0.0   0.0   0.0   0.0   0.0\n",
       "  0.0   0.0   0.0   0.0   0.0   0.0      0.0   0.0   0.0   0.0   0.0   0.0\n",
       "  0.0   0.0   0.0   0.0   0.0   0.0  …   0.0   0.0   0.0   0.0   0.0   0.0\n",
       "  0.0   0.0   0.0   0.0   0.0   0.0      0.0   0.0   0.0   0.0   0.0   0.0\n",
       "  0.0  15.0   0.0   0.0   0.0   0.0      0.0   0.0   0.0   0.0   0.0   0.0\n",
       "  0.0   0.0   0.0   0.0   0.0   0.0      0.0   0.0   0.0   0.0   0.0   0.0\n",
       "  0.0   0.0   0.0   0.0   0.0   0.0      0.0   0.0   0.0   0.0   0.0   0.0\n",
       "  0.0   0.0   0.0   0.0   0.0   0.0  …   0.0   0.0   0.0   0.0   0.0   0.0\n",
       "  0.0   0.0   0.0  15.0   0.0   0.0      0.0   0.0   0.0   0.0   0.0   0.0\n",
       "  0.0   0.0   0.0   0.0   0.0   0.0      0.0  15.0   0.0  15.0  15.0  15.0\n",
       " 15.0   0.0  15.0   0.0   0.0  15.0      0.0   0.0   0.0   0.0   0.0   0.0\n",
       "  0.0   0.0   0.0   0.0   0.0   0.0      0.0   0.0   0.0   0.0   0.0   0.0\n",
       "  0.0   0.0   0.0   0.0   0.0   0.0  …   0.0   0.0   0.0   0.0   0.0   0.0\n",
       "  0.0   0.0   0.0   0.0   0.0   0.0     15.0   0.0  15.0   0.0   0.0   0.0\n",
       "  0.0   0.0   0.0   0.0  15.0   0.0      0.0   0.0   0.0   0.0   0.0   0.0"
      ]
     },
     "execution_count": 29,
     "metadata": {},
     "output_type": "execute_result"
    }
   ],
   "source": [
    "value.(x)"
   ]
  },
  {
   "cell_type": "code",
   "execution_count": 30,
   "id": "3bbccd18",
   "metadata": {},
   "outputs": [
    {
     "data": {
      "text/plain": [
       "true"
      ]
     },
     "execution_count": 30,
     "metadata": {},
     "output_type": "execute_result"
    }
   ],
   "source": [
    "round.(Int, value.(x)) ≈ value.(x)"
   ]
  },
  {
   "cell_type": "code",
   "execution_count": 31,
   "id": "c53c1424",
   "metadata": {},
   "outputs": [
    {
     "data": {
      "text/plain": [
       "7.994805e6"
      ]
     },
     "execution_count": 31,
     "metadata": {},
     "output_type": "execute_result"
    }
   ],
   "source": [
    "objective_value(m)"
   ]
  },
  {
   "cell_type": "code",
   "execution_count": 32,
   "id": "a1362e2d",
   "metadata": {},
   "outputs": [
    {
     "data": {
      "text/plain": [
       "Matrix{VariableRef}\u001b[90m (alias for \u001b[39m\u001b[90mArray{VariableRef, 2}\u001b[39m\u001b[90m)\u001b[39m"
      ]
     },
     "execution_count": 32,
     "metadata": {},
     "output_type": "execute_result"
    }
   ],
   "source": [
    "typeof(x)"
   ]
  },
  {
   "cell_type": "markdown",
   "id": "75d84fcc",
   "metadata": {},
   "source": [
    "### Model estimation - minimizing sum of squares"
   ]
  },
  {
   "cell_type": "code",
   "execution_count": 33,
   "id": "d940cdaa",
   "metadata": {},
   "outputs": [
    {
     "data": {
      "text/plain": [
       "10000000000×10000000000 Diagonal{Int64, UnitRange{Int64}}:\n",
       " 1  ⋅  ⋅  ⋅  ⋅  ⋅  ⋅  ⋅  ⋅   ⋅   ⋅  …           ⋅           ⋅            ⋅\n",
       " ⋅  2  ⋅  ⋅  ⋅  ⋅  ⋅  ⋅  ⋅   ⋅   ⋅              ⋅           ⋅            ⋅\n",
       " ⋅  ⋅  3  ⋅  ⋅  ⋅  ⋅  ⋅  ⋅   ⋅   ⋅              ⋅           ⋅            ⋅\n",
       " ⋅  ⋅  ⋅  4  ⋅  ⋅  ⋅  ⋅  ⋅   ⋅   ⋅              ⋅           ⋅            ⋅\n",
       " ⋅  ⋅  ⋅  ⋅  5  ⋅  ⋅  ⋅  ⋅   ⋅   ⋅              ⋅           ⋅            ⋅\n",
       " ⋅  ⋅  ⋅  ⋅  ⋅  6  ⋅  ⋅  ⋅   ⋅   ⋅  …           ⋅           ⋅            ⋅\n",
       " ⋅  ⋅  ⋅  ⋅  ⋅  ⋅  7  ⋅  ⋅   ⋅   ⋅              ⋅           ⋅            ⋅\n",
       " ⋅  ⋅  ⋅  ⋅  ⋅  ⋅  ⋅  8  ⋅   ⋅   ⋅              ⋅           ⋅            ⋅\n",
       " ⋅  ⋅  ⋅  ⋅  ⋅  ⋅  ⋅  ⋅  9   ⋅   ⋅              ⋅           ⋅            ⋅\n",
       " ⋅  ⋅  ⋅  ⋅  ⋅  ⋅  ⋅  ⋅  ⋅  10   ⋅              ⋅           ⋅            ⋅\n",
       " ⋅  ⋅  ⋅  ⋅  ⋅  ⋅  ⋅  ⋅  ⋅   ⋅  11  …           ⋅           ⋅            ⋅\n",
       " ⋅  ⋅  ⋅  ⋅  ⋅  ⋅  ⋅  ⋅  ⋅   ⋅   ⋅              ⋅           ⋅            ⋅\n",
       " ⋅  ⋅  ⋅  ⋅  ⋅  ⋅  ⋅  ⋅  ⋅   ⋅   ⋅              ⋅           ⋅            ⋅\n",
       " ⋮              ⋮                ⋮  ⋱                          \n",
       " ⋅  ⋅  ⋅  ⋅  ⋅  ⋅  ⋅  ⋅  ⋅   ⋅   ⋅              ⋅           ⋅            ⋅\n",
       " ⋅  ⋅  ⋅  ⋅  ⋅  ⋅  ⋅  ⋅  ⋅   ⋅   ⋅              ⋅           ⋅            ⋅\n",
       " ⋅  ⋅  ⋅  ⋅  ⋅  ⋅  ⋅  ⋅  ⋅   ⋅   ⋅  …           ⋅           ⋅            ⋅\n",
       " ⋅  ⋅  ⋅  ⋅  ⋅  ⋅  ⋅  ⋅  ⋅   ⋅   ⋅              ⋅           ⋅            ⋅\n",
       " ⋅  ⋅  ⋅  ⋅  ⋅  ⋅  ⋅  ⋅  ⋅   ⋅   ⋅              ⋅           ⋅            ⋅\n",
       " ⋅  ⋅  ⋅  ⋅  ⋅  ⋅  ⋅  ⋅  ⋅   ⋅   ⋅              ⋅           ⋅            ⋅\n",
       " ⋅  ⋅  ⋅  ⋅  ⋅  ⋅  ⋅  ⋅  ⋅   ⋅   ⋅              ⋅           ⋅            ⋅\n",
       " ⋅  ⋅  ⋅  ⋅  ⋅  ⋅  ⋅  ⋅  ⋅   ⋅   ⋅  …           ⋅           ⋅            ⋅\n",
       " ⋅  ⋅  ⋅  ⋅  ⋅  ⋅  ⋅  ⋅  ⋅   ⋅   ⋅              ⋅           ⋅            ⋅\n",
       " ⋅  ⋅  ⋅  ⋅  ⋅  ⋅  ⋅  ⋅  ⋅   ⋅   ⋅     9999999998           ⋅            ⋅\n",
       " ⋅  ⋅  ⋅  ⋅  ⋅  ⋅  ⋅  ⋅  ⋅   ⋅   ⋅              ⋅  9999999999            ⋅\n",
       " ⋅  ⋅  ⋅  ⋅  ⋅  ⋅  ⋅  ⋅  ⋅   ⋅   ⋅              ⋅           ⋅  10000000000"
      ]
     },
     "execution_count": 33,
     "metadata": {},
     "output_type": "execute_result"
    }
   ],
   "source": [
    "using LinearAlgebra\n",
    "d = Diagonal(1:10_000_000_000)\n"
   ]
  },
  {
   "cell_type": "code",
   "execution_count": 34,
   "id": "ef606557",
   "metadata": {},
   "outputs": [
    {
     "data": {
      "text/plain": [
       "1000×2 Matrix{Float64}:\n",
       " -3.61525    -2.8602\n",
       " -0.293049    4.44647\n",
       "  0.508423    6.24732\n",
       " -2.07805    -1.39053\n",
       " -0.306794   -1.04214\n",
       "  0.544072    1.12938\n",
       " -2.56676     6.98932\n",
       "  0.15017     2.81783\n",
       " -0.285412    5.71702\n",
       " -1.08478     5.33644\n",
       " -3.36609     6.68432\n",
       " -2.56721     4.39956\n",
       "  0.339793   -0.616257\n",
       "  ⋮          \n",
       "  0.376385   -1.74673\n",
       "  0.976852    3.17326\n",
       "  0.502891    3.37253\n",
       "  1.05675     0.343743\n",
       " -2.97439    -0.219373\n",
       " -3.9702      5.57479\n",
       "  0.138815    2.56145\n",
       "  0.481387   -0.315566\n",
       " -0.0717573   3.91639\n",
       " -3.31838     3.00387\n",
       "  1.71448     3.98493\n",
       "  1.59983     3.80315"
      ]
     },
     "execution_count": 34,
     "metadata": {},
     "output_type": "execute_result"
    }
   ],
   "source": [
    "x = rand(Float64,(1000,2))*Diagonal([6,10]) .- [4 3]"
   ]
  },
  {
   "cell_type": "code",
   "execution_count": 35,
   "id": "4b2addd6",
   "metadata": {},
   "outputs": [
    {
     "data": {
      "text/plain": [
       "1×2 Matrix{Int64}:\n",
       " 1  2"
      ]
     },
     "execution_count": 35,
     "metadata": {},
     "output_type": "execute_result"
    }
   ],
   "source": [
    "[1 2]"
   ]
  },
  {
   "cell_type": "code",
   "execution_count": 36,
   "id": "fac78f7b",
   "metadata": {},
   "outputs": [
    {
     "data": {
      "text/plain": [
       "1000-element Vector{Float64}:\n",
       "  17.532768488569058\n",
       " 146.4614390262032\n",
       "  10.870435312880966\n",
       "   0.8903019571539343\n",
       "  48.001677143751\n",
       "  -3.0624956459470134\n",
       "   1.6194018584606495\n",
       "  22.63074884083175\n",
       "  88.00867078720101\n",
       "  87.52015251408474\n",
       " 223.53046656087272\n",
       "  -2.470521095996765\n",
       " -15.068302436468707\n",
       "   ⋮\n",
       "  40.15591888481673\n",
       " 277.0304041804103\n",
       "  -9.819469874097999\n",
       "  89.17508924900646\n",
       "  -5.711324000074443\n",
       "  -0.2919713222729848\n",
       "  20.68561018650122\n",
       " 105.3495478683542\n",
       "  15.817721014241567\n",
       "  -8.828909593875485\n",
       "   0.13519565459220662\n",
       "  63.72370905031054"
      ]
     },
     "execution_count": 36,
     "metadata": {},
     "output_type": "execute_result"
    }
   ],
   "source": [
    "\n",
    "\n",
    "# here we generate a sample problem structure\n",
    "x = rand(Float64,(1000,2))*Diagonal([6,10]) .- [4 3]\n",
    "ϵ = randn(1000).*2 #errors\n",
    "\n",
    "a, b, c = 1, 10, 7 # faktyczne wartosci ktore szacujemy\n",
    "A = [a b/2;b/2 c]\n",
    "\n",
    "# y = a * x₁² + b*x₁x₂ + c x₂²\n",
    "y = (x * A ) .* x * [1;1] .+ ϵ # y - zmienna objasniana\n",
    ";\n",
    "y"
   ]
  },
  {
   "cell_type": "code",
   "execution_count": 37,
   "id": "dba02160",
   "metadata": {},
   "outputs": [
    {
     "data": {
      "text/plain": [
       "262.0"
      ]
     },
     "execution_count": 37,
     "metadata": {},
     "output_type": "execute_result"
    }
   ],
   "source": [
    "obs_cases = vcat(1,2,4,8,15,27,44,58,55,32,12,3,1,zeros(13))\n",
    "sum(obs_cases)"
   ]
  },
  {
   "cell_type": "code",
   "execution_count": 61,
   "id": "b156ffbb",
   "metadata": {},
   "outputs": [
    {
     "name": "stdout",
     "output_type": "stream",
     "text": [
      "Running HiGHS 1.4.0 [date: 1970-01-01, git hash: bcf6c0b22]\n",
      "Copyright (c) 2022 ERGO-Code under MIT licence terms\n",
      "0, 13582260.073939, 4, 0.000000, 0.000000, 0, 0.000000, 0.000000\n",
      "3, 3966.060290, 4, 0.000000, 0.000000, 0, 0.000000, 1.000000\n",
      "Model   status      : Optimal\n",
      "QP ASM    iterations: 3\n",
      "Objective value     :  3.9660602850e+03\n",
      "HiGHS run time      :          0.00\n",
      "Cost: 3966.0602849535644\n",
      "aa=[0.9756637616432549 4.988415129388428; 4.988664279568748 6.9999590371377565]\n",
      "a, b, c = 0.9756637616432549, 9.977079408957175, 6.9999590371377565\n"
     ]
    }
   ],
   "source": [
    "#using Gurobi, JuMP\n",
    "using HiGHS, JuMP\n",
    "\n",
    "\n",
    "m = Model(optimizer_with_attributes(HiGHS.Optimizer)); \n",
    "@variable(m, aa[1:2,1:2])\n",
    "\n",
    "function errs(aa)\n",
    "   sum((y .- (x * aa ) .* x * [1;1]) .^ 2)\n",
    "end\n",
    "\n",
    "@objective(m, Min, errs(aa))\n",
    "\n",
    "optimize!(m)\n",
    "status = termination_status(m)\n",
    "\n",
    "println(\"Cost: $(objective_value(m))\")\n",
    "res = value.(aa)\n",
    "println(\"aa=$res\")\n",
    "println(\"a, b, c = $(res[1,1]), $(res[1,2]+res[2,1]), $(res[2,2])\")"
   ]
  },
  {
   "cell_type": "markdown",
   "id": "48272c5f",
   "metadata": {},
   "source": [
    "### Modelling pandemic dynamics in a small community"
   ]
  },
  {
   "cell_type": "code",
   "execution_count": 39,
   "id": "c4b6e97e",
   "metadata": {},
   "outputs": [
    {
     "data": {
      "text/plain": [
       "300"
      ]
     },
     "execution_count": 39,
     "metadata": {},
     "output_type": "execute_result"
    }
   ],
   "source": [
    "using Ipopt, JuMP, LinearAlgebra\n",
    "obs_cases = vcat(1,2,4,8,15,27,44,58,55,32,12,3,1,zeros(13))\n",
    "SI_max = length(obs_cases)\n",
    "N = 300"
   ]
  },
  {
   "cell_type": "code",
   "execution_count": 40,
   "id": "39197fda",
   "metadata": {},
   "outputs": [
    {
     "data": {
      "text/plain": [
       "1×26 adjoint(::Vector{Float64}) with eltype Float64:\n",
       " 1.0  2.0  4.0  8.0  15.0  27.0  44.0  …  0.0  0.0  0.0  0.0  0.0  0.0  0.0"
      ]
     },
     "execution_count": 40,
     "metadata": {},
     "output_type": "execute_result"
    }
   ],
   "source": [
    "obs_cases'"
   ]
  },
  {
   "cell_type": "code",
   "execution_count": 41,
   "id": "49fbff2d",
   "metadata": {
    "scrolled": true
   },
   "outputs": [
    {
     "name": "stdout",
     "output_type": "stream",
     "text": [
      "Min ε[1] ^ 2.0 + ε[2] ^ 2.0 + ε[3] ^ 2.0 + ε[4] ^ 2.0 + ε[5] ^ 2.0 + ε[6] ^ 2.0 + ε[7] ^ 2.0 + ε[8] ^ 2.0 + ε[9] ^ 2.0 + ε[10] ^ 2.0 + ε[11] ^ 2.0 + ε[12] ^ 2.0 + ε[13] ^ 2.0 + ε[14] ^ 2.0 + ε[15] ^ 2.0 + ε[16] ^ 2.0 + ε[17] ^ 2.0 + ε[18] ^ 2.0 + ε[19] ^ 2.0 + ε[20] ^ 2.0 + ε[21] ^ 2.0 + ε[22] ^ 2.0 + ε[23] ^ 2.0 + ε[24] ^ 2.0 + ε[25] ^ 2.0 + ε[26] ^ 2.0\n",
      "Subject to\n",
      " -I_[1] + ε[1] == -1.0\n",
      " -I_[2] + ε[2] == -2.0\n",
      " -I_[3] + ε[3] == -4.0\n",
      " -I_[4] + ε[4] == -8.0\n",
      " -I_[5] + ε[5] == -15.0\n",
      " -I_[6] + ε[6] == -27.0\n",
      " -I_[7] + ε[7] == -44.0\n",
      " -I_[8] + ε[8] == -58.0\n",
      " -I_[9] + ε[9] == -55.0\n",
      " -I_[10] + ε[10] == -32.0\n",
      " -I_[11] + ε[11] == -12.0\n",
      " -I_[12] + ε[12] == -3.0\n",
      " -I_[13] + ε[13] == -1.0\n",
      " -I_[14] + ε[14] == 0.0\n",
      " -I_[15] + ε[15] == 0.0\n",
      " -I_[16] + ε[16] == 0.0\n",
      " -I_[17] + ε[17] == 0.0\n",
      " -I_[18] + ε[18] == 0.0\n",
      " -I_[19] + ε[19] == 0.0\n",
      " -I_[20] + ε[20] == 0.0\n",
      " -I_[21] + ε[21] == 0.0\n",
      " -I_[22] + ε[22] == 0.0\n",
      " -I_[23] + ε[23] == 0.0\n",
      " -I_[24] + ε[24] == 0.0\n",
      " -I_[25] + ε[25] == 0.0\n",
      " -I_[26] + ε[26] == 0.0\n",
      " I_[1] == 1.0\n",
      " S[1] == 300.0\n",
      " I_[2] - S[1] + S[2] == 0.0\n",
      " I_[3] - S[2] + S[3] == 0.0\n",
      " I_[4] - S[3] + S[4] == 0.0\n",
      " I_[5] - S[4] + S[5] == 0.0\n",
      " I_[6] - S[5] + S[6] == 0.0\n",
      " I_[7] - S[6] + S[7] == 0.0\n",
      " I_[8] - S[7] + S[8] == 0.0\n",
      " I_[9] - S[8] + S[9] == 0.0\n",
      " I_[10] - S[9] + S[10] == 0.0\n",
      " I_[11] - S[10] + S[11] == 0.0\n",
      " I_[12] - S[11] + S[12] == 0.0\n",
      " I_[13] - S[12] + S[13] == 0.0\n",
      " I_[14] - S[13] + S[14] == 0.0\n",
      " I_[15] - S[14] + S[15] == 0.0\n",
      " I_[16] - S[15] + S[16] == 0.0\n",
      " I_[17] - S[16] + S[17] == 0.0\n",
      " I_[18] - S[17] + S[18] == 0.0\n",
      " I_[19] - S[18] + S[19] == 0.0\n",
      " I_[20] - S[19] + S[20] == 0.0\n",
      " I_[21] - S[20] + S[21] == 0.0\n",
      " I_[22] - S[21] + S[22] == 0.0\n",
      " I_[23] - S[22] + S[23] == 0.0\n",
      " I_[24] - S[23] + S[24] == 0.0\n",
      " I_[25] - S[24] + S[25] == 0.0\n",
      " I_[26] - S[25] + S[26] == 0.0\n",
      " α >= 0.5\n",
      " β >= 0.05\n",
      " I_[1] >= 0.0\n",
      " I_[2] >= 0.0\n",
      " I_[3] >= 0.0\n",
      " I_[4] >= 0.0\n",
      " I_[5] >= 0.0\n",
      " I_[6] >= 0.0\n",
      " I_[7] >= 0.0\n",
      " I_[8] >= 0.0\n",
      " I_[9] >= 0.0\n",
      " I_[10] >= 0.0\n",
      " I_[11] >= 0.0\n",
      " I_[12] >= 0.0\n",
      " I_[13] >= 0.0\n",
      " I_[14] >= 0.0\n",
      " I_[15] >= 0.0\n",
      " I_[16] >= 0.0\n",
      " I_[17] >= 0.0\n",
      " I_[18] >= 0.0\n",
      " I_[19] >= 0.0\n",
      " I_[20] >= 0.0\n",
      " I_[21] >= 0.0\n",
      " I_[22] >= 0.0\n",
      " I_[23] >= 0.0\n",
      " I_[24] >= 0.0\n",
      " I_[25] >= 0.0\n",
      " I_[26] >= 0.0\n",
      " S[1] >= 0.0\n",
      " S[2] >= 0.0\n",
      " S[3] >= 0.0\n",
      " S[4] >= 0.0\n",
      " S[5] >= 0.0\n",
      " S[6] >= 0.0\n",
      " S[7] >= 0.0\n",
      " S[8] >= 0.0\n",
      " S[9] >= 0.0\n",
      " S[10] >= 0.0\n",
      " S[11] >= 0.0\n",
      " S[12] >= 0.0\n",
      " S[13] >= 0.0\n",
      " S[14] >= 0.0\n",
      " S[15] >= 0.0\n",
      " S[16] >= 0.0\n",
      " S[17] >= 0.0\n",
      " S[18] >= 0.0\n",
      " S[19] >= 0.0\n",
      " S[20] >= 0.0\n",
      " S[21] >= 0.0\n",
      " S[22] >= 0.0\n",
      " S[23] >= 0.0\n",
      " S[24] >= 0.0\n",
      " S[25] >= 0.0\n",
      " S[26] >= 0.0\n",
      " α <= 1.5\n",
      " β <= 70.0\n",
      " I_[1] <= 300.0\n",
      " I_[2] <= 300.0\n",
      " I_[3] <= 300.0\n",
      " I_[4] <= 300.0\n",
      " I_[5] <= 300.0\n",
      " I_[6] <= 300.0\n",
      " I_[7] <= 300.0\n",
      " I_[8] <= 300.0\n",
      " I_[9] <= 300.0\n",
      " I_[10] <= 300.0\n",
      " I_[11] <= 300.0\n",
      " I_[12] <= 300.0\n",
      " I_[13] <= 300.0\n",
      " I_[14] <= 300.0\n",
      " I_[15] <= 300.0\n",
      " I_[16] <= 300.0\n",
      " I_[17] <= 300.0\n",
      " I_[18] <= 300.0\n",
      " I_[19] <= 300.0\n",
      " I_[20] <= 300.0\n",
      " I_[21] <= 300.0\n",
      " I_[22] <= 300.0\n",
      " I_[23] <= 300.0\n",
      " I_[24] <= 300.0\n",
      " I_[25] <= 300.0\n",
      " I_[26] <= 300.0\n",
      " S[1] <= 300.0\n",
      " S[2] <= 300.0\n",
      " S[3] <= 300.0\n",
      " S[4] <= 300.0\n",
      " S[5] <= 300.0\n",
      " S[6] <= 300.0\n",
      " S[7] <= 300.0\n",
      " S[8] <= 300.0\n",
      " S[9] <= 300.0\n",
      " S[10] <= 300.0\n",
      " S[11] <= 300.0\n",
      " S[12] <= 300.0\n",
      " S[13] <= 300.0\n",
      " S[14] <= 300.0\n",
      " S[15] <= 300.0\n",
      " S[16] <= 300.0\n",
      " S[17] <= 300.0\n",
      " S[18] <= 300.0\n",
      " S[19] <= 300.0\n",
      " S[20] <= 300.0\n",
      " S[21] <= 300.0\n",
      " S[22] <= 300.0\n",
      " S[23] <= 300.0\n",
      " S[24] <= 300.0\n",
      " S[25] <= 300.0\n",
      " S[26] <= 300.0\n",
      " (I_[2] - (β * I_[1] ^ α * S[1]) / 300.0) - 0.0 == 0\n",
      " (I_[3] - (β * I_[2] ^ α * S[2]) / 300.0) - 0.0 == 0\n",
      " (I_[4] - (β * I_[3] ^ α * S[3]) / 300.0) - 0.0 == 0\n",
      " (I_[5] - (β * I_[4] ^ α * S[4]) / 300.0) - 0.0 == 0\n",
      " (I_[6] - (β * I_[5] ^ α * S[5]) / 300.0) - 0.0 == 0\n",
      " (I_[7] - (β * I_[6] ^ α * S[6]) / 300.0) - 0.0 == 0\n",
      " (I_[8] - (β * I_[7] ^ α * S[7]) / 300.0) - 0.0 == 0\n",
      " (I_[9] - (β * I_[8] ^ α * S[8]) / 300.0) - 0.0 == 0\n",
      " (I_[10] - (β * I_[9] ^ α * S[9]) / 300.0) - 0.0 == 0\n",
      " (I_[11] - (β * I_[10] ^ α * S[10]) / 300.0) - 0.0 == 0\n",
      " (I_[12] - (β * I_[11] ^ α * S[11]) / 300.0) - 0.0 == 0\n",
      " (I_[13] - (β * I_[12] ^ α * S[12]) / 300.0) - 0.0 == 0\n",
      " (I_[14] - (β * I_[13] ^ α * S[13]) / 300.0) - 0.0 == 0\n",
      " (I_[15] - (β * I_[14] ^ α * S[14]) / 300.0) - 0.0 == 0\n",
      " (I_[16] - (β * I_[15] ^ α * S[15]) / 300.0) - 0.0 == 0\n",
      " (I_[17] - (β * I_[16] ^ α * S[16]) / 300.0) - 0.0 == 0\n",
      " (I_[18] - (β * I_[17] ^ α * S[17]) / 300.0) - 0.0 == 0\n",
      " (I_[19] - (β * I_[18] ^ α * S[18]) / 300.0) - 0.0 == 0\n",
      " (I_[20] - (β * I_[19] ^ α * S[19]) / 300.0) - 0.0 == 0\n",
      " (I_[21] - (β * I_[20] ^ α * S[20]) / 300.0) - 0.0 == 0\n",
      " (I_[22] - (β * I_[21] ^ α * S[21]) / 300.0) - 0.0 == 0\n",
      " (I_[23] - (β * I_[22] ^ α * S[22]) / 300.0) - 0.0 == 0\n",
      " (I_[24] - (β * I_[23] ^ α * S[23]) / 300.0) - 0.0 == 0\n",
      " (I_[25] - (β * I_[24] ^ α * S[24]) / 300.0) - 0.0 == 0\n",
      " (I_[26] - (β * I_[25] ^ α * S[25]) / 300.0) - 0.0 == 0\n",
      "\n"
     ]
    }
   ],
   "source": [
    "using JuMP, Ipopt\n",
    "m = Model(optimizer_with_attributes(Ipopt.Optimizer, (\"print_level\"=>2))); \n",
    "@variable(m, 0.5 <= α <= 1.5)\n",
    "@variable(m, 0.05 <= β <= 70)\n",
    "@variable(m, 0 <= I_[1:SI_max] <= N)\n",
    "\n",
    "@variable(m, 0 <= S[1:SI_max]  <= N)\n",
    "@variable(m, ε[1:SI_max])\n",
    "@constraint(m, ε .== I_ .- obs_cases  )\n",
    "@constraint(m, I_[1] == 1)\n",
    "for i=2:SI_max\n",
    "   @NLconstraint(m, I_[i] == β*(I_[i-1]^α)*S[i-1]/N)\n",
    "end\n",
    "\n",
    "@constraint(m, S[1] == N)\n",
    "for i=2:SI_max\n",
    "   @constraint(m, S[i] == S[i-1]-I_[i])\n",
    "end\n",
    "\n",
    "@NLobjective(m, Min, sum(ε[i]^2 for i in 1:SI_max))\n",
    "println(m)"
   ]
  },
  {
   "cell_type": "code",
   "execution_count": 42,
   "id": "9f52005f",
   "metadata": {},
   "outputs": [
    {
     "name": "stdout",
     "output_type": "stream",
     "text": [
      "\n",
      "******************************************************************************\n",
      "This program contains Ipopt, a library for large-scale nonlinear optimization.\n",
      " Ipopt is released as open source code under the Eclipse Public License (EPL).\n",
      "         For more information visit https://github.com/coin-or/Ipopt\n",
      "******************************************************************************\n",
      "\n",
      "Cost: 0.4826914548884907\n",
      "α=0.9978555010305014\n",
      "β=2.0069930759045875\n"
     ]
    }
   ],
   "source": [
    "\n",
    "optimize!(m)\n",
    "\n",
    "println(\"Cost: $(objective_value(m))\")\n",
    "println(\"α=$(value(α))\\nβ=$(value(β))\")\n"
   ]
  },
  {
   "cell_type": "code",
   "execution_count": 43,
   "id": "5a4b4277",
   "metadata": {},
   "outputs": [
    {
     "data": {
      "text/plain": [
       "26-element Vector{Float64}:\n",
       "  1.0\n",
       "  2.0069930759045875\n",
       "  3.9951009416258603\n",
       "  7.834416168150402\n",
       " 14.932354248545124\n",
       " 26.938569451566813\n",
       " 43.71615563360018\n",
       " 58.1872835476811\n",
       " 54.94711027544572\n",
       " 31.86825855023456\n",
       " 11.760580730084369\n",
       "  3.4289614558329338\n",
       "  0.9239558561305068\n",
       "  0.24395484401081716\n",
       "  0.0641969882140877\n",
       "  0.016914209651606556\n",
       "  0.00446728163026499\n",
       "  0.0011831105999110544\n",
       "  0.0003142184208713587\n",
       "  8.368916592634302e-5\n",
       "  2.2353115235990036e-5\n",
       "  5.9873705177455255e-6\n",
       "  1.6082776162324928e-6\n",
       "  4.3322162177587727e-7\n",
       "  1.1702559045223276e-7\n",
       "  3.170082414465825e-8"
      ]
     },
     "execution_count": 43,
     "metadata": {},
     "output_type": "execute_result"
    }
   ],
   "source": [
    "value.(I_)"
   ]
  },
  {
   "cell_type": "markdown",
   "id": "a28cb666",
   "metadata": {},
   "source": [
    "### Multi-criteria optimization"
   ]
  },
  {
   "cell_type": "code",
   "execution_count": 65,
   "id": "5b8f12b9",
   "metadata": {},
   "outputs": [
    {
     "data": {
      "text/html": [
       "<div><div style = \"float: left;\"><span>5×4 DataFrame</span></div><div style = \"clear: both;\"></div></div><div class = \"data-frame\" style = \"overflow-x: scroll;\"><table class = \"data-frame\" style = \"margin-bottom: 6px;\"><thead><tr class = \"header\"><th class = \"rowNumber\" style = \"font-weight: bold; text-align: right;\">Row</th><th style = \"text-align: left;\">date</th><th style = \"text-align: left;\">open</th><th style = \"text-align: left;\">close</th><th style = \"text-align: left;\">Name</th></tr><tr class = \"subheader headerLastRow\"><th class = \"rowNumber\" style = \"font-weight: bold; text-align: right;\"></th><th title = \"Dates.Date\" style = \"text-align: left;\">Date</th><th title = \"Float64\" style = \"text-align: left;\">Float64</th><th title = \"Float64\" style = \"text-align: left;\">Float64</th><th title = \"String7\" style = \"text-align: left;\">String7</th></tr></thead><tbody><tr><td class = \"rowNumber\" style = \"font-weight: bold; text-align: right;\">1</td><td style = \"text-align: left;\">2015-01-02</td><td style = \"text-align: right;\">111.39</td><td style = \"text-align: right;\">109.33</td><td style = \"text-align: left;\">AAPL</td></tr><tr><td class = \"rowNumber\" style = \"font-weight: bold; text-align: right;\">2</td><td style = \"text-align: left;\">2015-01-05</td><td style = \"text-align: right;\">108.29</td><td style = \"text-align: right;\">106.25</td><td style = \"text-align: left;\">AAPL</td></tr><tr><td class = \"rowNumber\" style = \"font-weight: bold; text-align: right;\">3</td><td style = \"text-align: left;\">2015-01-06</td><td style = \"text-align: right;\">106.54</td><td style = \"text-align: right;\">106.26</td><td style = \"text-align: left;\">AAPL</td></tr><tr><td class = \"rowNumber\" style = \"font-weight: bold; text-align: right;\">4</td><td style = \"text-align: left;\">2015-01-07</td><td style = \"text-align: right;\">107.2</td><td style = \"text-align: right;\">107.75</td><td style = \"text-align: left;\">AAPL</td></tr><tr><td class = \"rowNumber\" style = \"font-weight: bold; text-align: right;\">5</td><td style = \"text-align: left;\">2015-01-08</td><td style = \"text-align: right;\">109.23</td><td style = \"text-align: right;\">111.89</td><td style = \"text-align: left;\">AAPL</td></tr></tbody></table></div>"
      ],
      "text/latex": [
       "\\begin{tabular}{r|cccc}\n",
       "\t& date & open & close & Name\\\\\n",
       "\t\\hline\n",
       "\t& Date & Float64 & Float64 & String7\\\\\n",
       "\t\\hline\n",
       "\t1 & 2015-01-02 & 111.39 & 109.33 & AAPL \\\\\n",
       "\t2 & 2015-01-05 & 108.29 & 106.25 & AAPL \\\\\n",
       "\t3 & 2015-01-06 & 106.54 & 106.26 & AAPL \\\\\n",
       "\t4 & 2015-01-07 & 107.2 & 107.75 & AAPL \\\\\n",
       "\t5 & 2015-01-08 & 109.23 & 111.89 & AAPL \\\\\n",
       "\\end{tabular}\n"
      ],
      "text/plain": [
       "\u001b[1m5×4 DataFrame\u001b[0m\n",
       "\u001b[1m Row \u001b[0m│\u001b[1m date       \u001b[0m\u001b[1m open    \u001b[0m\u001b[1m close   \u001b[0m\u001b[1m Name    \u001b[0m\n",
       "     │\u001b[90m Date       \u001b[0m\u001b[90m Float64 \u001b[0m\u001b[90m Float64 \u001b[0m\u001b[90m String7 \u001b[0m\n",
       "─────┼───────────────────────────────────────\n",
       "   1 │ 2015-01-02   111.39   109.33  AAPL\n",
       "   2 │ 2015-01-05   108.29   106.25  AAPL\n",
       "   3 │ 2015-01-06   106.54   106.26  AAPL\n",
       "   4 │ 2015-01-07   107.2    107.75  AAPL\n",
       "   5 │ 2015-01-08   109.23   111.89  AAPL"
      ]
     },
     "execution_count": 65,
     "metadata": {},
     "output_type": "execute_result"
    }
   ],
   "source": [
    "using CSV\n",
    "using DataFrames\n",
    "using Statistics\n",
    "using JuMP\n",
    "using MultiJuMP\n",
    "using Ipopt\n",
    "using Plots\n",
    "\n",
    "prices = DataFrame(CSV.File(\"10_stocks_3yr.csv\"))\n",
    "prices[1:5,:]\n"
   ]
  },
  {
   "cell_type": "code",
   "execution_count": 66,
   "id": "53383768",
   "metadata": {},
   "outputs": [
    {
     "data": {
      "text/html": [
       "<div><div style = \"float: left;\"><span>781×11 DataFrame</span></div><div style = \"float: right;\"><span style = \"font-style: italic;\">756 rows omitted</span></div><div style = \"clear: both;\"></div></div><div class = \"data-frame\" style = \"overflow-x: scroll;\"><table class = \"data-frame\" style = \"margin-bottom: 6px;\"><thead><tr class = \"header\"><th class = \"rowNumber\" style = \"font-weight: bold; text-align: right;\">Row</th><th style = \"text-align: left;\">date</th><th style = \"text-align: left;\">AAPL</th><th style = \"text-align: left;\">AMZN</th><th style = \"text-align: left;\">BRK.B</th><th style = \"text-align: left;\">FB</th><th style = \"text-align: left;\">GOOGL</th><th style = \"text-align: left;\">GOOG</th><th style = \"text-align: left;\">JNJ</th><th style = \"text-align: left;\">JPM</th><th style = \"text-align: left;\">MSFT</th><th style = \"text-align: left;\">XOM</th></tr><tr class = \"subheader headerLastRow\"><th class = \"rowNumber\" style = \"font-weight: bold; text-align: right;\"></th><th title = \"Dates.Date\" style = \"text-align: left;\">Date</th><th title = \"Union{Missing, Float64}\" style = \"text-align: left;\">Float64?</th><th title = \"Union{Missing, Float64}\" style = \"text-align: left;\">Float64?</th><th title = \"Union{Missing, Float64}\" style = \"text-align: left;\">Float64?</th><th title = \"Union{Missing, Float64}\" style = \"text-align: left;\">Float64?</th><th title = \"Union{Missing, Float64}\" style = \"text-align: left;\">Float64?</th><th title = \"Union{Missing, Float64}\" style = \"text-align: left;\">Float64?</th><th title = \"Union{Missing, Float64}\" style = \"text-align: left;\">Float64?</th><th title = \"Union{Missing, Float64}\" style = \"text-align: left;\">Float64?</th><th title = \"Union{Missing, Float64}\" style = \"text-align: left;\">Float64?</th><th title = \"Union{Missing, Float64}\" style = \"text-align: left;\">Float64?</th></tr></thead><tbody><tr><td class = \"rowNumber\" style = \"font-weight: bold; text-align: right;\">1</td><td style = \"text-align: left;\">2015-01-02</td><td style = \"text-align: right;\">-0.0184936</td><td style = \"text-align: right;\">-0.0129887</td><td style = \"text-align: right;\">-0.0153795</td><td style = \"text-align: right;\">-0.00165436</td><td style = \"text-align: right;\">-0.00572662</td><td style = \"text-align: right;\">-0.00793936</td><td style = \"text-align: right;\">-0.00504522</td><td style = \"text-align: right;\">-0.00207601</td><td style = \"text-align: right;\">0.00214316</td><td style = \"text-align: right;\">0.00628726</td></tr><tr><td class = \"rowNumber\" style = \"font-weight: bold; text-align: right;\">2</td><td style = \"text-align: left;\">2015-01-05</td><td style = \"text-align: right;\">-0.0188383</td><td style = \"text-align: right;\">-0.0156998</td><td style = \"text-align: right;\">-0.0121632</td><td style = \"text-align: right;\">-0.0101308</td><td style = \"text-align: right;\">-0.0145879</td><td style = \"text-align: right;\">-0.0179452</td><td style = \"text-align: right;\">-0.00660413</td><td style = \"text-align: right;\">-0.0243313</td><td style = \"text-align: right;\">-0.000970455</td><td style = \"text-align: right;\">-0.0196526</td></tr><tr><td class = \"rowNumber\" style = \"font-weight: bold; text-align: right;\">3</td><td style = \"text-align: left;\">2015-01-06</td><td style = \"text-align: right;\">-0.00262812</td><td style = \"text-align: right;\">-0.022995</td><td style = \"text-align: right;\">-0.00541859</td><td style = \"text-align: right;\">-0.0139842</td><td style = \"text-align: right;\">-0.0266282</td><td style = \"text-align: right;\">-0.0253204</td><td style = \"text-align: right;\">-0.0101591</td><td style = \"text-align: right;\">-0.0273747</td><td style = \"text-align: right;\">-0.0157395</td><td style = \"text-align: right;\">-0.00476507</td></tr><tr><td class = \"rowNumber\" style = \"font-weight: bold; text-align: right;\">4</td><td style = \"text-align: left;\">2015-01-07</td><td style = \"text-align: right;\">0.0051306</td><td style = \"text-align: right;\">0.00309244</td><td style = \"text-align: right;\">0.00635393</td><td style = \"text-align: right;\">-0.00794685</td><td style = \"text-align: right;\">-0.0113514</td><td style = \"text-align: right;\">-0.0116371</td><td style = \"text-align: right;\">0.0158791</td><td style = \"text-align: right;\">-0.0136918</td><td style = \"text-align: right;\">0.00543715</td><td style = \"text-align: right;\">0.000772201</td></tr><tr><td class = \"rowNumber\" style = \"font-weight: bold; text-align: right;\">5</td><td style = \"text-align: left;\">2015-01-08</td><td style = \"text-align: right;\">0.0243523</td><td style = \"text-align: right;\">0.000466169</td><td style = \"text-align: right;\">0.00511288</td><td style = \"text-align: right;\">0.0186995</td><td style = \"text-align: right;\">0.0107675</td><td style = \"text-align: right;\">0.00941786</td><td style = \"text-align: right;\">0.00311145</td><td style = \"text-align: right;\">0.0070035</td><td style = \"text-align: right;\">0.0179679</td><td style = \"text-align: right;\">0.0107397</td></tr><tr><td class = \"rowNumber\" style = \"font-weight: bold; text-align: right;\">6</td><td style = \"text-align: left;\">2015-01-09</td><td style = \"text-align: right;\">-0.00585781</td><td style = \"text-align: right;\">-0.0150922</td><td style = \"text-align: right;\">-0.0143752</td><td style = \"text-align: right;\">-0.00588235</td><td style = \"text-align: right;\">-0.0146798</td><td style = \"text-align: right;\">-0.017018</td><td style = \"text-align: right;\">-0.0146479</td><td style = \"text-align: right;\">-0.0227273</td><td style = \"text-align: right;\">-0.00882168</td><td style = \"text-align: right;\">-0.00216685</td></tr><tr><td class = \"rowNumber\" style = \"font-weight: bold; text-align: right;\">7</td><td style = \"text-align: left;\">2015-01-12</td><td style = \"text-align: right;\">-0.0297513</td><td style = \"text-align: right;\">-0.0206681</td><td style = \"text-align: right;\">-0.011203</td><td style = \"text-align: right;\">-0.0143885</td><td style = \"text-align: right;\">-0.00436664</td><td style = \"text-align: right;\">-0.00482887</td><td style = \"text-align: right;\">-0.00560996</td><td style = \"text-align: right;\">-0.00759109</td><td style = \"text-align: right;\">-0.0172923</td><td style = \"text-align: right;\">-0.0099737</td></tr><tr><td class = \"rowNumber\" style = \"font-weight: bold; text-align: right;\">8</td><td style = \"text-align: left;\">2015-01-13</td><td style = \"text-align: right;\">-0.0108588</td><td style = \"text-align: right;\">-0.0092107</td><td style = \"text-align: right;\">-0.00880293</td><td style = \"text-align: right;\">-0.0100997</td><td style = \"text-align: right;\">-0.00153212</td><td style = \"text-align: right;\">-0.00533237</td><td style = \"text-align: right;\">-0.00644917</td><td style = \"text-align: right;\">-0.00708741</td><td style = \"text-align: right;\">-0.0130935</td><td style = \"text-align: right;\">-0.0096831</td></tr><tr><td class = \"rowNumber\" style = \"font-weight: bold; text-align: right;\">9</td><td style = \"text-align: left;\">2015-01-14</td><td style = \"text-align: right;\">0.00696992</td><td style = \"text-align: right;\">0.00459014</td><td style = \"text-align: right;\">0.00373464</td><td style = \"text-align: right;\">-0.00183198</td><td style = \"text-align: right;\">0.0110108</td><td style = \"text-align: right;\">0.0125745</td><td style = \"text-align: right;\">0.00134797</td><td style = \"text-align: right;\">-0.00175716</td><td style = \"text-align: right;\">-0.00010879</td><td style = \"text-align: right;\">0.00888139</td></tr><tr><td class = \"rowNumber\" style = \"font-weight: bold; text-align: right;\">10</td><td style = \"text-align: left;\">2015-01-15</td><td style = \"text-align: right;\">-0.0289091</td><td style = \"text-align: right;\">-0.0239796</td><td style = \"text-align: right;\">-0.00639601</td><td style = \"text-align: right;\">-0.0307592</td><td style = \"text-align: right;\">-0.0095895</td><td style = \"text-align: right;\">-0.00747671</td><td style = \"text-align: right;\">-0.00466155</td><td style = \"text-align: right;\">-0.0132783</td><td style = \"text-align: right;\">-0.0160104</td><td style = \"text-align: right;\">-0.0162557</td></tr><tr><td class = \"rowNumber\" style = \"font-weight: bold; text-align: right;\">11</td><td style = \"text-align: left;\">2015-01-16</td><td style = \"text-align: right;\">-0.0097169</td><td style = \"text-align: right;\">0.0155792</td><td style = \"text-align: right;\">0.0136549</td><td style = \"text-align: right;\">0.0153971</td><td style = \"text-align: right;\">0.0145185</td><td style = \"text-align: right;\">0.0161397</td><td style = \"text-align: right;\">0.0194004</td><td style = \"text-align: right;\">0.0232345</td><td style = \"text-align: right;\">0.0205253</td><td style = \"text-align: right;\">0.0240503</td></tr><tr><td class = \"rowNumber\" style = \"font-weight: bold; text-align: right;\">12</td><td style = \"text-align: left;\">2015-01-20</td><td style = \"text-align: right;\">0.00816024</td><td style = \"text-align: right;\">-0.0107659</td><td style = \"text-align: right;\">-0.0109795</td><td style = \"text-align: right;\">0.00686741</td><td style = \"text-align: right;\">-0.00551904</td><td style = \"text-align: right;\">-0.00802348</td><td style = \"text-align: right;\">-0.00256032</td><td style = \"text-align: right;\">-0.00588865</td><td style = \"text-align: right;\">0.00194384</td><td style = \"text-align: right;\">-0.000548607</td></tr><tr><td class = \"rowNumber\" style = \"font-weight: bold; text-align: right;\">13</td><td style = \"text-align: left;\">2015-01-21</td><td style = \"text-align: right;\">0.00550711</td><td style = \"text-align: right;\">0.026274</td><td style = \"text-align: right;\">-0.00781987</td><td style = \"text-align: right;\">0.00761555</td><td style = \"text-align: right;\">0.0186947</td><td style = \"text-align: right;\">0.0212716</td><td style = \"text-align: right;\">0.0133254</td><td style = \"text-align: right;\">0.00793508</td><td style = \"text-align: right;\">-0.00043535</td><td style = \"text-align: right;\">0.00141705</td></tr><tr><td style = \"text-align: right;\">&vellip;</td><td style = \"text-align: right;\">&vellip;</td><td style = \"text-align: right;\">&vellip;</td><td style = \"text-align: right;\">&vellip;</td><td style = \"text-align: right;\">&vellip;</td><td style = \"text-align: right;\">&vellip;</td><td style = \"text-align: right;\">&vellip;</td><td style = \"text-align: right;\">&vellip;</td><td style = \"text-align: right;\">&vellip;</td><td style = \"text-align: right;\">&vellip;</td><td style = \"text-align: right;\">&vellip;</td><td style = \"text-align: right;\">&vellip;</td></tr><tr><td class = \"rowNumber\" style = \"font-weight: bold; text-align: right;\">770</td><td style = \"text-align: left;\">2018-01-23</td><td style = \"text-align: right;\">-0.00146644</td><td style = \"text-align: right;\">0.0182723</td><td style = \"text-align: right;\">-0.00222181</td><td style = \"text-align: right;\">0.0177372</td><td style = \"text-align: right;\">0.00474108</td><td style = \"text-align: right;\">0.00872527</td><td style = \"text-align: right;\">-0.0349075</td><td style = \"text-align: right;\">0.00475059</td><td style = \"text-align: right;\">0.0</td><td style = \"text-align: right;\">0.000566572</td></tr><tr><td class = \"rowNumber\" style = \"font-weight: bold; text-align: right;\">771</td><td style = \"text-align: left;\">2018-01-24</td><td style = \"text-align: right;\">-0.0170945</td><td style = \"text-align: right;\">-0.0125907</td><td style = \"text-align: right;\">-0.0023598</td><td style = \"text-align: right;\">-0.0175891</td><td style = \"text-align: right;\">-0.0115529</td><td style = \"text-align: right;\">-0.0111184</td><td style = \"text-align: right;\">-0.00996516</td><td style = \"text-align: right;\">0.00705206</td><td style = \"text-align: right;\">-0.00788763</td><td style = \"text-align: right;\">0.000452028</td></tr><tr><td class = \"rowNumber\" style = \"font-weight: bold; text-align: right;\">772</td><td style = \"text-align: left;\">2018-01-25</td><td style = \"text-align: right;\">-0.019455</td><td style = \"text-align: right;\">0.00727339</td><td style = \"text-align: right;\">-0.00527192</td><td style = \"text-align: right;\">-0.00250067</td><td style = \"text-align: right;\">0.00121114</td><td style = \"text-align: right;\">-0.00184217</td><td style = \"text-align: right;\">0.0146862</td><td style = \"text-align: right;\">-0.00293002</td><td style = \"text-align: right;\">-0.00146001</td><td style = \"text-align: right;\">-0.00203275</td></tr><tr><td class = \"rowNumber\" style = \"font-weight: bold; text-align: right;\">773</td><td style = \"text-align: left;\">2018-01-26</td><td style = \"text-align: right;\">-0.00284884</td><td style = \"text-align: right;\">0.00721259</td><td style = \"text-align: right;\">0.0077487</td><td style = \"text-align: right;\">0.011984</td><td style = \"text-align: right;\">2.52625e-5</td><td style = \"text-align: right;\">0.000646764</td><td style = \"text-align: right;\">0.00574394</td><td style = \"text-align: right;\">0.00535869</td><td style = \"text-align: right;\">0.0100945</td><td style = \"text-align: right;\">0.00406137</td></tr><tr><td class = \"rowNumber\" style = \"font-weight: bold; text-align: right;\">774</td><td style = \"text-align: left;\">2018-01-29</td><td style = \"text-align: right;\">-0.012929</td><td style = \"text-align: right;\">0.00603188</td><td style = \"text-align: right;\">-0.00778264</td><td style = \"text-align: right;\">-0.0146755</td><td style = \"text-align: right;\">-0.00127946</td><td style = \"text-align: right;\">-0.000764994</td><td style = \"text-align: right;\">-0.00807732</td><td style = \"text-align: right;\">0.00155146</td><td style = \"text-align: right;\">-0.0128232</td><td style = \"text-align: right;\">-0.00654701</td></tr><tr><td class = \"rowNumber\" style = \"font-weight: bold; text-align: right;\">775</td><td style = \"text-align: left;\">2018-01-30</td><td style = \"text-align: right;\">0.0087298</td><td style = \"text-align: right;\">0.0246941</td><td style = \"text-align: right;\">-0.00260501</td><td style = \"text-align: right;\">0.0224578</td><td style = \"text-align: right;\">-0.000297184</td><td style = \"text-align: right;\">-0.00354504</td><td style = \"text-align: right;\">-0.0067643</td><td style = \"text-align: right;\">-0.00363542</td><td style = \"text-align: right;\">-0.00600214</td><td style = \"text-align: right;\">-0.00868175</td></tr><tr><td class = \"rowNumber\" style = \"font-weight: bold; text-align: right;\">776</td><td style = \"text-align: left;\">2018-01-31</td><td style = \"text-align: right;\">0.00335591</td><td style = \"text-align: right;\">-0.000282505</td><td style = \"text-align: right;\">-0.00283734</td><td style = \"text-align: right;\">-0.00785688</td><td style = \"text-align: right;\">-0.00134312</td><td style = \"text-align: right;\">-0.000538199</td><td style = \"text-align: right;\">-0.0307218</td><td style = \"text-align: right;\">0.000172936</td><td style = \"text-align: right;\">0.01344</td><td style = \"text-align: right;\">0.00854898</td></tr><tr><td class = \"rowNumber\" style = \"font-weight: bold; text-align: right;\">777</td><td style = \"text-align: left;\">2018-02-01</td><td style = \"text-align: right;\">0.003679</td><td style = \"text-align: right;\">-0.0380623</td><td style = \"text-align: right;\">0.0128677</td><td style = \"text-align: right;\">0.025874</td><td style = \"text-align: right;\">0.00476195</td><td style = \"text-align: right;\">0.00437808</td><td style = \"text-align: right;\">0.0181051</td><td style = \"text-align: right;\">0.0095016</td><td style = \"text-align: right;\">-0.00559131</td><td style = \"text-align: right;\">0.0179429</td></tr><tr><td class = \"rowNumber\" style = \"font-weight: bold; text-align: right;\">778</td><td style = \"text-align: left;\">2018-02-02</td><td style = \"text-align: right;\">-0.0331325</td><td style = \"text-align: right;\">-0.0321107</td><td style = \"text-align: right;\">-0.0325685</td><td style = \"text-align: right;\">-0.00916476</td><td style = \"text-align: right;\">-0.00729098</td><td style = \"text-align: right;\">-0.00900178</td><td style = \"text-align: right;\">-0.0096389</td><td style = \"text-align: right;\">-0.0189716</td><td style = \"text-align: right;\">-0.0198633</td><td style = \"text-align: right;\">-0.00704804</td></tr><tr><td class = \"rowNumber\" style = \"font-weight: bold; text-align: right;\">779</td><td style = \"text-align: left;\">2018-02-05</td><td style = \"text-align: right;\">-0.0164048</td><td style = \"text-align: right;\">-0.00899745</td><td style = \"text-align: right;\">-0.0422892</td><td style = \"text-align: right;\">-0.0303322</td><td style = \"text-align: right;\">-0.0347262</td><td style = \"text-align: right;\">-0.031909</td><td style = \"text-align: right;\">-0.0453214</td><td style = \"text-align: right;\">-0.0371681</td><td style = \"text-align: right;\">-0.0282686</td><td style = \"text-align: right;\">-0.0427474</td></tr><tr><td class = \"rowNumber\" style = \"font-weight: bold; text-align: right;\">780</td><td style = \"text-align: left;\">2018-02-06</td><td style = \"text-align: right;\">0.0529613</td><td style = \"text-align: right;\">0.0597741</td><td style = \"text-align: right;\">0.0418845</td><td style = \"text-align: right;\">0.0377443</td><td style = \"text-align: right;\">0.048792</td><td style = \"text-align: right;\">0.0520065</td><td style = \"text-align: right;\">0.0139989</td><td style = \"text-align: right;\">0.0492279</td><td style = \"text-align: right;\">0.0510991</td><td style = \"text-align: right;\">-0.00203796</td></tr><tr><td class = \"rowNumber\" style = \"font-weight: bold; text-align: right;\">781</td><td style = \"text-align: left;\">2018-02-07</td><td style = \"text-align: right;\">-0.0217371</td><td style = \"text-align: right;\">-0.022236</td><td style = \"text-align: right;\">-0.00806931</td><td style = \"text-align: right;\">-0.0215585</td><td style = \"text-align: right;\">-0.027245</td><td style = \"text-align: right;\">-0.0304751</td><td style = \"text-align: right;\">-0.00356358</td><td style = \"text-align: right;\">0.0118333</td><td style = \"text-align: right;\">-0.00972483</td><td style = \"text-align: right;\">-0.0191229</td></tr></tbody></table></div>"
      ],
      "text/latex": [
       "\\begin{tabular}{r|cccccccc}\n",
       "\t& date & AAPL & AMZN & BRK.B & FB & GOOGL & GOOG & \\\\\n",
       "\t\\hline\n",
       "\t& Date & Float64? & Float64? & Float64? & Float64? & Float64? & Float64? & \\\\\n",
       "\t\\hline\n",
       "\t1 & 2015-01-02 & -0.0184936 & -0.0129887 & -0.0153795 & -0.00165436 & -0.00572662 & -0.00793936 & $\\dots$ \\\\\n",
       "\t2 & 2015-01-05 & -0.0188383 & -0.0156998 & -0.0121632 & -0.0101308 & -0.0145879 & -0.0179452 & $\\dots$ \\\\\n",
       "\t3 & 2015-01-06 & -0.00262812 & -0.022995 & -0.00541859 & -0.0139842 & -0.0266282 & -0.0253204 & $\\dots$ \\\\\n",
       "\t4 & 2015-01-07 & 0.0051306 & 0.00309244 & 0.00635393 & -0.00794685 & -0.0113514 & -0.0116371 & $\\dots$ \\\\\n",
       "\t5 & 2015-01-08 & 0.0243523 & 0.000466169 & 0.00511288 & 0.0186995 & 0.0107675 & 0.00941786 & $\\dots$ \\\\\n",
       "\t6 & 2015-01-09 & -0.00585781 & -0.0150922 & -0.0143752 & -0.00588235 & -0.0146798 & -0.017018 & $\\dots$ \\\\\n",
       "\t7 & 2015-01-12 & -0.0297513 & -0.0206681 & -0.011203 & -0.0143885 & -0.00436664 & -0.00482887 & $\\dots$ \\\\\n",
       "\t8 & 2015-01-13 & -0.0108588 & -0.0092107 & -0.00880293 & -0.0100997 & -0.00153212 & -0.00533237 & $\\dots$ \\\\\n",
       "\t9 & 2015-01-14 & 0.00696992 & 0.00459014 & 0.00373464 & -0.00183198 & 0.0110108 & 0.0125745 & $\\dots$ \\\\\n",
       "\t10 & 2015-01-15 & -0.0289091 & -0.0239796 & -0.00639601 & -0.0307592 & -0.0095895 & -0.00747671 & $\\dots$ \\\\\n",
       "\t11 & 2015-01-16 & -0.0097169 & 0.0155792 & 0.0136549 & 0.0153971 & 0.0145185 & 0.0161397 & $\\dots$ \\\\\n",
       "\t12 & 2015-01-20 & 0.00816024 & -0.0107659 & -0.0109795 & 0.00686741 & -0.00551904 & -0.00802348 & $\\dots$ \\\\\n",
       "\t13 & 2015-01-21 & 0.00550711 & 0.026274 & -0.00781987 & 0.00761555 & 0.0186947 & 0.0212716 & $\\dots$ \\\\\n",
       "\t14 & 2015-01-22 & 0.0194087 & 0.0344 & 0.0144585 & 0.00622003 & 0.0273423 & 0.0247565 & $\\dots$ \\\\\n",
       "\t15 & 2015-01-23 & 0.00605521 & 0.0139899 & -0.00580039 & 0.00231809 & 0.00728584 & 0.00814056 & $\\dots$ \\\\\n",
       "\t16 & 2015-01-26 & -0.00562687 & -0.00692707 & 0.00341846 & -0.00621954 & -0.00882733 & -0.00616493 & $\\dots$ \\\\\n",
       "\t17 & 2015-01-27 & -0.0291763 & 0.00146915 & -0.00404722 & -0.0121236 & -0.0192134 & -0.0213974 & $\\dots$ \\\\\n",
       "\t18 & 2015-01-28 & -0.0196812 & -0.0190439 & -0.0241305 & -0.00858257 & -0.0239429 & -0.0244462 & $\\dots$ \\\\\n",
       "\t19 & 2015-01-29 & 0.0221802 & 0.0231352 & 0.00612105 & 0.0149642 & 0.0006434 & -0.000665362 & $\\dots$ \\\\\n",
       "\t20 & 2015-01-30 & -0.010473 & 0.0237064 & -0.0114034 & -0.0267949 & 0.0357418 & 0.0361726 & $\\dots$ \\\\\n",
       "\t21 & 2015-02-02 & 0.00491317 & 0.0411941 & 0.0180393 & -0.0147155 & -0.00396766 & -0.00611212 & $\\dots$ \\\\\n",
       "\t22 & 2015-02-03 & 0.00126582 & 0.00904827 & 0.00365482 & 0.00279292 & 0.00634034 & 0.00234848 & $\\dots$ \\\\\n",
       "\t23 & 2015-02-04 & 0.00894515 & 0.0177744 & -0.00492378 & 0.00719137 & -0.0132048 & -0.012244 & $\\dots$ \\\\\n",
       "\t24 & 2015-02-05 & -0.000666556 & 0.0215574 & 0.012036 & -0.00125479 & 0.00359896 & 0.00723572 & $\\dots$ \\\\\n",
       "\t25 & 2015-02-06 & -0.00908182 & -0.00157388 & 0.00253672 & -0.0159884 & 0.00539538 & 0.00636798 & $\\dots$ \\\\\n",
       "\t26 & 2015-02-09 & 0.00986925 & -0.00118598 & -0.00520312 & 0.00526671 & -0.00335179 & -0.00032197 & $\\dots$ \\\\\n",
       "\t27 & 2015-02-10 & 0.0153949 & 0.00486274 & 0.00173727 & 0.00454242 & 0.0150521 & 0.0144342 & $\\dots$ \\\\\n",
       "\t28 & 2015-02-11 & 0.0171866 & 0.0105326 & -0.00106781 & 0.0189106 & -0.00320531 & 0.00125163 & $\\dots$ \\\\\n",
       "\t29 & 2015-02-12 & 0.00317309 & 0.00551853 & -0.0014 & -0.00819672 & 0.0117667 & 0.0105724 & $\\dots$ \\\\\n",
       "\t30 & 2015-02-13 & -0.00157134 & 0.00903782 & -0.00842246 & -0.00941669 & 0.00666654 & 0.0104169 & $\\dots$ \\\\\n",
       "\t$\\dots$ & $\\dots$ & $\\dots$ & $\\dots$ & $\\dots$ & $\\dots$ & $\\dots$ & $\\dots$ &  \\\\\n",
       "\\end{tabular}\n"
      ],
      "text/plain": [
       "\u001b[1m781×11 DataFrame\u001b[0m\n",
       "\u001b[1m Row \u001b[0m│\u001b[1m date       \u001b[0m\u001b[1m AAPL         \u001b[0m\u001b[1m AMZN         \u001b[0m\u001b[1m BRK.B        \u001b[0m\u001b[1m FB          \u001b[0m\u001b[1m GOOG\u001b[0m ⋯\n",
       "     │\u001b[90m Date       \u001b[0m\u001b[90m Float64?     \u001b[0m\u001b[90m Float64?     \u001b[0m\u001b[90m Float64?     \u001b[0m\u001b[90m Float64?    \u001b[0m\u001b[90m Floa\u001b[0m ⋯\n",
       "─────┼──────────────────────────────────────────────────────────────────────────\n",
       "   1 │ 2015-01-02  -0.0184936    -0.0129887    -0.0153795    -0.00165436  -0.0 ⋯\n",
       "   2 │ 2015-01-05  -0.0188383    -0.0156998    -0.0121632    -0.0101308   -0.0\n",
       "   3 │ 2015-01-06  -0.00262812   -0.022995     -0.00541859   -0.0139842   -0.0\n",
       "   4 │ 2015-01-07   0.0051306     0.00309244    0.00635393   -0.00794685  -0.0\n",
       "   5 │ 2015-01-08   0.0243523     0.000466169   0.00511288    0.0186995    0.0 ⋯\n",
       "   6 │ 2015-01-09  -0.00585781   -0.0150922    -0.0143752    -0.00588235  -0.0\n",
       "   7 │ 2015-01-12  -0.0297513    -0.0206681    -0.011203     -0.0143885   -0.0\n",
       "   8 │ 2015-01-13  -0.0108588    -0.0092107    -0.00880293   -0.0100997   -0.0\n",
       "   9 │ 2015-01-14   0.00696992    0.00459014    0.00373464   -0.00183198   0.0 ⋯\n",
       "  10 │ 2015-01-15  -0.0289091    -0.0239796    -0.00639601   -0.0307592   -0.0\n",
       "  11 │ 2015-01-16  -0.0097169     0.0155792     0.0136549     0.0153971    0.0\n",
       "  ⋮  │     ⋮            ⋮             ⋮             ⋮             ⋮            ⋱\n",
       " 772 │ 2018-01-25  -0.019455      0.00727339   -0.00527192   -0.00250067   0.0\n",
       " 773 │ 2018-01-26  -0.00284884    0.00721259    0.0077487     0.011984     2.5 ⋯\n",
       " 774 │ 2018-01-29  -0.012929      0.00603188   -0.00778264   -0.0146755   -0.0\n",
       " 775 │ 2018-01-30   0.0087298     0.0246941    -0.00260501    0.0224578   -0.0\n",
       " 776 │ 2018-01-31   0.00335591   -0.000282505  -0.00283734   -0.00785688  -0.0\n",
       " 777 │ 2018-02-01   0.003679     -0.0380623     0.0128677     0.025874     0.0 ⋯\n",
       " 778 │ 2018-02-02  -0.0331325    -0.0321107    -0.0325685    -0.00916476  -0.0\n",
       " 779 │ 2018-02-05  -0.0164048    -0.00899745   -0.0422892    -0.0303322   -0.0\n",
       " 780 │ 2018-02-06   0.0529613     0.0597741     0.0418845     0.0377443    0.0\n",
       " 781 │ 2018-02-07  -0.0217371    -0.022236     -0.00806931   -0.0215585   -0.0 ⋯\n",
       "\u001b[36m                                                  6 columns and 760 rows omitted\u001b[0m"
      ]
     },
     "execution_count": 66,
     "metadata": {},
     "output_type": "execute_result"
    }
   ],
   "source": [
    "prices.rateOfRet = (prices.close .- prices.open) ./ prices.open\n",
    "dats = unstack(prices, :date, :Name, :rateOfRet)\n",
    "dats\n"
   ]
  },
  {
   "cell_type": "code",
   "execution_count": 67,
   "id": "3d89296b",
   "metadata": {},
   "outputs": [
    {
     "data": {
      "text/plain": [
       "10×10 Matrix{Float64}:\n",
       " 0.000141444  7.05342e-5  3.95975e-5  …  4.82517e-5  6.54475e-5   3.27512e-5\n",
       " 7.05342e-5   0.00017212  3.24832e-5     4.15248e-5  7.1176e-5    2.19292e-5\n",
       " 3.95975e-5   3.24832e-5  6.3866e-5      5.32424e-5  3.94755e-5   3.80986e-5\n",
       " 7.82499e-5   9.96999e-5  3.10998e-5     3.68132e-5  6.77914e-5   1.94835e-5\n",
       " 6.32639e-5   9.59114e-5  3.23086e-5     3.73887e-5  6.43079e-5   2.24464e-5\n",
       " 6.48236e-5   9.63896e-5  3.3117e-5   …  3.76297e-5  6.49578e-5   2.21649e-5\n",
       " 2.87843e-5   3.10713e-5  2.96455e-5     2.77098e-5  3.11186e-5   2.9434e-5\n",
       " 4.82517e-5   4.15248e-5  5.32424e-5     9.97947e-5  4.48171e-5   4.17071e-5\n",
       " 6.54475e-5   7.1176e-5   3.94755e-5     4.48171e-5  0.000110309  2.90038e-5\n",
       " 3.27512e-5   2.19292e-5  3.80986e-5     4.17071e-5  2.90038e-5   9.13447e-5"
      ]
     },
     "execution_count": 67,
     "metadata": {},
     "output_type": "execute_result"
    }
   ],
   "source": [
    "const avg_rets = [ mean(col) for col in eachcol(dats[:,2:end])]\n",
    "const cov_mx = cov(Matrix(dats[:,2:end]))\n"
   ]
  },
  {
   "cell_type": "code",
   "execution_count": 68,
   "id": "46e07eac",
   "metadata": {},
   "outputs": [
    {
     "data": {
      "text/plain": [
       "20"
      ]
     },
     "execution_count": 68,
     "metadata": {},
     "output_type": "execute_result"
    }
   ],
   "source": [
    "m = multi_model(Ipopt.Optimizer)\n",
    "@variable(m, 0 <= x[i=1:10] <= 1)\n",
    "@constraint(m,sum(x) == 1)\n",
    "\n",
    "@variable(m, risk)\n",
    "@constraint(m, risk == x'*cov_mx*x)\n",
    "\n",
    "@variable(m, rets)\n",
    "@constraint(m, rets == avg_rets' * x)\n",
    "\n",
    "@NLexpression(m, f_risk, risk)\n",
    "@NLexpression(m, f_rets, rets)\n",
    "\n",
    "iv1 =  fill(0.1, 10) # Initial guess\n",
    "obj1 = SingleObjective(f_risk, sense = MOI.MIN_SENSE,\n",
    "                        iv = Dict{String,Any}(\"x[$i]\" => iv1[i] for i in 1:length(iv1)))\n",
    "obj2 = SingleObjective(f_rets, sense = MOI.MAX_SENSE)\n",
    "\n",
    "md = get_multidata(m)\n",
    "md.objectives = [obj1, obj2]\n",
    "md.pointsperdim = 20;\n"
   ]
  },
  {
   "cell_type": "code",
   "execution_count": 69,
   "id": "ab3685b7",
   "metadata": {},
   "outputs": [
    {
     "name": "stdout",
     "output_type": "stream",
     "text": [
      "This is Ipopt version 3.14.4, running with linear solver MUMPS 5.4.1.\n",
      "\n",
      "Number of nonzeros in equality constraint Jacobian...:      122\n",
      "Number of nonzeros in inequality constraint Jacobian.:        0\n",
      "Number of nonzeros in Lagrangian Hessian.............:       55\n",
      "\n",
      "Total number of variables............................:       12\n",
      "                     variables with only lower bounds:        0\n",
      "                variables with lower and upper bounds:       10\n",
      "                     variables with only upper bounds:        0\n",
      "Total number of equality constraints.................:        3\n",
      "Total number of inequality constraints...............:        0\n",
      "        inequality constraints with only lower bounds:        0\n",
      "   inequality constraints with lower and upper bounds:        0\n",
      "        inequality constraints with only upper bounds:        0\n",
      "\n",
      "iter    objective    inf_pr   inf_du lg(mu)  ||d||  lg(rg) alpha_du alpha_pr  ls\n",
      "   0  0.0000000e+00 2.64e-04 4.43e-05  -1.0 0.00e+00    -  0.00e+00 0.00e+00   0\n",
      "   1  5.4868784e-05 1.15e-14 2.22e-16  -1.7 2.64e-04    -  1.00e+00 1.00e+00h  1\n",
      "   2  5.4864769e-05 3.44e-13 5.81e-17  -3.8 2.18e-05    -  1.00e+00 1.00e+00h  1\n",
      "   3  5.4338397e-05 5.88e-09 2.14e-05  -5.7 2.91e-03    -  9.84e-01 1.00e+00h  1\n",
      "   4  3.9485825e-05 4.35e-06 2.33e-20  -5.7 1.94e-01    -  1.00e+00 1.00e+00h  1\n",
      "   5  4.1370833e-05 5.87e-07 7.19e-06  -8.6 4.29e-02    -  7.85e-01 1.00e+00h  1\n",
      "   6  4.0810877e-05 3.90e-07 7.91e-07  -8.6 7.15e-02    -  9.49e-01 1.00e+00h  1\n",
      "   7  4.1030808e-05 5.71e-08 4.39e-07  -8.6 1.97e-02    -  9.20e-01 1.00e+00h  1\n",
      "   8  4.1038192e-05 1.34e-08 1.77e-20  -8.6 3.00e-02    -  1.00e+00 1.00e+00h  1\n",
      "   9  4.1040106e-05 2.53e-09 3.48e-20  -9.0 1.05e-02    -  1.00e+00 1.00e+00h  1\n",
      "\n",
      "Number of Iterations....: 9\n",
      "\n",
      "                                   (scaled)                 (unscaled)\n",
      "Objective...............:   4.1040106102003377e-05    4.1040106102003377e-05\n",
      "Dual infeasibility......:   3.4847051255327673e-20    3.4847051255327673e-20\n",
      "Constraint violation....:   2.5259383836905121e-09    2.5259383836905121e-09\n",
      "Variable bound violation:   0.0000000000000000e+00    0.0000000000000000e+00\n",
      "Complementarity.........:   4.6274411193521872e-09    4.6274411193521872e-09\n",
      "Overall NLP error.......:   4.6274411193521872e-09    4.6274411193521872e-09\n",
      "\n",
      "\n",
      "Number of objective function evaluations             = 10\n",
      "Number of objective gradient evaluations             = 10\n",
      "Number of equality constraint evaluations            = 10\n",
      "Number of inequality constraint evaluations          = 0\n",
      "Number of equality constraint Jacobian evaluations   = 10\n",
      "Number of inequality constraint Jacobian evaluations = 0\n",
      "Number of Lagrangian Hessian evaluations             = 9\n",
      "Total seconds in IPOPT                               = 0.251\n",
      "\n",
      "EXIT: Optimal Solution Found.\n",
      "This is Ipopt version 3.14.4, running with linear solver MUMPS 5.4.1.\n",
      "\n",
      "Number of nonzeros in equality constraint Jacobian...:      122\n",
      "Number of nonzeros in inequality constraint Jacobian.:        0\n",
      "Number of nonzeros in Lagrangian Hessian.............:       55\n",
      "\n",
      "Total number of variables............................:       12\n",
      "                     variables with only lower bounds:        0\n",
      "                variables with lower and upper bounds:       10\n",
      "                     variables with only upper bounds:        0\n",
      "Total number of equality constraints.................:        3\n",
      "Total number of inequality constraints...............:        0\n",
      "        inequality constraints with only lower bounds:        0\n",
      "   inequality constraints with lower and upper bounds:        0\n",
      "        inequality constraints with only upper bounds:        0\n",
      "\n",
      "iter    objective    inf_pr   inf_du lg(mu)  ||d||  lg(rg) alpha_du alpha_pr  ls\n",
      "   0  0.0000000e+00 2.64e-04 4.99e-04  -1.0 0.00e+00    -  0.00e+00 0.00e+00   0\n",
      "   1  2.6392689e-04 1.69e-13 2.22e-16  -1.7 2.64e-04    -  1.00e+00 1.00e+00h  1\n",
      "   2  2.6416650e-04 5.10e-12 1.78e-17  -3.8 2.47e-04    -  1.00e+00 1.00e+00h  1\n",
      "   3  3.0166866e-04 1.44e-07 3.86e-04  -5.7 4.49e-02    -  6.99e-01 1.00e+00f  1\n",
      "   4  7.1456882e-04 3.36e-05 1.04e-06  -5.7 7.56e-01    -  9.40e-01 1.00e+00h  1\n",
      "   5  7.4415124e-04 2.22e-07 3.26e-20  -5.7 6.07e-02    -  1.00e+00 1.00e+00h  1\n",
      "   6  7.6289869e-04 8.33e-08 3.24e-08  -8.6 3.74e-02    -  9.65e-01 1.00e+00h  1\n",
      "   7  7.6301687e-04 4.47e-12 6.94e-20  -8.6 2.65e-04    -  1.00e+00 1.00e+00h  1\n",
      "\n",
      "Number of Iterations....: 7\n",
      "\n",
      "                                   (scaled)                 (unscaled)\n",
      "Objective...............:  -7.6301686970361949e-04    7.6301686970361949e-04\n",
      "Dual infeasibility......:   6.9377292336047537e-20    6.9377292336047537e-20\n",
      "Constraint violation....:   4.4717441739235356e-12    4.4717441739235356e-12\n",
      "Variable bound violation:   0.0000000000000000e+00    0.0000000000000000e+00\n",
      "Complementarity.........:   2.5926195164332373e-09    2.5926195164332373e-09\n",
      "Overall NLP error.......:   2.5926195164332373e-09    2.5926195164332373e-09\n",
      "\n",
      "\n",
      "Number of objective function evaluations             = 8\n",
      "Number of objective gradient evaluations             = 8\n",
      "Number of equality constraint evaluations            = 8\n",
      "Number of inequality constraint evaluations          = 0\n",
      "Number of equality constraint Jacobian evaluations   = 8\n",
      "Number of inequality constraint Jacobian evaluations = 0\n",
      "Number of Lagrangian Hessian evaluations             = 7\n",
      "Total seconds in IPOPT                               = 0.016\n",
      "\n",
      "EXIT: Optimal Solution Found.\n",
      "This is Ipopt version 3.14.4, running with linear solver MUMPS 5.4.1.\n",
      "\n",
      "Number of nonzeros in equality constraint Jacobian...:      126\n",
      "Number of nonzeros in inequality constraint Jacobian.:        0\n",
      "Number of nonzeros in Lagrangian Hessian.............:       55\n",
      "\n",
      "Total number of variables............................:       13\n",
      "                     variables with only lower bounds:        0\n",
      "                variables with lower and upper bounds:       10\n",
      "                     variables with only upper bounds:        0\n",
      "Total number of equality constraints.................:        5\n",
      "Total number of inequality constraints...............:        0\n",
      "        inequality constraints with only lower bounds:        0\n",
      "   inequality constraints with lower and upper bounds:        0\n",
      "        inequality constraints with only upper bounds:        0\n",
      "\n",
      "iter    objective    inf_pr   inf_du lg(mu)  ||d||  lg(rg) alpha_du alpha_pr  ls\n",
      "   0  0.0000000e+00 7.33e-04 1.00e+00  -1.0 0.00e+00    -  0.00e+00 0.00e+00   0\n",
      "   1 -4.0446320e-03 5.81e-04 7.92e-01  -1.7 4.97e-01    -  1.72e-01 2.08e-01h  1\n",
      "   2  2.2338166e-01 4.73e-04 1.76e+00  -1.7 2.01e+00    -  5.19e-01 1.85e-01f  1\n",
      "   3  1.1896485e-01 2.45e-04 5.82e-01  -1.7 4.45e-01    -  8.07e-01 4.83e-01h  1\n",
      "   4  6.7544605e-02 8.24e-05 5.56e-01  -1.7 1.86e-01    -  1.00e+00 6.63e-01h  1\n",
      "   5  1.6295574e-02 1.36e-07 3.38e-02  -2.5 5.12e-02    -  1.00e+00 1.00e+00h  1\n",
      "   6  1.6321774e-02 5.53e-10 2.94e-03  -2.5 1.35e-03    -  1.00e+00 1.00e+00f  1\n",
      "   7  2.1044258e-02 7.10e-09 2.61e-01  -3.8 7.87e-03    -  5.82e-01 1.00e+00f  1\n",
      "   8  2.8523717e-02 3.63e-08 2.70e-03  -3.8 2.21e-02    -  1.00e+00 1.00e+00f  1\n",
      "   9  2.9783457e-02 1.94e-09 1.51e-03  -5.7 5.17e-03    -  8.90e-01 1.00e+00f  1\n",
      "iter    objective    inf_pr   inf_du lg(mu)  ||d||  lg(rg) alpha_du alpha_pr  ls\n",
      "  10  2.9820644e-02 5.56e-12 2.10e-07  -5.7 2.72e-04    -  1.00e+00 1.00e+00h  1\n",
      "  11  2.9835379e-02 1.97e-13 4.22e-09  -8.6 5.21e-05    -  1.00e+00 1.00e+00f  1\n",
      "\n",
      "Number of Iterations....: 11\n",
      "\n",
      "                                   (scaled)                 (unscaled)\n",
      "Objective...............:  -2.9835379075834521e-02    2.9835379075834521e-02\n",
      "Dual infeasibility......:   4.2180055358470649e-09    4.2180055358470649e-09\n",
      "Constraint violation....:   1.9742799908920453e-13    1.9742799908920453e-13\n",
      "Variable bound violation:   6.2689804394482849e-09    6.2689804394482849e-09\n",
      "Complementarity.........:   3.9225206447392943e-09    3.9225206447392943e-09\n",
      "Overall NLP error.......:   3.9225206447392943e-09    4.2180055358470649e-09\n",
      "\n",
      "\n",
      "Number of objective function evaluations             = 12\n",
      "Number of objective gradient evaluations             = 12\n",
      "Number of equality constraint evaluations            = 12\n",
      "Number of inequality constraint evaluations          = 0\n",
      "Number of equality constraint Jacobian evaluations   = 12\n",
      "Number of inequality constraint Jacobian evaluations = 0\n",
      "Number of Lagrangian Hessian evaluations             = 11\n",
      "Total seconds in IPOPT                               = 0.000\n",
      "\n",
      "EXIT: Optimal Solution Found.\n",
      "This is Ipopt version 3.14.4, running with linear solver MUMPS 5.4.1.\n",
      "\n",
      "Number of nonzeros in equality constraint Jacobian...:      126\n",
      "Number of nonzeros in inequality constraint Jacobian.:        0\n",
      "Number of nonzeros in Lagrangian Hessian.............:       55\n",
      "\n",
      "Total number of variables............................:       13\n",
      "                     variables with only lower bounds:        0\n",
      "                variables with lower and upper bounds:       10\n",
      "                     variables with only upper bounds:        0\n",
      "Total number of equality constraints.................:        5\n",
      "Total number of inequality constraints...............:        0\n",
      "        inequality constraints with only lower bounds:        0\n",
      "   inequality constraints with lower and upper bounds:        0\n",
      "        inequality constraints with only upper bounds:        0\n",
      "\n",
      "iter    objective    inf_pr   inf_du lg(mu)  ||d||  lg(rg) alpha_du alpha_pr  ls\n",
      "   0  0.0000000e+00 7.03e-04 1.00e+00  -1.0 0.00e+00    -  0.00e+00 0.00e+00   0\n",
      "   1 -3.5648964e-03 5.47e-04 7.78e-01  -1.7 4.66e-01    -  1.81e-01 2.22e-01h  1\n",
      "   2  2.2179724e-01 4.40e-04 1.72e+00  -1.7 1.86e+00    -  5.33e-01 1.96e-01f  1\n",
      "   3  1.1145191e-01 2.02e-04 4.75e-01  -1.7 4.00e-01    -  8.19e-01 5.40e-01h  1\n",
      "   4  6.7417899e-02 5.27e-05 2.73e-01  -1.7 1.42e-01    -  1.00e+00 7.39e-01h  1\n",
      "   5  3.3719817e-02 4.60e-08 2.61e-02  -2.5 3.37e-02    -  1.00e+00 1.00e+00h  1\n",
      "   6  4.4116475e-02 4.41e-08 2.71e-01  -3.8 1.97e-02    -  5.64e-01 1.00e+00f  1\n",
      "   7  5.5492317e-02 9.54e-08 6.05e-03  -3.8 3.52e-02    -  9.58e-01 1.00e+00f  1\n",
      "   8  5.6715415e-02 6.70e-09 3.12e-05  -3.8 9.66e-03    -  1.00e+00 1.00e+00f  1\n",
      "   9  5.7878273e-02 1.92e-09 2.67e-04  -5.7 5.14e-03    -  9.58e-01 1.00e+00f  1\n",
      "iter    objective    inf_pr   inf_du lg(mu)  ||d||  lg(rg) alpha_du alpha_pr  ls\n",
      "  10  5.7893872e-02 3.06e-12 6.22e-09  -5.7 1.99e-04    -  1.00e+00 1.00e+00h  1\n",
      "  11  5.7908638e-02 3.09e-13 3.92e-09  -8.6 6.51e-05    -  1.00e+00 1.00e+00f  1\n",
      "\n",
      "Number of Iterations....: 11\n",
      "\n",
      "                                   (scaled)                 (unscaled)\n",
      "Objective...............:  -5.7908638209400107e-02    5.7908638209400107e-02\n",
      "Dual infeasibility......:   3.9237328621117797e-09    3.9237328621117797e-09\n",
      "Constraint violation....:   3.0869255275869392e-13    3.0869255275869392e-13\n",
      "Variable bound violation:   6.1139271811952210e-09    6.1139271811952210e-09\n",
      "Complementarity.........:   4.0891397157341136e-09    4.0891397157341136e-09\n",
      "Overall NLP error.......:   4.0891397157341136e-09    4.0891397157341136e-09\n",
      "\n",
      "\n",
      "Number of objective function evaluations             = 12\n",
      "Number of objective gradient evaluations             = 12\n",
      "Number of equality constraint evaluations            = 12\n",
      "Number of inequality constraint evaluations          = 0\n",
      "Number of equality constraint Jacobian evaluations   = 12\n",
      "Number of inequality constraint Jacobian evaluations = 0\n",
      "Number of Lagrangian Hessian evaluations             = 11\n",
      "Total seconds in IPOPT                               = 0.000\n",
      "\n",
      "EXIT: Optimal Solution Found.\n",
      "This is Ipopt version 3.14.4, running with linear solver MUMPS 5.4.1.\n",
      "\n",
      "Number of nonzeros in equality constraint Jacobian...:      126\n",
      "Number of nonzeros in inequality constraint Jacobian.:        0\n",
      "Number of nonzeros in Lagrangian Hessian.............:       55\n",
      "\n",
      "Total number of variables............................:       13\n",
      "                     variables with only lower bounds:        0\n",
      "                variables with lower and upper bounds:       10\n",
      "                     variables with only upper bounds:        0\n",
      "Total number of equality constraints.................:        5\n",
      "Total number of inequality constraints...............:        0\n",
      "        inequality constraints with only lower bounds:        0\n",
      "   inequality constraints with lower and upper bounds:        0\n",
      "        inequality constraints with only upper bounds:        0\n",
      "\n",
      "iter    objective    inf_pr   inf_du lg(mu)  ||d||  lg(rg) alpha_du alpha_pr  ls\n",
      "   0  0.0000000e+00 6.73e-04 1.00e+00  -1.0 0.00e+00    -  0.00e+00 0.00e+00   0\n",
      "   1 -3.0120375e-03 5.12e-04 7.61e-01  -1.7 4.35e-01    -  1.92e-01 2.39e-01h  1\n",
      "   2  2.2011876e-01 4.06e-04 1.67e+00  -1.7 1.72e+00    -  5.49e-01 2.07e-01f  1\n",
      "   3  1.0222352e-01 1.56e-04 3.68e-01  -1.7 3.56e-01    -  8.30e-01 6.15e-01h  1\n",
      "   4  7.1896857e-02 2.95e-05 1.56e-01  -1.7 9.80e-02    -  1.00e+00 8.12e-01h  1\n",
      "   5  5.3587615e-02 1.96e-08 3.48e-02  -2.5 1.83e-02    -  9.73e-01 1.00e+00h  1\n",
      "   6  8.0241245e-02 4.11e-07 5.85e-03  -3.8 7.07e-02    -  9.58e-01 1.00e+00f  1\n",
      "   7  8.3471041e-02 4.77e-08 4.22e-03  -5.7 2.52e-02    -  8.66e-01 1.00e+00f  1\n",
      "   8  8.3726701e-02 1.98e-09 1.77e-05  -5.7 5.06e-03    -  1.00e+00 1.00e+00h  1\n",
      "   9  8.3747286e-02 3.32e-11 2.62e-07  -5.7 6.32e-04    -  1.00e+00 1.00e+00h  1\n",
      "iter    objective    inf_pr   inf_du lg(mu)  ||d||  lg(rg) alpha_du alpha_pr  ls\n",
      "  10  8.3762151e-02 8.31e-13 8.67e-09  -8.6 1.06e-04    -  1.00e+00 1.00e+00f  1\n",
      "\n",
      "Number of Iterations....: 10\n",
      "\n",
      "                                   (scaled)                 (unscaled)\n",
      "Objective...............:  -8.3762151311008823e-02    8.3762151311008823e-02\n",
      "Dual infeasibility......:   8.6665051368395310e-09    8.6665051368395310e-09\n",
      "Constraint violation....:   8.3085405739559896e-13    8.3085405739559896e-13\n",
      "Variable bound violation:   5.6910046623926646e-09    5.6910046623926646e-09\n",
      "Complementarity.........:   7.2179143780251923e-09    7.2179143780251923e-09\n",
      "Overall NLP error.......:   7.2179143780251923e-09    8.6665051368395310e-09\n",
      "\n",
      "\n",
      "Number of objective function evaluations             = 11\n",
      "Number of objective gradient evaluations             = 11\n",
      "Number of equality constraint evaluations            = 11\n",
      "Number of inequality constraint evaluations          = 0\n",
      "Number of equality constraint Jacobian evaluations   = 11\n",
      "Number of inequality constraint Jacobian evaluations = 0\n",
      "Number of Lagrangian Hessian evaluations             = 10\n",
      "Total seconds in IPOPT                               = 0.016\n",
      "\n",
      "EXIT: Optimal Solution Found.\n",
      "This is Ipopt version 3.14.4, running with linear solver MUMPS 5.4.1.\n",
      "\n",
      "Number of nonzeros in equality constraint Jacobian...:      126\n",
      "Number of nonzeros in inequality constraint Jacobian.:        0\n",
      "Number of nonzeros in Lagrangian Hessian.............:       55\n",
      "\n",
      "Total number of variables............................:       13\n",
      "                     variables with only lower bounds:        0\n",
      "                variables with lower and upper bounds:       10\n",
      "                     variables with only upper bounds:        0\n",
      "Total number of equality constraints.................:        5\n",
      "Total number of inequality constraints...............:        0\n",
      "        inequality constraints with only lower bounds:        0\n",
      "   inequality constraints with lower and upper bounds:        0\n",
      "        inequality constraints with only upper bounds:        0\n",
      "\n",
      "iter    objective    inf_pr   inf_du lg(mu)  ||d||  lg(rg) alpha_du alpha_pr  ls\n",
      "   0  0.0000000e+00 6.42e-04 1.00e+00  -1.0 0.00e+00    -  0.00e+00 0.00e+00   0\n",
      "   1 -2.3679573e-03 4.76e-04 7.41e-01  -1.7 4.04e-01    -  2.04e-01 2.59e-01h  1\n",
      "   2  2.1834503e-01 3.71e-04 1.62e+00  -1.7 1.58e+00    -  5.65e-01 2.21e-01f  1\n",
      "   3  9.7056005e-02 1.20e-04 2.82e-01  -1.7 3.14e-01    -  8.39e-01 6.76e-01h  1\n",
      "   4  8.0385163e-02 1.29e-05 8.75e-02  -1.7 7.13e-02    -  1.00e+00 8.93e-01h  1\n",
      "   5  7.4688152e-02 3.26e-08 1.38e-01  -2.5 1.37e-02    -  8.75e-01 1.00e+00h  1\n",
      "   6  8.9464386e-02 1.40e-07 2.27e-03  -2.5 3.90e-02    -  1.00e+00 1.00e+00f  1\n",
      "   7  1.0305701e-01 1.64e-07 2.94e-02  -3.8 4.58e-02    -  7.30e-01 1.00e+00f  1\n",
      "   8  1.0546190e-01 3.22e-08 6.79e-05  -3.8 2.10e-02    -  1.00e+00 1.00e+00f  1\n",
      "   9  1.0665697e-01 1.24e-08 8.71e-04  -5.7 1.29e-02    -  9.43e-01 1.00e+00f  1\n",
      "iter    objective    inf_pr   inf_du lg(mu)  ||d||  lg(rg) alpha_du alpha_pr  ls\n",
      "  10  1.0667006e-01 1.65e-09 1.57e-05  -5.7 4.46e-03    -  1.00e+00 1.00e+00h  1\n",
      "  11  1.0667988e-01 3.09e-10 1.99e-05  -8.6 1.92e-03    -  9.92e-01 1.00e+00h  1\n",
      "  12  1.0667876e-01 1.44e-11 1.35e-07  -8.6 4.11e-04    -  1.00e+00 1.00e+00h  1\n",
      "  13  1.0667869e-01 4.29e-14 4.01e-10  -8.6 2.24e-05    -  1.00e+00 1.00e+00h  1\n",
      "\n",
      "Number of Iterations....: 13\n",
      "\n",
      "                                   (scaled)                 (unscaled)\n",
      "Objective...............:  -1.0667869402559287e-01    1.0667869402559287e-01\n",
      "Dual infeasibility......:   4.0135213572487756e-10    4.0135213572487756e-10\n",
      "Constraint violation....:   4.2918454491718821e-14    4.2918454491718821e-14\n",
      "Variable bound violation:   5.7845526593338778e-09    5.7845526593338778e-09\n",
      "Complementarity.........:   2.8755071500843477e-09    2.8755071500843477e-09\n",
      "Overall NLP error.......:   2.8755071500843477e-09    2.8755071500843477e-09\n",
      "\n",
      "\n",
      "Number of objective function evaluations             = 14\n",
      "Number of objective gradient evaluations             = 14\n",
      "Number of equality constraint evaluations            = 14\n",
      "Number of inequality constraint evaluations          = 0\n",
      "Number of equality constraint Jacobian evaluations   = 14\n",
      "Number of inequality constraint Jacobian evaluations = 0\n",
      "Number of Lagrangian Hessian evaluations             = 13\n",
      "Total seconds in IPOPT                               = 0.023\n",
      "\n",
      "EXIT: Optimal Solution Found.\n",
      "This is Ipopt version 3.14.4, running with linear solver MUMPS 5.4.1.\n",
      "\n",
      "Number of nonzeros in equality constraint Jacobian...:      126\n",
      "Number of nonzeros in inequality constraint Jacobian.:        0\n",
      "Number of nonzeros in Lagrangian Hessian.............:       55\n",
      "\n",
      "Total number of variables............................:       13\n",
      "                     variables with only lower bounds:        0\n",
      "                variables with lower and upper bounds:       10\n",
      "                     variables with only upper bounds:        0\n",
      "Total number of equality constraints.................:        5\n",
      "Total number of inequality constraints...............:        0\n",
      "        inequality constraints with only lower bounds:        0\n",
      "   inequality constraints with lower and upper bounds:        0\n",
      "        inequality constraints with only upper bounds:        0\n",
      "\n",
      "iter    objective    inf_pr   inf_du lg(mu)  ||d||  lg(rg) alpha_du alpha_pr  ls\n",
      "   0  0.0000000e+00 6.12e-04 1.00e+00  -1.0 0.00e+00    -  0.00e+00 0.00e+00   0\n",
      "   1 -1.6080485e-03 4.39e-04 7.18e-01  -1.7 3.73e-01    -  2.18e-01 2.82e-01h  1\n",
      "   2  2.1647864e-01 3.36e-04 1.56e+00  -1.7 1.43e+00    -  5.83e-01 2.36e-01f  1\n",
      "   3  9.8730621e-02 9.99e-05 2.37e-01  -1.7 2.76e-01    -  8.41e-01 7.02e-01h  1\n",
      "   4  9.3066469e-02 2.73e-06 4.21e-02  -1.7 8.88e-02    -  1.00e+00 9.73e-01h  1\n",
      "   5  9.5820759e-02 7.24e-08 1.36e-01  -2.5 2.31e-02    -  8.43e-01 1.00e+00f  1\n",
      "   6  1.0982111e-01 1.29e-07 2.09e-03  -2.5 3.54e-02    -  1.00e+00 1.00e+00f  1\n",
      "   7  1.2411903e-01 1.85e-07 2.00e-02  -3.8 4.73e-02    -  7.80e-01 1.00e+00f  1\n",
      "   8  1.2614114e-01 6.92e-09 8.98e-06  -3.8 6.95e-03    -  1.00e+00 1.00e+00f  1\n",
      "   9  1.2733397e-01 8.37e-10 1.33e-04  -5.7 3.14e-03    -  9.57e-01 1.00e+00f  1\n",
      "iter    objective    inf_pr   inf_du lg(mu)  ||d||  lg(rg) alpha_du alpha_pr  ls\n",
      "  10  1.2734299e-01 7.11e-13 3.60e-09  -5.7 9.83e-05    -  1.00e+00 1.00e+00h  1\n",
      "  11  1.2735588e-01 1.24e-13 1.33e-09  -8.6 3.44e-05    -  1.00e+00 1.00e+00f  1\n",
      "\n",
      "Number of Iterations....: 11\n",
      "\n",
      "                                   (scaled)                 (unscaled)\n",
      "Objective...............:  -1.2735588291734506e-01    1.2735588291734506e-01\n",
      "Dual infeasibility......:   1.3265635024923422e-09    1.3265635024923422e-09\n",
      "Constraint violation....:   1.2352284883999338e-13    1.2352284883999338e-13\n",
      "Variable bound violation:   5.3434573259185452e-09    5.3434573259185452e-09\n",
      "Complementarity.........:   3.2367942052147824e-09    3.2367942052147824e-09\n",
      "Overall NLP error.......:   3.2367942052147824e-09    3.2367942052147824e-09\n",
      "\n",
      "\n",
      "Number of objective function evaluations             = 12\n",
      "Number of objective gradient evaluations             = 12\n",
      "Number of equality constraint evaluations            = 12\n",
      "Number of inequality constraint evaluations          = 0\n",
      "Number of equality constraint Jacobian evaluations   = 12\n",
      "Number of inequality constraint Jacobian evaluations = 0\n",
      "Number of Lagrangian Hessian evaluations             = 11\n",
      "Total seconds in IPOPT                               = 0.007\n",
      "\n",
      "EXIT: Optimal Solution Found.\n",
      "This is Ipopt version 3.14.4, running with linear solver MUMPS 5.4.1.\n",
      "\n",
      "Number of nonzeros in equality constraint Jacobian...:      126\n",
      "Number of nonzeros in inequality constraint Jacobian.:        0\n",
      "Number of nonzeros in Lagrangian Hessian.............:       55\n",
      "\n",
      "Total number of variables............................:       13\n",
      "                     variables with only lower bounds:        0\n",
      "                variables with lower and upper bounds:       10\n",
      "                     variables with only upper bounds:        0\n",
      "Total number of equality constraints.................:        5\n",
      "Total number of inequality constraints...............:        0\n",
      "        inequality constraints with only lower bounds:        0\n",
      "   inequality constraints with lower and upper bounds:        0\n",
      "        inequality constraints with only upper bounds:        0\n",
      "\n",
      "iter    objective    inf_pr   inf_du lg(mu)  ||d||  lg(rg) alpha_du alpha_pr  ls\n",
      "   0  0.0000000e+00 5.82e-04 1.00e+00  -1.0 0.00e+00    -  0.00e+00 0.00e+00   0\n",
      "   1 -6.9797881e-04 4.02e-04 6.90e-01  -1.7 3.42e-01    -  2.34e-01 3.10e-01h  1\n",
      "   2  2.1452856e-01 2.99e-04 1.50e+00  -1.7 1.29e+00    -  6.03e-01 2.55e-01f  1\n",
      "   3  1.1311090e-01 1.08e-04 2.71e-01  -1.7 2.49e-01    -  8.20e-01 6.40e-01h  1\n",
      "   4  1.1014563e-01 1.73e-06 4.97e-02  -1.7 1.29e-01    -  1.00e+00 1.00e+00h  1\n",
      "   5  1.1452541e-01 1.49e-07 1.12e-01  -2.5 3.47e-02    -  8.38e-01 1.00e+00f  1\n",
      "   6  1.3819211e-01 3.93e-07 5.68e-02  -3.8 6.43e-02    -  5.69e-01 1.00e+00f  1\n",
      "   7  1.4536092e-01 1.59e-07 9.77e-04  -3.8 4.56e-02    -  1.00e+00 1.00e+00f  1\n",
      "   8  1.4638831e-01 3.09e-09 4.87e-04  -5.7 5.57e-03    -  9.37e-01 1.00e+00f  1\n",
      "   9  1.4642164e-01 9.55e-12 3.50e-08  -5.7 3.76e-04    -  1.00e+00 1.00e+00h  1\n",
      "iter    objective    inf_pr   inf_du lg(mu)  ||d||  lg(rg) alpha_du alpha_pr  ls\n",
      "  10  1.4643457e-01 1.01e-13 9.65e-10  -8.6 3.09e-05    -  1.00e+00 1.00e+00f  1\n",
      "\n",
      "Number of Iterations....: 10\n",
      "\n",
      "                                   (scaled)                 (unscaled)\n",
      "Objective...............:  -1.4643456883303374e-01    1.4643456883303374e-01\n",
      "Dual infeasibility......:   9.6529259968954225e-10    9.6529259968954225e-10\n",
      "Constraint violation....:   1.0094455962083602e-13    1.0094455962083602e-13\n",
      "Variable bound violation:   5.2306719085190160e-09    5.2306719085190160e-09\n",
      "Complementarity.........:   3.1216338872326555e-09    3.1216338872326555e-09\n",
      "Overall NLP error.......:   3.1216338872326555e-09    3.1216338872326555e-09\n",
      "\n",
      "\n",
      "Number of objective function evaluations             = 11\n",
      "Number of objective gradient evaluations             = 11\n",
      "Number of equality constraint evaluations            = 11\n",
      "Number of inequality constraint evaluations          = 0\n",
      "Number of equality constraint Jacobian evaluations   = 11\n",
      "Number of inequality constraint Jacobian evaluations = 0\n",
      "Number of Lagrangian Hessian evaluations             = 10\n",
      "Total seconds in IPOPT                               = 0.016\n",
      "\n",
      "EXIT: Optimal Solution Found.\n",
      "This is Ipopt version 3.14.4, running with linear solver MUMPS 5.4.1.\n",
      "\n",
      "Number of nonzeros in equality constraint Jacobian...:      126\n",
      "Number of nonzeros in inequality constraint Jacobian.:        0\n",
      "Number of nonzeros in Lagrangian Hessian.............:       55\n",
      "\n",
      "Total number of variables............................:       13\n",
      "                     variables with only lower bounds:        0\n",
      "                variables with lower and upper bounds:       10\n",
      "                     variables with only upper bounds:        0\n",
      "Total number of equality constraints.................:        5\n",
      "Total number of inequality constraints...............:        0\n",
      "        inequality constraints with only lower bounds:        0\n",
      "   inequality constraints with lower and upper bounds:        0\n",
      "        inequality constraints with only upper bounds:        0\n",
      "\n",
      "iter    objective    inf_pr   inf_du lg(mu)  ||d||  lg(rg) alpha_du alpha_pr  ls\n",
      "   0  0.0000000e+00 5.52e-04 1.00e+00  -1.0 0.00e+00    -  0.00e+00 0.00e+00   0\n",
      "   1  4.1163983e-04 3.62e-04 6.56e-01  -1.7 3.11e-01    -  2.53e-01 3.44e-01h  1\n",
      "   2  2.1251450e-01 2.62e-04 1.37e+00  -1.7 1.14e+00    -  6.01e-01 2.77e-01f  1\n",
      "   3  1.2320076e-01 1.00e-04 2.75e-01  -1.7 2.46e-01    -  8.06e-01 6.17e-01h  1\n",
      "   4  1.2502817e-01 2.43e-06 7.26e-02  -1.7 1.72e-01    -  1.00e+00 1.00e+00h  1\n",
      "   5  1.2715127e-01 2.45e-07 1.02e-01  -2.5 4.56e-02    -  8.32e-01 1.00e+00f  1\n",
      "   6  1.5983689e-01 5.30e-07 1.92e-03  -3.8 8.93e-02    -  9.90e-01 1.00e+00f  1\n",
      "   7  1.6254429e-01 3.04e-08 1.76e-04  -3.8 2.00e-02    -  1.00e+00 1.00e+00f  1\n",
      "   8  1.6362339e-01 1.25e-09 7.61e-05  -5.7 3.90e-03    -  9.82e-01 1.00e+00f  1\n",
      "   9  1.6364776e-01 1.19e-12 4.18e-09  -8.6 1.33e-04    -  1.00e+00 1.00e+00h  1\n",
      "iter    objective    inf_pr   inf_du lg(mu)  ||d||  lg(rg) alpha_du alpha_pr  ls\n",
      "  10  1.6364779e-01 1.11e-16 6.26e-15  -9.0 1.41e-07    -  1.00e+00 1.00e+00h  1\n",
      "\n",
      "Number of Iterations....: 10\n",
      "\n",
      "                                   (scaled)                 (unscaled)\n",
      "Objective...............:  -1.6364778627514051e-01    1.6364778627514051e-01\n",
      "Dual infeasibility......:   6.2601053290122151e-15    6.2601053290122151e-15\n",
      "Constraint violation....:   1.1102230246251565e-16    1.1102230246251565e-16\n",
      "Variable bound violation:   8.2869027783361386e-09    8.2869027783361386e-09\n",
      "Complementarity.........:   9.0910345965323524e-10    9.0910345965323524e-10\n",
      "Overall NLP error.......:   9.0910345965323524e-10    9.0910345965323524e-10\n",
      "\n",
      "\n",
      "Number of objective function evaluations             = 11\n",
      "Number of objective gradient evaluations             = 11\n",
      "Number of equality constraint evaluations            = 11\n",
      "Number of inequality constraint evaluations          = 0\n",
      "Number of equality constraint Jacobian evaluations   = 11\n",
      "Number of inequality constraint Jacobian evaluations = 0\n",
      "Number of Lagrangian Hessian evaluations             = 10\n",
      "Total seconds in IPOPT                               = 0.000\n",
      "\n",
      "EXIT: Optimal Solution Found.\n",
      "This is Ipopt version 3.14.4, running with linear solver MUMPS 5.4.1.\n",
      "\n",
      "Number of nonzeros in equality constraint Jacobian...:      126\n",
      "Number of nonzeros in inequality constraint Jacobian.:        0\n",
      "Number of nonzeros in Lagrangian Hessian.............:       55\n",
      "\n",
      "Total number of variables............................:       13\n",
      "                     variables with only lower bounds:        0\n",
      "                variables with lower and upper bounds:       10\n",
      "                     variables with only upper bounds:        0\n",
      "Total number of equality constraints.................:        5\n",
      "Total number of inequality constraints...............:        0\n",
      "        inequality constraints with only lower bounds:        0\n",
      "   inequality constraints with lower and upper bounds:        0\n",
      "        inequality constraints with only upper bounds:        0\n",
      "\n",
      "iter    objective    inf_pr   inf_du lg(mu)  ||d||  lg(rg) alpha_du alpha_pr  ls\n",
      "   0  0.0000000e+00 5.22e-04 1.00e+00  -1.0 0.00e+00    -  0.00e+00 0.00e+00   0\n",
      "   1  1.7945210e-03 3.20e-04 6.14e-01  -1.7 2.81e-01    -  2.75e-01 3.86e-01h  1\n",
      "   2  2.1047397e-01 2.23e-04 1.19e+00  -1.7 9.97e-01    -  5.82e-01 3.04e-01f  1\n",
      "   3  1.0759950e-01 3.51e-05 1.19e-01  -1.7 1.88e-01    -  8.52e-01 8.42e-01h  1\n",
      "   4  1.2034354e-01 4.77e-07 2.44e-01  -2.5 4.80e-02    -  3.68e-01 1.00e+00f  1\n",
      "   5  1.7175548e-01 2.52e-06 3.08e-02  -2.5 1.91e-01    -  9.10e-01 1.00e+00f  1\n",
      "   6  1.7261841e-01 1.58e-07 5.00e-02  -3.8 4.81e-02    -  6.42e-01 1.00e+00h  1\n",
      "   7  1.7729569e-01 6.06e-08 3.57e-04  -3.8 3.06e-02    -  1.00e+00 1.00e+00f  1\n",
      "   8  1.7860673e-01 4.17e-09 2.79e-04  -5.7 8.52e-03    -  9.59e-01 1.00e+00f  1\n",
      "   9  1.7863170e-01 1.04e-11 3.70e-08  -5.7 3.64e-04    -  1.00e+00 1.00e+00h  1\n",
      "iter    objective    inf_pr   inf_du lg(mu)  ||d||  lg(rg) alpha_du alpha_pr  ls\n",
      "  10  1.7864473e-01 1.67e-13 1.17e-09  -8.6 4.74e-05    -  1.00e+00 1.00e+00f  1\n",
      "\n",
      "Number of Iterations....: 10\n",
      "\n",
      "                                   (scaled)                 (unscaled)\n",
      "Objective...............:  -1.7864473159137961e-01    1.7864473159137961e-01\n",
      "Dual infeasibility......:   1.1653019936415432e-09    1.1653019936415432e-09\n",
      "Constraint violation....:   1.6672558558896137e-13    1.6672558558896137e-13\n",
      "Variable bound violation:   4.6646194775311460e-09    4.6646194775311460e-09\n",
      "Complementarity.........:   3.4829029146907683e-09    3.4829029146907683e-09\n",
      "Overall NLP error.......:   3.4829029146907683e-09    3.4829029146907683e-09\n",
      "\n",
      "\n",
      "Number of objective function evaluations             = 11\n",
      "Number of objective gradient evaluations             = 11\n",
      "Number of equality constraint evaluations            = 11\n",
      "Number of inequality constraint evaluations          = 0\n",
      "Number of equality constraint Jacobian evaluations   = 11\n",
      "Number of inequality constraint Jacobian evaluations = 0\n",
      "Number of Lagrangian Hessian evaluations             = 10\n",
      "Total seconds in IPOPT                               = 0.016\n",
      "\n",
      "EXIT: Optimal Solution Found.\n",
      "This is Ipopt version 3.14.4, running with linear solver MUMPS 5.4.1.\n",
      "\n",
      "Number of nonzeros in equality constraint Jacobian...:      126\n",
      "Number of nonzeros in inequality constraint Jacobian.:        0\n",
      "Number of nonzeros in Lagrangian Hessian.............:       55\n",
      "\n",
      "Total number of variables............................:       13\n",
      "                     variables with only lower bounds:        0\n",
      "                variables with lower and upper bounds:       10\n",
      "                     variables with only upper bounds:        0\n",
      "Total number of equality constraints.................:        5\n",
      "Total number of inequality constraints...............:        0\n",
      "        inequality constraints with only lower bounds:        0\n",
      "   inequality constraints with lower and upper bounds:        0\n",
      "        inequality constraints with only upper bounds:        0\n",
      "\n",
      "iter    objective    inf_pr   inf_du lg(mu)  ||d||  lg(rg) alpha_du alpha_pr  ls\n",
      "   0  0.0000000e+00 4.92e-04 1.00e+00  -1.0 0.00e+00    -  0.00e+00 0.00e+00   0\n",
      "   1  3.5657828e-03 2.75e-04 6.31e-01  -1.7 2.50e-01    -  3.00e-01 4.41e-01h  1\n",
      "   2  2.0847401e-01 1.82e-04 1.04e+00  -1.7 8.49e-01    -  5.69e-01 3.38e-01f  1\n",
      "   3  1.0559091e-01 2.11e-06 1.84e-01  -1.7 1.43e-01    -  8.92e-01 1.00e+00h  1\n",
      "   4  1.4229049e-01 5.88e-07 1.73e-01  -2.5 5.49e-02    -  4.57e-01 1.00e+00f  1\n",
      "   5  1.7371894e-01 9.48e-07 7.85e-03  -2.5 1.16e-01    -  9.59e-01 1.00e+00f  1\n",
      "   6  1.8692052e-01 2.16e-07 2.23e-02  -3.8 5.55e-02    -  7.28e-01 1.00e+00f  1\n",
      "   7  1.8959328e-01 2.53e-08 3.88e-05  -3.8 2.07e-02    -  1.00e+00 1.00e+00f  1\n",
      "   8  1.9090520e-01 4.25e-09 1.87e-04  -5.7 7.56e-03    -  9.76e-01 1.00e+00f  1\n",
      "   9  1.9093552e-01 2.92e-11 1.46e-07  -5.7 5.77e-04    -  1.00e+00 1.00e+00h  1\n",
      "iter    objective    inf_pr   inf_du lg(mu)  ||d||  lg(rg) alpha_du alpha_pr  ls\n",
      "  10  1.9094867e-01 2.90e-13 1.79e-09  -8.6 6.39e-05    -  1.00e+00 1.00e+00f  1\n",
      "\n",
      "Number of Iterations....: 10\n",
      "\n",
      "                                   (scaled)                 (unscaled)\n",
      "Objective...............:  -1.9094867449771694e-01    1.9094867449771694e-01\n",
      "Dual infeasibility......:   1.7894839610147783e-09    1.7894839610147783e-09\n",
      "Constraint violation....:   2.9027223290570843e-13    2.9027223290570843e-13\n",
      "Variable bound violation:   4.1212711111623455e-09    4.1212711111623455e-09\n",
      "Complementarity.........:   4.5742019919642638e-09    4.5742019919642638e-09\n",
      "Overall NLP error.......:   4.5742019919642638e-09    4.5742019919642638e-09\n",
      "\n",
      "\n",
      "Number of objective function evaluations             = 11\n",
      "Number of objective gradient evaluations             = 11\n",
      "Number of equality constraint evaluations            = 11\n",
      "Number of inequality constraint evaluations          = 0\n",
      "Number of equality constraint Jacobian evaluations   = 11\n",
      "Number of inequality constraint Jacobian evaluations = 0\n",
      "Number of Lagrangian Hessian evaluations             = 10\n",
      "Total seconds in IPOPT                               = 0.016\n",
      "\n",
      "EXIT: Optimal Solution Found.\n",
      "This is Ipopt version 3.14.4, running with linear solver MUMPS 5.4.1.\n",
      "\n",
      "Number of nonzeros in equality constraint Jacobian...:      126\n",
      "Number of nonzeros in inequality constraint Jacobian.:        0\n",
      "Number of nonzeros in Lagrangian Hessian.............:       55\n",
      "\n",
      "Total number of variables............................:       13\n",
      "                     variables with only lower bounds:        0\n",
      "                variables with lower and upper bounds:       10\n",
      "                     variables with only upper bounds:        0\n",
      "Total number of equality constraints.................:        5\n",
      "Total number of inequality constraints...............:        0\n",
      "        inequality constraints with only lower bounds:        0\n",
      "   inequality constraints with lower and upper bounds:        0\n",
      "        inequality constraints with only upper bounds:        0\n",
      "\n",
      "iter    objective    inf_pr   inf_du lg(mu)  ||d||  lg(rg) alpha_du alpha_pr  ls\n",
      "   0  0.0000000e+00 4.61e-04 1.00e+00  -1.0 0.00e+00    -  0.00e+00 0.00e+00   0\n",
      "   1  5.9157688e-03 2.25e-04 6.60e-01  -1.7 2.19e-01    -  3.31e-01 5.13e-01h  1\n",
      "   2  2.0662957e-01 1.38e-04 8.90e-01  -1.7 6.98e-01    -  5.63e-01 3.84e-01f  1\n",
      "   3  1.1938271e-01 1.20e-06 1.08e-01  -1.7 1.14e-01    -  9.22e-01 1.00e+00h  1\n",
      "   4  1.6046682e-01 6.68e-07 1.10e-01  -2.5 6.86e-02    -  6.01e-01 1.00e+00f  1\n",
      "   5  1.8087205e-01 3.82e-07 2.03e-04  -2.5 6.53e-02    -  1.00e+00 1.00e+00f  1\n",
      "   6  1.9705379e-01 2.53e-07 1.46e-02  -3.8 6.20e-02    -  7.89e-01 1.00e+00f  1\n",
      "   7  1.9859446e-01 2.41e-08 1.38e-04  -3.8 1.86e-02    -  1.00e+00 1.00e+00f  1\n",
      "   8  1.9982026e-01 7.10e-09 2.94e-04  -5.7 9.80e-03    -  9.74e-01 1.00e+00f  1\n",
      "   9  1.9986730e-01 3.04e-10 1.87e-06  -5.7 1.80e-03    -  1.00e+00 1.00e+00h  1\n",
      "iter    objective    inf_pr   inf_du lg(mu)  ||d||  lg(rg) alpha_du alpha_pr  ls\n",
      "  10  1.9988255e-01 3.79e-12 2.36e-08  -8.6 2.13e-04    -  1.00e+00 1.00e+00h  1\n",
      "  11  1.9988258e-01 1.82e-16 1.09e-12  -8.6 1.36e-06    -  1.00e+00 1.00e+00h  1\n",
      "\n",
      "Number of Iterations....: 11\n",
      "\n",
      "                                   (scaled)                 (unscaled)\n",
      "Objective...............:  -1.9988257956838051e-01    1.9988257956838051e-01\n",
      "Dual infeasibility......:   1.0908024828151685e-12    1.0908024828151685e-12\n",
      "Constraint violation....:   1.8178693346245281e-16    1.8178693346245281e-16\n",
      "Variable bound violation:   4.0077714148552466e-09    4.0077714148552466e-09\n",
      "Complementarity.........:   2.5081929613766826e-09    2.5081929613766826e-09\n",
      "Overall NLP error.......:   2.5081929613766826e-09    2.5081929613766826e-09\n",
      "\n",
      "\n",
      "Number of objective function evaluations             = 12\n",
      "Number of objective gradient evaluations             = 12\n",
      "Number of equality constraint evaluations            = 12\n",
      "Number of inequality constraint evaluations          = 0\n",
      "Number of equality constraint Jacobian evaluations   = 12\n",
      "Number of inequality constraint Jacobian evaluations = 0\n",
      "Number of Lagrangian Hessian evaluations             = 11\n",
      "Total seconds in IPOPT                               = 0.016\n",
      "\n",
      "EXIT: Optimal Solution Found.\n",
      "This is Ipopt version 3.14.4, running with linear solver MUMPS 5.4.1.\n",
      "\n",
      "Number of nonzeros in equality constraint Jacobian...:      126\n",
      "Number of nonzeros in inequality constraint Jacobian.:        0\n",
      "Number of nonzeros in Lagrangian Hessian.............:       55\n",
      "\n",
      "Total number of variables............................:       13\n",
      "                     variables with only lower bounds:        0\n",
      "                variables with lower and upper bounds:       10\n",
      "                     variables with only upper bounds:        0\n",
      "Total number of equality constraints.................:        5\n",
      "Total number of inequality constraints...............:        0\n",
      "        inequality constraints with only lower bounds:        0\n",
      "   inequality constraints with lower and upper bounds:        0\n",
      "        inequality constraints with only upper bounds:        0\n",
      "\n",
      "iter    objective    inf_pr   inf_du lg(mu)  ||d||  lg(rg) alpha_du alpha_pr  ls\n",
      "   0  0.0000000e+00 4.31e-04 1.00e+00  -1.0 0.00e+00    -  0.00e+00 0.00e+00   0\n",
      "   1  9.1834911e-03 1.67e-04 6.95e-01  -1.7 1.88e-01    -  3.70e-01 6.13e-01h  1\n",
      "   2  2.0512875e-01 9.20e-05 7.51e-01  -1.7 5.44e-01    -  5.68e-01 4.49e-01f  1\n",
      "   3  1.2999319e-01 8.33e-07 5.24e-02  -1.7 9.99e-02    -  9.39e-01 1.00e+00f  1\n",
      "   4  1.7014355e-01 6.52e-07 8.11e-02  -2.5 6.48e-02    -  7.08e-01 1.00e+00f  1\n",
      "   5  1.9790127e-01 5.52e-07 3.76e-02  -3.8 7.46e-02    -  7.27e-01 1.00e+00f  1\n",
      "   6  2.0254270e-01 1.09e-07 7.25e-04  -3.8 4.13e-02    -  1.00e+00 1.00e+00f  1\n",
      "   7  2.0438873e-01 2.55e-08 1.19e-03  -5.7 1.87e-02    -  9.49e-01 1.00e+00f  1\n",
      "   8  2.0444774e-01 3.04e-09 2.35e-05  -5.7 5.98e-03    -  1.00e+00 1.00e+00h  1\n",
      "   9  2.0444293e-01 5.96e-10 4.40e-06  -5.7 2.45e-03    -  1.00e+00 1.00e+00h  1\n",
      "iter    objective    inf_pr   inf_du lg(mu)  ||d||  lg(rg) alpha_du alpha_pr  ls\n",
      "  10  2.0445117e-01 8.38e-11 2.63e-06  -8.6 9.41e-04    -  9.98e-01 1.00e+00h  1\n",
      "  11  2.0445064e-01 1.81e-12 1.32e-08  -8.6 1.35e-04    -  1.00e+00 1.00e+00h  1\n",
      "  12  2.0445063e-01 9.69e-16 7.11e-12  -8.6 3.12e-06    -  1.00e+00 1.00e+00h  1\n",
      "\n",
      "Number of Iterations....: 12\n",
      "\n",
      "                                   (scaled)                 (unscaled)\n",
      "Objective...............:  -2.0445062612640813e-01    2.0445062612640813e-01\n",
      "Dual infeasibility......:   7.1053664722048049e-12    7.1053664722048049e-12\n",
      "Constraint violation....:   9.6884092720706638e-16    9.6884092720706638e-16\n",
      "Variable bound violation:   3.0357426169873646e-09    3.0357426169873646e-09\n",
      "Complementarity.........:   2.5193566353122068e-09    2.5193566353122068e-09\n",
      "Overall NLP error.......:   2.5193566353122068e-09    2.5193566353122068e-09\n",
      "\n",
      "\n",
      "Number of objective function evaluations             = 13\n",
      "Number of objective gradient evaluations             = 13\n",
      "Number of equality constraint evaluations            = 13\n",
      "Number of inequality constraint evaluations          = 0\n",
      "Number of equality constraint Jacobian evaluations   = 13\n",
      "Number of inequality constraint Jacobian evaluations = 0\n",
      "Number of Lagrangian Hessian evaluations             = 12\n",
      "Total seconds in IPOPT                               = 0.000\n",
      "\n",
      "EXIT: Optimal Solution Found.\n",
      "This is Ipopt version 3.14.4, running with linear solver MUMPS 5.4.1.\n",
      "\n",
      "Number of nonzeros in equality constraint Jacobian...:      126\n",
      "Number of nonzeros in inequality constraint Jacobian.:        0\n",
      "Number of nonzeros in Lagrangian Hessian.............:       55\n",
      "\n",
      "Total number of variables............................:       13\n",
      "                     variables with only lower bounds:        0\n",
      "                variables with lower and upper bounds:       10\n",
      "                     variables with only upper bounds:        0\n",
      "Total number of equality constraints.................:        5\n",
      "Total number of inequality constraints...............:        0\n",
      "        inequality constraints with only lower bounds:        0\n",
      "   inequality constraints with lower and upper bounds:        0\n",
      "        inequality constraints with only upper bounds:        0\n",
      "\n",
      "iter    objective    inf_pr   inf_du lg(mu)  ||d||  lg(rg) alpha_du alpha_pr  ls\n",
      "   0  0.0000000e+00 4.01e-04 1.00e+00  -1.0 0.00e+00    -  0.00e+00 0.00e+00   0\n",
      "   1  1.4036999e-02 9.56e-05 7.40e-01  -1.7 1.57e-01    -  4.18e-01 7.62e-01h  1\n",
      "   2  2.0424289e-01 4.29e-05 6.21e-01  -1.7 3.87e-01    -  5.90e-01 5.51e-01f  1\n",
      "   3  1.3788333e-01 8.02e-07 3.82e-02  -1.7 9.74e-02    -  9.48e-01 1.00e+00f  1\n",
      "   4  1.7489256e-01 6.36e-07 5.79e-02  -2.5 5.86e-02    -  8.01e-01 1.00e+00f  1\n",
      "   5  2.0039864e-01 5.99e-07 4.40e-03  -3.8 8.99e-02    -  9.94e-01 1.00e+00f  1\n",
      "   6  2.0302479e-01 1.00e-07 1.37e-03  -3.8 3.50e-02    -  1.00e+00 1.00e+00f  1\n",
      "   7  2.0414000e-01 1.15e-08 5.18e-04  -5.7 1.04e-02    -  9.82e-01 1.00e+00f  1\n",
      "   8  2.0423472e-01 2.59e-10 3.71e-06  -5.7 9.95e-04    -  1.00e+00 1.00e+00h  1\n",
      "   9  2.0424841e-01 1.75e-12 2.69e-08  -8.6 1.01e-04    -  1.00e+00 1.00e+00h  1\n",
      "iter    objective    inf_pr   inf_du lg(mu)  ||d||  lg(rg) alpha_du alpha_pr  ls\n",
      "  10  2.0424844e-01 2.22e-16 2.69e-13  -9.0 3.59e-07    -  1.00e+00 1.00e+00h  1\n",
      "\n",
      "Number of Iterations....: 10\n",
      "\n",
      "                                   (scaled)                 (unscaled)\n",
      "Objective...............:  -2.0424843618834251e-01    2.0424843618834251e-01\n",
      "Dual infeasibility......:   2.6903358975940120e-13    2.6903358975940120e-13\n",
      "Constraint violation....:   2.2204460492503131e-16    2.2204460492503131e-16\n",
      "Variable bound violation:   6.9773802476988297e-09    6.9773802476988297e-09\n",
      "Complementarity.........:   9.0938020023450796e-10    9.0938020023450796e-10\n",
      "Overall NLP error.......:   9.0938020023450796e-10    9.0938020023450796e-10\n",
      "\n",
      "\n",
      "Number of objective function evaluations             = 11\n",
      "Number of objective gradient evaluations             = 11\n",
      "Number of equality constraint evaluations            = 11\n",
      "Number of inequality constraint evaluations          = 0\n",
      "Number of equality constraint Jacobian evaluations   = 11\n",
      "Number of inequality constraint Jacobian evaluations = 0\n",
      "Number of Lagrangian Hessian evaluations             = 10\n",
      "Total seconds in IPOPT                               = 0.006\n",
      "\n",
      "EXIT: Optimal Solution Found.\n",
      "This is Ipopt version 3.14.4, running with linear solver MUMPS 5.4.1.\n",
      "\n",
      "Number of nonzeros in equality constraint Jacobian...:      126\n",
      "Number of nonzeros in inequality constraint Jacobian.:        0\n",
      "Number of nonzeros in Lagrangian Hessian.............:       55\n",
      "\n",
      "Total number of variables............................:       13\n",
      "                     variables with only lower bounds:        0\n",
      "                variables with lower and upper bounds:       10\n",
      "                     variables with only upper bounds:        0\n",
      "Total number of equality constraints.................:        5\n",
      "Total number of inequality constraints...............:        0\n",
      "        inequality constraints with only lower bounds:        0\n",
      "   inequality constraints with lower and upper bounds:        0\n",
      "        inequality constraints with only upper bounds:        0\n",
      "\n",
      "iter    objective    inf_pr   inf_du lg(mu)  ||d||  lg(rg) alpha_du alpha_pr  ls\n",
      "   0  0.0000000e+00 3.71e-04 1.00e+00  -1.0 0.00e+00    -  0.00e+00 0.00e+00   0\n",
      "   1  2.1878781e-02 1.82e-06 7.88e-01  -1.7 1.26e-01    -  4.81e-01 1.00e+00h  1\n",
      "   2  2.0426698e-01 8.10e-06 5.07e-01  -1.7 2.47e-01    -  6.56e-01 7.39e-01f  1\n",
      "   3  1.8252212e-01 1.23e-06 1.71e-01  -2.5 1.37e-01    -  5.96e-01 1.00e+00h  1\n",
      "   4  1.8355802e-01 1.55e-07 9.37e-04  -2.5 4.65e-02    -  1.00e+00 1.00e+00h  1\n",
      "   5  1.9620164e-01 2.49e-07 1.31e-02  -3.8 5.33e-02    -  8.85e-01 1.00e+00f  1\n",
      "   6  1.9716170e-01 2.96e-08 5.09e-04  -3.8 1.23e-02    -  1.00e+00 1.00e+00h  1\n",
      "   7  1.9820251e-01 9.65e-09 7.04e-04  -5.7 6.87e-03    -  9.70e-01 1.00e+00f  1\n",
      "   8  1.9827370e-01 7.76e-10 1.33e-05  -5.7 1.77e-03    -  1.00e+00 1.00e+00h  1\n",
      "   9  1.9829132e-01 8.18e-11 3.82e-06  -8.6 7.33e-04    -  9.99e-01 1.00e+00h  1\n",
      "iter    objective    inf_pr   inf_du lg(mu)  ||d||  lg(rg) alpha_du alpha_pr  ls\n",
      "  10  1.9829201e-01 1.28e-12 1.77e-08  -8.6 9.92e-05    -  1.00e+00 1.00e+00h  1\n",
      "  11  1.9829203e-01 4.73e-16 6.64e-12  -9.0 1.89e-06    -  1.00e+00 1.00e+00h  1\n",
      "\n",
      "Number of Iterations....: 11\n",
      "\n",
      "                                   (scaled)                 (unscaled)\n",
      "Objective...............:  -1.9829202642685212e-01    1.9829202642685212e-01\n",
      "Dual infeasibility......:   6.6437361695848734e-12    6.6437361695848734e-12\n",
      "Constraint violation....:   4.7317430955552556e-16    4.7317430955552556e-16\n",
      "Variable bound violation:   5.8703314383087090e-09    5.8703314383087090e-09\n",
      "Complementarity.........:   9.1705279760406444e-10    9.1705279760406444e-10\n",
      "Overall NLP error.......:   9.1705279760406444e-10    9.1705279760406444e-10\n",
      "\n",
      "\n",
      "Number of objective function evaluations             = 12\n",
      "Number of objective gradient evaluations             = 12\n",
      "Number of equality constraint evaluations            = 12\n",
      "Number of inequality constraint evaluations          = 0\n",
      "Number of equality constraint Jacobian evaluations   = 12\n",
      "Number of inequality constraint Jacobian evaluations = 0\n",
      "Number of Lagrangian Hessian evaluations             = 11\n",
      "Total seconds in IPOPT                               = 0.010\n",
      "\n",
      "EXIT: Optimal Solution Found.\n",
      "This is Ipopt version 3.14.4, running with linear solver MUMPS 5.4.1.\n",
      "\n",
      "Number of nonzeros in equality constraint Jacobian...:      126\n",
      "Number of nonzeros in inequality constraint Jacobian.:        0\n",
      "Number of nonzeros in Lagrangian Hessian.............:       55\n",
      "\n",
      "Total number of variables............................:       13\n",
      "                     variables with only lower bounds:        0\n",
      "                variables with lower and upper bounds:       10\n",
      "                     variables with only upper bounds:        0\n",
      "Total number of equality constraints.................:        5\n",
      "Total number of inequality constraints...............:        0\n",
      "        inequality constraints with only lower bounds:        0\n",
      "   inequality constraints with lower and upper bounds:        0\n",
      "        inequality constraints with only upper bounds:        0\n",
      "\n",
      "iter    objective    inf_pr   inf_du lg(mu)  ||d||  lg(rg) alpha_du alpha_pr  ls\n",
      "   0  0.0000000e+00 3.41e-04 1.00e+00  -1.0 0.00e+00    -  0.00e+00 0.00e+00   0\n",
      "   1  2.5325865e-02 7.89e-07 4.15e-01  -1.7 9.50e-02    -  5.66e-01 1.00e+00h  1\n",
      "   2  1.7143420e-01 4.97e-06 2.82e-01  -1.7 1.46e-01    -  8.34e-01 1.00e+00f  1\n",
      "   3  1.7440045e-01 1.24e-06 8.79e-03  -2.5 1.49e-01    -  9.82e-01 1.00e+00h  1\n",
      "   4  1.8361270e-01 4.99e-07 2.96e-02  -3.8 7.57e-02    -  8.23e-01 1.00e+00f  1\n",
      "   5  1.8345546e-01 7.65e-08 1.63e-03  -3.8 1.84e-02    -  1.00e+00 1.00e+00h  1\n",
      "   6  1.8450684e-01 2.06e-08 3.50e-03  -5.7 9.19e-03    -  9.07e-01 1.00e+00f  1\n",
      "   7  1.8469209e-01 2.22e-09 2.15e-05  -5.7 4.45e-03    -  1.00e+00 1.00e+00h  1\n",
      "   8  1.8471775e-01 1.35e-10 1.85e-06  -5.7 1.25e-03    -  1.00e+00 1.00e+00h  1\n",
      "   9  1.8472820e-01 4.28e-12 1.87e-06  -8.6 1.94e-04    -  9.96e-01 1.00e+00h  1\n",
      "iter    objective    inf_pr   inf_du lg(mu)  ||d||  lg(rg) alpha_du alpha_pr  ls\n",
      "  10  1.8472825e-01 9.90e-16 1.14e-11  -8.6 3.53e-06    -  1.00e+00 1.00e+00h  1\n",
      "\n",
      "Number of Iterations....: 10\n",
      "\n",
      "                                   (scaled)                 (unscaled)\n",
      "Objective...............:  -1.8472825470789456e-01    1.8472825470789456e-01\n",
      "Dual infeasibility......:   1.1383767597139229e-11    1.1383767597139229e-11\n",
      "Constraint violation....:   9.9025711303081954e-16    9.9025711303081954e-16\n",
      "Variable bound violation:   0.0000000000000000e+00    0.0000000000000000e+00\n",
      "Complementarity.........:   2.5293229869747953e-09    2.5293229869747953e-09\n",
      "Overall NLP error.......:   2.5293229869747953e-09    2.5293229869747953e-09\n",
      "\n",
      "\n",
      "Number of objective function evaluations             = 11\n",
      "Number of objective gradient evaluations             = 11\n",
      "Number of equality constraint evaluations            = 11\n",
      "Number of inequality constraint evaluations          = 0\n",
      "Number of equality constraint Jacobian evaluations   = 11\n",
      "Number of inequality constraint Jacobian evaluations = 0\n",
      "Number of Lagrangian Hessian evaluations             = 10\n",
      "Total seconds in IPOPT                               = 0.016\n",
      "\n",
      "EXIT: Optimal Solution Found.\n",
      "This is Ipopt version 3.14.4, running with linear solver MUMPS 5.4.1.\n",
      "\n",
      "Number of nonzeros in equality constraint Jacobian...:      126\n",
      "Number of nonzeros in inequality constraint Jacobian.:        0\n",
      "Number of nonzeros in Lagrangian Hessian.............:       55\n",
      "\n",
      "Total number of variables............................:       13\n",
      "                     variables with only lower bounds:        0\n",
      "                variables with lower and upper bounds:       10\n",
      "                     variables with only upper bounds:        0\n",
      "Total number of equality constraints.................:        5\n",
      "Total number of inequality constraints...............:        0\n",
      "        inequality constraints with only lower bounds:        0\n",
      "   inequality constraints with lower and upper bounds:        0\n",
      "        inequality constraints with only upper bounds:        0\n",
      "\n",
      "iter    objective    inf_pr   inf_du lg(mu)  ||d||  lg(rg) alpha_du alpha_pr  ls\n",
      "   0  0.0000000e+00 3.11e-04 1.00e+00  -1.0 0.00e+00    -  0.00e+00 0.00e+00   0\n",
      "   1  2.8772948e-02 4.38e-07 1.78e-01  -1.7 6.41e-02    -  6.87e-01 1.00e+00h  1\n",
      "   2  1.2817500e-01 2.30e-06 1.29e-01  -1.7 9.94e-02    -  9.36e-01 1.00e+00f  1\n",
      "   3  1.5764695e-01 1.29e-06 7.24e-03  -2.5 1.49e-01    -  1.00e+00 1.00e+00f  1\n",
      "   4  1.6288379e-01 5.04e-07 3.22e-02  -3.8 6.76e-02    -  8.53e-01 1.00e+00f  1\n",
      "   5  1.6103798e-01 7.77e-08 2.30e-03  -3.8 1.91e-02    -  1.00e+00 1.00e+00h  1\n",
      "   6  1.6165577e-01 1.77e-08 6.27e-03  -5.7 7.61e-03    -  7.87e-01 1.00e+00f  1\n",
      "   7  1.6187316e-01 2.17e-09 1.97e-03  -5.7 5.09e-03    -  8.32e-01 1.00e+00f  1\n",
      "   8  1.6192290e-01 2.08e-10 2.68e-06  -5.7 1.33e-03    -  1.00e+00 1.00e+00h  1\n",
      "   9  1.6193559e-01 8.85e-12 2.97e-06  -8.6 2.44e-04    -  9.94e-01 1.00e+00h  1\n",
      "iter    objective    inf_pr   inf_du lg(mu)  ||d||  lg(rg) alpha_du alpha_pr  ls\n",
      "  10  1.6193570e-01 3.17e-15 4.26e-11  -8.6 5.23e-06    -  1.00e+00 1.00e+00h  1\n",
      "\n",
      "Number of Iterations....: 10\n",
      "\n",
      "                                   (scaled)                 (unscaled)\n",
      "Objective...............:  -1.6193570316036324e-01    1.6193570316036324e-01\n",
      "Dual infeasibility......:   4.2563561745019852e-11    4.2563561745019852e-11\n",
      "Constraint violation....:   3.1661164067288503e-15    3.1661164067288503e-15\n",
      "Variable bound violation:   0.0000000000000000e+00    0.0000000000000000e+00\n",
      "Complementarity.........:   2.5714655519928707e-09    2.5714655519928707e-09\n",
      "Overall NLP error.......:   2.5714655519928707e-09    2.5714655519928707e-09\n",
      "\n",
      "\n",
      "Number of objective function evaluations             = 11\n",
      "Number of objective gradient evaluations             = 11\n",
      "Number of equality constraint evaluations            = 11\n",
      "Number of inequality constraint evaluations          = 0\n",
      "Number of equality constraint Jacobian evaluations   = 11\n",
      "Number of inequality constraint Jacobian evaluations = 0\n",
      "Number of Lagrangian Hessian evaluations             = 10\n",
      "Total seconds in IPOPT                               = 0.016\n",
      "\n",
      "EXIT: Optimal Solution Found.\n",
      "This is Ipopt version 3.14.4, running with linear solver MUMPS 5.4.1.\n",
      "\n",
      "Number of nonzeros in equality constraint Jacobian...:      126\n",
      "Number of nonzeros in inequality constraint Jacobian.:        0\n",
      "Number of nonzeros in Lagrangian Hessian.............:       55\n",
      "\n",
      "Total number of variables............................:       13\n",
      "                     variables with only lower bounds:        0\n",
      "                variables with lower and upper bounds:       10\n",
      "                     variables with only upper bounds:        0\n",
      "Total number of equality constraints.................:        5\n",
      "Total number of inequality constraints...............:        0\n",
      "        inequality constraints with only lower bounds:        0\n",
      "   inequality constraints with lower and upper bounds:        0\n",
      "        inequality constraints with only upper bounds:        0\n",
      "\n",
      "iter    objective    inf_pr   inf_du lg(mu)  ||d||  lg(rg) alpha_du alpha_pr  ls\n",
      "   0  0.0000000e+00 2.80e-04 1.00e+00  -1.0 0.00e+00    -  0.00e+00 0.00e+00   0\n",
      "   1  3.2220032e-02 7.71e-07 4.88e-02  -1.7 3.31e-02    -  8.75e-01 1.00e+00f  1\n",
      "   2  1.4443901e-01 3.07e-06 6.61e-02  -2.5 1.78e-01    -  8.39e-01 1.00e+00f  1\n",
      "   3  1.3004959e-01 5.18e-07 1.42e-02  -2.5 6.61e-02    -  1.00e+00 1.00e+00h  1\n",
      "   4  1.3025946e-01 1.70e-07 1.16e-02  -3.8 3.25e-02    -  9.51e-01 1.00e+00h  1\n",
      "   5  1.2980914e-01 1.77e-08 8.95e-03  -5.7 7.85e-03    -  8.15e-01 1.00e+00h  1\n",
      "   6  1.3037224e-01 4.92e-09 6.28e-04  -5.7 1.13e-02    -  9.61e-01 1.00e+00f  1\n",
      "   7  1.3043197e-01 8.05e-10 3.98e-06  -5.7 2.97e-03    -  1.00e+00 1.00e+00h  1\n",
      "   8  1.3043997e-01 1.10e-10 4.38e-07  -5.7 1.14e-03    -  1.00e+00 1.00e+00h  1\n",
      "   9  1.3044651e-01 1.06e-11 9.60e-07  -8.6 3.52e-04    -  9.99e-01 1.00e+00h  1\n",
      "iter    objective    inf_pr   inf_du lg(mu)  ||d||  lg(rg) alpha_du alpha_pr  ls\n",
      "  10  1.3044665e-01 4.61e-14 1.76e-10  -8.6 2.34e-05    -  1.00e+00 1.00e+00h  1\n",
      "\n",
      "Number of Iterations....: 10\n",
      "\n",
      "                                   (scaled)                 (unscaled)\n",
      "Objective...............:  -1.3044664850653645e-01    1.3044664850653645e-01\n",
      "Dual infeasibility......:   1.7621037200606927e-10    1.7621037200606927e-10\n",
      "Constraint violation....:   4.6090615539803740e-14    4.6090615539803740e-14\n",
      "Variable bound violation:   0.0000000000000000e+00    0.0000000000000000e+00\n",
      "Complementarity.........:   3.6236283146941411e-09    3.6236283146941411e-09\n",
      "Overall NLP error.......:   3.6236283146941411e-09    3.6236283146941411e-09\n",
      "\n",
      "\n",
      "Number of objective function evaluations             = 11\n",
      "Number of objective gradient evaluations             = 11\n",
      "Number of equality constraint evaluations            = 11\n",
      "Number of inequality constraint evaluations          = 0\n",
      "Number of equality constraint Jacobian evaluations   = 11\n",
      "Number of inequality constraint Jacobian evaluations = 0\n",
      "Number of Lagrangian Hessian evaluations             = 10\n",
      "Total seconds in IPOPT                               = 0.016\n",
      "\n",
      "EXIT: Optimal Solution Found.\n",
      "This is Ipopt version 3.14.4, running with linear solver MUMPS 5.4.1.\n",
      "\n",
      "Number of nonzeros in equality constraint Jacobian...:      126\n",
      "Number of nonzeros in inequality constraint Jacobian.:        0\n",
      "Number of nonzeros in Lagrangian Hessian.............:       55\n",
      "\n",
      "Total number of variables............................:       13\n",
      "                     variables with only lower bounds:        0\n",
      "                variables with lower and upper bounds:       10\n",
      "                     variables with only upper bounds:        0\n",
      "Total number of equality constraints.................:        5\n",
      "Total number of inequality constraints...............:        0\n",
      "        inequality constraints with only lower bounds:        0\n",
      "   inequality constraints with lower and upper bounds:        0\n",
      "        inequality constraints with only upper bounds:        0\n",
      "\n",
      "iter    objective    inf_pr   inf_du lg(mu)  ||d||  lg(rg) alpha_du alpha_pr  ls\n",
      "   0  0.0000000e+00 2.64e-04 1.00e+00  -1.0 0.00e+00    -  0.00e+00 0.00e+00   0\n",
      "   1  3.5667115e-02 1.79e-06 1.49e-01  -1.7 5.02e-02    -  7.60e-01 1.00e+00f  1\n",
      "   2  7.2416535e-02 9.68e-07 1.12e-02  -1.7 1.22e-01    -  1.00e+00 1.00e+00f  1\n",
      "   3  8.9718002e-02 5.61e-07 4.26e-02  -2.5 7.01e-02    -  8.49e-01 1.00e+00f  1\n",
      "   4  9.4223529e-02 3.07e-07 9.24e-03  -3.8 5.35e-02    -  9.74e-01 1.00e+00f  1\n",
      "   5  9.2741352e-02 4.56e-08 5.02e-04  -3.8 2.13e-02    -  1.00e+00 1.00e+00h  1\n",
      "   6  9.3333826e-02 1.18e-08 4.83e-03  -5.7 1.96e-02    -  7.55e-01 1.00e+00f  1\n",
      "   7  9.3397897e-02 1.53e-09 1.22e-05  -5.7 3.52e-03    -  1.00e+00 1.00e+00h  1\n",
      "   8  9.3417199e-02 4.12e-10 2.37e-06  -5.7 2.15e-03    -  1.00e+00 1.00e+00h  1\n",
      "   9  9.3419631e-02 9.71e-11 1.51e-05  -8.6 1.07e-03    -  9.94e-01 1.00e+00h  1\n",
      "iter    objective    inf_pr   inf_du lg(mu)  ||d||  lg(rg) alpha_du alpha_pr  ls\n",
      "  10  9.3418808e-02 1.29e-11 5.88e-08  -8.6 3.91e-04    -  1.00e+00 1.00e+00h  1\n",
      "  11  9.3418655e-02 4.32e-13 1.97e-09  -8.6 7.16e-05    -  1.00e+00 1.00e+00h  1\n",
      "  12  9.3418653e-02 7.00e-16 3.35e-12  -9.0 2.88e-06    -  1.00e+00 1.00e+00h  1\n",
      "\n",
      "Number of Iterations....: 12\n",
      "\n",
      "                                   (scaled)                 (unscaled)\n",
      "Objective...............:  -9.3418653222092668e-02    9.3418653222092668e-02\n",
      "Dual infeasibility......:   3.3459179699865035e-12    3.3459179699865035e-12\n",
      "Constraint violation....:   6.9950140718275620e-16    6.9950140718275620e-16\n",
      "Variable bound violation:   0.0000000000000000e+00    0.0000000000000000e+00\n",
      "Complementarity.........:   9.2691757431920264e-10    9.2691757431920264e-10\n",
      "Overall NLP error.......:   9.2691757431920264e-10    9.2691757431920264e-10\n",
      "\n",
      "\n",
      "Number of objective function evaluations             = 13\n",
      "Number of objective gradient evaluations             = 13\n",
      "Number of equality constraint evaluations            = 13\n",
      "Number of inequality constraint evaluations          = 0\n",
      "Number of equality constraint Jacobian evaluations   = 13\n",
      "Number of inequality constraint Jacobian evaluations = 0\n",
      "Number of Lagrangian Hessian evaluations             = 12\n",
      "Total seconds in IPOPT                               = 0.016\n",
      "\n",
      "EXIT: Optimal Solution Found.\n",
      "This is Ipopt version 3.14.4, running with linear solver MUMPS 5.4.1.\n",
      "\n",
      "Number of nonzeros in equality constraint Jacobian...:      126\n",
      "Number of nonzeros in inequality constraint Jacobian.:        0\n",
      "Number of nonzeros in Lagrangian Hessian.............:       55\n",
      "\n",
      "Total number of variables............................:       13\n",
      "                     variables with only lower bounds:        0\n",
      "                variables with lower and upper bounds:       10\n",
      "                     variables with only upper bounds:        0\n",
      "Total number of equality constraints.................:        5\n",
      "Total number of inequality constraints...............:        0\n",
      "        inequality constraints with only lower bounds:        0\n",
      "   inequality constraints with lower and upper bounds:        0\n",
      "        inequality constraints with only upper bounds:        0\n",
      "\n",
      "iter    objective    inf_pr   inf_du lg(mu)  ||d||  lg(rg) alpha_du alpha_pr  ls\n",
      "   0  0.0000000e+00 2.64e-04 1.00e+00  -1.0 0.00e+00    -  0.00e+00 0.00e+00   0\n",
      "   1  3.9114199e-02 3.48e-06 3.32e-01  -1.7 6.83e-02    -  6.68e-01 1.00e+00f  1\n",
      "   2  2.9739547e-02 5.20e-07 1.95e-02  -1.7 8.85e-02    -  1.00e+00 1.00e+00h  1\n",
      "   3  4.6381796e-02 4.10e-07 3.83e-02  -2.5 6.88e-02    -  8.52e-01 1.00e+00f  1\n",
      "   4  5.1887255e-02 2.92e-07 3.26e-03  -3.8 5.58e-02    -  9.86e-01 1.00e+00f  1\n",
      "   5  4.9706639e-02 3.69e-08 4.69e-04  -3.8 1.84e-02    -  1.00e+00 1.00e+00h  1\n",
      "   6  4.9923265e-02 1.18e-08 6.11e-03  -5.7 2.18e-02    -  7.01e-01 1.00e+00h  1\n",
      "   7  4.9930060e-02 1.95e-09 1.02e-04  -5.7 8.97e-03    -  9.94e-01 1.00e+00h  1\n",
      "   8  4.9958522e-02 4.03e-10 5.81e-06  -5.7 4.25e-03    -  1.00e+00 1.00e+00h  1\n",
      "   9  4.9965213e-02 2.67e-11 1.46e-05  -8.6 1.21e-03    -  9.86e-01 1.00e+00h  1\n",
      "iter    objective    inf_pr   inf_du lg(mu)  ||d||  lg(rg) alpha_du alpha_pr  ls\n",
      "  10  4.9965569e-02 9.94e-14 1.55e-09  -8.6 7.86e-05    -  1.00e+00 1.00e+00h  1\n",
      "\n",
      "Number of Iterations....: 10\n",
      "\n",
      "                                   (scaled)                 (unscaled)\n",
      "Objective...............:  -4.9965569270074020e-02    4.9965569270074020e-02\n",
      "Dual infeasibility......:   1.5476796612306143e-09    1.5476796612306143e-09\n",
      "Constraint violation....:   9.9412663481958504e-14    9.9412663481958504e-14\n",
      "Variable bound violation:   0.0000000000000000e+00    0.0000000000000000e+00\n",
      "Complementarity.........:   4.2835680170170732e-09    4.2835680170170732e-09\n",
      "Overall NLP error.......:   4.2835680170170732e-09    4.2835680170170732e-09\n",
      "\n",
      "\n",
      "Number of objective function evaluations             = 11\n",
      "Number of objective gradient evaluations             = 11\n",
      "Number of equality constraint evaluations            = 11\n",
      "Number of inequality constraint evaluations          = 0\n",
      "Number of equality constraint Jacobian evaluations   = 11\n",
      "Number of inequality constraint Jacobian evaluations = 0\n",
      "Number of Lagrangian Hessian evaluations             = 10\n",
      "Total seconds in IPOPT                               = 0.016\n",
      "\n",
      "EXIT: Optimal Solution Found.\n"
     ]
    },
    {
     "data": {
      "text/plain": [
       "OPTIMAL::TerminationStatusCode = 1"
      ]
     },
     "execution_count": 69,
     "metadata": {},
     "output_type": "execute_result"
    }
   ],
   "source": [
    "optimize!(m, method = NBI(false))"
   ]
  },
  {
   "cell_type": "code",
   "execution_count": 70,
   "id": "5180b933",
   "metadata": {},
   "outputs": [
    {
     "data": {
      "image/png": "[encoded data removed]"
     },
     "execution_count": 70,
     "metadata": {},
     "output_type": "execute_result"
    },
    {
     "name": "stderr",
     "output_type": "stream",
     "text": [
      "sys:1: UserWarning: No data for colormapping provided via 'c'. Parameters 'vmin', 'vmax' will be ignored\r\n"
     ]
    }
   ],
   "source": [
    "pyplot()\n",
    "pltnbi = Plots.plot(md)\n"
   ]
  },
  {
   "cell_type": "code",
   "execution_count": null,
   "id": "7a732001",
   "metadata": {},
   "outputs": [],
   "source": []
  }
 ],
 "metadata": {
  "kernelspec": {
   "display_name": "Julia 1.8.3",
   "language": "julia",
   "name": "julia-1.8"
  },
  "language_info": {
   "file_extension": ".jl",
   "mimetype": "application/julia",
   "name": "julia",
   "version": "1.8.3"
  }
 },
 "nbformat": 4,
 "nbformat_minor": 5
}
