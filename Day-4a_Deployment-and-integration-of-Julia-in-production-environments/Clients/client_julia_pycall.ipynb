{
 "cells": [
  {
   "cell_type": "code",
   "execution_count": 2,
   "id": "f93a9622",
   "metadata": {},
   "outputs": [
    {
     "name": "stdout",
     "output_type": "stream",
     "text": [
      "\u001b[36m\u001b[1mProject\u001b[22m\u001b[39m MIT_18S097 v0.1.0\n",
      "\u001b[32m\u001b[1mStatus\u001b[22m\u001b[39m `~/Desktop/MIT_18.S097_Introduction-to-Julia-for-Data-Science/Project.toml`\n",
      " \u001b[90m [fbb218c0] \u001b[39mBSON v0.3.6\n",
      " \u001b[90m [6e4b80f9] \u001b[39mBenchmarkTools v1.3.2\n",
      " \u001b[90m [024491cd] \u001b[39mBetaML v0.9.5\n",
      " \u001b[90m [336ed68f] \u001b[39mCSV v0.10.9\n",
      " \u001b[90m [49dc2e85] \u001b[39mCalculus v0.5.1\n",
      " \u001b[90m [324d7699] \u001b[39mCategoricalArrays v0.10.7\n",
      " \u001b[90m [8f4d0f93] \u001b[39mConda v1.7.0\n",
      " \u001b[90m [d58978e5] \u001b[39mDagger v0.16.3\n",
      " \u001b[90m [a93c6f00] \u001b[39mDataFrames v1.4.4\n",
      " \u001b[90m [1313f7d8] \u001b[39mDataFramesMeta v0.12.0\n",
      " \u001b[90m [31c24e10] \u001b[39mDistributions v0.25.79\n",
      " \u001b[90m [f6006082] \u001b[39mEvoTrees v0.14.6\n",
      " \u001b[90m [587475ba] \u001b[39mFlux v0.13.11\n",
      " \u001b[90m [da1fdf0e] \u001b[39mFreqTables v0.4.5\n",
      " \u001b[90m [38e38edf] \u001b[39mGLM v1.8.1\n",
      " \u001b[90m [c43c736e] \u001b[39mGenie v5.13.0\n",
      " \u001b[90m [86223c79] \u001b[39mGraphs v1.7.4\n",
      " \u001b[90m [cd3eb016] \u001b[39mHTTP v1.6.3\n",
      " \u001b[90m [87dc4568] \u001b[39mHiGHS v1.4.1\n",
      " \u001b[90m [7073ff75] \u001b[39mIJulia v1.24.0\n",
      " \u001b[90m [b6b21f68] \u001b[39mIpopt v1.1.0\n",
      " \u001b[90m [682c06a0] \u001b[39mJSON v0.21.3\n",
      " \u001b[90m [0f8b85d8] \u001b[39mJSON3 v1.12.0\n",
      " \u001b[90m [4076af6c] \u001b[39mJuMP v1.6.0\n",
      " \u001b[90m [add582a8] \u001b[39mMLJ v0.19.1\n",
      " \u001b[90m [c6f25543] \u001b[39mMLJDecisionTreeInterface v0.3.0\n",
      " \u001b[90m [f6097e2c] \u001b[39mMultiJuMP v0.6.1\n",
      " \u001b[90m [2dcacdae] \u001b[39mParallelDataTransfer v0.5.0\n",
      " \u001b[90m [d96e819e] \u001b[39mParameters v0.12.3\n",
      " \u001b[90m [98572fba] \u001b[39mParquet2 v0.2.5\n",
      " \u001b[90m [91a5bcdd] \u001b[39mPlots v1.38.1\n",
      " \u001b[90m [92933f4c] \u001b[39mProgressMeter v1.7.2\n",
      " \u001b[90m [438e738f] \u001b[39mPyCall v1.95.1\n",
      " \u001b[90m [d330b81b] \u001b[39mPyPlot v2.11.0\n",
      " \u001b[90m [2913bbd2] \u001b[39mStatsBase v0.33.21\n",
      " \u001b[90m [8c8f4381] \u001b[39mTravelingSalesmanHeuristics v0.3.3\n",
      " \u001b[90m [9a3f8284] \u001b[39mRandom\n",
      " \u001b[90m [10745b16] \u001b[39mStatistics\n"
     ]
    }
   ],
   "source": [
    "]st"
   ]
  },
  {
   "cell_type": "code",
   "execution_count": 1,
   "id": "afeeed69",
   "metadata": {},
   "outputs": [],
   "source": [
    "using PyCall"
   ]
  },
  {
   "cell_type": "code",
   "execution_count": 3,
   "id": "6fcbad43",
   "metadata": {},
   "outputs": [
    {
     "data": {
      "text/plain": [
       "PyObject <module 'requests' from '/Users/air/.julia/conda/3/lib/python3.10/site-packages/requests/__init__.py'>"
      ]
     },
     "execution_count": 3,
     "metadata": {},
     "output_type": "execute_result"
    }
   ],
   "source": [
    "req = pyimport(\"requests\")"
   ]
  },
  {
   "cell_type": "code",
   "execution_count": 4,
   "id": "2ccc3ac0",
   "metadata": {},
   "outputs": [
    {
     "data": {
      "text/plain": [
       "PyObject <Response [200]>"
      ]
     },
     "execution_count": 4,
     "metadata": {},
     "output_type": "execute_result"
    }
   ],
   "source": [
    "r = req.get(\"http://localhost:8000\")"
   ]
  },
  {
   "cell_type": "code",
   "execution_count": 5,
   "id": "a7f5208d",
   "metadata": {},
   "outputs": [
    {
     "data": {
      "text/plain": [
       "PyObject {'Content-Type': 'application/json; charset=utf-8', 'Server': 'Genie/Julia/1.8.5', 'Transfer-Encoding': 'chunked'}"
      ]
     },
     "execution_count": 5,
     "metadata": {},
     "output_type": "execute_result"
    }
   ],
   "source": [
    "r.headers"
   ]
  },
  {
   "cell_type": "code",
   "execution_count": 6,
   "id": "22758dd1",
   "metadata": {},
   "outputs": [
    {
     "data": {
      "text/plain": [
       "200"
      ]
     },
     "execution_count": 6,
     "metadata": {},
     "output_type": "execute_result"
    }
   ],
   "source": [
    "r.status_code"
   ]
  },
  {
   "cell_type": "code",
   "execution_count": 7,
   "id": "dec9b8bf",
   "metadata": {},
   "outputs": [
    {
     "name": "stdout",
     "output_type": "stream",
     "text": [
      "{\"message\":\"Hello Julia!\"}"
     ]
    }
   ],
   "source": [
    "print(r.text)"
   ]
  },
  {
   "cell_type": "code",
   "execution_count": null,
   "id": "cb1104f5",
   "metadata": {},
   "outputs": [],
   "source": []
  }
 ],
 "metadata": {
  "kernelspec": {
   "display_name": "Julia 1.8.5",
   "language": "julia",
   "name": "julia-1.8"
  },
  "language_info": {
   "file_extension": ".jl",
   "mimetype": "application/julia",
   "name": "julia",
   "version": "1.8.5"
  }
 },
 "nbformat": 4,
 "nbformat_minor": 5
}
