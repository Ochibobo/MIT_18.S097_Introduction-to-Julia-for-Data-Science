{
 "cells": [
  {
   "cell_type": "code",
   "execution_count": 1,
   "id": "afeeed69",
   "metadata": {},
   "outputs": [],
   "source": [
    "using PyCall\n"
   ]
  },
  {
   "cell_type": "code",
   "execution_count": 2,
   "id": "6fcbad43",
   "metadata": {},
   "outputs": [
    {
     "data": {
      "text/plain": [
       "PyObject <module 'requests' from '/Users/air/.julia/conda/3/lib/python3.10/site-packages/requests/__init__.py'>"
      ]
     },
     "execution_count": 2,
     "metadata": {},
     "output_type": "execute_result"
    }
   ],
   "source": [
    "req = pyimport(\"requests\")\n"
   ]
  },
  {
   "cell_type": "code",
   "execution_count": 13,
   "id": "2ccc3ac0",
   "metadata": {},
   "outputs": [
    {
     "data": {
      "text/plain": [
       "PyObject <Response [200]>"
      ]
     },
     "execution_count": 13,
     "metadata": {},
     "output_type": "execute_result"
    }
   ],
   "source": [
    "r = req.get(\"http://localhost:8000\")\n"
   ]
  },
  {
   "cell_type": "code",
   "execution_count": 14,
   "id": "a7f5208d",
   "metadata": {},
   "outputs": [
    {
     "data": {
      "text/plain": [
       "PyObject {'Content-Type': 'application/json; charset=utf-8', 'Server': 'Genie/Julia/1.8.3', 'Transfer-Encoding': 'chunked'}"
      ]
     },
     "execution_count": 14,
     "metadata": {},
     "output_type": "execute_result"
    }
   ],
   "source": [
    "r.headers"
   ]
  },
  {
   "cell_type": "code",
   "execution_count": 15,
   "id": "22758dd1",
   "metadata": {},
   "outputs": [
    {
     "data": {
      "text/plain": [
       "200"
      ]
     },
     "execution_count": 15,
     "metadata": {},
     "output_type": "execute_result"
    }
   ],
   "source": [
    "r.status_code"
   ]
  },
  {
   "cell_type": "code",
   "execution_count": 17,
   "id": "dec9b8bf",
   "metadata": {},
   "outputs": [
    {
     "name": "stdout",
     "output_type": "stream",
     "text": [
      "{\"message\":\"Hello Julia!\"}"
     ]
    }
   ],
   "source": [
    "print(r.text)"
   ]
  },
  {
   "cell_type": "code",
   "execution_count": null,
   "id": "cb1104f5",
   "metadata": {},
   "outputs": [],
   "source": []
  }
 ],
 "metadata": {
  "kernelspec": {
   "display_name": "Julia 1.8.3",
   "language": "julia",
   "name": "julia-1.8"
  },
  "language_info": {
   "file_extension": ".jl",
   "mimetype": "application/julia",
   "name": "julia",
   "version": "1.8.3"
  }
 },
 "nbformat": 4,
 "nbformat_minor": 5
}
