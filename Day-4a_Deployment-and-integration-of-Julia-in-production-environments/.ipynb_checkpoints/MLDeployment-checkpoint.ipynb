{
 "cells": [
  {
   "cell_type": "markdown",
   "id": "958627fe",
   "metadata": {},
   "source": [
    "# Deployment and integration of Julia in production environments\n",
    "\n",
    "### Sebastian Zając\n",
    "\n",
    "\n",
    "\n",
    "The main goal of our part of workshop is show how we can deploy Julia app on production environments. \n",
    " \n",
    "\n",
    "We'll build two simple models (linear regression model and neural network) to predict median house value in the Boston suburbs. \n",
    "\n",
    "\n",
    "In the workshop we will use the dataset from [UCI repository](https://archive.ics.uci.edu/ml/machine-learning-databases/housing/).\n",
    "\n",
    "We use `housing.csv` file that stores the data.\n",
    "\n",
    "Each record of this data base has the following fields:\n",
    "\n",
    "* `CRIM`: per capita crime rate by town\n",
    "* `ZN`: proportion of residential land zoned for lots over 25,000 sq.ft.\n",
    "* `INDUS`: proportion of non-retail business acres per town\n",
    "* `CHAS`: Charles River dummy variable (= 1 if tract bounds river; 0 otherwise)\n",
    "* `NOX`: nitric oxides concentration (parts per 10 million)\n",
    "* `RM`: average number of rooms per dwelling\n",
    "* `AGE`: proportion of owner-occupied units built prior to 1940\n",
    "* `DIS`: weighted distances to five Boston employment centres\n",
    "* `RAD`: index of accessibility to radial highways\n",
    "* `TAX`: full-value property-tax rate per \\$10,000\n",
    "* `PTRATIO`: pupil-teacher ratio by town\n",
    "* `B`: 1000(Bk - 0.63)^2 where Bk is the proportion of blacks by town\n",
    "* `LSTAT`: - \\% lower status of the population\n",
    "* **MEDV**: - Target feature - Median value of owner-occupied homes in \\$1000's\n",
    "\n",
    "After training and evaluation, the model should be deployed to serve the scores and predictions.\n",
    "\n",
    "The model is usually embedded into a bigger application or exposed through a web service. The mentioned solutions need additional logic to properly prepare the input data and return the prediction should be returned to the user in appropriate form.\n",
    "* **JSON-based web service** - JSON payload with input observation is provided to the web service and the JSON with the prediction is returned back"
   ]
  },
  {
   "cell_type": "markdown",
   "id": "792fec2d-aef3-494d-962a-2fb86f0fbc00",
   "metadata": {},
   "source": [
    "## 1. Data preprocessing and model building\n",
    "\n",
    "Model building will be proceed with 3 steps: \n",
    "\n",
    "1. Load data\n",
    "2. Data Preprocessing (normalization)\n",
    "3. Models training"
   ]
  },
  {
   "cell_type": "markdown",
   "id": "8af184ac",
   "metadata": {},
   "source": [
    "#### 1.1 Load data"
   ]
  },
  {
   "cell_type": "code",
   "execution_count": 1,
   "id": "63be191d-12bd-4389-a341-b41e0bb678a0",
   "metadata": {},
   "outputs": [
    {
     "name": "stderr",
     "output_type": "stream",
     "text": [
      "\u001b[36m\u001b[1m[ \u001b[22m\u001b[39m\u001b[36m\u001b[1mInfo: \u001b[22m\u001b[39mPrecompiling CSV [336ed68f-0bac-5ca0-87d4-7b16caf5d00b]\n"
     ]
    }
   ],
   "source": [
    "using CSV"
   ]
  },
  {
   "cell_type": "code",
   "execution_count": 2,
   "id": "dc39ec71",
   "metadata": {},
   "outputs": [],
   "source": [
    "using DataFrames"
   ]
  },
  {
   "cell_type": "code",
   "execution_count": 3,
   "id": "33cad882-6e5a-4336-91ef-65462653cbb6",
   "metadata": {},
   "outputs": [
    {
     "data": {
      "text/html": [
       "<div><div style = \"float: left;\"><span>5×14 DataFrame</span></div><div style = \"clear: both;\"></div></div><div class = \"data-frame\" style = \"overflow-x: scroll;\"><table class = \"data-frame\" style = \"margin-bottom: 6px;\"><thead><tr class = \"header\"><th class = \"rowNumber\" style = \"font-weight: bold; text-align: right;\">Row</th><th style = \"text-align: left;\">CRIM</th><th style = \"text-align: left;\">ZN</th><th style = \"text-align: left;\">INDUS</th><th style = \"text-align: left;\">CHAS</th><th style = \"text-align: left;\">NOX</th><th style = \"text-align: left;\">RM</th><th style = \"text-align: left;\">AGE</th><th style = \"text-align: left;\">DIS</th><th style = \"text-align: left;\">RAD</th><th style = \"text-align: left;\">TAX</th><th style = \"text-align: left;\">PTRATIO</th><th style = \"text-align: left;\">B</th><th style = \"text-align: left;\">LSTAT</th><th style = \"text-align: left;\">MEDV</th></tr><tr class = \"subheader headerLastRow\"><th class = \"rowNumber\" style = \"font-weight: bold; text-align: right;\"></th><th title = \"Float64\" style = \"text-align: left;\">Float64</th><th title = \"Float64\" style = \"text-align: left;\">Float64</th><th title = \"Float64\" style = \"text-align: left;\">Float64</th><th title = \"Float64\" style = \"text-align: left;\">Float64</th><th title = \"Float64\" style = \"text-align: left;\">Float64</th><th title = \"Float64\" style = \"text-align: left;\">Float64</th><th title = \"Float64\" style = \"text-align: left;\">Float64</th><th title = \"Float64\" style = \"text-align: left;\">Float64</th><th title = \"Float64\" style = \"text-align: left;\">Float64</th><th title = \"Float64\" style = \"text-align: left;\">Float64</th><th title = \"Float64\" style = \"text-align: left;\">Float64</th><th title = \"Float64\" style = \"text-align: left;\">Float64</th><th title = \"Float64\" style = \"text-align: left;\">Float64</th><th title = \"Float64\" style = \"text-align: left;\">Float64</th></tr></thead><tbody><tr><td class = \"rowNumber\" style = \"font-weight: bold; text-align: right;\">1</td><td style = \"text-align: right;\">0.00632</td><td style = \"text-align: right;\">18.0</td><td style = \"text-align: right;\">2.31</td><td style = \"text-align: right;\">0.0</td><td style = \"text-align: right;\">0.538</td><td style = \"text-align: right;\">6.575</td><td style = \"text-align: right;\">65.2</td><td style = \"text-align: right;\">4.09</td><td style = \"text-align: right;\">1.0</td><td style = \"text-align: right;\">296.0</td><td style = \"text-align: right;\">15.3</td><td style = \"text-align: right;\">396.9</td><td style = \"text-align: right;\">4.98</td><td style = \"text-align: right;\">24.0</td></tr><tr><td class = \"rowNumber\" style = \"font-weight: bold; text-align: right;\">2</td><td style = \"text-align: right;\">0.02731</td><td style = \"text-align: right;\">0.0</td><td style = \"text-align: right;\">7.07</td><td style = \"text-align: right;\">0.0</td><td style = \"text-align: right;\">0.469</td><td style = \"text-align: right;\">6.421</td><td style = \"text-align: right;\">78.9</td><td style = \"text-align: right;\">4.9671</td><td style = \"text-align: right;\">2.0</td><td style = \"text-align: right;\">242.0</td><td style = \"text-align: right;\">17.8</td><td style = \"text-align: right;\">396.9</td><td style = \"text-align: right;\">9.14</td><td style = \"text-align: right;\">21.6</td></tr><tr><td class = \"rowNumber\" style = \"font-weight: bold; text-align: right;\">3</td><td style = \"text-align: right;\">0.02729</td><td style = \"text-align: right;\">0.0</td><td style = \"text-align: right;\">7.07</td><td style = \"text-align: right;\">0.0</td><td style = \"text-align: right;\">0.469</td><td style = \"text-align: right;\">7.185</td><td style = \"text-align: right;\">61.1</td><td style = \"text-align: right;\">4.9671</td><td style = \"text-align: right;\">2.0</td><td style = \"text-align: right;\">242.0</td><td style = \"text-align: right;\">17.8</td><td style = \"text-align: right;\">392.83</td><td style = \"text-align: right;\">4.03</td><td style = \"text-align: right;\">34.7</td></tr><tr><td class = \"rowNumber\" style = \"font-weight: bold; text-align: right;\">4</td><td style = \"text-align: right;\">0.03237</td><td style = \"text-align: right;\">0.0</td><td style = \"text-align: right;\">2.18</td><td style = \"text-align: right;\">0.0</td><td style = \"text-align: right;\">0.458</td><td style = \"text-align: right;\">6.998</td><td style = \"text-align: right;\">45.8</td><td style = \"text-align: right;\">6.0622</td><td style = \"text-align: right;\">3.0</td><td style = \"text-align: right;\">222.0</td><td style = \"text-align: right;\">18.7</td><td style = \"text-align: right;\">394.63</td><td style = \"text-align: right;\">2.94</td><td style = \"text-align: right;\">33.4</td></tr><tr><td class = \"rowNumber\" style = \"font-weight: bold; text-align: right;\">5</td><td style = \"text-align: right;\">0.06905</td><td style = \"text-align: right;\">0.0</td><td style = \"text-align: right;\">2.18</td><td style = \"text-align: right;\">0.0</td><td style = \"text-align: right;\">0.458</td><td style = \"text-align: right;\">7.147</td><td style = \"text-align: right;\">54.2</td><td style = \"text-align: right;\">6.0622</td><td style = \"text-align: right;\">3.0</td><td style = \"text-align: right;\">222.0</td><td style = \"text-align: right;\">18.7</td><td style = \"text-align: right;\">396.9</td><td style = \"text-align: right;\">5.33</td><td style = \"text-align: right;\">36.2</td></tr></tbody></table></div>"
      ],
      "text/latex": [
       "\\begin{tabular}{r|cccccccccc}\n",
       "\t& CRIM & ZN & INDUS & CHAS & NOX & RM & AGE & DIS & RAD & \\\\\n",
       "\t\\hline\n",
       "\t& Float64 & Float64 & Float64 & Float64 & Float64 & Float64 & Float64 & Float64 & Float64 & \\\\\n",
       "\t\\hline\n",
       "\t1 & 0.00632 & 18.0 & 2.31 & 0.0 & 0.538 & 6.575 & 65.2 & 4.09 & 1.0 & $\\dots$ \\\\\n",
       "\t2 & 0.02731 & 0.0 & 7.07 & 0.0 & 0.469 & 6.421 & 78.9 & 4.9671 & 2.0 & $\\dots$ \\\\\n",
       "\t3 & 0.02729 & 0.0 & 7.07 & 0.0 & 0.469 & 7.185 & 61.1 & 4.9671 & 2.0 & $\\dots$ \\\\\n",
       "\t4 & 0.03237 & 0.0 & 2.18 & 0.0 & 0.458 & 6.998 & 45.8 & 6.0622 & 3.0 & $\\dots$ \\\\\n",
       "\t5 & 0.06905 & 0.0 & 2.18 & 0.0 & 0.458 & 7.147 & 54.2 & 6.0622 & 3.0 & $\\dots$ \\\\\n",
       "\\end{tabular}\n"
      ],
      "text/plain": [
       "\u001b[1m5×14 DataFrame\u001b[0m\n",
       "\u001b[1m Row \u001b[0m│\u001b[1m CRIM    \u001b[0m\u001b[1m ZN      \u001b[0m\u001b[1m INDUS   \u001b[0m\u001b[1m CHAS    \u001b[0m\u001b[1m NOX     \u001b[0m\u001b[1m RM      \u001b[0m\u001b[1m AGE     \u001b[0m\u001b[1m DIS     \u001b[0m\u001b[1m\u001b[0m ⋯\n",
       "     │\u001b[90m Float64 \u001b[0m\u001b[90m Float64 \u001b[0m\u001b[90m Float64 \u001b[0m\u001b[90m Float64 \u001b[0m\u001b[90m Float64 \u001b[0m\u001b[90m Float64 \u001b[0m\u001b[90m Float64 \u001b[0m\u001b[90m Float64 \u001b[0m\u001b[90m\u001b[0m ⋯\n",
       "─────┼──────────────────────────────────────────────────────────────────────────\n",
       "   1 │ 0.00632     18.0     2.31      0.0    0.538    6.575     65.2   4.09    ⋯\n",
       "   2 │ 0.02731      0.0     7.07      0.0    0.469    6.421     78.9   4.9671\n",
       "   3 │ 0.02729      0.0     7.07      0.0    0.469    7.185     61.1   4.9671\n",
       "   4 │ 0.03237      0.0     2.18      0.0    0.458    6.998     45.8   6.0622\n",
       "   5 │ 0.06905      0.0     2.18      0.0    0.458    7.147     54.2   6.0622  ⋯\n",
       "\u001b[36m                                                               6 columns omitted\u001b[0m"
      ]
     },
     "execution_count": 3,
     "metadata": {},
     "output_type": "execute_result"
    }
   ],
   "source": [
    "houses = CSV.read(\"housing.csv\", DataFrame) \n",
    "\n",
    "houses[1:5,:]"
   ]
  },
  {
   "cell_type": "code",
   "execution_count": 4,
   "id": "767da8ee",
   "metadata": {},
   "outputs": [
    {
     "data": {
      "text/html": [
       "<div><div style = \"float: left;\"><span>14×6 DataFrame</span></div><div style = \"clear: both;\"></div></div><div class = \"data-frame\" style = \"overflow-x: scroll;\"><table class = \"data-frame\" style = \"margin-bottom: 6px;\"><thead><tr class = \"header\"><th class = \"rowNumber\" style = \"font-weight: bold; text-align: right;\">Row</th><th style = \"text-align: left;\">variable</th><th style = \"text-align: left;\">min</th><th style = \"text-align: left;\">mean</th><th style = \"text-align: left;\">max</th><th style = \"text-align: left;\">nmissing</th><th style = \"text-align: left;\">eltype</th></tr><tr class = \"subheader headerLastRow\"><th class = \"rowNumber\" style = \"font-weight: bold; text-align: right;\"></th><th title = \"Symbol\" style = \"text-align: left;\">Symbol</th><th title = \"Float64\" style = \"text-align: left;\">Float64</th><th title = \"Float64\" style = \"text-align: left;\">Float64</th><th title = \"Float64\" style = \"text-align: left;\">Float64</th><th title = \"Int64\" style = \"text-align: left;\">Int64</th><th title = \"DataType\" style = \"text-align: left;\">DataType</th></tr></thead><tbody><tr><td class = \"rowNumber\" style = \"font-weight: bold; text-align: right;\">1</td><td style = \"text-align: left;\">CRIM</td><td style = \"text-align: right;\">0.00632</td><td style = \"text-align: right;\">3.61352</td><td style = \"text-align: right;\">88.9762</td><td style = \"text-align: right;\">0</td><td style = \"text-align: left;\">Float64</td></tr><tr><td class = \"rowNumber\" style = \"font-weight: bold; text-align: right;\">2</td><td style = \"text-align: left;\">ZN</td><td style = \"text-align: right;\">0.0</td><td style = \"text-align: right;\">11.3636</td><td style = \"text-align: right;\">100.0</td><td style = \"text-align: right;\">0</td><td style = \"text-align: left;\">Float64</td></tr><tr><td class = \"rowNumber\" style = \"font-weight: bold; text-align: right;\">3</td><td style = \"text-align: left;\">INDUS</td><td style = \"text-align: right;\">0.46</td><td style = \"text-align: right;\">11.1368</td><td style = \"text-align: right;\">27.74</td><td style = \"text-align: right;\">0</td><td style = \"text-align: left;\">Float64</td></tr><tr><td class = \"rowNumber\" style = \"font-weight: bold; text-align: right;\">4</td><td style = \"text-align: left;\">CHAS</td><td style = \"text-align: right;\">0.0</td><td style = \"text-align: right;\">0.06917</td><td style = \"text-align: right;\">1.0</td><td style = \"text-align: right;\">0</td><td style = \"text-align: left;\">Float64</td></tr><tr><td class = \"rowNumber\" style = \"font-weight: bold; text-align: right;\">5</td><td style = \"text-align: left;\">NOX</td><td style = \"text-align: right;\">0.385</td><td style = \"text-align: right;\">0.554695</td><td style = \"text-align: right;\">0.871</td><td style = \"text-align: right;\">0</td><td style = \"text-align: left;\">Float64</td></tr><tr><td class = \"rowNumber\" style = \"font-weight: bold; text-align: right;\">6</td><td style = \"text-align: left;\">RM</td><td style = \"text-align: right;\">3.561</td><td style = \"text-align: right;\">6.28463</td><td style = \"text-align: right;\">8.78</td><td style = \"text-align: right;\">0</td><td style = \"text-align: left;\">Float64</td></tr><tr><td class = \"rowNumber\" style = \"font-weight: bold; text-align: right;\">7</td><td style = \"text-align: left;\">AGE</td><td style = \"text-align: right;\">2.9</td><td style = \"text-align: right;\">68.5749</td><td style = \"text-align: right;\">100.0</td><td style = \"text-align: right;\">0</td><td style = \"text-align: left;\">Float64</td></tr><tr><td class = \"rowNumber\" style = \"font-weight: bold; text-align: right;\">8</td><td style = \"text-align: left;\">DIS</td><td style = \"text-align: right;\">1.1296</td><td style = \"text-align: right;\">3.79504</td><td style = \"text-align: right;\">12.1265</td><td style = \"text-align: right;\">0</td><td style = \"text-align: left;\">Float64</td></tr><tr><td class = \"rowNumber\" style = \"font-weight: bold; text-align: right;\">9</td><td style = \"text-align: left;\">RAD</td><td style = \"text-align: right;\">1.0</td><td style = \"text-align: right;\">9.54941</td><td style = \"text-align: right;\">24.0</td><td style = \"text-align: right;\">0</td><td style = \"text-align: left;\">Float64</td></tr><tr><td class = \"rowNumber\" style = \"font-weight: bold; text-align: right;\">10</td><td style = \"text-align: left;\">TAX</td><td style = \"text-align: right;\">187.0</td><td style = \"text-align: right;\">408.237</td><td style = \"text-align: right;\">711.0</td><td style = \"text-align: right;\">0</td><td style = \"text-align: left;\">Float64</td></tr><tr><td class = \"rowNumber\" style = \"font-weight: bold; text-align: right;\">11</td><td style = \"text-align: left;\">PTRATIO</td><td style = \"text-align: right;\">12.6</td><td style = \"text-align: right;\">18.4555</td><td style = \"text-align: right;\">22.0</td><td style = \"text-align: right;\">0</td><td style = \"text-align: left;\">Float64</td></tr><tr><td class = \"rowNumber\" style = \"font-weight: bold; text-align: right;\">12</td><td style = \"text-align: left;\">B</td><td style = \"text-align: right;\">0.32</td><td style = \"text-align: right;\">356.674</td><td style = \"text-align: right;\">396.9</td><td style = \"text-align: right;\">0</td><td style = \"text-align: left;\">Float64</td></tr><tr><td class = \"rowNumber\" style = \"font-weight: bold; text-align: right;\">13</td><td style = \"text-align: left;\">LSTAT</td><td style = \"text-align: right;\">1.73</td><td style = \"text-align: right;\">12.6531</td><td style = \"text-align: right;\">37.97</td><td style = \"text-align: right;\">0</td><td style = \"text-align: left;\">Float64</td></tr><tr><td class = \"rowNumber\" style = \"font-weight: bold; text-align: right;\">14</td><td style = \"text-align: left;\">MEDV</td><td style = \"text-align: right;\">5.0</td><td style = \"text-align: right;\">22.5328</td><td style = \"text-align: right;\">50.0</td><td style = \"text-align: right;\">0</td><td style = \"text-align: left;\">Float64</td></tr></tbody></table></div>"
      ],
      "text/latex": [
       "\\begin{tabular}{r|cccccc}\n",
       "\t& variable & min & mean & max & nmissing & eltype\\\\\n",
       "\t\\hline\n",
       "\t& Symbol & Float64 & Float64 & Float64 & Int64 & DataType\\\\\n",
       "\t\\hline\n",
       "\t1 & CRIM & 0.00632 & 3.61352 & 88.9762 & 0 & Float64 \\\\\n",
       "\t2 & ZN & 0.0 & 11.3636 & 100.0 & 0 & Float64 \\\\\n",
       "\t3 & INDUS & 0.46 & 11.1368 & 27.74 & 0 & Float64 \\\\\n",
       "\t4 & CHAS & 0.0 & 0.06917 & 1.0 & 0 & Float64 \\\\\n",
       "\t5 & NOX & 0.385 & 0.554695 & 0.871 & 0 & Float64 \\\\\n",
       "\t6 & RM & 3.561 & 6.28463 & 8.78 & 0 & Float64 \\\\\n",
       "\t7 & AGE & 2.9 & 68.5749 & 100.0 & 0 & Float64 \\\\\n",
       "\t8 & DIS & 1.1296 & 3.79504 & 12.1265 & 0 & Float64 \\\\\n",
       "\t9 & RAD & 1.0 & 9.54941 & 24.0 & 0 & Float64 \\\\\n",
       "\t10 & TAX & 187.0 & 408.237 & 711.0 & 0 & Float64 \\\\\n",
       "\t11 & PTRATIO & 12.6 & 18.4555 & 22.0 & 0 & Float64 \\\\\n",
       "\t12 & B & 0.32 & 356.674 & 396.9 & 0 & Float64 \\\\\n",
       "\t13 & LSTAT & 1.73 & 12.6531 & 37.97 & 0 & Float64 \\\\\n",
       "\t14 & MEDV & 5.0 & 22.5328 & 50.0 & 0 & Float64 \\\\\n",
       "\\end{tabular}\n"
      ],
      "text/plain": [
       "\u001b[1m14×6 DataFrame\u001b[0m\n",
       "\u001b[1m Row \u001b[0m│\u001b[1m variable \u001b[0m\u001b[1m min       \u001b[0m\u001b[1m mean       \u001b[0m\u001b[1m max      \u001b[0m\u001b[1m nmissing \u001b[0m\u001b[1m eltype   \u001b[0m\n",
       "     │\u001b[90m Symbol   \u001b[0m\u001b[90m Float64   \u001b[0m\u001b[90m Float64    \u001b[0m\u001b[90m Float64  \u001b[0m\u001b[90m Int64    \u001b[0m\u001b[90m DataType \u001b[0m\n",
       "─────┼───────────────────────────────────────────────────────────────\n",
       "   1 │ CRIM        0.00632    3.61352    88.9762         0  Float64\n",
       "   2 │ ZN          0.0       11.3636    100.0            0  Float64\n",
       "   3 │ INDUS       0.46      11.1368     27.74           0  Float64\n",
       "   4 │ CHAS        0.0        0.06917     1.0            0  Float64\n",
       "   5 │ NOX         0.385      0.554695    0.871          0  Float64\n",
       "   6 │ RM          3.561      6.28463     8.78           0  Float64\n",
       "   7 │ AGE         2.9       68.5749    100.0            0  Float64\n",
       "   8 │ DIS         1.1296     3.79504    12.1265         0  Float64\n",
       "   9 │ RAD         1.0        9.54941    24.0            0  Float64\n",
       "  10 │ TAX       187.0      408.237     711.0            0  Float64\n",
       "  11 │ PTRATIO    12.6       18.4555     22.0            0  Float64\n",
       "  12 │ B           0.32     356.674     396.9            0  Float64\n",
       "  13 │ LSTAT       1.73      12.6531     37.97           0  Float64\n",
       "  14 │ MEDV        5.0       22.5328     50.0            0  Float64"
      ]
     },
     "execution_count": 4,
     "metadata": {},
     "output_type": "execute_result"
    }
   ],
   "source": [
    "describe(houses, :min, :mean, :max, :nmissing, :eltype)"
   ]
  },
  {
   "cell_type": "code",
   "execution_count": 5,
   "id": "847e5856",
   "metadata": {},
   "outputs": [
    {
     "data": {
      "text/plain": [
       "14-element Vector{String}:\n",
       " \"CRIM\"\n",
       " \"ZN\"\n",
       " \"INDUS\"\n",
       " \"CHAS\"\n",
       " \"NOX\"\n",
       " \"RM\"\n",
       " \"AGE\"\n",
       " \"DIS\"\n",
       " \"RAD\"\n",
       " \"TAX\"\n",
       " \"PTRATIO\"\n",
       " \"B\"\n",
       " \"LSTAT\"\n",
       " \"MEDV\""
      ]
     },
     "execution_count": 5,
     "metadata": {},
     "output_type": "execute_result"
    }
   ],
   "source": [
    "# check names of our features\n",
    "names(houses)"
   ]
  },
  {
   "cell_type": "markdown",
   "id": "772c1fad",
   "metadata": {},
   "source": [
    "#### 1.2 Data pipeline"
   ]
  },
  {
   "cell_type": "code",
   "execution_count": null,
   "id": "d9876236",
   "metadata": {},
   "outputs": [],
   "source": [
    "# not defined how to do it yet"
   ]
  },
  {
   "cell_type": "markdown",
   "id": "20548a5e",
   "metadata": {},
   "source": [
    "### Let's create simple linear regression model \n",
    "\n",
    "More info about linear regression You can find in Day_2a_Classical_predictive_model"
   ]
  },
  {
   "cell_type": "code",
   "execution_count": 6,
   "id": "561746eb-6a35-4a39-83b2-dc4a55794234",
   "metadata": {},
   "outputs": [
    {
     "data": {
      "text/plain": [
       "StatsModels.TableRegressionModel{LinearModel{GLM.LmResp{Vector{Float64}}, GLM.DensePredChol{Float64, LinearAlgebra.CholeskyPivoted{Float64, Matrix{Float64}, Vector{Int32}}}}, Matrix{Float64}}\n",
       "\n",
       "MEDV ~ 1 + CRIM + INDUS + CHAS + RM + AGE + DIS + TAX + LSTAT\n",
       "\n",
       "Coefficients:\n",
       "─────────────────────────────────────────────────────────────────────────────────\n",
       "                   Coef.  Std. Error       t  Pr(>|t|)    Lower 95%     Upper 95%\n",
       "─────────────────────────────────────────────────────────────────────────────────\n",
       "(Intercept)   8.93642     3.47595       2.57    0.0104   2.10704     15.7658\n",
       "CRIM         -0.077255    0.0343622    -2.25    0.0250  -0.144768    -0.00974194\n",
       "INDUS        -0.156351    0.0626433    -2.50    0.0129  -0.27943     -0.033273\n",
       "CHAS          3.65623     0.934083      3.91    0.0001   1.82099      5.49147\n",
       "RM            4.77929     0.436726     10.94    <1e-24   3.92124      5.63735\n",
       "AGE          -0.023582    0.0138332    -1.70    0.0889  -0.0507608    0.00359671\n",
       "DIS          -1.05651     0.187971     -5.62    <1e-07  -1.42583     -0.687198\n",
       "TAX          -0.00487726  0.00225365   -2.16    0.0309  -0.00930512  -0.000449401\n",
       "LSTAT        -0.55753     0.0546867   -10.19    <1e-21  -0.664976    -0.450085\n",
       "─────────────────────────────────────────────────────────────────────────────────"
      ]
     },
     "execution_count": 6,
     "metadata": {},
     "output_type": "execute_result"
    }
   ],
   "source": [
    "using GLM\n",
    "\n",
    "# simple linear regression model\n",
    "\n",
    "model_specification = @formula(MEDV ~ CRIM + INDUS + CHAS + RM + AGE + DIS + TAX + LSTAT)\n",
    "linear_model = lm(model_specification, houses)"
   ]
  },
  {
   "cell_type": "code",
   "execution_count": 7,
   "id": "e1ec697f",
   "metadata": {},
   "outputs": [
    {
     "data": {
      "text/plain": [
       "2-element Vector{Union{Missing, Float64}}:\n",
       " 29.919737211857885\n",
       " 25.13217586404559"
      ]
     },
     "execution_count": 7,
     "metadata": {},
     "output_type": "execute_result"
    }
   ],
   "source": [
    "# take a first two row of data\n",
    "test_prediction = houses[1:2, [:CRIM, :INDUS, :CHAS, :RM, :AGE, :DIS, :TAX, :LSTAT]]\n",
    "\n",
    "# predict value for this rows\n",
    "predict(linear_model, test_prediction)"
   ]
  },
  {
   "cell_type": "code",
   "execution_count": 9,
   "id": "e6eaecfe",
   "metadata": {},
   "outputs": [
    {
     "data": {
      "text/plain": [
       "Dict{String, Float64} with 8 entries:\n",
       "  \"DIS\"   => 3.02\n",
       "  \"CHAS\"  => 0.0\n",
       "  \"CRIM\"  => 0.00532\n",
       "  \"INDUS\" => 1.51\n",
       "  \"RM\"    => 4.53\n",
       "  \"AGE\"   => 40.2\n",
       "  \"TAX\"   => 296.0\n",
       "  \"LSTAT\" => 4.98"
      ]
     },
     "execution_count": 9,
     "metadata": {},
     "output_type": "execute_result"
    }
   ],
   "source": [
    "test_dict = Dict(\"DIS\" => 3.02,\"CRIM\" => 0.00532,\"INDUS\" => 1.51,\"RM\" => 4.53,\"AGE\" => 40.2,\"CHAS\" => 0.0,\"TAX\" => 296.0,\"LSTAT\" => 4.98)"
   ]
  },
  {
   "cell_type": "code",
   "execution_count": 11,
   "id": "c176f661",
   "metadata": {},
   "outputs": [
    {
     "data": {
      "text/plain": [
       "1-element Vector{Union{Missing, Float64}}:\n",
       " 21.99126461065233"
      ]
     },
     "execution_count": 11,
     "metadata": {},
     "output_type": "execute_result"
    }
   ],
   "source": [
    "predict(linear_model, DataFrame(test_dict))"
   ]
  },
  {
   "cell_type": "markdown",
   "id": "0a9f72fb",
   "metadata": {},
   "source": [
    ">> Let's think - how You can use Your great model on your n"
   ]
  },
  {
   "cell_type": "code",
   "execution_count": null,
   "id": "fe87c15b-1d21-4e12-9d72-0d20519d6a9c",
   "metadata": {},
   "outputs": [],
   "source": [
    "using BSON: @save\n",
    "@save \"linear_regression.bson\" linear_model"
   ]
  },
  {
   "cell_type": "code",
   "execution_count": null,
   "id": "b301539d",
   "metadata": {},
   "outputs": [],
   "source": []
  },
  {
   "cell_type": "code",
   "execution_count": null,
   "id": "831430d6",
   "metadata": {},
   "outputs": [],
   "source": [
    "using LinearAlgebra\n",
    "using BSON: @load\n",
    "\n",
    "linear_model = nothing\n",
    "\n",
    "@load \"linear_regression.bson\" linear_model\n",
    "\n",
    "predict(linear_model, DataFrame(test_dict))"
   ]
  },
  {
   "cell_type": "markdown",
   "id": "9d79d4de",
   "metadata": {},
   "source": [
    "### Neural network model with Flux\n",
    "\n",
    "let's take neural network model"
   ]
  },
  {
   "cell_type": "code",
   "execution_count": null,
   "id": "6704fd16",
   "metadata": {},
   "outputs": [],
   "source": [
    "X = transpose(Matrix(houses[!,Not(:MEDV)]))\n",
    "y = transpose(houses.MEDV);"
   ]
  },
  {
   "cell_type": "code",
   "execution_count": null,
   "id": "2196024e",
   "metadata": {},
   "outputs": [],
   "source": [
    "# test for data frame data - not working\n",
    "#X = houses[:, Not(:MEDV)]\n",
    "#y = houses.MEDV"
   ]
  },
  {
   "cell_type": "code",
   "execution_count": null,
   "id": "5f62ed77-b9b5-498b-84e4-c7b07de8e34f",
   "metadata": {},
   "outputs": [],
   "source": [
    "using Flux\n",
    "using ProgressMeter\n",
    "\n",
    "# Neural network model one dense hidden layer with ReLU activation function\n",
    "\n",
    "# data\n",
    "data = [(X, y)]\n",
    "# model type\n",
    "nn_model = Chain(Dense(13 => 8, relu), Dense(8 => 1))\n",
    "# loss function definition\n",
    "loss(x, y) = Flux.Losses.mse(nn_model(x), y)\n",
    "# hyperparams\n",
    "parameters = Flux.params(nn_model)\n",
    "# optymalization algorithm type\n",
    "opt = Flux.Adam(0.002)\n",
    "\n",
    "@showprogress for epoch in 1:20_000\n",
    "    Flux.train!(loss, parameters, data, opt)\n",
    "end"
   ]
  },
  {
   "cell_type": "code",
   "execution_count": null,
   "id": "74765804",
   "metadata": {},
   "outputs": [],
   "source": [
    "first_row_nn = X[:,1]\n",
    "println(\"from NN model: \", model(first_row_nn)[1])"
   ]
  },
  {
   "cell_type": "code",
   "execution_count": null,
   "id": "097761f7-9c1b-4ba7-ab6a-82aa42f02145",
   "metadata": {},
   "outputs": [],
   "source": [
    "# model evaluation \n",
    "using Statistics\n",
    "\n",
    "RMSE(y, ŷ) = sqrt(mean((y - ŷ).^2));"
   ]
  },
  {
   "cell_type": "code",
   "execution_count": null,
   "id": "d7555726",
   "metadata": {},
   "outputs": [],
   "source": [
    "# for regression \n",
    "RMSE(y, transpose(predict(linear_model, houses)))"
   ]
  },
  {
   "cell_type": "code",
   "execution_count": null,
   "id": "8deac95e",
   "metadata": {},
   "outputs": [],
   "source": [
    "# for neural network\n",
    "RMSE(y, model(X))"
   ]
  },
  {
   "cell_type": "code",
   "execution_count": null,
   "id": "fbcc3c22",
   "metadata": {},
   "outputs": [],
   "source": [
    "RMSE(y[1], transpose(predict(linear_model, DataFrame(one_prediction))[1]))"
   ]
  },
  {
   "cell_type": "code",
   "execution_count": null,
   "id": "453f9ff2",
   "metadata": {},
   "outputs": [],
   "source": [
    "RMSE(y[1], model(first_row_nn)[1])"
   ]
  },
  {
   "cell_type": "code",
   "execution_count": null,
   "id": "b8ff2c86",
   "metadata": {},
   "outputs": [],
   "source": [
    "using BSON: @save\n",
    "@save \"nn_model.bson\" nn_model"
   ]
  },
  {
   "cell_type": "code",
   "execution_count": null,
   "id": "33434d8b",
   "metadata": {},
   "outputs": [],
   "source": [
    "using BSON: @load\n",
    "nn_model = nothing\n",
    "@load \"nn_model.bson\" nn_model\n",
    "\n",
    "println(\"from NN model: \", nn_model(first_row_nn)[1])"
   ]
  },
  {
   "cell_type": "code",
   "execution_count": null,
   "id": "8f9f1c13",
   "metadata": {},
   "outputs": [],
   "source": [
    "using BSON\n",
    "d = BSON.parse(\"nn_model.bson\")\n",
    "model_nn = d[:model] ? Jak to ma działać ?\n",
    "model_nn(first_row_nn)"
   ]
  },
  {
   "cell_type": "markdown",
   "id": "683f37d5",
   "metadata": {},
   "source": [
    "### prepare data for POST request\n",
    "\n",
    "Saving first observation from the training dataset into `house.json` file"
   ]
  },
  {
   "cell_type": "code",
   "execution_count": null,
   "id": "818c9d7b",
   "metadata": {},
   "outputs": [],
   "source": [
    "using JSON\n",
    "\n",
    "open(\"house.json\",\"w\") do f\n",
    "    JSON.print(f, Dict(names(houses)[begin:end-1] .=> X[:,1]),4)\n",
    "end"
   ]
  },
  {
   "cell_type": "code",
   "execution_count": null,
   "id": "8142b005",
   "metadata": {},
   "outputs": [],
   "source": [
    "println(read(\"house.json\", String))"
   ]
  },
  {
   "cell_type": "code",
   "execution_count": null,
   "id": "95da135c",
   "metadata": {},
   "outputs": [],
   "source": [
    ";more house.json"
   ]
  },
  {
   "cell_type": "markdown",
   "id": "9469df41-eaa0-4db9-b7c6-d7b75207a2e0",
   "metadata": {},
   "source": [
    "## Simple REST API with Julia\n",
    "\n",
    "[Genie](https://genieframework.com/docs/) is a full stack web framework for the Julia programming language\n",
    "\n",
    "We can create simple API with Genie. We want json as a response\n",
    "\n",
    "In the most easy way we can take GET method to send variables. \n"
   ]
  },
  {
   "cell_type": "code",
   "execution_count": null,
   "id": "5cd1e015-614f-438f-a808-8434c34dd4d9",
   "metadata": {},
   "outputs": [],
   "source": [
    "using Genie, Genie.Renderer.Json\n",
    "using Genie.Requests # for method GET and POST\n",
    "\n",
    "route(\"/\") do \n",
    "  (:message => \"Hello Julia!\") |> Json.json\n",
    "end\n",
    "\n",
    "route(\"/getapi\", method=GET) do\n",
    "  vars = getpayload()\n",
    "  (:variables => vars) |> Json.json\n",
    "end\n",
    "\n",
    "#start the server - it will not block the Jupyter due to async=true\n",
    "up(8000, async=true)"
   ]
  },
  {
   "cell_type": "markdown",
   "id": "9e7828b1-1cbc-4ac8-919f-0305152ed7f4",
   "metadata": {},
   "source": [
    "After starting the server, you can use `curl` or other tool capable of sending and receiving HTTP requests to interact with the API."
   ]
  },
  {
   "cell_type": "code",
   "execution_count": null,
   "id": "bbcb6406-e12b-4682-9dd8-f4ebb1cf84fe",
   "metadata": {},
   "outputs": [],
   "source": [
    ";curl http://localhost:8000/"
   ]
  },
  {
   "cell_type": "code",
   "execution_count": null,
   "id": "c7fc4a8f-a484-401e-9834-2086517ddcd3",
   "metadata": {},
   "outputs": [],
   "source": [
    ";curl http://localhost:8000/getapi\\?\\&val1=43\\&val2=3"
   ]
  },
  {
   "cell_type": "code",
   "execution_count": null,
   "id": "c85c0eef-28ad-4056-8377-debdd1a0f1f5",
   "metadata": {},
   "outputs": [],
   "source": [
    "using HTTP\n",
    "resp = HTTP.get(\"http://localhost:8000\")\n",
    "println(resp.status)\n",
    "println(String(resp.body))"
   ]
  },
  {
   "cell_type": "markdown",
   "id": "310b40be",
   "metadata": {},
   "source": [
    "You can also use Python for simple client program\n",
    "\n",
    "```julia\n",
    "using PyCall\n",
    "req = pyimport(\"requests\")\n",
    "r = req.get(\"http://localhost:8000\")\n",
    "print(r.status_code)\n",
    "```"
   ]
  },
  {
   "cell_type": "markdown",
   "id": "aa1e65d5-5d14-43e8-8fd5-8b146ab182eb",
   "metadata": {},
   "source": [
    "The server is running asynchronously in Jupyter. When you are finished, run the `down()` command to turn it off."
   ]
  },
  {
   "cell_type": "code",
   "execution_count": null,
   "id": "20cf0c65-e781-4819-9913-cf542542c7a3",
   "metadata": {},
   "outputs": [],
   "source": [
    "down()"
   ]
  },
  {
   "cell_type": "code",
   "execution_count": null,
   "id": "eaac0841-88a2-4311-bcb1-b98bc06337ec",
   "metadata": {},
   "outputs": [],
   "source": [
    "using Genie, Genie.Requests, Genie.Renderer.Json\n",
    "using Flux\n",
    "using BSON: @load\n",
    "using GLM\n",
    "using DataFrames\n",
    "using LinearAlgebra\n",
    "\n",
    "\n",
    "@load \"nn_model.bson\" nn_model\n",
    "\n",
    "@load \"linear_regresion.bson\" linear_model\n",
    "\n",
    "route(\"/flux\") do\n",
    "\"\"\"<div style=\"white-space:pre\">To receive a prediction send POST request with JSON payload.\n",
    "\n",
    "Example:\n",
    ">> curl -X POST -d @house.json -H \"Content-Type: application/json\" http://localhost:8000/\n",
    ">> cat house.json\n",
    "{\n",
    "    \"crim\": 0.00632,\n",
    "    \"tax\": 296.0,\n",
    "    \"chas\": 0.0,\n",
    "    \"black\": 396.9,\n",
    "    \"lstat\": 4.98,\n",
    "    \"age\": 65.2,\n",
    "    \"indus\": 2.31,\n",
    "    \"rm\": 6.575,\n",
    "    \"dis\": 4.09,\n",
    "    \"zn\": 18.0,\n",
    "    \"nox\": 0.538,\n",
    "    \"ptratio\": 15.3,\n",
    "    \"rad\": 1.0\n",
    "}</div>\"\"\"\n",
    "end\n",
    "\n",
    "route(\"/flux\", method = POST) do\n",
    "    \n",
    "    input_data = jsonpayload()\n",
    "    keys_json = keys(input_data)\n",
    "    columns = [\"CRIM\",\"ZN\",\"INDUS\",\"CHAS\",\"NOX\",\"RM\",\"AGE\",\"DIS\",\"RAD\",\"TAX\",\"PTRATIO\",\"B\",\"LSTAT\"]\n",
    "    missing_fields = [k for k in columns if k ∉ keys_json]\n",
    "    \n",
    "    if length(missing_fields) != 0\n",
    "        missing_str = join(missing_fields, \",\")\n",
    "        Json.json(:error => \"The fields: $missing_str are missing from the JSON payload.\"*\n",
    "            \"The prediction can not be returned.\")\n",
    "    else\n",
    "        try\n",
    "            Json.json(Dict(\"input\" => input_data,\n",
    "                        \"prediction\" => model([input_data[f] for f in columns])[1])\n",
    "                     )\n",
    "        catch e\n",
    "            Json.json(:error => \"Ooops! There was a problem while generating a prediction.\")\n",
    "        end\n",
    "    end\n",
    "end\n",
    "\n",
    "route(\"/glm\") do\n",
    "\"\"\"<div style=\"white-space:pre\">To receive a prediction for GLM linear model send POST request with JSON payload.\n",
    "\n",
    "First row:\n",
    "{\n",
    "    \"crim\": 0.00632,\n",
    "    \"tax\": 296.0,\n",
    "    \"chas\": 0.0,\n",
    "    \"black\": 396.9,\n",
    "    \"lstat\": 4.98,\n",
    "    \"age\": 65.2,\n",
    "    \"indus\": 2.31,\n",
    "    \"rm\": 6.575,\n",
    "    \"dis\": 4.09,\n",
    "    \"zn\": 18.0,\n",
    "    \"nox\": 0.538,\n",
    "    \"ptratio\": 15.3,\n",
    "    \"rad\": 1.0\n",
    "}</div>\"\"\"\n",
    "    \n",
    "end\n",
    "\n",
    "route(\"/glm\", method = POST) do\n",
    "    input_data = jsonpayload()\n",
    "    try\n",
    "        (\":input\" => input_data,\":prediction\" => predict(linear_model, DataFrame(input_data))) |> Json.json\n",
    "    catch e\n",
    "        (:error => \"Ooops! There was a problem while generating a prediction.\") |> Json.json\n",
    "    end\n",
    "end\n",
    "\n",
    "\n",
    "#start the server - it will not block the Jupyter due to async=true\n",
    "up(port=8000, async=true)"
   ]
  },
  {
   "cell_type": "code",
   "execution_count": null,
   "id": "9ecc60ab",
   "metadata": {},
   "outputs": [],
   "source": [
    "down()"
   ]
  },
  {
   "cell_type": "code",
   "execution_count": null,
   "id": "f7b1ab22",
   "metadata": {},
   "outputs": [],
   "source": [
    ";cat house.json"
   ]
  },
  {
   "cell_type": "code",
   "execution_count": null,
   "id": "69b910fe",
   "metadata": {},
   "outputs": [],
   "source": [
    ";curl -X POST -d @house.json -H \"Content-Type: application/json\" http://localhost:8000/flux/"
   ]
  },
  {
   "cell_type": "code",
   "execution_count": null,
   "id": "b0d732a0",
   "metadata": {},
   "outputs": [],
   "source": [
    ";curl -X POST -d @house.json -H \"Content-Type: application/json\" http://localhost:8000/glm/"
   ]
  },
  {
   "cell_type": "markdown",
   "id": "742c7dab",
   "metadata": {},
   "source": [
    "## Docker container "
   ]
  },
  {
   "cell_type": "code",
   "execution_count": null,
   "id": "9157ffc5",
   "metadata": {},
   "outputs": [],
   "source": [
    "] generate Docker"
   ]
  },
  {
   "cell_type": "code",
   "execution_count": null,
   "id": "0dc4d638",
   "metadata": {},
   "outputs": [],
   "source": [
    ";cd Docker"
   ]
  },
  {
   "cell_type": "code",
   "execution_count": null,
   "id": "b5754ea7",
   "metadata": {},
   "outputs": [],
   "source": [
    ";pwd"
   ]
  },
  {
   "cell_type": "code",
   "execution_count": null,
   "id": "f8c1d482",
   "metadata": {},
   "outputs": [],
   "source": [
    "] activate ."
   ]
  },
  {
   "cell_type": "markdown",
   "id": "eaf40be0",
   "metadata": {},
   "source": [
    "### i will use just simple GLM model"
   ]
  },
  {
   "cell_type": "code",
   "execution_count": null,
   "id": "14d87b64",
   "metadata": {},
   "outputs": [],
   "source": [
    "] add \"Genie\" \"BSON\" \"GLM\" \"DataFrames\" \"LinearAlgebra\""
   ]
  },
  {
   "cell_type": "code",
   "execution_count": null,
   "id": "be472645",
   "metadata": {},
   "outputs": [],
   "source": [
    ";cd .."
   ]
  },
  {
   "cell_type": "markdown",
   "id": "5cfce17f",
   "metadata": {},
   "source": [
    "Add you BSON file with model and create new app.jl file with genie server.\n",
    "Remember change async setting\n",
    "```julia\n",
    " up(port=8000, async=false)\n",
    "```"
   ]
  },
  {
   "cell_type": "markdown",
   "id": "b294f503",
   "metadata": {},
   "source": [
    "*Preparation of this worksop has been supported by the Polish National Agency for Academic Exchange under the Strategic Partnerships programme, grant number BPI/PST/2021/1/00069/U/00001.*\n",
    "\n",
    "![SGH & NAWA](logo.png)"
   ]
  },
  {
   "cell_type": "code",
   "execution_count": null,
   "id": "b7460e8b",
   "metadata": {},
   "outputs": [],
   "source": []
  }
 ],
 "metadata": {
  "kernelspec": {
   "display_name": "Julia 1.8.3",
   "language": "julia",
   "name": "julia-1.8"
  },
  "language_info": {
   "file_extension": ".jl",
   "mimetype": "application/julia",
   "name": "julia",
   "version": "1.8.3"
  }
 },
 "nbformat": 4,
 "nbformat_minor": 5
}
