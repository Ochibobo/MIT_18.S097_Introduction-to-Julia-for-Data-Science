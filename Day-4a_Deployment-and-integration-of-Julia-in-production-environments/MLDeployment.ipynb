{
 "cells": [
  {
   "cell_type": "markdown",
   "id": "958627fe",
   "metadata": {},
   "source": [
    "# Deployment and integration of Julia in production environments\n",
    "\n",
    "### Sebastian Zając, PhD\n",
    "\n",
    "\n",
    "\n",
    "The main goal of our part of workshop is show how we can deploy Julia app on production environments. \n",
    " \n",
    "\n",
    "We'll build two simple models (linear regression model and neural network) to predict median house value in the Boston suburbs. \n",
    "\n",
    "\n",
    "In the workshop we will use the dataset from [UCI repository](https://archive.ics.uci.edu/ml/machine-learning-databases/housing/).\n",
    "\n",
    "We use `data/housing.csv` file that stores the data.\n",
    "\n",
    "Each record of this data base has the following fields:\n",
    "\n",
    "* `CRIM`: per capita crime rate by town\n",
    "* `ZN`: proportion of residential land zoned for lots over 25,000 sq.ft.\n",
    "* `INDUS`: proportion of non-retail business acres per town\n",
    "* `CHAS`: Charles River dummy variable (= 1 if tract bounds river; 0 otherwise)\n",
    "* `NOX`: nitric oxides concentration (parts per 10 million)\n",
    "* `RM`: average number of rooms per dwelling\n",
    "* `AGE`: proportion of owner-occupied units built prior to 1940\n",
    "* `DIS`: weighted distances to five Boston employment centres\n",
    "* `RAD`: index of accessibility to radial highways\n",
    "* `TAX`: full-value property-tax rate per \\$10,000\n",
    "* `PTRATIO`: pupil-teacher ratio by town\n",
    "* `B`: 1000(Bk - 0.63)^2 where Bk is the proportion of blacks by town\n",
    "* `LSTAT`: - \\% lower status of the population\n",
    "* **MEDV**: - Target feature - Median value of owner-occupied homes in \\$1000's\n",
    "\n",
    "After training and evaluation, the model should be deployed to serve predictions.\n",
    "\n",
    "The model is usually embedded into a bigger application or exposed through a web service. The mentioned solutions need additional logic to properly prepare the input data and return the prediction should be returned to the user in appropriate form.\n",
    "* **JSON-based web service** - JSON payload with input observation is provided to the web service and the JSON with the prediction is returned back"
   ]
  },
  {
   "cell_type": "markdown",
   "id": "792fec2d-aef3-494d-962a-2fb86f0fbc00",
   "metadata": {},
   "source": [
    "## 1. Data preprocessing and model building\n",
    "\n",
    "Model building will be proceed with 3 steps: \n",
    "\n",
    "1. Load data\n",
    "2. Data Preprocessing (standarization)\n",
    "3. Models training\n",
    "4. Model saving"
   ]
  },
  {
   "cell_type": "markdown",
   "id": "8af184ac",
   "metadata": {},
   "source": [
    "### 1.1 Load data"
   ]
  },
  {
   "cell_type": "code",
   "execution_count": null,
   "id": "5c690e17",
   "metadata": {},
   "outputs": [],
   "source": [
    "]st"
   ]
  },
  {
   "cell_type": "code",
   "execution_count": 1,
   "id": "63be191d-12bd-4389-a341-b41e0bb678a0",
   "metadata": {},
   "outputs": [],
   "source": [
    "using CSV"
   ]
  },
  {
   "cell_type": "code",
   "execution_count": 2,
   "id": "dc39ec71",
   "metadata": {},
   "outputs": [],
   "source": [
    "using DataFrames"
   ]
  },
  {
   "cell_type": "code",
   "execution_count": 3,
   "id": "33cad882-6e5a-4336-91ef-65462653cbb6",
   "metadata": {},
   "outputs": [
    {
     "data": {
      "text/html": [
       "<div><div style = \"float: left;\"><span>5×14 DataFrame</span></div><div style = \"clear: both;\"></div></div><div class = \"data-frame\" style = \"overflow-x: scroll;\"><table class = \"data-frame\" style = \"margin-bottom: 6px;\"><thead><tr class = \"header\"><th class = \"rowNumber\" style = \"font-weight: bold; text-align: right;\">Row</th><th style = \"text-align: left;\">CRIM</th><th style = \"text-align: left;\">ZN</th><th style = \"text-align: left;\">INDUS</th><th style = \"text-align: left;\">CHAS</th><th style = \"text-align: left;\">NOX</th><th style = \"text-align: left;\">RM</th><th style = \"text-align: left;\">AGE</th><th style = \"text-align: left;\">DIS</th><th style = \"text-align: left;\">RAD</th><th style = \"text-align: left;\">TAX</th><th style = \"text-align: left;\">PTRATIO</th><th style = \"text-align: left;\">B</th><th style = \"text-align: left;\">LSTAT</th><th style = \"text-align: left;\">MEDV</th></tr><tr class = \"subheader headerLastRow\"><th class = \"rowNumber\" style = \"font-weight: bold; text-align: right;\"></th><th title = \"Float64\" style = \"text-align: left;\">Float64</th><th title = \"Float64\" style = \"text-align: left;\">Float64</th><th title = \"Float64\" style = \"text-align: left;\">Float64</th><th title = \"Float64\" style = \"text-align: left;\">Float64</th><th title = \"Float64\" style = \"text-align: left;\">Float64</th><th title = \"Float64\" style = \"text-align: left;\">Float64</th><th title = \"Float64\" style = \"text-align: left;\">Float64</th><th title = \"Float64\" style = \"text-align: left;\">Float64</th><th title = \"Float64\" style = \"text-align: left;\">Float64</th><th title = \"Float64\" style = \"text-align: left;\">Float64</th><th title = \"Float64\" style = \"text-align: left;\">Float64</th><th title = \"Float64\" style = \"text-align: left;\">Float64</th><th title = \"Float64\" style = \"text-align: left;\">Float64</th><th title = \"Float64\" style = \"text-align: left;\">Float64</th></tr></thead><tbody><tr><td class = \"rowNumber\" style = \"font-weight: bold; text-align: right;\">1</td><td style = \"text-align: right;\">0.00632</td><td style = \"text-align: right;\">18.0</td><td style = \"text-align: right;\">2.31</td><td style = \"text-align: right;\">0.0</td><td style = \"text-align: right;\">0.538</td><td style = \"text-align: right;\">6.575</td><td style = \"text-align: right;\">65.2</td><td style = \"text-align: right;\">4.09</td><td style = \"text-align: right;\">1.0</td><td style = \"text-align: right;\">296.0</td><td style = \"text-align: right;\">15.3</td><td style = \"text-align: right;\">396.9</td><td style = \"text-align: right;\">4.98</td><td style = \"text-align: right;\">24.0</td></tr><tr><td class = \"rowNumber\" style = \"font-weight: bold; text-align: right;\">2</td><td style = \"text-align: right;\">0.02731</td><td style = \"text-align: right;\">0.0</td><td style = \"text-align: right;\">7.07</td><td style = \"text-align: right;\">0.0</td><td style = \"text-align: right;\">0.469</td><td style = \"text-align: right;\">6.421</td><td style = \"text-align: right;\">78.9</td><td style = \"text-align: right;\">4.9671</td><td style = \"text-align: right;\">2.0</td><td style = \"text-align: right;\">242.0</td><td style = \"text-align: right;\">17.8</td><td style = \"text-align: right;\">396.9</td><td style = \"text-align: right;\">9.14</td><td style = \"text-align: right;\">21.6</td></tr><tr><td class = \"rowNumber\" style = \"font-weight: bold; text-align: right;\">3</td><td style = \"text-align: right;\">0.02729</td><td style = \"text-align: right;\">0.0</td><td style = \"text-align: right;\">7.07</td><td style = \"text-align: right;\">0.0</td><td style = \"text-align: right;\">0.469</td><td style = \"text-align: right;\">7.185</td><td style = \"text-align: right;\">61.1</td><td style = \"text-align: right;\">4.9671</td><td style = \"text-align: right;\">2.0</td><td style = \"text-align: right;\">242.0</td><td style = \"text-align: right;\">17.8</td><td style = \"text-align: right;\">392.83</td><td style = \"text-align: right;\">4.03</td><td style = \"text-align: right;\">34.7</td></tr><tr><td class = \"rowNumber\" style = \"font-weight: bold; text-align: right;\">4</td><td style = \"text-align: right;\">0.03237</td><td style = \"text-align: right;\">0.0</td><td style = \"text-align: right;\">2.18</td><td style = \"text-align: right;\">0.0</td><td style = \"text-align: right;\">0.458</td><td style = \"text-align: right;\">6.998</td><td style = \"text-align: right;\">45.8</td><td style = \"text-align: right;\">6.0622</td><td style = \"text-align: right;\">3.0</td><td style = \"text-align: right;\">222.0</td><td style = \"text-align: right;\">18.7</td><td style = \"text-align: right;\">394.63</td><td style = \"text-align: right;\">2.94</td><td style = \"text-align: right;\">33.4</td></tr><tr><td class = \"rowNumber\" style = \"font-weight: bold; text-align: right;\">5</td><td style = \"text-align: right;\">0.06905</td><td style = \"text-align: right;\">0.0</td><td style = \"text-align: right;\">2.18</td><td style = \"text-align: right;\">0.0</td><td style = \"text-align: right;\">0.458</td><td style = \"text-align: right;\">7.147</td><td style = \"text-align: right;\">54.2</td><td style = \"text-align: right;\">6.0622</td><td style = \"text-align: right;\">3.0</td><td style = \"text-align: right;\">222.0</td><td style = \"text-align: right;\">18.7</td><td style = \"text-align: right;\">396.9</td><td style = \"text-align: right;\">5.33</td><td style = \"text-align: right;\">36.2</td></tr></tbody></table></div>"
      ],
      "text/latex": [
       "\\begin{tabular}{r|cccccccccc}\n",
       "\t& CRIM & ZN & INDUS & CHAS & NOX & RM & AGE & DIS & RAD & \\\\\n",
       "\t\\hline\n",
       "\t& Float64 & Float64 & Float64 & Float64 & Float64 & Float64 & Float64 & Float64 & Float64 & \\\\\n",
       "\t\\hline\n",
       "\t1 & 0.00632 & 18.0 & 2.31 & 0.0 & 0.538 & 6.575 & 65.2 & 4.09 & 1.0 & $\\dots$ \\\\\n",
       "\t2 & 0.02731 & 0.0 & 7.07 & 0.0 & 0.469 & 6.421 & 78.9 & 4.9671 & 2.0 & $\\dots$ \\\\\n",
       "\t3 & 0.02729 & 0.0 & 7.07 & 0.0 & 0.469 & 7.185 & 61.1 & 4.9671 & 2.0 & $\\dots$ \\\\\n",
       "\t4 & 0.03237 & 0.0 & 2.18 & 0.0 & 0.458 & 6.998 & 45.8 & 6.0622 & 3.0 & $\\dots$ \\\\\n",
       "\t5 & 0.06905 & 0.0 & 2.18 & 0.0 & 0.458 & 7.147 & 54.2 & 6.0622 & 3.0 & $\\dots$ \\\\\n",
       "\\end{tabular}\n"
      ],
      "text/plain": [
       "\u001b[1m5×14 DataFrame\u001b[0m\n",
       "\u001b[1m Row \u001b[0m│\u001b[1m CRIM    \u001b[0m\u001b[1m ZN      \u001b[0m\u001b[1m INDUS   \u001b[0m\u001b[1m CHAS    \u001b[0m\u001b[1m NOX     \u001b[0m\u001b[1m RM      \u001b[0m\u001b[1m AGE     \u001b[0m\u001b[1m DIS     \u001b[0m\u001b[1m\u001b[0m ⋯\n",
       "     │\u001b[90m Float64 \u001b[0m\u001b[90m Float64 \u001b[0m\u001b[90m Float64 \u001b[0m\u001b[90m Float64 \u001b[0m\u001b[90m Float64 \u001b[0m\u001b[90m Float64 \u001b[0m\u001b[90m Float64 \u001b[0m\u001b[90m Float64 \u001b[0m\u001b[90m\u001b[0m ⋯\n",
       "─────┼──────────────────────────────────────────────────────────────────────────\n",
       "   1 │ 0.00632     18.0     2.31      0.0    0.538    6.575     65.2   4.09    ⋯\n",
       "   2 │ 0.02731      0.0     7.07      0.0    0.469    6.421     78.9   4.9671\n",
       "   3 │ 0.02729      0.0     7.07      0.0    0.469    7.185     61.1   4.9671\n",
       "   4 │ 0.03237      0.0     2.18      0.0    0.458    6.998     45.8   6.0622\n",
       "   5 │ 0.06905      0.0     2.18      0.0    0.458    7.147     54.2   6.0622  ⋯\n",
       "\u001b[36m                                                               6 columns omitted\u001b[0m"
      ]
     },
     "execution_count": 3,
     "metadata": {},
     "output_type": "execute_result"
    }
   ],
   "source": [
    "data_path = joinpath(\"data\", \"housing.csv\")\n",
    "houses = CSV.read(data_path, DataFrame) \n",
    "\n",
    "houses[1:5,:]"
   ]
  },
  {
   "cell_type": "code",
   "execution_count": null,
   "id": "767da8ee",
   "metadata": {},
   "outputs": [],
   "source": [
    "describe(houses, :min, :mean, :max, :nmissing, :eltype)"
   ]
  },
  {
   "cell_type": "code",
   "execution_count": null,
   "id": "847e5856",
   "metadata": {},
   "outputs": [],
   "source": [
    "# check names of our features\n",
    "names(houses)"
   ]
  },
  {
   "cell_type": "markdown",
   "id": "772c1fad",
   "metadata": {},
   "source": [
    "## 1.2 Preprocessing Data and pipeline\n",
    "\n",
    "As You could learn in our workshop in many ML projects we use many kind of transformers for our data. [Standardization](https://en.wikipedia.org/wiki/Standard_score) is common preprocessing step in many Data Science projects.\n",
    "By default `Standardizer` standardize only features with `Continuous` scientific type. If You need transform categorical data You can use `OneHotEncoder` transform.\n",
    "\n",
    "Multiple preparation steps can be combined in **pipelines** by using the `Pipeline` constructor or `|>` symbol - pipelines make repetitive tasks simpler and easier to execute and save.\n",
    "\n",
    "From production point of view You must remember what features we have in Raw Data and what are features for model preparation (before standard transformations in many cases we used feature enginiering).\n",
    "\n",
    "One of the solution in Julia programming language is library`MLJ` which expose a common interface for managing and manipulating transformers, models and other objects."
   ]
  },
  {
   "cell_type": "code",
   "execution_count": 4,
   "id": "6c52d730",
   "metadata": {},
   "outputs": [],
   "source": [
    "using MLJ"
   ]
  },
  {
   "cell_type": "code",
   "execution_count": 5,
   "id": "d9876236",
   "metadata": {},
   "outputs": [
    {
     "data": {
      "text/plain": [
       "Standardizer(\n",
       "  features = Symbol[], \n",
       "  ignore = false, \n",
       "  ordered_factor = false, \n",
       "  count = false)"
      ]
     },
     "execution_count": 5,
     "metadata": {},
     "output_type": "execute_result"
    }
   ],
   "source": [
    "preproc = Standardizer()"
   ]
  },
  {
   "cell_type": "code",
   "execution_count": 6,
   "id": "69ed4ad9",
   "metadata": {},
   "outputs": [
    {
     "name": "stderr",
     "output_type": "stream",
     "text": [
      "\u001b[36m\u001b[1m[ \u001b[22m\u001b[39m\u001b[36m\u001b[1mInfo: \u001b[22m\u001b[39mTraining machine(Standardizer(features = Symbol[], …), …).\n"
     ]
    },
    {
     "data": {
      "text/html": [
       "<div><div style = \"float: left;\"><span>5×13 DataFrame</span></div><div style = \"clear: both;\"></div></div><div class = \"data-frame\" style = \"overflow-x: scroll;\"><table class = \"data-frame\" style = \"margin-bottom: 6px;\"><thead><tr class = \"header\"><th class = \"rowNumber\" style = \"font-weight: bold; text-align: right;\">Row</th><th style = \"text-align: left;\">CRIM</th><th style = \"text-align: left;\">ZN</th><th style = \"text-align: left;\">INDUS</th><th style = \"text-align: left;\">CHAS</th><th style = \"text-align: left;\">NOX</th><th style = \"text-align: left;\">RM</th><th style = \"text-align: left;\">AGE</th><th style = \"text-align: left;\">DIS</th><th style = \"text-align: left;\">RAD</th><th style = \"text-align: left;\">TAX</th><th style = \"text-align: left;\">PTRATIO</th><th style = \"text-align: left;\">B</th><th style = \"text-align: left;\">LSTAT</th></tr><tr class = \"subheader headerLastRow\"><th class = \"rowNumber\" style = \"font-weight: bold; text-align: right;\"></th><th title = \"Float64\" style = \"text-align: left;\">Float64</th><th title = \"Float64\" style = \"text-align: left;\">Float64</th><th title = \"Float64\" style = \"text-align: left;\">Float64</th><th title = \"Float64\" style = \"text-align: left;\">Float64</th><th title = \"Float64\" style = \"text-align: left;\">Float64</th><th title = \"Float64\" style = \"text-align: left;\">Float64</th><th title = \"Float64\" style = \"text-align: left;\">Float64</th><th title = \"Float64\" style = \"text-align: left;\">Float64</th><th title = \"Float64\" style = \"text-align: left;\">Float64</th><th title = \"Float64\" style = \"text-align: left;\">Float64</th><th title = \"Float64\" style = \"text-align: left;\">Float64</th><th title = \"Float64\" style = \"text-align: left;\">Float64</th><th title = \"Float64\" style = \"text-align: left;\">Float64</th></tr></thead><tbody><tr><td class = \"rowNumber\" style = \"font-weight: bold; text-align: right;\">1</td><td style = \"text-align: right;\">-0.419367</td><td style = \"text-align: right;\">0.284548</td><td style = \"text-align: right;\">-1.28664</td><td style = \"text-align: right;\">-0.272329</td><td style = \"text-align: right;\">-0.144075</td><td style = \"text-align: right;\">0.413263</td><td style = \"text-align: right;\">-0.119895</td><td style = \"text-align: right;\">0.140075</td><td style = \"text-align: right;\">-0.981871</td><td style = \"text-align: right;\">-0.665949</td><td style = \"text-align: right;\">-1.45756</td><td style = \"text-align: right;\">0.440616</td><td style = \"text-align: right;\">-1.0745</td></tr><tr><td class = \"rowNumber\" style = \"font-weight: bold; text-align: right;\">2</td><td style = \"text-align: right;\">-0.416927</td><td style = \"text-align: right;\">-0.48724</td><td style = \"text-align: right;\">-0.592794</td><td style = \"text-align: right;\">-0.272329</td><td style = \"text-align: right;\">-0.73953</td><td style = \"text-align: right;\">0.194082</td><td style = \"text-align: right;\">0.366803</td><td style = \"text-align: right;\">0.556609</td><td style = \"text-align: right;\">-0.867024</td><td style = \"text-align: right;\">-0.986353</td><td style = \"text-align: right;\">-0.302794</td><td style = \"text-align: right;\">0.440616</td><td style = \"text-align: right;\">-0.491953</td></tr><tr><td class = \"rowNumber\" style = \"font-weight: bold; text-align: right;\">3</td><td style = \"text-align: right;\">-0.416929</td><td style = \"text-align: right;\">-0.48724</td><td style = \"text-align: right;\">-0.592794</td><td style = \"text-align: right;\">-0.272329</td><td style = \"text-align: right;\">-0.73953</td><td style = \"text-align: right;\">1.28145</td><td style = \"text-align: right;\">-0.265549</td><td style = \"text-align: right;\">0.556609</td><td style = \"text-align: right;\">-0.867024</td><td style = \"text-align: right;\">-0.986353</td><td style = \"text-align: right;\">-0.302794</td><td style = \"text-align: right;\">0.396035</td><td style = \"text-align: right;\">-1.20753</td></tr><tr><td class = \"rowNumber\" style = \"font-weight: bold; text-align: right;\">4</td><td style = \"text-align: right;\">-0.416338</td><td style = \"text-align: right;\">-0.48724</td><td style = \"text-align: right;\">-1.30559</td><td style = \"text-align: right;\">-0.272329</td><td style = \"text-align: right;\">-0.834458</td><td style = \"text-align: right;\">1.0153</td><td style = \"text-align: right;\">-0.809088</td><td style = \"text-align: right;\">1.07667</td><td style = \"text-align: right;\">-0.752178</td><td style = \"text-align: right;\">-1.10502</td><td style = \"text-align: right;\">0.11292</td><td style = \"text-align: right;\">0.415751</td><td style = \"text-align: right;\">-1.36017</td></tr><tr><td class = \"rowNumber\" style = \"font-weight: bold; text-align: right;\">5</td><td style = \"text-align: right;\">-0.412074</td><td style = \"text-align: right;\">-0.48724</td><td style = \"text-align: right;\">-1.30559</td><td style = \"text-align: right;\">-0.272329</td><td style = \"text-align: right;\">-0.834458</td><td style = \"text-align: right;\">1.22736</td><td style = \"text-align: right;\">-0.510674</td><td style = \"text-align: right;\">1.07667</td><td style = \"text-align: right;\">-0.752178</td><td style = \"text-align: right;\">-1.10502</td><td style = \"text-align: right;\">0.11292</td><td style = \"text-align: right;\">0.440616</td><td style = \"text-align: right;\">-1.02549</td></tr></tbody></table></div>"
      ],
      "text/latex": [
       "\\begin{tabular}{r|ccccccccc}\n",
       "\t& CRIM & ZN & INDUS & CHAS & NOX & RM & AGE & DIS & \\\\\n",
       "\t\\hline\n",
       "\t& Float64 & Float64 & Float64 & Float64 & Float64 & Float64 & Float64 & Float64 & \\\\\n",
       "\t\\hline\n",
       "\t1 & -0.419367 & 0.284548 & -1.28664 & -0.272329 & -0.144075 & 0.413263 & -0.119895 & 0.140075 & $\\dots$ \\\\\n",
       "\t2 & -0.416927 & -0.48724 & -0.592794 & -0.272329 & -0.73953 & 0.194082 & 0.366803 & 0.556609 & $\\dots$ \\\\\n",
       "\t3 & -0.416929 & -0.48724 & -0.592794 & -0.272329 & -0.73953 & 1.28145 & -0.265549 & 0.556609 & $\\dots$ \\\\\n",
       "\t4 & -0.416338 & -0.48724 & -1.30559 & -0.272329 & -0.834458 & 1.0153 & -0.809088 & 1.07667 & $\\dots$ \\\\\n",
       "\t5 & -0.412074 & -0.48724 & -1.30559 & -0.272329 & -0.834458 & 1.22736 & -0.510674 & 1.07667 & $\\dots$ \\\\\n",
       "\\end{tabular}\n"
      ],
      "text/plain": [
       "\u001b[1m5×13 DataFrame\u001b[0m\n",
       "\u001b[1m Row \u001b[0m│\u001b[1m CRIM      \u001b[0m\u001b[1m ZN        \u001b[0m\u001b[1m INDUS     \u001b[0m\u001b[1m CHAS      \u001b[0m\u001b[1m NOX       \u001b[0m\u001b[1m RM       \u001b[0m\u001b[1m AGE   \u001b[0m ⋯\n",
       "     │\u001b[90m Float64   \u001b[0m\u001b[90m Float64   \u001b[0m\u001b[90m Float64   \u001b[0m\u001b[90m Float64   \u001b[0m\u001b[90m Float64   \u001b[0m\u001b[90m Float64  \u001b[0m\u001b[90m Float6\u001b[0m ⋯\n",
       "─────┼──────────────────────────────────────────────────────────────────────────\n",
       "   1 │ -0.419367   0.284548  -1.28664   -0.272329  -0.144075  0.413263  -0.119 ⋯\n",
       "   2 │ -0.416927  -0.48724   -0.592794  -0.272329  -0.73953   0.194082   0.366\n",
       "   3 │ -0.416929  -0.48724   -0.592794  -0.272329  -0.73953   1.28145   -0.265\n",
       "   4 │ -0.416338  -0.48724   -1.30559   -0.272329  -0.834458  1.0153    -0.809\n",
       "   5 │ -0.412074  -0.48724   -1.30559   -0.272329  -0.834458  1.22736   -0.510 ⋯\n",
       "\u001b[36m                                                               7 columns omitted\u001b[0m"
      ]
     },
     "execution_count": 6,
     "metadata": {},
     "output_type": "execute_result"
    }
   ],
   "source": [
    "y, X = unpack(houses, ==(:MEDV), !=(:MEDV))\n",
    "# create MLJ machine     \n",
    "preproc_wrapped = machine(preproc, X)\n",
    "# fit_transform our data\n",
    "X_prepared = MLJ.transform(fit!(preproc_wrapped), X)\n",
    "\n",
    "X_prepared[1:5,:]"
   ]
  },
  {
   "cell_type": "code",
   "execution_count": 8,
   "id": "8c556c40",
   "metadata": {},
   "outputs": [
    {
     "data": {
      "text/plain": [
       "(features_fit = [:CHAS, :NOX, :CRIM, :B, :RM, :PTRATIO, :RAD, :INDUS, :LSTAT, :ZN, :DIS, :AGE, :TAX],\n",
       " means = (0.0691699604743083, 0.5546950592885375, 3.613523557312253, 356.6740316205536, 6.284634387351777, 18.455533596837938, 9.549407114624506, 11.136778656126475, 12.653063241106718, 11.363636363636363, 3.795042687747036, 68.57490118577074, 408.2371541501976),\n",
       " stds = (0.25399404134041, 0.11587767566755594, 8.60154510533249, 91.29486438415783, 0.7026171434153233, 2.164945523714442, 8.707259384239372, 6.860352940897579, 7.141061511348571, 23.322452994515164, 2.105710126627611, 28.148861406903617, 168.53711605495909),)"
      ]
     },
     "execution_count": 8,
     "metadata": {},
     "output_type": "execute_result"
    }
   ],
   "source": [
    "fitted_params(preproc_wrapped)"
   ]
  },
  {
   "cell_type": "markdown",
   "id": "2b568fc4",
   "metadata": {},
   "source": [
    "From our perspective most important is save and load full pipeline"
   ]
  },
  {
   "cell_type": "code",
   "execution_count": 9,
   "id": "8758c89d",
   "metadata": {},
   "outputs": [],
   "source": [
    "MLJ.save(\"preprocessing.mlj\", preproc_wrapped)"
   ]
  },
  {
   "cell_type": "markdown",
   "id": "1e5560fc",
   "metadata": {},
   "source": [
    "let's check how to load and use it"
   ]
  },
  {
   "cell_type": "code",
   "execution_count": 10,
   "id": "3d58c002",
   "metadata": {},
   "outputs": [
    {
     "data": {
      "text/plain": [
       "trained Machine; caches model-specific representations of data\n",
       "  model: Standardizer(features = Symbol[], …)\n",
       "  args: \n"
      ]
     },
     "execution_count": 10,
     "metadata": {},
     "output_type": "execute_result"
    }
   ],
   "source": [
    "preproc_load = machine(\"preprocessing.mlj\")\n",
    "# remember use restore! function \n",
    "restore!(preproc_load)"
   ]
  },
  {
   "cell_type": "code",
   "execution_count": 11,
   "id": "5b004f7c",
   "metadata": {},
   "outputs": [
    {
     "data": {
      "text/html": [
       "<div><div style = \"float: left;\"><span>3×13 DataFrame</span></div><div style = \"clear: both;\"></div></div><div class = \"data-frame\" style = \"overflow-x: scroll;\"><table class = \"data-frame\" style = \"margin-bottom: 6px;\"><thead><tr class = \"header\"><th class = \"rowNumber\" style = \"font-weight: bold; text-align: right;\">Row</th><th style = \"text-align: left;\">CRIM</th><th style = \"text-align: left;\">ZN</th><th style = \"text-align: left;\">INDUS</th><th style = \"text-align: left;\">CHAS</th><th style = \"text-align: left;\">NOX</th><th style = \"text-align: left;\">RM</th><th style = \"text-align: left;\">AGE</th><th style = \"text-align: left;\">DIS</th><th style = \"text-align: left;\">RAD</th><th style = \"text-align: left;\">TAX</th><th style = \"text-align: left;\">PTRATIO</th><th style = \"text-align: left;\">B</th><th style = \"text-align: left;\">LSTAT</th></tr><tr class = \"subheader headerLastRow\"><th class = \"rowNumber\" style = \"font-weight: bold; text-align: right;\"></th><th title = \"Float64\" style = \"text-align: left;\">Float64</th><th title = \"Float64\" style = \"text-align: left;\">Float64</th><th title = \"Float64\" style = \"text-align: left;\">Float64</th><th title = \"Float64\" style = \"text-align: left;\">Float64</th><th title = \"Float64\" style = \"text-align: left;\">Float64</th><th title = \"Float64\" style = \"text-align: left;\">Float64</th><th title = \"Float64\" style = \"text-align: left;\">Float64</th><th title = \"Float64\" style = \"text-align: left;\">Float64</th><th title = \"Float64\" style = \"text-align: left;\">Float64</th><th title = \"Float64\" style = \"text-align: left;\">Float64</th><th title = \"Float64\" style = \"text-align: left;\">Float64</th><th title = \"Float64\" style = \"text-align: left;\">Float64</th><th title = \"Float64\" style = \"text-align: left;\">Float64</th></tr></thead><tbody><tr><td class = \"rowNumber\" style = \"font-weight: bold; text-align: right;\">1</td><td style = \"text-align: right;\">-0.419367</td><td style = \"text-align: right;\">0.284548</td><td style = \"text-align: right;\">-1.28664</td><td style = \"text-align: right;\">-0.272329</td><td style = \"text-align: right;\">-0.144075</td><td style = \"text-align: right;\">0.413263</td><td style = \"text-align: right;\">-0.119895</td><td style = \"text-align: right;\">0.140075</td><td style = \"text-align: right;\">-0.981871</td><td style = \"text-align: right;\">-0.665949</td><td style = \"text-align: right;\">-1.45756</td><td style = \"text-align: right;\">0.440616</td><td style = \"text-align: right;\">-1.0745</td></tr><tr><td class = \"rowNumber\" style = \"font-weight: bold; text-align: right;\">2</td><td style = \"text-align: right;\">-0.416927</td><td style = \"text-align: right;\">-0.48724</td><td style = \"text-align: right;\">-0.592794</td><td style = \"text-align: right;\">-0.272329</td><td style = \"text-align: right;\">-0.73953</td><td style = \"text-align: right;\">0.194082</td><td style = \"text-align: right;\">0.366803</td><td style = \"text-align: right;\">0.556609</td><td style = \"text-align: right;\">-0.867024</td><td style = \"text-align: right;\">-0.986353</td><td style = \"text-align: right;\">-0.302794</td><td style = \"text-align: right;\">0.440616</td><td style = \"text-align: right;\">-0.491953</td></tr><tr><td class = \"rowNumber\" style = \"font-weight: bold; text-align: right;\">3</td><td style = \"text-align: right;\">-0.416929</td><td style = \"text-align: right;\">-0.48724</td><td style = \"text-align: right;\">-0.592794</td><td style = \"text-align: right;\">-0.272329</td><td style = \"text-align: right;\">-0.73953</td><td style = \"text-align: right;\">1.28145</td><td style = \"text-align: right;\">-0.265549</td><td style = \"text-align: right;\">0.556609</td><td style = \"text-align: right;\">-0.867024</td><td style = \"text-align: right;\">-0.986353</td><td style = \"text-align: right;\">-0.302794</td><td style = \"text-align: right;\">0.396035</td><td style = \"text-align: right;\">-1.20753</td></tr></tbody></table></div>"
      ],
      "text/latex": [
       "\\begin{tabular}{r|ccccccccc}\n",
       "\t& CRIM & ZN & INDUS & CHAS & NOX & RM & AGE & DIS & \\\\\n",
       "\t\\hline\n",
       "\t& Float64 & Float64 & Float64 & Float64 & Float64 & Float64 & Float64 & Float64 & \\\\\n",
       "\t\\hline\n",
       "\t1 & -0.419367 & 0.284548 & -1.28664 & -0.272329 & -0.144075 & 0.413263 & -0.119895 & 0.140075 & $\\dots$ \\\\\n",
       "\t2 & -0.416927 & -0.48724 & -0.592794 & -0.272329 & -0.73953 & 0.194082 & 0.366803 & 0.556609 & $\\dots$ \\\\\n",
       "\t3 & -0.416929 & -0.48724 & -0.592794 & -0.272329 & -0.73953 & 1.28145 & -0.265549 & 0.556609 & $\\dots$ \\\\\n",
       "\\end{tabular}\n"
      ],
      "text/plain": [
       "\u001b[1m3×13 DataFrame\u001b[0m\n",
       "\u001b[1m Row \u001b[0m│\u001b[1m CRIM      \u001b[0m\u001b[1m ZN        \u001b[0m\u001b[1m INDUS     \u001b[0m\u001b[1m CHAS      \u001b[0m\u001b[1m NOX       \u001b[0m\u001b[1m RM       \u001b[0m\u001b[1m AGE   \u001b[0m ⋯\n",
       "     │\u001b[90m Float64   \u001b[0m\u001b[90m Float64   \u001b[0m\u001b[90m Float64   \u001b[0m\u001b[90m Float64   \u001b[0m\u001b[90m Float64   \u001b[0m\u001b[90m Float64  \u001b[0m\u001b[90m Float6\u001b[0m ⋯\n",
       "─────┼──────────────────────────────────────────────────────────────────────────\n",
       "   1 │ -0.419367   0.284548  -1.28664   -0.272329  -0.144075  0.413263  -0.119 ⋯\n",
       "   2 │ -0.416927  -0.48724   -0.592794  -0.272329  -0.73953   0.194082   0.366\n",
       "   3 │ -0.416929  -0.48724   -0.592794  -0.272329  -0.73953   1.28145   -0.265\n",
       "\u001b[36m                                                               7 columns omitted\u001b[0m"
      ]
     },
     "execution_count": 11,
     "metadata": {},
     "output_type": "execute_result"
    }
   ],
   "source": [
    "X_test = X[1:3,:]\n",
    "X_test_std = MLJ.transform(preproc_load, X_test)"
   ]
  },
  {
   "cell_type": "code",
   "execution_count": null,
   "id": "e8c1a4e3",
   "metadata": {},
   "outputs": [],
   "source": []
  },
  {
   "cell_type": "markdown",
   "id": "b521def2",
   "metadata": {},
   "source": [
    "## 1.3 Models training\n",
    "\n",
    "#### Let's create simple linear regression model \n",
    "\n",
    "More info about linear regression You can find in Day_2a_Classical_predictive_model"
   ]
  },
  {
   "cell_type": "code",
   "execution_count": 12,
   "id": "e8e18836",
   "metadata": {},
   "outputs": [
    {
     "data": {
      "text/html": [
       "<div><div style = \"float: left;\"><span>4×14 DataFrame</span></div><div style = \"clear: both;\"></div></div><div class = \"data-frame\" style = \"overflow-x: scroll;\"><table class = \"data-frame\" style = \"margin-bottom: 6px;\"><thead><tr class = \"header\"><th class = \"rowNumber\" style = \"font-weight: bold; text-align: right;\">Row</th><th style = \"text-align: left;\">CRIM</th><th style = \"text-align: left;\">ZN</th><th style = \"text-align: left;\">INDUS</th><th style = \"text-align: left;\">CHAS</th><th style = \"text-align: left;\">NOX</th><th style = \"text-align: left;\">RM</th><th style = \"text-align: left;\">AGE</th><th style = \"text-align: left;\">DIS</th><th style = \"text-align: left;\">RAD</th><th style = \"text-align: left;\">TAX</th><th style = \"text-align: left;\">PTRATIO</th><th style = \"text-align: left;\">B</th><th style = \"text-align: left;\">LSTAT</th><th style = \"text-align: left;\">MEDV</th></tr><tr class = \"subheader headerLastRow\"><th class = \"rowNumber\" style = \"font-weight: bold; text-align: right;\"></th><th title = \"Float64\" style = \"text-align: left;\">Float64</th><th title = \"Float64\" style = \"text-align: left;\">Float64</th><th title = \"Float64\" style = \"text-align: left;\">Float64</th><th title = \"Float64\" style = \"text-align: left;\">Float64</th><th title = \"Float64\" style = \"text-align: left;\">Float64</th><th title = \"Float64\" style = \"text-align: left;\">Float64</th><th title = \"Float64\" style = \"text-align: left;\">Float64</th><th title = \"Float64\" style = \"text-align: left;\">Float64</th><th title = \"Float64\" style = \"text-align: left;\">Float64</th><th title = \"Float64\" style = \"text-align: left;\">Float64</th><th title = \"Float64\" style = \"text-align: left;\">Float64</th><th title = \"Float64\" style = \"text-align: left;\">Float64</th><th title = \"Float64\" style = \"text-align: left;\">Float64</th><th title = \"Float64\" style = \"text-align: left;\">Float64</th></tr></thead><tbody><tr><td class = \"rowNumber\" style = \"font-weight: bold; text-align: right;\">1</td><td style = \"text-align: right;\">-0.419367</td><td style = \"text-align: right;\">0.284548</td><td style = \"text-align: right;\">-1.28664</td><td style = \"text-align: right;\">-0.272329</td><td style = \"text-align: right;\">-0.144075</td><td style = \"text-align: right;\">0.413263</td><td style = \"text-align: right;\">-0.119895</td><td style = \"text-align: right;\">0.140075</td><td style = \"text-align: right;\">-0.981871</td><td style = \"text-align: right;\">-0.665949</td><td style = \"text-align: right;\">-1.45756</td><td style = \"text-align: right;\">0.440616</td><td style = \"text-align: right;\">-1.0745</td><td style = \"text-align: right;\">24.0</td></tr><tr><td class = \"rowNumber\" style = \"font-weight: bold; text-align: right;\">2</td><td style = \"text-align: right;\">-0.416927</td><td style = \"text-align: right;\">-0.48724</td><td style = \"text-align: right;\">-0.592794</td><td style = \"text-align: right;\">-0.272329</td><td style = \"text-align: right;\">-0.73953</td><td style = \"text-align: right;\">0.194082</td><td style = \"text-align: right;\">0.366803</td><td style = \"text-align: right;\">0.556609</td><td style = \"text-align: right;\">-0.867024</td><td style = \"text-align: right;\">-0.986353</td><td style = \"text-align: right;\">-0.302794</td><td style = \"text-align: right;\">0.440616</td><td style = \"text-align: right;\">-0.491953</td><td style = \"text-align: right;\">21.6</td></tr><tr><td class = \"rowNumber\" style = \"font-weight: bold; text-align: right;\">3</td><td style = \"text-align: right;\">-0.416929</td><td style = \"text-align: right;\">-0.48724</td><td style = \"text-align: right;\">-0.592794</td><td style = \"text-align: right;\">-0.272329</td><td style = \"text-align: right;\">-0.73953</td><td style = \"text-align: right;\">1.28145</td><td style = \"text-align: right;\">-0.265549</td><td style = \"text-align: right;\">0.556609</td><td style = \"text-align: right;\">-0.867024</td><td style = \"text-align: right;\">-0.986353</td><td style = \"text-align: right;\">-0.302794</td><td style = \"text-align: right;\">0.396035</td><td style = \"text-align: right;\">-1.20753</td><td style = \"text-align: right;\">34.7</td></tr><tr><td class = \"rowNumber\" style = \"font-weight: bold; text-align: right;\">4</td><td style = \"text-align: right;\">-0.416338</td><td style = \"text-align: right;\">-0.48724</td><td style = \"text-align: right;\">-1.30559</td><td style = \"text-align: right;\">-0.272329</td><td style = \"text-align: right;\">-0.834458</td><td style = \"text-align: right;\">1.0153</td><td style = \"text-align: right;\">-0.809088</td><td style = \"text-align: right;\">1.07667</td><td style = \"text-align: right;\">-0.752178</td><td style = \"text-align: right;\">-1.10502</td><td style = \"text-align: right;\">0.11292</td><td style = \"text-align: right;\">0.415751</td><td style = \"text-align: right;\">-1.36017</td><td style = \"text-align: right;\">33.4</td></tr></tbody></table></div>"
      ],
      "text/latex": [
       "\\begin{tabular}{r|ccccccccc}\n",
       "\t& CRIM & ZN & INDUS & CHAS & NOX & RM & AGE & DIS & \\\\\n",
       "\t\\hline\n",
       "\t& Float64 & Float64 & Float64 & Float64 & Float64 & Float64 & Float64 & Float64 & \\\\\n",
       "\t\\hline\n",
       "\t1 & -0.419367 & 0.284548 & -1.28664 & -0.272329 & -0.144075 & 0.413263 & -0.119895 & 0.140075 & $\\dots$ \\\\\n",
       "\t2 & -0.416927 & -0.48724 & -0.592794 & -0.272329 & -0.73953 & 0.194082 & 0.366803 & 0.556609 & $\\dots$ \\\\\n",
       "\t3 & -0.416929 & -0.48724 & -0.592794 & -0.272329 & -0.73953 & 1.28145 & -0.265549 & 0.556609 & $\\dots$ \\\\\n",
       "\t4 & -0.416338 & -0.48724 & -1.30559 & -0.272329 & -0.834458 & 1.0153 & -0.809088 & 1.07667 & $\\dots$ \\\\\n",
       "\\end{tabular}\n"
      ],
      "text/plain": [
       "\u001b[1m4×14 DataFrame\u001b[0m\n",
       "\u001b[1m Row \u001b[0m│\u001b[1m CRIM      \u001b[0m\u001b[1m ZN        \u001b[0m\u001b[1m INDUS     \u001b[0m\u001b[1m CHAS      \u001b[0m\u001b[1m NOX       \u001b[0m\u001b[1m RM       \u001b[0m\u001b[1m AGE   \u001b[0m ⋯\n",
       "     │\u001b[90m Float64   \u001b[0m\u001b[90m Float64   \u001b[0m\u001b[90m Float64   \u001b[0m\u001b[90m Float64   \u001b[0m\u001b[90m Float64   \u001b[0m\u001b[90m Float64  \u001b[0m\u001b[90m Float6\u001b[0m ⋯\n",
       "─────┼──────────────────────────────────────────────────────────────────────────\n",
       "   1 │ -0.419367   0.284548  -1.28664   -0.272329  -0.144075  0.413263  -0.119 ⋯\n",
       "   2 │ -0.416927  -0.48724   -0.592794  -0.272329  -0.73953   0.194082   0.366\n",
       "   3 │ -0.416929  -0.48724   -0.592794  -0.272329  -0.73953   1.28145   -0.265\n",
       "   4 │ -0.416338  -0.48724   -1.30559   -0.272329  -0.834458  1.0153    -0.809\n",
       "\u001b[36m                                                               8 columns omitted\u001b[0m"
      ]
     },
     "execution_count": 12,
     "metadata": {},
     "output_type": "execute_result"
    }
   ],
   "source": [
    "houses_std = X_prepared\n",
    "houses_std[!, \"MEDV\"] = y\n",
    "houses_std[1:4,:]"
   ]
  },
  {
   "cell_type": "code",
   "execution_count": 13,
   "id": "5d6e4ce9",
   "metadata": {},
   "outputs": [],
   "source": [
    "using GLM"
   ]
  },
  {
   "cell_type": "code",
   "execution_count": 14,
   "id": "561746eb-6a35-4a39-83b2-dc4a55794234",
   "metadata": {},
   "outputs": [
    {
     "data": {
      "text/plain": [
       "StatsModels.TableRegressionModel{LinearModel{GLM.LmResp{Vector{Float64}}, GLM.DensePredChol{Float64, LinearAlgebra.CholeskyPivoted{Float64, Matrix{Float64}, Vector{Int64}}}}, Matrix{Float64}}\n",
       "\n",
       "MEDV ~ 1 + CRIM + INDUS + CHAS + RM + AGE + DIS + TAX + LSTAT\n",
       "\n",
       "Coefficients:\n",
       "───────────────────────────────────────────────────────────────────────────\n",
       "                 Coef.  Std. Error       t  Pr(>|t|)  Lower 95%   Upper 95%\n",
       "───────────────────────────────────────────────────────────────────────────\n",
       "(Intercept)  22.5328      0.231675   97.26    <1e-99  22.0776    22.988\n",
       "CRIM         -0.664513    0.295568   -2.25    0.0250  -1.24523   -0.0837957\n",
       "INDUS        -1.07263     0.429755   -2.50    0.0129  -1.91699   -0.228265\n",
       "CHAS          0.928661    0.237252    3.91    0.0001   0.462522   1.3948\n",
       "RM            3.35801     0.306851   10.94    <1e-24   2.75513    3.9609\n",
       "AGE          -0.663807    0.389389   -1.70    0.0889  -1.42886    0.101243\n",
       "DIS          -2.22471     0.395813   -5.62    <1e-07  -3.00238   -1.44704\n",
       "TAX          -0.822       0.379824   -2.16    0.0309  -1.56826   -0.0757407\n",
       "LSTAT        -3.98136     0.390521  -10.19    <1e-21  -4.74864   -3.21408\n",
       "───────────────────────────────────────────────────────────────────────────"
      ]
     },
     "execution_count": 14,
     "metadata": {},
     "output_type": "execute_result"
    }
   ],
   "source": [
    "# simple linear regression model\n",
    "\n",
    "model_specification = @formula(MEDV ~ CRIM + INDUS + CHAS + RM + AGE + DIS + TAX + LSTAT)\n",
    "linear_model = lm(model_specification, houses_std)"
   ]
  },
  {
   "cell_type": "code",
   "execution_count": 15,
   "id": "e1ec697f",
   "metadata": {},
   "outputs": [
    {
     "data": {
      "text/plain": [
       "2-element Vector{Union{Missing, Float64}}:\n",
       " 29.919737211857687\n",
       " 25.132175864045543"
      ]
     },
     "execution_count": 15,
     "metadata": {},
     "output_type": "execute_result"
    }
   ],
   "source": [
    "# take a first two row of data\n",
    "test_prediction = houses_std[1:2, [:CRIM, :INDUS, :CHAS, :RM, :AGE, :DIS, :TAX, :LSTAT]]\n",
    "# test_prediction = houses_std[1:2, :]\n",
    "\n",
    "# predict value for this rows\n",
    "GLM.predict(linear_model, test_prediction)"
   ]
  },
  {
   "cell_type": "code",
   "execution_count": 16,
   "id": "e6eaecfe",
   "metadata": {},
   "outputs": [
    {
     "data": {
      "text/plain": [
       "Dict{String, Real} with 13 entries:\n",
       "  \"RAD\"     => 2\n",
       "  \"PTRATIO\" => 0.11292\n",
       "  \"INDUS\"   => 1.51\n",
       "  \"B\"       => 397\n",
       "  \"ZN\"      => 6\n",
       "  \"DIS\"     => 3.02\n",
       "  \"CRIM\"    => 0.00532\n",
       "  \"RM\"      => 4.53\n",
       "  \"AGE\"     => 40.2\n",
       "  \"CHAS\"    => 0.0\n",
       "  \"NOX\"     => 0.52\n",
       "  \"TAX\"     => 296.0\n",
       "  \"LSTAT\"   => 4.98"
      ]
     },
     "execution_count": 16,
     "metadata": {},
     "output_type": "execute_result"
    }
   ],
   "source": [
    "raw_data = Dict(\"DIS\" => 3.02,\"ZN\" => 6,\"RAD\" => 2,\n",
    "                \"CRIM\" => 0.00532, \"NOX\"=> 0.52,\n",
    "                \"PTRATIO\" => 0.11292,\"INDUS\" => 1.51,\n",
    "                \"RM\" => 4.53,\"AGE\" => 40.2,\n",
    "                \"CHAS\" => 0.0,\"TAX\" => 296.0,\n",
    "                \"B\" => 397 ,\"LSTAT\" => 4.98)"
   ]
  },
  {
   "cell_type": "code",
   "execution_count": 17,
   "id": "c176f661",
   "metadata": {},
   "outputs": [
    {
     "data": {
      "text/plain": [
       "1-element Vector{Union{Missing, Float64}}:\n",
       " -260.42136230083725"
      ]
     },
     "execution_count": 17,
     "metadata": {},
     "output_type": "execute_result"
    }
   ],
   "source": [
    "GLM.predict(linear_model, DataFrame(raw_data))"
   ]
  },
  {
   "cell_type": "markdown",
   "id": "11d03c6d",
   "metadata": {},
   "source": [
    "## what we have missed ? "
   ]
  },
  {
   "cell_type": "code",
   "execution_count": 18,
   "id": "faa65c77",
   "metadata": {},
   "outputs": [
    {
     "data": {
      "text/html": [
       "<div><div style = \"float: left;\"><span>1×13 DataFrame</span></div><div style = \"clear: both;\"></div></div><div class = \"data-frame\" style = \"overflow-x: scroll;\"><table class = \"data-frame\" style = \"margin-bottom: 6px;\"><thead><tr class = \"header\"><th class = \"rowNumber\" style = \"font-weight: bold; text-align: right;\">Row</th><th style = \"text-align: left;\">AGE</th><th style = \"text-align: left;\">B</th><th style = \"text-align: left;\">CHAS</th><th style = \"text-align: left;\">CRIM</th><th style = \"text-align: left;\">DIS</th><th style = \"text-align: left;\">INDUS</th><th style = \"text-align: left;\">LSTAT</th><th style = \"text-align: left;\">NOX</th><th style = \"text-align: left;\">PTRATIO</th><th style = \"text-align: left;\">RAD</th><th style = \"text-align: left;\">RM</th><th style = \"text-align: left;\">TAX</th><th style = \"text-align: left;\">ZN</th></tr><tr class = \"subheader headerLastRow\"><th class = \"rowNumber\" style = \"font-weight: bold; text-align: right;\"></th><th title = \"Float64\" style = \"text-align: left;\">Float64</th><th title = \"Float64\" style = \"text-align: left;\">Float64</th><th title = \"Float64\" style = \"text-align: left;\">Float64</th><th title = \"Float64\" style = \"text-align: left;\">Float64</th><th title = \"Float64\" style = \"text-align: left;\">Float64</th><th title = \"Float64\" style = \"text-align: left;\">Float64</th><th title = \"Float64\" style = \"text-align: left;\">Float64</th><th title = \"Float64\" style = \"text-align: left;\">Float64</th><th title = \"Float64\" style = \"text-align: left;\">Float64</th><th title = \"Float64\" style = \"text-align: left;\">Float64</th><th title = \"Float64\" style = \"text-align: left;\">Float64</th><th title = \"Float64\" style = \"text-align: left;\">Float64</th><th title = \"Float64\" style = \"text-align: left;\">Float64</th></tr></thead><tbody><tr><td class = \"rowNumber\" style = \"font-weight: bold; text-align: right;\">1</td><td style = \"text-align: right;\">-1.00803</td><td style = \"text-align: right;\">0.441711</td><td style = \"text-align: right;\">-0.272329</td><td style = \"text-align: right;\">-0.419483</td><td style = \"text-align: right;\">-0.368067</td><td style = \"text-align: right;\">-1.40325</td><td style = \"text-align: right;\">-1.0745</td><td style = \"text-align: right;\">-0.299411</td><td style = \"text-align: right;\">-8.47255</td><td style = \"text-align: right;\">-0.867024</td><td style = \"text-align: right;\">-2.49728</td><td style = \"text-align: right;\">-0.665949</td><td style = \"text-align: right;\">-0.229977</td></tr></tbody></table></div>"
      ],
      "text/latex": [
       "\\begin{tabular}{r|ccccccccc}\n",
       "\t& AGE & B & CHAS & CRIM & DIS & INDUS & LSTAT & NOX & \\\\\n",
       "\t\\hline\n",
       "\t& Float64 & Float64 & Float64 & Float64 & Float64 & Float64 & Float64 & Float64 & \\\\\n",
       "\t\\hline\n",
       "\t1 & -1.00803 & 0.441711 & -0.272329 & -0.419483 & -0.368067 & -1.40325 & -1.0745 & -0.299411 & $\\dots$ \\\\\n",
       "\\end{tabular}\n"
      ],
      "text/plain": [
       "\u001b[1m1×13 DataFrame\u001b[0m\n",
       "\u001b[1m Row \u001b[0m│\u001b[1m AGE      \u001b[0m\u001b[1m B        \u001b[0m\u001b[1m CHAS      \u001b[0m\u001b[1m CRIM      \u001b[0m\u001b[1m DIS       \u001b[0m\u001b[1m INDUS    \u001b[0m\u001b[1m LSTAT   \u001b[0m\u001b[1m\u001b[0m ⋯\n",
       "     │\u001b[90m Float64  \u001b[0m\u001b[90m Float64  \u001b[0m\u001b[90m Float64   \u001b[0m\u001b[90m Float64   \u001b[0m\u001b[90m Float64   \u001b[0m\u001b[90m Float64  \u001b[0m\u001b[90m Float64 \u001b[0m\u001b[90m\u001b[0m ⋯\n",
       "─────┼──────────────────────────────────────────────────────────────────────────\n",
       "   1 │ -1.00803  0.441711  -0.272329  -0.419483  -0.368067  -1.40325  -1.0745  ⋯\n",
       "\u001b[36m                                                               6 columns omitted\u001b[0m"
      ]
     },
     "execution_count": 18,
     "metadata": {},
     "output_type": "execute_result"
    }
   ],
   "source": [
    "std_data = MLJ.transform(preproc_load, DataFrame(raw_data))"
   ]
  },
  {
   "cell_type": "code",
   "execution_count": 19,
   "id": "8032c751",
   "metadata": {},
   "outputs": [
    {
     "data": {
      "text/plain": [
       "1-element Vector{Union{Missing, Float64}}:\n",
       " 21.991264610651193"
      ]
     },
     "execution_count": 19,
     "metadata": {},
     "output_type": "execute_result"
    }
   ],
   "source": [
    "GLM.predict(linear_model, DataFrame(std_data))"
   ]
  },
  {
   "cell_type": "markdown",
   "id": "0a9f72fb",
   "metadata": {},
   "source": [
    "> Let's think - how You can use Your great model and share this model with a colleague of yours ?"
   ]
  },
  {
   "cell_type": "markdown",
   "id": "da6f2601",
   "metadata": {},
   "source": [
    "## 1.4 Model saving with BSON"
   ]
  },
  {
   "cell_type": "code",
   "execution_count": 20,
   "id": "fe87c15b-1d21-4e12-9d72-0d20519d6a9c",
   "metadata": {},
   "outputs": [],
   "source": [
    "using BSON: @save\n",
    "@save \"linear_model.bson\" linear_model"
   ]
  },
  {
   "cell_type": "code",
   "execution_count": 21,
   "id": "831430d6",
   "metadata": {},
   "outputs": [
    {
     "data": {
      "text/plain": [
       "1-element Vector{Union{Missing, Float64}}:\n",
       " 21.991264610651193"
      ]
     },
     "execution_count": 21,
     "metadata": {},
     "output_type": "execute_result"
    }
   ],
   "source": [
    "using LinearAlgebra\n",
    "using BSON: @load\n",
    "\n",
    "linear_model = nothing\n",
    "\n",
    "@load \"linear_model.bson\" linear_model\n",
    "\n",
    "GLM.predict(linear_model, DataFrame(std_data))"
   ]
  },
  {
   "cell_type": "markdown",
   "id": "9d79d4de",
   "metadata": {},
   "source": [
    "### Neural network model with Flux\n",
    "\n",
    "let's make neural network model"
   ]
  },
  {
   "cell_type": "code",
   "execution_count": 62,
   "id": "6704fd16",
   "metadata": {},
   "outputs": [],
   "source": [
    "X_std = transpose(Matrix(houses_std[!,Not(:MEDV)]))\n",
    "y = transpose(houses.MEDV);"
   ]
  },
  {
   "cell_type": "code",
   "execution_count": 63,
   "id": "5f62ed77-b9b5-498b-84e4-c7b07de8e34f",
   "metadata": {},
   "outputs": [
    {
     "name": "stderr",
     "output_type": "stream",
     "text": [
      "\u001b[32mProgress: 100%|█████████████████████████████████████████| Time: 0:00:03\u001b[39m\n"
     ]
    }
   ],
   "source": [
    "using Flux\n",
    "using ProgressMeter\n",
    "\n",
    "# Neural network model one dense hidden layer with ReLU activation function\n",
    "\n",
    "# data\n",
    "data = [(X_std, y)]\n",
    "# model type\n",
    "nn_model = Chain(Dense(13 => 8, relu), Dense(8 => 1))\n",
    "# loss function definition\n",
    "loss(x, y) = Flux.Losses.mse(nn_model(x), y)\n",
    "# hyperparams\n",
    "parameters = Flux.params(nn_model)\n",
    "# optymalization algorithm type\n",
    "opt = Flux.Adam(0.002)\n",
    "\n",
    "@showprogress for epoch in 1:50_000\n",
    "    Flux.train!(loss, parameters, data, opt)\n",
    "end"
   ]
  },
  {
   "cell_type": "code",
   "execution_count": 64,
   "id": "74765804",
   "metadata": {},
   "outputs": [
    {
     "name": "stdout",
     "output_type": "stream",
     "text": [
      "from NN model: 26.474698261931266\n"
     ]
    }
   ],
   "source": [
    "first_row_nn = X_std[:,1]\n",
    "println(\"from NN model: \", nn_model(first_row_nn)[1])"
   ]
  },
  {
   "cell_type": "markdown",
   "id": "bffb96d7",
   "metadata": {},
   "source": [
    "save neural network model"
   ]
  },
  {
   "cell_type": "code",
   "execution_count": null,
   "id": "585278fd",
   "metadata": {},
   "outputs": [],
   "source": [
    "using BSON: @save\n",
    "@save \"nn_model.bson\" nn_model"
   ]
  },
  {
   "cell_type": "markdown",
   "id": "952d947b",
   "metadata": {},
   "source": [
    "check if loaded model works"
   ]
  },
  {
   "cell_type": "code",
   "execution_count": 65,
   "id": "002135da",
   "metadata": {},
   "outputs": [
    {
     "name": "stdout",
     "output_type": "stream",
     "text": [
      "from NN model: 22.878820704787696\n"
     ]
    }
   ],
   "source": [
    "using BSON: @load\n",
    "nn_model = nothing\n",
    "@load \"nn_model.bson\" nn_model\n",
    "\n",
    "println(\"from NN model: \", nn_model(first_row_nn)[1])"
   ]
  },
  {
   "cell_type": "code",
   "execution_count": 66,
   "id": "6bf7afbe",
   "metadata": {},
   "outputs": [
    {
     "name": "stderr",
     "output_type": "stream",
     "text": [
      "\u001b[32mProgress: 100%|█████████████████████████████████████████| Time: 0:00:03\u001b[39m\n"
     ]
    }
   ],
   "source": [
    "X = transpose(Matrix(houses[!,Not(:MEDV)]))\n",
    "y = transpose(houses.MEDV);\n",
    "\n",
    "using Flux\n",
    "using ProgressMeter\n",
    "\n",
    "# Neural network model one dense hidden layer with ReLU activation function\n",
    "\n",
    "# data\n",
    "data = [(X, y)]\n",
    "# model type\n",
    "nn_model = Chain(Dense(13 => 8, relu), Dense(8 => 1))\n",
    "# loss function definition\n",
    "loss(x, y) = Flux.Losses.mse(nn_model(x), y)\n",
    "# hyperparams\n",
    "parameters = Flux.params(nn_model)\n",
    "# optymalization algorithm type\n",
    "opt = Flux.Adam(0.002)\n",
    "\n",
    "@showprogress for epoch in 1:50_000\n",
    "    Flux.train!(loss, parameters, data, opt)\n",
    "end"
   ]
  },
  {
   "cell_type": "markdown",
   "id": "e2928f92",
   "metadata": {},
   "source": [
    "## 1.4.1 Simple Model evaluation"
   ]
  },
  {
   "cell_type": "code",
   "execution_count": 67,
   "id": "097761f7-9c1b-4ba7-ab6a-82aa42f02145",
   "metadata": {},
   "outputs": [],
   "source": [
    "# model evaluation \n",
    "using Statistics\n",
    "\n",
    "RMSE(y, ŷ) = sqrt(mean((y - ŷ).^2));"
   ]
  },
  {
   "cell_type": "code",
   "execution_count": 68,
   "id": "d7555726",
   "metadata": {},
   "outputs": [
    {
     "data": {
      "text/plain": [
       "5.164851246622656"
      ]
     },
     "execution_count": 68,
     "metadata": {},
     "output_type": "execute_result"
    }
   ],
   "source": [
    "# for regression model\n",
    "y = houses.MEDV\n",
    "\n",
    "RMSE(y, GLM.predict(linear_model, houses_std))"
   ]
  },
  {
   "cell_type": "code",
   "execution_count": 69,
   "id": "8deac95e",
   "metadata": {},
   "outputs": [
    {
     "data": {
      "text/plain": [
       "4.67928579419243"
      ]
     },
     "execution_count": 69,
     "metadata": {},
     "output_type": "execute_result"
    }
   ],
   "source": [
    "# for neural network\n",
    "y = transpose(houses.MEDV)\n",
    "RMSE(y, nn_model(X))"
   ]
  },
  {
   "cell_type": "code",
   "execution_count": 70,
   "id": "fbcc3c22",
   "metadata": {},
   "outputs": [
    {
     "data": {
      "text/plain": [
       "2.008735389348807"
      ]
     },
     "execution_count": 70,
     "metadata": {},
     "output_type": "execute_result"
    }
   ],
   "source": [
    "RMSE(y[1], transpose(GLM.predict(linear_model, DataFrame(std_data))[1]))"
   ]
  },
  {
   "cell_type": "code",
   "execution_count": 71,
   "id": "453f9ff2",
   "metadata": {},
   "outputs": [
    {
     "data": {
      "text/plain": [
       "6.77147648339681"
      ]
     },
     "execution_count": 71,
     "metadata": {},
     "output_type": "execute_result"
    }
   ],
   "source": [
    "RMSE(y[1], nn_model(first_row_nn)[1])"
   ]
  },
  {
   "cell_type": "markdown",
   "id": "683f37d5",
   "metadata": {},
   "source": [
    "## 1.4.2 Prepare raw data for POST request\n",
    "\n",
    "Saving first observation from the training dataset into `test_raw_data.json` file"
   ]
  },
  {
   "cell_type": "code",
   "execution_count": 72,
   "id": "5416a35e",
   "metadata": {},
   "outputs": [
    {
     "data": {
      "text/plain": [
       "13×506 transpose(::Matrix{Float64}) with eltype Float64:\n",
       "   0.00632    0.02731    0.02729  …    0.06076    0.10959    0.04741\n",
       "  18.0        0.0        0.0           0.0        0.0        0.0\n",
       "   2.31       7.07       7.07         11.93      11.93      11.93\n",
       "   0.0        0.0        0.0           0.0        0.0        0.0\n",
       "   0.538      0.469      0.469         0.573      0.573      0.573\n",
       "   6.575      6.421      7.185    …    6.976      6.794      6.03\n",
       "  65.2       78.9       61.1          91.0       89.3       80.8\n",
       "   4.09       4.9671     4.9671        2.1675     2.3889     2.505\n",
       "   1.0        2.0        2.0           1.0        1.0        1.0\n",
       " 296.0      242.0      242.0         273.0      273.0      273.0\n",
       "  15.3       17.8       17.8      …   21.0       21.0       21.0\n",
       " 396.9      396.9      392.83        396.9      393.45     396.9\n",
       "   4.98       9.14       4.03          5.64       6.48       7.88"
      ]
     },
     "execution_count": 72,
     "metadata": {},
     "output_type": "execute_result"
    }
   ],
   "source": [
    "X"
   ]
  },
  {
   "cell_type": "code",
   "execution_count": 73,
   "id": "2d91a15f",
   "metadata": {},
   "outputs": [
    {
     "data": {
      "text/plain": [
       "Dict{String, Float64} with 13 entries:\n",
       "  \"RAD\"     => 1.0\n",
       "  \"PTRATIO\" => 15.3\n",
       "  \"DIS\"     => 4.09\n",
       "  \"CRIM\"    => 0.00632\n",
       "  \"INDUS\"   => 2.31\n",
       "  \"RM\"      => 6.575\n",
       "  \"AGE\"     => 65.2\n",
       "  \"B\"       => 396.9\n",
       "  \"ZN\"      => 18.0\n",
       "  \"CHAS\"    => 0.0\n",
       "  \"NOX\"     => 0.538\n",
       "  \"TAX\"     => 296.0\n",
       "  \"LSTAT\"   => 4.98"
      ]
     },
     "execution_count": 73,
     "metadata": {},
     "output_type": "execute_result"
    }
   ],
   "source": [
    "test_raw_data = Dict(names(houses)[begin:end-1].=> X[:,1])"
   ]
  },
  {
   "cell_type": "code",
   "execution_count": 74,
   "id": "21914db6",
   "metadata": {},
   "outputs": [],
   "source": [
    "using JSON\n",
    "open(\"test_raw_data.json\",\"w\") do f\n",
    "    JSON.print(f, Dict(names(houses)[begin:end-1] .=> X[:,1]),4)\n",
    "end"
   ]
  },
  {
   "cell_type": "code",
   "execution_count": 75,
   "id": "8142b005",
   "metadata": {},
   "outputs": [
    {
     "data": {
      "text/plain": [
       "JSON3.Object{Vector{UInt8}, Vector{UInt64}} with 13 entries:\n",
       "  :RAD     => 1\n",
       "  :PTRATIO => 15.3\n",
       "  :DIS     => 4.09\n",
       "  :CRIM    => 0.00632\n",
       "  :INDUS   => 2.31\n",
       "  :RM      => 6.575\n",
       "  :AGE     => 65.2\n",
       "  :B       => 396.9\n",
       "  :ZN      => 18\n",
       "  :CHAS    => 0\n",
       "  :NOX     => 0.538\n",
       "  :TAX     => 296\n",
       "  :LSTAT   => 4.98"
      ]
     },
     "execution_count": 75,
     "metadata": {},
     "output_type": "execute_result"
    }
   ],
   "source": [
    "using JSON3\n",
    "JSON3.read(read(\"test_raw_data.json\"))"
   ]
  },
  {
   "cell_type": "code",
   "execution_count": 76,
   "id": "95da135c",
   "metadata": {},
   "outputs": [
    {
     "name": "stdout",
     "output_type": "stream",
     "text": [
      "{\n",
      "    \"RAD\": 1.0,\n",
      "    \"PTRATIO\": 15.3,\n",
      "    \"DIS\": 4.09,\n",
      "    \"CRIM\": 0.00632,\n",
      "    \"INDUS\": 2.31,\n",
      "    \"RM\": 6.575,\n",
      "    \"AGE\": 65.2,\n",
      "    \"B\": 396.9,\n",
      "    \"ZN\": 18.0,\n",
      "    \"CHAS\": 0.0,\n",
      "    \"NOX\": 0.538,\n",
      "    \"TAX\": 296.0,\n",
      "    \"LSTAT\": 4.98\n",
      "}\n"
     ]
    }
   ],
   "source": [
    ";more test_raw_data.json"
   ]
  },
  {
   "cell_type": "markdown",
   "id": "9469df41-eaa0-4db9-b7c6-d7b75207a2e0",
   "metadata": {},
   "source": [
    "# 2.1 Simple REST API with Julia\n",
    "\n",
    "[Genie](https://genieframework.com/docs/) is a full stack web framework for the Julia programming language\n",
    "We can create simple API with Genie. We want json as a response\n",
    "In the most easy way we can take GET method to send variables by url address. \n"
   ]
  },
  {
   "cell_type": "code",
   "execution_count": null,
   "id": "5cd1e015-614f-438f-a808-8434c34dd4d9",
   "metadata": {},
   "outputs": [],
   "source": [
    "using Genie, Genie.Renderer.Json\n",
    "using Genie.Requests # for method GET and POST\n",
    "\n",
    "route(\"/\") do \n",
    "  (:message => \"Hello Julia!\") |> Json.json\n",
    "end\n",
    "\n",
    "route(\"/getapi\", method=GET) do\n",
    "  vars = getpayload()\n",
    "  (:variables => vars) |> Json.json\n",
    "end\n",
    "\n",
    "#start the server - it will not block the Jupyter due to async=true\n",
    "up(async=true)"
   ]
  },
  {
   "cell_type": "markdown",
   "id": "9e7828b1-1cbc-4ac8-919f-0305152ed7f4",
   "metadata": {},
   "source": [
    "After starting the server, you can use `curl` or other tool capable of sending and receiving HTTP requests to interact with the API."
   ]
  },
  {
   "cell_type": "code",
   "execution_count": null,
   "id": "bbcb6406-e12b-4682-9dd8-f4ebb1cf84fe",
   "metadata": {},
   "outputs": [],
   "source": [
    ";curl http://localhost:8000/"
   ]
  },
  {
   "cell_type": "code",
   "execution_count": null,
   "id": "c7fc4a8f-a484-401e-9834-2086517ddcd3",
   "metadata": {},
   "outputs": [],
   "source": [
    ";curl http://localhost:8000/getapi\\?\\&val1=43\\&val2=3"
   ]
  },
  {
   "cell_type": "markdown",
   "id": "19920d06",
   "metadata": {},
   "source": [
    "## Client.jl"
   ]
  },
  {
   "cell_type": "code",
   "execution_count": null,
   "id": "c85c0eef-28ad-4056-8377-debdd1a0f1f5",
   "metadata": {},
   "outputs": [],
   "source": [
    "using HTTP\n",
    "resp = HTTP.get(\"http://localhost:8000\")\n",
    "if resp.status == 200 \n",
    "    println(String(resp.body)) \n",
    "else println(\"wrong page\")\n",
    "end"
   ]
  },
  {
   "cell_type": "markdown",
   "id": "1dc2bff8",
   "metadata": {},
   "source": [
    "## Other languages in Julia (Python)"
   ]
  },
  {
   "cell_type": "markdown",
   "id": "310b40be",
   "metadata": {},
   "source": [
    "You can also use Python for simple client program\n",
    "\n",
    "```julia\n",
    "using PyCall\n",
    "req = pyimport(\"requests\")\n",
    "r = req.get(\"http://localhost:8000\")\n",
    "print(r.status_code)\n",
    "```"
   ]
  },
  {
   "cell_type": "markdown",
   "id": "aa1e65d5-5d14-43e8-8fd5-8b146ab182eb",
   "metadata": {},
   "source": [
    "The server is running asynchronously in Jupyter. When you are finished, run the `down()` command to turn it off."
   ]
  },
  {
   "cell_type": "code",
   "execution_count": null,
   "id": "20cf0c65-e781-4819-9913-cf542542c7a3",
   "metadata": {},
   "outputs": [],
   "source": [
    "down()"
   ]
  },
  {
   "cell_type": "markdown",
   "id": "dfd10024",
   "metadata": {},
   "source": [
    "## 2.2 ML linear regression REST API with Julia\n",
    "\n",
    "For simplicity we will choose just GLM model of linear regression"
   ]
  },
  {
   "cell_type": "code",
   "execution_count": null,
   "id": "27683e66",
   "metadata": {},
   "outputs": [],
   "source": [
    "# for deploy part \n",
    "# houses_short = houses[:, [:CRIM, :INDUS, :CHAS, :RM, :AGE, :DIS, :TAX, :LSTAT]]\n",
    "# std =  Standardizer()\n",
    "# preproc_deploy = machine(std, houses_short)\n",
    "# X_pre_d = MLJ.transform(fit!(preproc_deploy), houses_short)\n",
    "# MLJ.save(\"pre_glm.mlj\", preproc_deploy)"
   ]
  },
  {
   "cell_type": "code",
   "execution_count": 79,
   "id": "eaac0841-88a2-4311-bcb1-b98bc06337ec",
   "metadata": {},
   "outputs": [
    {
     "name": "stderr",
     "output_type": "stream",
     "text": [
      "\u001b[36m\u001b[1m┌ \u001b[22m\u001b[39m\u001b[36m\u001b[1mInfo: \u001b[22m\u001b[39m\n",
      "\u001b[36m\u001b[1m└ \u001b[22m\u001b[39mWeb Server starting at http://127.0.0.1:8000 \n",
      "\u001b[36m\u001b[1m[ \u001b[22m\u001b[39m\u001b[36m\u001b[1mInfo: \u001b[22m\u001b[39mListening on: 127.0.0.1:8000, thread id: 1\n"
     ]
    },
    {
     "data": {
      "text/plain": [
       "Genie.Server.ServersCollection(Task (runnable) @0x00000002aa7ef260, nothing)"
      ]
     },
     "execution_count": 79,
     "metadata": {},
     "output_type": "execute_result"
    }
   ],
   "source": [
    "using Genie, Genie.Requests, Genie.Renderer.Json\n",
    "using BSON: @load\n",
    "using GLM\n",
    "using DataFrames\n",
    "using LinearAlgebra\n",
    "using MLJ\n",
    "\n",
    "\n",
    "# load pipeline transformations and model\n",
    "pip = machine(\"preprocessing.mlj\")\n",
    "restore!(pip)\n",
    "@load \"linear_model.bson\" linear_model\n",
    "\n",
    "route(\"/\") do\n",
    "\"\"\"<div style=\"white-space:pre\">To receive a prediction for GLM linear model send POST request with JSON payload.\n",
    "\n",
    "First row:\n",
    "{\n",
    "    \"crim\": 0.00632,\n",
    "    \"tax\": 296.0,\n",
    "    \"chas\": 0.0,\n",
    "    \"black\": 396.9,\n",
    "    \"lstat\": 4.98,\n",
    "    \"age\": 65.2,\n",
    "    \"indus\": 2.31,\n",
    "    \"rm\": 6.575,\n",
    "    \"dis\": 4.09,\n",
    "    \"zn\": 18.0,\n",
    "    \"nox\": 0.538,\n",
    "    \"ptratio\": 15.3,\n",
    "    \"rad\": 1.0\n",
    "}</div>    \n",
    "    \"\"\"\n",
    "    \n",
    "end\n",
    "\n",
    "route(\"/\", method = POST) do\n",
    "    input_data = jsonpayload()\n",
    "     try\n",
    "         pre_data = MLJ.transform(pip, DataFrame(input_data))\n",
    "         (\":input\" => input_data, \":prediction\" => GLM.predict(linear_model, pre_data)) |> Json.json\n",
    "     catch e\n",
    "         (:error => \"Ooops! There was a problem while generating a prediction.\") |> Json.json\n",
    "     end\n",
    "end\n",
    "\n",
    "\n",
    "#start the server - it will not block the Jupyter due to async=true\n",
    "up(port=8000, async=true)"
   ]
  },
  {
   "cell_type": "code",
   "execution_count": 82,
   "id": "9ecc60ab",
   "metadata": {},
   "outputs": [
    {
     "name": "stderr",
     "output_type": "stream",
     "text": [
      "\u001b[36m\u001b[1m[ \u001b[22m\u001b[39m\u001b[36m\u001b[1mInfo: \u001b[22m\u001b[39mServer on 127.0.0.1:8000 closing\n"
     ]
    },
    {
     "data": {
      "text/plain": [
       "1-element Vector{Genie.Server.ServersCollection}:\n",
       " Genie.Server.ServersCollection(Task (failed) @0x00000002aa7ef260, nothing)"
      ]
     },
     "execution_count": 82,
     "metadata": {},
     "output_type": "execute_result"
    }
   ],
   "source": [
    "down()"
   ]
  },
  {
   "cell_type": "code",
   "execution_count": null,
   "id": "14586dcf",
   "metadata": {},
   "outputs": [],
   "source": [
    "raw_data = Dict(\"DIS\" => 3.02,\"ZN\" => 6,\"RAD\" => 2,\n",
    "                \"CRIM\" => 0.00532, \"NOX\"=> 0.52,\n",
    "                \"PTRATIO\" => 0.11292,\"INDUS\" => 1.51,\n",
    "                \"RM\" => 4.53,\"AGE\" => 40.2,\n",
    "                \"CHAS\" => 0.0,\"TAX\" => 296.0,\n",
    "                \"B\" => 397 ,\"LSTAT\" => 4.98)"
   ]
  },
  {
   "cell_type": "code",
   "execution_count": 80,
   "id": "f7b1ab22",
   "metadata": {},
   "outputs": [
    {
     "name": "stdout",
     "output_type": "stream",
     "text": [
      "{\n",
      "    \"RAD\": 1.0,\n",
      "    \"PTRATIO\": 15.3,\n",
      "    \"DIS\": 4.09,\n",
      "    \"CRIM\": 0.00632,\n",
      "    \"INDUS\": 2.31,\n",
      "    \"RM\": 6.575,\n",
      "    \"AGE\": 65.2,\n",
      "    \"B\": 396.9,\n",
      "    \"ZN\": 18.0,\n",
      "    \"CHAS\": 0.0,\n",
      "    \"NOX\": 0.538,\n",
      "    \"TAX\": 296.0,\n",
      "    \"LSTAT\": 4.98\n",
      "}\n"
     ]
    }
   ],
   "source": [
    ";cat test_raw_data.json"
   ]
  },
  {
   "cell_type": "code",
   "execution_count": 81,
   "id": "b0d732a0",
   "metadata": {},
   "outputs": [
    {
     "name": "stderr",
     "output_type": "stream",
     "text": [
      "  % Total    % Received % Xferd  Average Speed   Time    Time     Time  Current\n",
      "                                 Dload  Upload   Total   Spent    Left  Speed\n",
      "100   220    0     0  100   220      0     99  0:00:02  0:00:02 --:--:--    99"
     ]
    },
    {
     "name": "stdout",
     "output_type": "stream",
     "text": [
      "[{\":input\":{\"RAD\":1,\"PTRATIO\":15.3,\"INDUS\":2.31,\"B\":396.9,\"ZN\":18,\"DIS\":4.09,\"CRIM\":0.00632,\"RM\":6.575,\"AGE\":65.2,\"CHAS\":0,\"NOX\":0.538,\"TAX\":296,\"LSTAT\":4.98}},{\":prediction\":[29.919737211857687]}]"
     ]
    },
    {
     "name": "stderr",
     "output_type": "stream",
     "text": [
      "100   220    0     0  100   220      0     52  0:00:04  0:00:04 --:--:--    52\u001b[36m\u001b[1m[ \u001b[22m\u001b[39m\u001b[36m\u001b[1mInfo: \u001b[22m\u001b[39mPOST / 200\n",
      "100   417    0   197  100   220     38     42  0:00:05  0:00:05 --:--:--    49\n",
      "\u001b[36m\u001b[1m[ \u001b[22m\u001b[39m\u001b[36m\u001b[1mInfo: \u001b[22m\u001b[39mGET / 200\n"
     ]
    }
   ],
   "source": [
    ";curl -X POST -d @test_raw_data.json -H \"Content-Type: application/json\" http://localhost:8000/"
   ]
  },
  {
   "cell_type": "markdown",
   "id": "742c7dab",
   "metadata": {},
   "source": [
    "## Docker container "
   ]
  },
  {
   "cell_type": "code",
   "execution_count": null,
   "id": "9157ffc5",
   "metadata": {},
   "outputs": [],
   "source": [
    "] generate Docker"
   ]
  },
  {
   "cell_type": "code",
   "execution_count": null,
   "id": "0dc4d638",
   "metadata": {},
   "outputs": [],
   "source": [
    ";cd Docker"
   ]
  },
  {
   "cell_type": "code",
   "execution_count": null,
   "id": "b5754ea7",
   "metadata": {},
   "outputs": [],
   "source": [
    ";pwd"
   ]
  },
  {
   "cell_type": "code",
   "execution_count": null,
   "id": "f8c1d482",
   "metadata": {},
   "outputs": [],
   "source": [
    "] activate ."
   ]
  },
  {
   "cell_type": "markdown",
   "id": "eaf40be0",
   "metadata": {},
   "source": [
    "### i will use just simple GLM model"
   ]
  },
  {
   "cell_type": "code",
   "execution_count": null,
   "id": "14d87b64",
   "metadata": {},
   "outputs": [],
   "source": [
    "] add \"Genie\" \"MLJ\" \"BSON\" \"GLM\" \"DataFrames\" \"LinearAlgebra\""
   ]
  },
  {
   "cell_type": "code",
   "execution_count": null,
   "id": "be472645",
   "metadata": {},
   "outputs": [],
   "source": [
    ";cd .."
   ]
  },
  {
   "cell_type": "markdown",
   "id": "5cfce17f",
   "metadata": {},
   "source": [
    "Add you BSON file with model and create new app.jl file with genie server.\n",
    "Remember change async setting\n",
    "```julia\n",
    " up(port=8000, async=false)\n",
    "```"
   ]
  },
  {
   "cell_type": "markdown",
   "id": "b294f503",
   "metadata": {},
   "source": [
    "*Preparation of this worksop has been supported by the Polish National Agency for Academic Exchange under the Strategic Partnerships programme, grant number BPI/PST/2021/1/00069/U/00001.*\n",
    "\n",
    "![SGH & NAWA](../nawalogo.png)"
   ]
  },
  {
   "cell_type": "code",
   "execution_count": null,
   "id": "b7460e8b",
   "metadata": {},
   "outputs": [],
   "source": []
  }
 ],
 "metadata": {
  "kernelspec": {
   "display_name": "Julia 1.8.5",
   "language": "julia",
   "name": "julia-1.8"
  },
  "language_info": {
   "file_extension": ".jl",
   "mimetype": "application/julia",
   "name": "julia",
   "version": "1.8.5"
  }
 },
 "nbformat": 4,
 "nbformat_minor": 5
}
