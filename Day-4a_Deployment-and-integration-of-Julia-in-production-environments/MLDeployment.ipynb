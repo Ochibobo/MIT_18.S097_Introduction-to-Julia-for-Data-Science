{
 "cells": [
  {
   "cell_type": "markdown",
   "id": "6008825f-93e0-4f34-8c3c-c20075d9e691",
   "metadata": {},
   "source": [
    "# ML Model Training and Deployment \n",
    "\n",
    "\n",
    "We create new project to keep all depedencies and packages for our deployment env. \n",
    "\n",
    "Load Julia env from Project.toml and Manifest.toml"
   ]
  },
  {
   "cell_type": "code",
   "execution_count": null,
   "id": "40738342",
   "metadata": {},
   "outputs": [],
   "source": [
    "] activate ."
   ]
  },
  {
   "cell_type": "code",
   "execution_count": null,
   "id": "33af700f",
   "metadata": {},
   "outputs": [],
   "source": [
    "] instantiate"
   ]
  },
  {
   "cell_type": "code",
   "execution_count": null,
   "id": "98ed8e27",
   "metadata": {},
   "outputs": [],
   "source": [
    "#using Pkg\n",
    "#Pkg.activate(\".\") \n",
    "#Pkg.instantiate()"
   ]
  },
  {
   "cell_type": "markdown",
   "id": "a157a42b",
   "metadata": {},
   "source": [
    "After training and evaluation, the model should be deployed to serve the scores and predictions.\n",
    "\n",
    "\n",
    "The model is usually embedded into a bigger application or exposed through a web service. The mentioned solutions need additional logic to properly prepare the input data and return the prediction should be returned to the user in appropriate form.\n",
    "* **JSON-based web service** - JSON payload with input observation is provided to the web service and the JSON with the prediction is returned back"
   ]
  },
  {
   "cell_type": "markdown",
   "id": "792fec2d-aef3-494d-962a-2fb86f0fbc00",
   "metadata": {},
   "source": [
    "## 1. Data preprocessing and model building\n",
    "\n",
    "We'll build two simple models (linear regression model and neural network) to predict median house value in the Boston suburbs. \n",
    "\n",
    "The dataset comes from [UCI repository](https://archive.ics.uci.edu/ml/machine-learning-databases/housing/).\n",
    "\n",
    "Attribute Information:\n",
    "\n",
    "1. CRIM - per capita crime rate by town\n",
    "2. ZN - proportion of residential land zoned for lots over 25,000 sq.ft.\n",
    "3. INDUS - proportion of non-retail business acres per town\n",
    "4. CHAS - Charles River dummy variable (= 1 if tract bounds river; 0 otherwise)\n",
    "5. NOX - nitric oxides concentration (parts per 10 million)\n",
    "6. RM - average number of rooms per dwelling\n",
    "7. AGE - proportion of owner-occupied units built prior to 1940\n",
    "8. DIS - weighted distances to five Boston employment centres\n",
    "9. RAD - index of accessibility to radial highways\n",
    "10. TAX - full-value property-tax rate per \\$10,000\n",
    "11. PTRATIO - pupil-teacher ratio by town\n",
    "12. B - 1000(Bk - 0.63)^2 where Bk is the proportion of blacks by town\n",
    "13. LSTAT - \\% lower status of the population\n",
    "14. **MEDV - Median value of owner-occupied homes in \\$1000's**\n",
    "\n",
    "\n",
    "Model building will be proceed with 3 steps: \n",
    "\n",
    "1. Load data\n",
    "2. Data Preprocessing (normalization)\n",
    "3. Model training"
   ]
  },
  {
   "cell_type": "markdown",
   "id": "8af184ac",
   "metadata": {},
   "source": [
    "#### 1.1 Load data"
   ]
  },
  {
   "cell_type": "code",
   "execution_count": null,
   "id": "63be191d-12bd-4389-a341-b41e0bb678a0",
   "metadata": {},
   "outputs": [],
   "source": [
    "using CSV\n",
    "using DataFrames"
   ]
  },
  {
   "cell_type": "code",
   "execution_count": null,
   "id": "33cad882-6e5a-4336-91ef-65462653cbb6",
   "metadata": {},
   "outputs": [],
   "source": [
    "houses = CSV.read(\"housing.csv\", DataFrame) \n",
    "\n",
    "houses[1:5,:]"
   ]
  },
  {
   "cell_type": "code",
   "execution_count": null,
   "id": "767da8ee",
   "metadata": {},
   "outputs": [],
   "source": [
    "describe(houses)"
   ]
  },
  {
   "cell_type": "code",
   "execution_count": null,
   "id": "847e5856",
   "metadata": {},
   "outputs": [],
   "source": [
    "# check names of our features\n",
    "names(houses)"
   ]
  },
  {
   "cell_type": "markdown",
   "id": "772c1fad",
   "metadata": {},
   "source": [
    "#### 1.2 Data pipeline"
   ]
  },
  {
   "cell_type": "code",
   "execution_count": null,
   "id": "d9876236",
   "metadata": {},
   "outputs": [],
   "source": [
    "# not defined how to do it yet"
   ]
  },
  {
   "cell_type": "code",
   "execution_count": null,
   "id": "561746eb-6a35-4a39-83b2-dc4a55794234",
   "metadata": {},
   "outputs": [],
   "source": [
    "using GLM\n",
    "\n",
    "# simple linear regression model\n",
    "\n",
    "model_specification = @formula(MEDV ~ CRIM + INDUS + CHAS + RM + AGE + DIS + TAX + LSTAT)\n",
    "linear_model = lm(model_specification, houses)"
   ]
  },
  {
   "cell_type": "code",
   "execution_count": null,
   "id": "e1ec697f",
   "metadata": {},
   "outputs": [],
   "source": [
    "# take first row of data\n",
    "one_prediction = houses[1:1, [:CRIM, :INDUS, :CHAS, :RM, :AGE, :DIS, :TAX, :LSTAT]]\n",
    "\n",
    "# predict value\n",
    "predict(linear_model, one_prediction)"
   ]
  },
  {
   "cell_type": "code",
   "execution_count": null,
   "id": "fe87c15b-1d21-4e12-9d72-0d20519d6a9c",
   "metadata": {},
   "outputs": [],
   "source": [
    "using BSON: @save\n",
    "@save \"linear_regression.bson\" linear_model"
   ]
  },
  {
   "cell_type": "code",
   "execution_count": null,
   "id": "b301539d",
   "metadata": {},
   "outputs": [],
   "source": [
    "test_dict = Dict(\"DIS\" => 4.09,\"CRIM\" => 0.00632,\"INDUS\" => 2.31,\"RM\" => 6.575,\"AGE\" => 65.2,\"CHAS\" => 0.0,\"TAX\" => 296.0,\"LSTAT\" => 4.98)"
   ]
  },
  {
   "cell_type": "code",
   "execution_count": null,
   "id": "ee521357",
   "metadata": {},
   "outputs": [],
   "source": [
    "predict(linear_model, DataFrame(test_dict))"
   ]
  },
  {
   "cell_type": "code",
   "execution_count": null,
   "id": "831430d6",
   "metadata": {},
   "outputs": [],
   "source": [
    "using LinearAlgebra\n",
    "using BSON: @load\n",
    "\n",
    "linear_model = nothing\n",
    "\n",
    "@load \"linear_regression.bson\" linear_model\n",
    "\n",
    "predict(linear_model, DataFrame(test_dict))"
   ]
  },
  {
   "cell_type": "markdown",
   "id": "9d79d4de",
   "metadata": {},
   "source": [
    "### Neural network model with Flux\n",
    "\n",
    "let's take neural network model"
   ]
  },
  {
   "cell_type": "code",
   "execution_count": null,
   "id": "6704fd16",
   "metadata": {},
   "outputs": [],
   "source": [
    "X = transpose(Matrix(houses[!,Not(:MEDV)]))\n",
    "y = transpose(houses.MEDV);"
   ]
  },
  {
   "cell_type": "code",
   "execution_count": null,
   "id": "2196024e",
   "metadata": {},
   "outputs": [],
   "source": [
    "# test for data frame data - not working\n",
    "#X = houses[:, Not(:MEDV)]\n",
    "#y = houses.MEDV"
   ]
  },
  {
   "cell_type": "code",
   "execution_count": null,
   "id": "5f62ed77-b9b5-498b-84e4-c7b07de8e34f",
   "metadata": {},
   "outputs": [],
   "source": [
    "using Flux\n",
    "using ProgressMeter\n",
    "\n",
    "# Neural network model one dense hidden layer with ReLU activation function\n",
    "\n",
    "# data\n",
    "data = [(X, y)]\n",
    "# model type\n",
    "nn_model = Chain(Dense(13 => 8, relu), Dense(8 => 1))\n",
    "# loss function definition\n",
    "loss(x, y) = Flux.Losses.mse(nn_model(x), y)\n",
    "# hyperparams\n",
    "parameters = Flux.params(nn_model)\n",
    "# optymalization algorithm type\n",
    "opt = Flux.Adam(0.002)\n",
    "\n",
    "@showprogress for epoch in 1:20_000\n",
    "    Flux.train!(loss, parameters, data, opt)\n",
    "end"
   ]
  },
  {
   "cell_type": "code",
   "execution_count": null,
   "id": "74765804",
   "metadata": {},
   "outputs": [],
   "source": [
    "first_row_nn = X[:,1]\n",
    "println(\"from NN model: \", model(first_row_nn)[1])"
   ]
  },
  {
   "cell_type": "code",
   "execution_count": null,
   "id": "097761f7-9c1b-4ba7-ab6a-82aa42f02145",
   "metadata": {},
   "outputs": [],
   "source": [
    "# model evaluation \n",
    "using Statistics\n",
    "\n",
    "RMSE(y, ŷ) = sqrt(mean((y - ŷ).^2));"
   ]
  },
  {
   "cell_type": "code",
   "execution_count": null,
   "id": "d7555726",
   "metadata": {},
   "outputs": [],
   "source": [
    "# for regression \n",
    "RMSE(y, transpose(predict(linear_model, houses)))"
   ]
  },
  {
   "cell_type": "code",
   "execution_count": null,
   "id": "8deac95e",
   "metadata": {},
   "outputs": [],
   "source": [
    "# for neural network\n",
    "RMSE(y, model(X))"
   ]
  },
  {
   "cell_type": "code",
   "execution_count": null,
   "id": "fbcc3c22",
   "metadata": {},
   "outputs": [],
   "source": [
    "RMSE(y[1], transpose(predict(linear_model, DataFrame(one_prediction))[1]))"
   ]
  },
  {
   "cell_type": "code",
   "execution_count": null,
   "id": "453f9ff2",
   "metadata": {},
   "outputs": [],
   "source": [
    "RMSE(y[1], model(first_row_nn)[1])"
   ]
  },
  {
   "cell_type": "code",
   "execution_count": null,
   "id": "b8ff2c86",
   "metadata": {},
   "outputs": [],
   "source": [
    "using BSON: @save\n",
    "@save \"nn_model.bson\" nn_model"
   ]
  },
  {
   "cell_type": "code",
   "execution_count": null,
   "id": "33434d8b",
   "metadata": {},
   "outputs": [],
   "source": [
    "using BSON: @load\n",
    "nn_model = nothing\n",
    "@load \"nn_model.bson\" nn_model\n",
    "\n",
    "println(\"from NN model: \", nn_model(first_row_nn)[1])"
   ]
  },
  {
   "cell_type": "code",
   "execution_count": null,
   "id": "8f9f1c13",
   "metadata": {},
   "outputs": [],
   "source": [
    "using BSON\n",
    "d = BSON.parse(\"nn_model.bson\")\n",
    "model_nn = d[:model] ? Jak to ma działać ?\n",
    "model_nn(first_row_nn)"
   ]
  },
  {
   "cell_type": "markdown",
   "id": "683f37d5",
   "metadata": {},
   "source": [
    "### prepare data for POST request\n",
    "\n",
    "Saving first observation from the training dataset into `house.json` file"
   ]
  },
  {
   "cell_type": "code",
   "execution_count": null,
   "id": "818c9d7b",
   "metadata": {},
   "outputs": [],
   "source": [
    "using JSON\n",
    "\n",
    "open(\"house.json\",\"w\") do f\n",
    "    JSON.print(f, Dict(names(houses)[begin:end-1] .=> X[:,1]),4)\n",
    "end"
   ]
  },
  {
   "cell_type": "code",
   "execution_count": null,
   "id": "8142b005",
   "metadata": {},
   "outputs": [],
   "source": [
    "println(read(\"house.json\", String))"
   ]
  },
  {
   "cell_type": "code",
   "execution_count": null,
   "id": "95da135c",
   "metadata": {},
   "outputs": [],
   "source": [
    ";more house.json"
   ]
  },
  {
   "cell_type": "markdown",
   "id": "9469df41-eaa0-4db9-b7c6-d7b75207a2e0",
   "metadata": {},
   "source": [
    "## Simple REST API with Julia\n",
    "\n",
    "[Genie](https://genieframework.com/docs/) is a full stack web framework for the Julia programming language\n",
    "\n",
    "We can create simple API with Genie. We want json as a response\n",
    "\n",
    "In the most easy way we can take GET method to send variables. \n"
   ]
  },
  {
   "cell_type": "code",
   "execution_count": null,
   "id": "5cd1e015-614f-438f-a808-8434c34dd4d9",
   "metadata": {},
   "outputs": [],
   "source": [
    "using Genie, Genie.Renderer.Json\n",
    "using Genie.Requests # for method GET and POST\n",
    "\n",
    "route(\"/\") do \n",
    "  (:message => \"Hello Julia!\") |> Json.json\n",
    "end\n",
    "\n",
    "route(\"/getapi\", method=GET) do\n",
    "  vars = getpayload()\n",
    "  (:variables => vars) |> Json.json\n",
    "end\n",
    "\n",
    "#start the server - it will not block the Jupyter due to async=true\n",
    "up(8000, async = true)"
   ]
  },
  {
   "cell_type": "markdown",
   "id": "9e7828b1-1cbc-4ac8-919f-0305152ed7f4",
   "metadata": {},
   "source": [
    "After starting the server, you can use `curl` or other tool capable of sending and receiving HTTP requests to interact with the API."
   ]
  },
  {
   "cell_type": "code",
   "execution_count": null,
   "id": "bbcb6406-e12b-4682-9dd8-f4ebb1cf84fe",
   "metadata": {},
   "outputs": [],
   "source": [
    ";curl http://localhost:8000/"
   ]
  },
  {
   "cell_type": "code",
   "execution_count": null,
   "id": "c7fc4a8f-a484-401e-9834-2086517ddcd3",
   "metadata": {},
   "outputs": [],
   "source": [
    ";curl http://localhost:8000/getapi\\?\\&val1=43\\&val2=3"
   ]
  },
  {
   "cell_type": "code",
   "execution_count": null,
   "id": "c85c0eef-28ad-4056-8377-debdd1a0f1f5",
   "metadata": {},
   "outputs": [],
   "source": [
    "using HTTP\n",
    "resp = HTTP.get(\"http://localhost:8000\")\n",
    "println(resp.status)\n",
    "println(String(resp.body))"
   ]
  },
  {
   "cell_type": "markdown",
   "id": "310b40be",
   "metadata": {},
   "source": [
    "You can also use Python for simple client program\n",
    "\n",
    "```julia\n",
    "using PyCall\n",
    "req = pyimport(\"requests\")\n",
    "r = req.get(\"http://localhost:8000\")\n",
    "print(r.status_code)\n",
    "```"
   ]
  },
  {
   "cell_type": "markdown",
   "id": "aa1e65d5-5d14-43e8-8fd5-8b146ab182eb",
   "metadata": {},
   "source": [
    "The server is running asynchronously in Jupyter. When you are finished, run the `down()` command to turn it off."
   ]
  },
  {
   "cell_type": "code",
   "execution_count": null,
   "id": "20cf0c65-e781-4819-9913-cf542542c7a3",
   "metadata": {},
   "outputs": [],
   "source": [
    "down()"
   ]
  },
  {
   "cell_type": "code",
   "execution_count": null,
   "id": "eaac0841-88a2-4311-bcb1-b98bc06337ec",
   "metadata": {},
   "outputs": [],
   "source": [
    "using Genie, Genie.Requests, Genie.Renderer.Json\n",
    "using Flux\n",
    "using BSON: @load\n",
    "using GLM\n",
    "using DataFrames\n",
    "using LinearAlgebra\n",
    "\n",
    "\n",
    "@load \"nn_model.bson\" nn_model\n",
    "\n",
    "@load \"linear_regresion.bson\" linear_model\n",
    "\n",
    "route(\"/flux\") do\n",
    "\"\"\"<div style=\"white-space:pre\">To receive a prediction send POST request with JSON payload.\n",
    "\n",
    "Example:\n",
    ">> curl -X POST -d @house.json -H \"Content-Type: application/json\" http://localhost:8000/\n",
    ">> cat house.json\n",
    "{\n",
    "    \"crim\": 0.00632,\n",
    "    \"tax\": 296.0,\n",
    "    \"chas\": 0.0,\n",
    "    \"black\": 396.9,\n",
    "    \"lstat\": 4.98,\n",
    "    \"age\": 65.2,\n",
    "    \"indus\": 2.31,\n",
    "    \"rm\": 6.575,\n",
    "    \"dis\": 4.09,\n",
    "    \"zn\": 18.0,\n",
    "    \"nox\": 0.538,\n",
    "    \"ptratio\": 15.3,\n",
    "    \"rad\": 1.0\n",
    "}</div>\"\"\"\n",
    "end\n",
    "\n",
    "route(\"/flux\", method = POST) do\n",
    "    \n",
    "    input_data = jsonpayload()\n",
    "    keys_json = keys(input_data)\n",
    "    columns = [\"CRIM\",\"ZN\",\"INDUS\",\"CHAS\",\"NOX\",\"RM\",\"AGE\",\"DIS\",\"RAD\",\"TAX\",\"PTRATIO\",\"B\",\"LSTAT\"]\n",
    "    missing_fields = [k for k in columns if k ∉ keys_json]\n",
    "    \n",
    "    if length(missing_fields) != 0\n",
    "        missing_str = join(missing_fields, \",\")\n",
    "        Json.json(:error => \"The fields: $missing_str are missing from the JSON payload.\"*\n",
    "            \"The prediction can not be returned.\")\n",
    "    else\n",
    "        try\n",
    "            Json.json(Dict(\"input\" => input_data,\n",
    "                        \"prediction\" => model([input_data[f] for f in columns])[1])\n",
    "                     )\n",
    "        catch e\n",
    "            Json.json(:error => \"Ooops! There was a problem while generating a prediction.\")\n",
    "        end\n",
    "    end\n",
    "end\n",
    "\n",
    "route(\"/glm\") do\n",
    "\"\"\"<div style=\"white-space:pre\">To receive a prediction for GLM linear model send POST request with JSON payload.\n",
    "\n",
    "First row:\n",
    "{\n",
    "    \"crim\": 0.00632,\n",
    "    \"tax\": 296.0,\n",
    "    \"chas\": 0.0,\n",
    "    \"black\": 396.9,\n",
    "    \"lstat\": 4.98,\n",
    "    \"age\": 65.2,\n",
    "    \"indus\": 2.31,\n",
    "    \"rm\": 6.575,\n",
    "    \"dis\": 4.09,\n",
    "    \"zn\": 18.0,\n",
    "    \"nox\": 0.538,\n",
    "    \"ptratio\": 15.3,\n",
    "    \"rad\": 1.0\n",
    "}</div>\"\"\"\n",
    "    \n",
    "end\n",
    "\n",
    "route(\"/glm\", method = POST) do\n",
    "    input_data = jsonpayload()\n",
    "    try\n",
    "        (\":input\" => input_data,\":prediction\" => predict(linear_model, DataFrame(input_data))) |> Json.json\n",
    "    catch e\n",
    "        (:error => \"Ooops! There was a problem while generating a prediction.\") |> Json.json\n",
    "    end\n",
    "end\n",
    "\n",
    "\n",
    "#start the server - it will not block the Jupyter due to async=true\n",
    "up(port=8000, async=true)"
   ]
  },
  {
   "cell_type": "code",
   "execution_count": null,
   "id": "9ecc60ab",
   "metadata": {},
   "outputs": [],
   "source": [
    "down()"
   ]
  },
  {
   "cell_type": "code",
   "execution_count": null,
   "id": "f7b1ab22",
   "metadata": {},
   "outputs": [],
   "source": [
    ";cat house.json"
   ]
  },
  {
   "cell_type": "code",
   "execution_count": null,
   "id": "69b910fe",
   "metadata": {},
   "outputs": [],
   "source": [
    ";curl -X POST -d @house.json -H \"Content-Type: application/json\" http://localhost:8000/flux/"
   ]
  },
  {
   "cell_type": "code",
   "execution_count": null,
   "id": "b0d732a0",
   "metadata": {},
   "outputs": [],
   "source": [
    ";curl -X POST -d @house.json -H \"Content-Type: application/json\" http://localhost:8000/glm/"
   ]
  },
  {
   "cell_type": "markdown",
   "id": "742c7dab",
   "metadata": {},
   "source": [
    "## Docker container "
   ]
  },
  {
   "cell_type": "code",
   "execution_count": null,
   "id": "9157ffc5",
   "metadata": {},
   "outputs": [],
   "source": [
    "] generate Docker"
   ]
  },
  {
   "cell_type": "code",
   "execution_count": null,
   "id": "0dc4d638",
   "metadata": {},
   "outputs": [],
   "source": [
    ";cd Docker"
   ]
  },
  {
   "cell_type": "code",
   "execution_count": null,
   "id": "b5754ea7",
   "metadata": {},
   "outputs": [],
   "source": [
    ";pwd"
   ]
  },
  {
   "cell_type": "code",
   "execution_count": null,
   "id": "f8c1d482",
   "metadata": {},
   "outputs": [],
   "source": [
    "] activate ."
   ]
  },
  {
   "cell_type": "markdown",
   "id": "eaf40be0",
   "metadata": {},
   "source": [
    "### i will use just simple GLM model"
   ]
  },
  {
   "cell_type": "code",
   "execution_count": null,
   "id": "14d87b64",
   "metadata": {},
   "outputs": [],
   "source": [
    "] add \"Genie\" \"BSON\" \"GLM\" \"DataFrames\" \"LinearAlgebra\""
   ]
  },
  {
   "cell_type": "code",
   "execution_count": null,
   "id": "be472645",
   "metadata": {},
   "outputs": [],
   "source": [
    ";cd .."
   ]
  },
  {
   "cell_type": "markdown",
   "id": "5cfce17f",
   "metadata": {},
   "source": [
    "Add you BSON file with model and create new app.jl file with genie server.\n",
    "Remember change async setting\n",
    "```julia\n",
    " up(port=8000, async=false)\n",
    "```"
   ]
  },
  {
   "cell_type": "code",
   "execution_count": null,
   "id": "f055a74f",
   "metadata": {},
   "outputs": [],
   "source": []
  }
 ],
 "metadata": {
  "kernelspec": {
   "display_name": "Julia 1.8.3",
   "language": "julia",
   "name": "julia-1.8"
  },
  "language_info": {
   "file_extension": ".jl",
   "mimetype": "application/julia",
   "name": "julia",
   "version": "1.8.3"
  }
 },
 "nbformat": 4,
 "nbformat_minor": 5
}
